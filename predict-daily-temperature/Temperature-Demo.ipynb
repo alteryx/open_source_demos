{
 "cells": [
  {
   "cell_type": "code",
   "execution_count": 11,
   "id": "1484346d",
   "metadata": {},
   "outputs": [],
   "source": [
    "from utils import feature_importances\n",
    "import featuretools as ft\n",
    "from featuretools.primitives import RollingMean, NumericLag\n",
    "import woodwork as ww\n",
    "from evalml import AutoMLSearch\n",
    "from evalml.model_understanding import graph_prediction_vs_actual_over_time\n",
    "\n",
    "\n",
    "import pandas as pd\n",
    "\n",
    "from sklearn.ensemble import RandomForestRegressor\n",
    "from sklearn.model_selection import train_test_split\n",
    "from sklearn.metrics import median_absolute_error"
   ]
  },
  {
   "cell_type": "markdown",
   "id": "e8b2fa43",
   "metadata": {},
   "source": [
    "In this demo, we'll work to predict future daily average temperatures using historical temperature data. This is a time series machine learning problem, which requires special considerations during preprocessing, feature engineering, and model building.\n",
    "\n",
    "To highlight the proess through which we can solve a time series problem, we'll build three models.\n",
    "\n",
    "First, we'll build a baseline model; this will highlight the unique constraints for data-splitting and allow us to understand the problem definition. Then, we'll explore time series feature engineering by generating features with Featuretools. Finally, we'll use EvalML's time series modeling to greatly simplify the process through which these models are built.\n",
    "\n",
    "## Understanding Time Series Problems\n",
    "\n",
    "Time series forecasting is different from other machine learning problems in that there is an inherent temporal ordering to the data. The ordering comes from a time index column, so at a specific point in time, we may have knowlege about earlier observations but not later ones. If the data is unordered, it’d be hard to see any overall trend or seasonality, but when sorted by date, any relationships that exist in the data can be seen and used when making predictions (winter is cold; summer is hot!). Notice how this is different from non-time series data, which can be presented in any order without having an impact on the resulting predictions.\n",
    "\n",
    "Other demos in this repository explore this concept some. predict-remaining-useful-life, predict olympic medals, predict-appointment-noshow all have time indices that play a large roll in splitting the data for feature engineering. We can set a `cutoff_time` for feature engineering after which we do not have access to data. This is very useful for datasets that have multiple tables with relationships; we can build features from aggregations across tables. \n",
    "\n",
    "In this demo, we'll only have one table worth of data, but its temporal ordering means that we have access to a column's own historical data for feature engineering. When trying to determine tomorrow's temperature, knowing today's temperature may be the most predictive piece of information we can get. Realistically, we may not have data from so recent a time, but the concept stands; utilizing the most recent information we have is the bread and butter of time series modeling.\n",
    "\n",
    "In a time series problem, our task is to predict the future values of our target variable. If we engineer the right features, we can use normal regression models; but we need to account for the temporal ordering of the data. "
   ]
  },
  {
   "cell_type": "markdown",
   "id": "7018874e",
   "metadata": {},
   "source": [
    "## Load in Data\n",
    "\n",
    "We’ll demonstrate how to build a time series model using the DailyDelhiClimateTrain dataset, which contains a `meantemp` target variable and a `date` time index. There are other columns, but for the purposes of simplicity, we'll only work with the target and time index columns. To include the others would bring this demo into the sphere of multivariate time series modeling, which brings its own host of complexity."
   ]
  },
  {
   "cell_type": "code",
   "execution_count": 12,
   "id": "e529406e",
   "metadata": {
    "scrolled": false
   },
   "outputs": [
    {
     "data": {
      "text/html": [
       "<div>\n",
       "<style scoped>\n",
       "    .dataframe tbody tr th:only-of-type {\n",
       "        vertical-align: middle;\n",
       "    }\n",
       "\n",
       "    .dataframe tbody tr th {\n",
       "        vertical-align: top;\n",
       "    }\n",
       "\n",
       "    .dataframe thead th {\n",
       "        text-align: right;\n",
       "    }\n",
       "</style>\n",
       "<table border=\"1\" class=\"dataframe\">\n",
       "  <thead>\n",
       "    <tr style=\"text-align: right;\">\n",
       "      <th></th>\n",
       "      <th>date</th>\n",
       "      <th>meantemp</th>\n",
       "      <th>humidity</th>\n",
       "      <th>wind_speed</th>\n",
       "      <th>meanpressure</th>\n",
       "    </tr>\n",
       "  </thead>\n",
       "  <tbody>\n",
       "    <tr>\n",
       "      <th>0</th>\n",
       "      <td>2013-01-01</td>\n",
       "      <td>10.000000</td>\n",
       "      <td>84.500000</td>\n",
       "      <td>0.000000</td>\n",
       "      <td>1015.666667</td>\n",
       "    </tr>\n",
       "    <tr>\n",
       "      <th>1</th>\n",
       "      <td>2013-01-02</td>\n",
       "      <td>7.400000</td>\n",
       "      <td>92.000000</td>\n",
       "      <td>2.980000</td>\n",
       "      <td>1017.800000</td>\n",
       "    </tr>\n",
       "    <tr>\n",
       "      <th>2</th>\n",
       "      <td>2013-01-03</td>\n",
       "      <td>7.166667</td>\n",
       "      <td>87.000000</td>\n",
       "      <td>4.633333</td>\n",
       "      <td>1018.666667</td>\n",
       "    </tr>\n",
       "    <tr>\n",
       "      <th>3</th>\n",
       "      <td>2013-01-04</td>\n",
       "      <td>8.666667</td>\n",
       "      <td>71.333333</td>\n",
       "      <td>1.233333</td>\n",
       "      <td>1017.166667</td>\n",
       "    </tr>\n",
       "    <tr>\n",
       "      <th>4</th>\n",
       "      <td>2013-01-05</td>\n",
       "      <td>6.000000</td>\n",
       "      <td>86.833333</td>\n",
       "      <td>3.700000</td>\n",
       "      <td>1016.500000</td>\n",
       "    </tr>\n",
       "    <tr>\n",
       "      <th>...</th>\n",
       "      <td>...</td>\n",
       "      <td>...</td>\n",
       "      <td>...</td>\n",
       "      <td>...</td>\n",
       "      <td>...</td>\n",
       "    </tr>\n",
       "    <tr>\n",
       "      <th>1457</th>\n",
       "      <td>2016-12-28</td>\n",
       "      <td>17.217391</td>\n",
       "      <td>68.043478</td>\n",
       "      <td>3.547826</td>\n",
       "      <td>1015.565217</td>\n",
       "    </tr>\n",
       "    <tr>\n",
       "      <th>1458</th>\n",
       "      <td>2016-12-29</td>\n",
       "      <td>15.238095</td>\n",
       "      <td>87.857143</td>\n",
       "      <td>6.000000</td>\n",
       "      <td>1016.904762</td>\n",
       "    </tr>\n",
       "    <tr>\n",
       "      <th>1459</th>\n",
       "      <td>2016-12-30</td>\n",
       "      <td>14.095238</td>\n",
       "      <td>89.666667</td>\n",
       "      <td>6.266667</td>\n",
       "      <td>1017.904762</td>\n",
       "    </tr>\n",
       "    <tr>\n",
       "      <th>1460</th>\n",
       "      <td>2016-12-31</td>\n",
       "      <td>15.052632</td>\n",
       "      <td>87.000000</td>\n",
       "      <td>7.325000</td>\n",
       "      <td>1016.100000</td>\n",
       "    </tr>\n",
       "    <tr>\n",
       "      <th>1461</th>\n",
       "      <td>2017-01-01</td>\n",
       "      <td>10.000000</td>\n",
       "      <td>100.000000</td>\n",
       "      <td>0.000000</td>\n",
       "      <td>1016.000000</td>\n",
       "    </tr>\n",
       "  </tbody>\n",
       "</table>\n",
       "<p>1462 rows × 5 columns</p>\n",
       "</div>"
      ],
      "text/plain": [
       "            date   meantemp    humidity  wind_speed  meanpressure\n",
       "0     2013-01-01  10.000000   84.500000    0.000000   1015.666667\n",
       "1     2013-01-02   7.400000   92.000000    2.980000   1017.800000\n",
       "2     2013-01-03   7.166667   87.000000    4.633333   1018.666667\n",
       "3     2013-01-04   8.666667   71.333333    1.233333   1017.166667\n",
       "4     2013-01-05   6.000000   86.833333    3.700000   1016.500000\n",
       "...          ...        ...         ...         ...           ...\n",
       "1457  2016-12-28  17.217391   68.043478    3.547826   1015.565217\n",
       "1458  2016-12-29  15.238095   87.857143    6.000000   1016.904762\n",
       "1459  2016-12-30  14.095238   89.666667    6.266667   1017.904762\n",
       "1460  2016-12-31  15.052632   87.000000    7.325000   1016.100000\n",
       "1461  2017-01-01  10.000000  100.000000    0.000000   1016.000000\n",
       "\n",
       "[1462 rows x 5 columns]"
      ]
     },
     "execution_count": 12,
     "metadata": {},
     "output_type": "execute_result"
    }
   ],
   "source": [
    "file_name = \"DailyDelhiClimateTrain\"\n",
    "df = pd.read_csv(f\"data/{file_name}.csv\")\n",
    "\n",
    "df"
   ]
  },
  {
   "cell_type": "markdown",
   "id": "a040b51c",
   "metadata": {},
   "source": [
    "Now, we'll do a quick sanity check that the data has some temporal pattern that we can exploit for modeling purposes.\n",
    "\n",
    "First, we'll use a Woodwork method to check whether there is any column with a uniform sampling frequency. This is important, because it means that there is a constant amount of time between observations. A dataset that does not have a uniform sampling frequency can still be used for time series modeling, but the existence of that frequency is a good indicator that this dataset is ripe for time series modeling. For columns that have multiple datetime columns, checking for a frequency is also a good indicator for which could be the time index."
   ]
  },
  {
   "cell_type": "code",
   "execution_count": 13,
   "id": "b7e1b470",
   "metadata": {},
   "outputs": [
    {
     "data": {
      "text/plain": [
       "{'date': 'D'}"
      ]
     },
     "execution_count": 13,
     "metadata": {},
     "output_type": "execute_result"
    }
   ],
   "source": [
    "df.ww.init()\n",
    "df.ww.infer_temporal_frequencies()"
   ]
  },
  {
   "cell_type": "markdown",
   "id": "b83d559a",
   "metadata": {},
   "source": [
    "Indeed, one of the columns, `date`, has a daily frequency; we'll move forward with it as our time index.\n",
    "\n",
    "Now, we’ll graph the data."
   ]
  },
  {
   "cell_type": "code",
   "execution_count": 14,
   "id": "620c5e14",
   "metadata": {
    "scrolled": true
   },
   "outputs": [
    {
     "data": {
      "text/plain": [
       "<AxesSubplot:xlabel='date'>"
      ]
     },
     "execution_count": 14,
     "metadata": {},
     "output_type": "execute_result"
    },
    {
     "data": {
      "image/png": "[encoded data removed]",
      "text/plain": [
       "<Figure size 432x288 with 1 Axes>"
      ]
     },
     "metadata": {
      "needs_background": "light"
     },
     "output_type": "display_data"
    }
   ],
   "source": [
    "ts = df['meantemp']\n",
    "ts.index = df['date']\n",
    "ts.plot()"
   ]
  },
  {
   "cell_type": "markdown",
   "id": "f1f6942a",
   "metadata": {},
   "source": [
    "We can see a strong seasonality, which makes sense for temperature! In many places, the time of the year is indicative of what the weather will look like. Now, we'll build a baseline model that uses the most recently available data. \n",
    "\n",
    "But how do we define what data we have access to when? In many scenarios, this might be be determined by quickly we can get access to recent observations. Since we're building a model using training and test data that we'll have access to right now, we'll need to set some parameters arbitrarily. But these parameters will let us define the problem more formally. We'll stick with these definitions problem configuration throughout the rest of the demo. \n",
    "\n",
    "## Problem Configuration\n",
    "Here are a few concepts that give us our official problem configuration:\n",
    "\n",
    "**forecast_horizon**: The number of time periods we are trying to forecast. In this example, we’re interested in predicting the mean temperature for the next 5 days, so the value is 5.\n",
    "\n",
    "**gap**: The number of time periods between the end of the training set and the start of the test set. We’re going to make predictions using data from three days prior to each observation.\n",
    "\n",
    "**max_delay**: The maximum number of rows to look in the past from the current row in order to compute features. Here, we’ll use a max delay of 20.\n",
    "\n",
    "**time_index**: The column of the training dataset that contains the date corresponding to each observation. Here, it's the `date` column.\n",
    "\n",
    "Our problem can then be described as trying to predict the mean temperature over the next five days using temperature data from 20 days prior. "
   ]
  },
  {
   "cell_type": "code",
   "execution_count": 15,
   "id": "43ca1fe9",
   "metadata": {},
   "outputs": [],
   "source": [
    "# The only columns we'll want to use for modeling - makes this a univariate problem\n",
    "time_index = \"date\"\n",
    "target_col = 'meantemp'\n",
    "\n",
    "# parameters as evalml uses them \n",
    "gap = 3\n",
    "max_delay = 20\n",
    "forecast_horizon = 5"
   ]
  },
  {
   "cell_type": "markdown",
   "id": "d43a8685",
   "metadata": {},
   "source": [
    "Since we do not want to complicate the solition by performing multivariate time series modeling, we'll only use the time index column and target column for the rest of this demo. "
   ]
  },
  {
   "cell_type": "code",
   "execution_count": 16,
   "id": "88f9088b",
   "metadata": {},
   "outputs": [],
   "source": [
    "univariate_df = df[[time_index, target_col]]"
   ]
  },
  {
   "cell_type": "markdown",
   "id": "8d5254dc",
   "metadata": {},
   "source": [
    "Additionally, we'll want to have our data split up into training and testing data. We'll use the same split for both our baseline and Featuretools runs. We're leaving a `gap` number of observations between the train and test sets in order to not have the test dataset's lag feature use values that are technically before the test set begins or inside of the training set. "
   ]
  },
  {
   "cell_type": "code",
   "execution_count": 17,
   "id": "c3d27b19",
   "metadata": {},
   "outputs": [
    {
     "data": {
      "text/html": [
       "<div>\n",
       "<style scoped>\n",
       "    .dataframe tbody tr th:only-of-type {\n",
       "        vertical-align: middle;\n",
       "    }\n",
       "\n",
       "    .dataframe tbody tr th {\n",
       "        vertical-align: top;\n",
       "    }\n",
       "\n",
       "    .dataframe thead th {\n",
       "        text-align: right;\n",
       "    }\n",
       "</style>\n",
       "<table border=\"1\" class=\"dataframe\">\n",
       "  <thead>\n",
       "    <tr style=\"text-align: right;\">\n",
       "      <th></th>\n",
       "      <th>date</th>\n",
       "      <th>meantemp</th>\n",
       "    </tr>\n",
       "  </thead>\n",
       "  <tbody>\n",
       "    <tr>\n",
       "      <th>0</th>\n",
       "      <td>2013-01-01</td>\n",
       "      <td>10.000000</td>\n",
       "    </tr>\n",
       "    <tr>\n",
       "      <th>1</th>\n",
       "      <td>2013-01-02</td>\n",
       "      <td>7.400000</td>\n",
       "    </tr>\n",
       "    <tr>\n",
       "      <th>2</th>\n",
       "      <td>2013-01-03</td>\n",
       "      <td>7.166667</td>\n",
       "    </tr>\n",
       "    <tr>\n",
       "      <th>3</th>\n",
       "      <td>2013-01-04</td>\n",
       "      <td>8.666667</td>\n",
       "    </tr>\n",
       "    <tr>\n",
       "      <th>4</th>\n",
       "      <td>2013-01-05</td>\n",
       "      <td>6.000000</td>\n",
       "    </tr>\n",
       "    <tr>\n",
       "      <th>...</th>\n",
       "      <td>...</td>\n",
       "      <td>...</td>\n",
       "    </tr>\n",
       "    <tr>\n",
       "      <th>1164</th>\n",
       "      <td>2016-03-10</td>\n",
       "      <td>25.562500</td>\n",
       "    </tr>\n",
       "    <tr>\n",
       "      <th>1165</th>\n",
       "      <td>2016-03-11</td>\n",
       "      <td>25.066667</td>\n",
       "    </tr>\n",
       "    <tr>\n",
       "      <th>1166</th>\n",
       "      <td>2016-03-12</td>\n",
       "      <td>24.562500</td>\n",
       "    </tr>\n",
       "    <tr>\n",
       "      <th>1167</th>\n",
       "      <td>2016-03-13</td>\n",
       "      <td>24.250000</td>\n",
       "    </tr>\n",
       "    <tr>\n",
       "      <th>1168</th>\n",
       "      <td>2016-03-14</td>\n",
       "      <td>22.375000</td>\n",
       "    </tr>\n",
       "  </tbody>\n",
       "</table>\n",
       "<p>1169 rows × 2 columns</p>\n",
       "</div>"
      ],
      "text/plain": [
       "           date   meantemp\n",
       "0    2013-01-01  10.000000\n",
       "1    2013-01-02   7.400000\n",
       "2    2013-01-03   7.166667\n",
       "3    2013-01-04   8.666667\n",
       "4    2013-01-05   6.000000\n",
       "...         ...        ...\n",
       "1164 2016-03-10  25.562500\n",
       "1165 2016-03-11  25.066667\n",
       "1166 2016-03-12  24.562500\n",
       "1167 2016-03-13  24.250000\n",
       "1168 2016-03-14  22.375000\n",
       "\n",
       "[1169 rows x 2 columns]"
      ]
     },
     "execution_count": 17,
     "metadata": {},
     "output_type": "execute_result"
    }
   ],
   "source": [
    "split_point = int(univariate_df.shape[0]*.8)\n",
    "\n",
    "# leave gap observations between training and test datasets\n",
    "training_data = univariate_df[:split_point]\n",
    "test_data = univariate_df[(split_point + gap):]\n",
    "\n",
    "training_data"
   ]
  },
  {
   "cell_type": "markdown",
   "id": "ca6ed90f",
   "metadata": {},
   "source": [
    "# Baseline Run\n",
    "\n",
    "Our baseline run will only include one feature that is a delayed value from the `meantemp` column. That delayed value will be the first known value for each observation. \n",
    "\n",
    "### Feature Engineering"
   ]
  },
  {
   "cell_type": "code",
   "execution_count": 21,
   "id": "cd2737ca",
   "metadata": {},
   "outputs": [
    {
     "data": {
      "text/html": [
       "<div>\n",
       "<style scoped>\n",
       "    .dataframe tbody tr th:only-of-type {\n",
       "        vertical-align: middle;\n",
       "    }\n",
       "\n",
       "    .dataframe tbody tr th {\n",
       "        vertical-align: top;\n",
       "    }\n",
       "\n",
       "    .dataframe thead th {\n",
       "        text-align: right;\n",
       "    }\n",
       "</style>\n",
       "<table border=\"1\" class=\"dataframe\">\n",
       "  <thead>\n",
       "    <tr style=\"text-align: right;\">\n",
       "      <th></th>\n",
       "      <th>date</th>\n",
       "      <th>meantemp</th>\n",
       "      <th>target_lag</th>\n",
       "    </tr>\n",
       "  </thead>\n",
       "  <tbody>\n",
       "    <tr>\n",
       "      <th>0</th>\n",
       "      <td>2013-01-01</td>\n",
       "      <td>10.000000</td>\n",
       "      <td>NaN</td>\n",
       "    </tr>\n",
       "    <tr>\n",
       "      <th>1</th>\n",
       "      <td>2013-01-02</td>\n",
       "      <td>7.400000</td>\n",
       "      <td>NaN</td>\n",
       "    </tr>\n",
       "    <tr>\n",
       "      <th>2</th>\n",
       "      <td>2013-01-03</td>\n",
       "      <td>7.166667</td>\n",
       "      <td>NaN</td>\n",
       "    </tr>\n",
       "    <tr>\n",
       "      <th>3</th>\n",
       "      <td>2013-01-04</td>\n",
       "      <td>8.666667</td>\n",
       "      <td>NaN</td>\n",
       "    </tr>\n",
       "    <tr>\n",
       "      <th>4</th>\n",
       "      <td>2013-01-05</td>\n",
       "      <td>6.000000</td>\n",
       "      <td>NaN</td>\n",
       "    </tr>\n",
       "    <tr>\n",
       "      <th>...</th>\n",
       "      <td>...</td>\n",
       "      <td>...</td>\n",
       "      <td>...</td>\n",
       "    </tr>\n",
       "    <tr>\n",
       "      <th>1164</th>\n",
       "      <td>2016-03-10</td>\n",
       "      <td>25.562500</td>\n",
       "      <td>24.916667</td>\n",
       "    </tr>\n",
       "    <tr>\n",
       "      <th>1165</th>\n",
       "      <td>2016-03-11</td>\n",
       "      <td>25.066667</td>\n",
       "      <td>24.933333</td>\n",
       "    </tr>\n",
       "    <tr>\n",
       "      <th>1166</th>\n",
       "      <td>2016-03-12</td>\n",
       "      <td>24.562500</td>\n",
       "      <td>26.000000</td>\n",
       "    </tr>\n",
       "    <tr>\n",
       "      <th>1167</th>\n",
       "      <td>2016-03-13</td>\n",
       "      <td>24.250000</td>\n",
       "      <td>27.312500</td>\n",
       "    </tr>\n",
       "    <tr>\n",
       "      <th>1168</th>\n",
       "      <td>2016-03-14</td>\n",
       "      <td>22.375000</td>\n",
       "      <td>23.933333</td>\n",
       "    </tr>\n",
       "  </tbody>\n",
       "</table>\n",
       "<p>1169 rows × 3 columns</p>\n",
       "</div>"
      ],
      "text/plain": [
       "           date   meantemp  target_lag\n",
       "0    2013-01-01  10.000000         NaN\n",
       "1    2013-01-02   7.400000         NaN\n",
       "2    2013-01-03   7.166667         NaN\n",
       "3    2013-01-04   8.666667         NaN\n",
       "4    2013-01-05   6.000000         NaN\n",
       "...         ...        ...         ...\n",
       "1164 2016-03-10  25.562500   24.916667\n",
       "1165 2016-03-11  25.066667   24.933333\n",
       "1166 2016-03-12  24.562500   26.000000\n",
       "1167 2016-03-13  24.250000   27.312500\n",
       "1168 2016-03-14  22.375000   23.933333\n",
       "\n",
       "[1169 rows x 3 columns]"
      ]
     },
     "execution_count": 21,
     "metadata": {},
     "output_type": "execute_result"
    }
   ],
   "source": [
    "# Add a delayed target feature to both traning and test data\n",
    "target_lag_training = training_data[target_col].shift(forecast_horizon + gap + 1)\n",
    "target_lag_training.name = 'target_lag'\n",
    "baseline_training = pd.concat([training_data, target_lag_training], axis=1)\n",
    "\n",
    "target_lag_test = test_data[target_col].shift(forecast_horizon + gap + 1)\n",
    "target_lag_test.name = 'target_lag'\n",
    "baseline_test = pd.concat([test_data, target_lag_test], axis=1)\n",
    "\n",
    "baseline_training"
   ]
  },
  {
   "cell_type": "markdown",
   "id": "e322fedb",
   "metadata": {},
   "source": [
    "### Format data for modeling\n",
    "\n",
    "We won't want the datetime column in our data for modeling, we also need to remove the null values that were introduced in the delayed target feature, and last we need to pull the target column out. "
   ]
  },
  {
   "cell_type": "code",
   "execution_count": 22,
   "id": "9c92cff9",
   "metadata": {},
   "outputs": [],
   "source": [
    "def remove_nans(time_target_fs, target_col):\n",
    "    # remove nans\n",
    "    max_nans = 0\n",
    "    for col in time_target_fs.columns:\n",
    "        max_nans = max(time_target_fs[col].isna().sum(), max_nans)\n",
    "\n",
    "    if max_nans:\n",
    "        return time_target_fs.iloc[max_nans:]\n",
    "    \n",
    "    return time_target_fs\n",
    "\n",
    "# Get rid of the time index column for modeling\n",
    "baseline_training.drop(time_index, axis=1, inplace=True)\n",
    "baseline_test.drop(time_index, axis=1, inplace=True)\n",
    "\n",
    "# The lag feature introduces nans, so we remove those rows and pull out the target\n",
    "X_train = remove_nans(baseline_training, target_col)\n",
    "y_train = X_train.pop(target_col)\n",
    "\n",
    "X_test = remove_nans(baseline_test, target_col)\n",
    "y_test = X_test.pop(target_col)"
   ]
  },
  {
   "cell_type": "markdown",
   "id": "e18cc5f9",
   "metadata": {},
   "source": [
    "### Build The Model"
   ]
  },
  {
   "cell_type": "code",
   "execution_count": 23,
   "id": "412e13e9",
   "metadata": {},
   "outputs": [
    {
     "name": "stdout",
     "output_type": "stream",
     "text": [
      "Median Abs Error: 1.99\n",
      "1: target_lag [1.000]\n",
      "-----\n",
      "\n"
     ]
    }
   ],
   "source": [
    "reg = RandomForestRegressor(n_estimators=100)\n",
    "reg.fit(X_train, y_train)\n",
    "\n",
    "preds = reg.predict(X_test)\n",
    "scores = median_absolute_error(preds, y_test)\n",
    "print('Median Abs Error: {:.2f}'.format(scores))\n",
    "\n",
    "high_imp_feats = feature_importances(X_train, reg, feats=10)"
   ]
  },
  {
   "cell_type": "markdown",
   "id": "ee8d9a32",
   "metadata": {},
   "source": [
    "Next, we're going to expand our feature engineering step using Featuretools' deep feature synthesis. We'll utilize a few time-series specific primitives as well as some datetime primitives. \n",
    "\n",
    "# Feature Engineering Run \n",
    "\n",
    "We're going to use the same split that we used for the baseline run, so we'll work with the `training_data` and `test_data` dataframes from before."
   ]
  },
  {
   "cell_type": "markdown",
   "id": "04b32e54",
   "metadata": {},
   "source": [
    "### Feature Engineering with Featuretools\n",
    "\n",
    "In order to use DFS, we need to set up `EntitySet` objects for both the training and testing data. Since our dataset only includes one table, this will be a quick process. "
   ]
  },
  {
   "cell_type": "code",
   "execution_count": 24,
   "id": "995348c8",
   "metadata": {},
   "outputs": [
    {
     "data": {
      "text/plain": [
       "Entityset: None\n",
       "  DataFrames:\n",
       "    temperatures [Rows: 1169, Columns: 3]\n",
       "  Relationships:\n",
       "    No relationships"
      ]
     },
     "execution_count": 24,
     "metadata": {},
     "output_type": "execute_result"
    }
   ],
   "source": [
    "training_es = ft.EntitySet()\n",
    "training_es.add_dataframe(training_data.copy(), \n",
    "                 dataframe_name='temperatures', \n",
    "                 index='id', \n",
    "                 make_index=True, \n",
    "                 time_index=time_index)"
   ]
  },
  {
   "cell_type": "code",
   "execution_count": 25,
   "id": "0eb6c9e3",
   "metadata": {
    "scrolled": true
   },
   "outputs": [
    {
     "data": {
      "text/plain": [
       "Entityset: None\n",
       "  DataFrames:\n",
       "    temperatures [Rows: 290, Columns: 3]\n",
       "  Relationships:\n",
       "    No relationships"
      ]
     },
     "execution_count": 25,
     "metadata": {},
     "output_type": "execute_result"
    }
   ],
   "source": [
    "test_es = ft.EntitySet()\n",
    "test_es.add_dataframe(test_data.copy(), \n",
    "                 dataframe_name='temperatures', \n",
    "                 index='id', \n",
    "                 make_index=True, \n",
    "                 time_index=time_index)"
   ]
  },
  {
   "cell_type": "markdown",
   "id": "692e5759",
   "metadata": {},
   "source": [
    "Now, we'll set up our primitives for DFS. There will be three types of primitives:\n",
    "\n",
    "- Datetime primitives - these extract features from datetime columns\n",
    "- Rolling primitives - these perform aggregate calculations over rolling windows. Parameters can be set that allow an observation's window to be entirely before the observation occurs, which is important for not exposing our target variable. \n",
    "- Lagging primitives - these are primitive versions of the delayed target feature from the baseline run. We'll define multiple of these with different delays.\n",
    "\n",
    "We use the `gap`, `forecast_horizon`, and `max_delay` parameters from before to set our primitive parameters."
   ]
  },
  {
   "cell_type": "code",
   "execution_count": 53,
   "id": "956d3b27",
   "metadata": {},
   "outputs": [],
   "source": [
    "# Rolling gap is comprised of both our `gap` parameter and the forecast horizon, \n",
    "# because they determine the first observation we have access to. We'll also use them in defining our Numeric Lag primitives\n",
    "rolling_gap = forecast_horizon + gap\n",
    "\n",
    "# The .25 is a heuristic to only use a portion of the max_delay for the window length\n",
    "rolling_window_length = int(.25*max_delay) + 1 # a quarter is a heuristic here \n",
    "# Min periods is a pandas parameter, and it just stops us from including partial calculations before the windows have \n",
    "# all the possible observations\n",
    "rolling_min_periods = int(.25*max_delay) + 1\n",
    "\n",
    "datetime_primitives = [ 'Month', 'Hour', \"Year\"]\n",
    "delaying_primitives = [NumericLag(periods=t + forecast_horizon + gap) for t in range(forecast_horizon + gap + 1)]\n",
    "rolling_mean_primitive = RollingMean(rolling_window_length, \n",
    "                                               gap=rolling_gap,\n",
    "                                              min_periods=rolling_min_periods)\n",
    "\n"
   ]
  },
  {
   "cell_type": "code",
   "execution_count": 54,
   "id": "e496c781",
   "metadata": {
    "scrolled": true
   },
   "outputs": [],
   "source": [
    "train_fm, features = ft.dfs(entityset=training_es, \n",
    "               target_dataframe_name='temperatures', \n",
    "               max_depth=1,\n",
    "               trans_primitives = datetime_primitives \n",
    "                            + delaying_primitives \n",
    "                            + [ rolling_mean_primitive ]\n",
    "              )"
   ]
  },
  {
   "cell_type": "markdown",
   "id": "83bf0a4c",
   "metadata": {},
   "source": [
    "Again, we'll need to remove the null values introduced by the delaying primitives and the rolling mean primitive. "
   ]
  },
  {
   "cell_type": "code",
   "execution_count": 55,
   "id": "b45da878",
   "metadata": {},
   "outputs": [
    {
     "data": {
      "text/html": [
       "<div>\n",
       "<style scoped>\n",
       "    .dataframe tbody tr th:only-of-type {\n",
       "        vertical-align: middle;\n",
       "    }\n",
       "\n",
       "    .dataframe tbody tr th {\n",
       "        vertical-align: top;\n",
       "    }\n",
       "\n",
       "    .dataframe thead th {\n",
       "        text-align: right;\n",
       "    }\n",
       "</style>\n",
       "<table border=\"1\" class=\"dataframe\">\n",
       "  <thead>\n",
       "    <tr style=\"text-align: right;\">\n",
       "      <th></th>\n",
       "      <th>HOUR(date)</th>\n",
       "      <th>MONTH(date)</th>\n",
       "      <th>NUMERIC_LAG(date, meantemp, periods=10)</th>\n",
       "      <th>NUMERIC_LAG(date, meantemp, periods=11)</th>\n",
       "      <th>NUMERIC_LAG(date, meantemp, periods=12)</th>\n",
       "      <th>NUMERIC_LAG(date, meantemp, periods=13)</th>\n",
       "      <th>NUMERIC_LAG(date, meantemp, periods=14)</th>\n",
       "      <th>NUMERIC_LAG(date, meantemp, periods=15)</th>\n",
       "      <th>NUMERIC_LAG(date, meantemp, periods=16)</th>\n",
       "      <th>NUMERIC_LAG(date, meantemp, periods=8)</th>\n",
       "      <th>NUMERIC_LAG(date, meantemp, periods=9)</th>\n",
       "      <th>ROLLING_MEAN(date, meantemp, window_length=6, gap=8, min_periods=6)</th>\n",
       "      <th>YEAR(date)</th>\n",
       "    </tr>\n",
       "    <tr>\n",
       "      <th>id</th>\n",
       "      <th></th>\n",
       "      <th></th>\n",
       "      <th></th>\n",
       "      <th></th>\n",
       "      <th></th>\n",
       "      <th></th>\n",
       "      <th></th>\n",
       "      <th></th>\n",
       "      <th></th>\n",
       "      <th></th>\n",
       "      <th></th>\n",
       "      <th></th>\n",
       "      <th></th>\n",
       "    </tr>\n",
       "  </thead>\n",
       "  <tbody>\n",
       "    <tr>\n",
       "      <th>16</th>\n",
       "      <td>0</td>\n",
       "      <td>1</td>\n",
       "      <td>7.000000</td>\n",
       "      <td>7.000000</td>\n",
       "      <td>6.000000</td>\n",
       "      <td>8.666667</td>\n",
       "      <td>7.166667</td>\n",
       "      <td>7.400000</td>\n",
       "      <td>10.000000</td>\n",
       "      <td>14.000000</td>\n",
       "      <td>8.857143</td>\n",
       "      <td>8.587302</td>\n",
       "      <td>2013</td>\n",
       "    </tr>\n",
       "    <tr>\n",
       "      <th>17</th>\n",
       "      <td>0</td>\n",
       "      <td>1</td>\n",
       "      <td>8.857143</td>\n",
       "      <td>7.000000</td>\n",
       "      <td>7.000000</td>\n",
       "      <td>6.000000</td>\n",
       "      <td>8.666667</td>\n",
       "      <td>7.166667</td>\n",
       "      <td>7.400000</td>\n",
       "      <td>11.000000</td>\n",
       "      <td>14.000000</td>\n",
       "      <td>8.976190</td>\n",
       "      <td>2013</td>\n",
       "    </tr>\n",
       "    <tr>\n",
       "      <th>18</th>\n",
       "      <td>0</td>\n",
       "      <td>1</td>\n",
       "      <td>14.000000</td>\n",
       "      <td>8.857143</td>\n",
       "      <td>7.000000</td>\n",
       "      <td>7.000000</td>\n",
       "      <td>6.000000</td>\n",
       "      <td>8.666667</td>\n",
       "      <td>7.166667</td>\n",
       "      <td>15.714286</td>\n",
       "      <td>11.000000</td>\n",
       "      <td>10.595238</td>\n",
       "      <td>2013</td>\n",
       "    </tr>\n",
       "    <tr>\n",
       "      <th>19</th>\n",
       "      <td>0</td>\n",
       "      <td>1</td>\n",
       "      <td>11.000000</td>\n",
       "      <td>14.000000</td>\n",
       "      <td>8.857143</td>\n",
       "      <td>7.000000</td>\n",
       "      <td>7.000000</td>\n",
       "      <td>6.000000</td>\n",
       "      <td>8.666667</td>\n",
       "      <td>14.000000</td>\n",
       "      <td>15.714286</td>\n",
       "      <td>11.761905</td>\n",
       "      <td>2013</td>\n",
       "    </tr>\n",
       "    <tr>\n",
       "      <th>20</th>\n",
       "      <td>0</td>\n",
       "      <td>1</td>\n",
       "      <td>15.714286</td>\n",
       "      <td>11.000000</td>\n",
       "      <td>14.000000</td>\n",
       "      <td>8.857143</td>\n",
       "      <td>7.000000</td>\n",
       "      <td>7.000000</td>\n",
       "      <td>6.000000</td>\n",
       "      <td>15.833333</td>\n",
       "      <td>14.000000</td>\n",
       "      <td>13.234127</td>\n",
       "      <td>2013</td>\n",
       "    </tr>\n",
       "    <tr>\n",
       "      <th>...</th>\n",
       "      <td>...</td>\n",
       "      <td>...</td>\n",
       "      <td>...</td>\n",
       "      <td>...</td>\n",
       "      <td>...</td>\n",
       "      <td>...</td>\n",
       "      <td>...</td>\n",
       "      <td>...</td>\n",
       "      <td>...</td>\n",
       "      <td>...</td>\n",
       "      <td>...</td>\n",
       "      <td>...</td>\n",
       "      <td>...</td>\n",
       "    </tr>\n",
       "    <tr>\n",
       "      <th>1164</th>\n",
       "      <td>0</td>\n",
       "      <td>3</td>\n",
       "      <td>23.875000</td>\n",
       "      <td>23.000000</td>\n",
       "      <td>22.800000</td>\n",
       "      <td>22.800000</td>\n",
       "      <td>22.562500</td>\n",
       "      <td>21.687500</td>\n",
       "      <td>21.428571</td>\n",
       "      <td>24.933333</td>\n",
       "      <td>24.916667</td>\n",
       "      <td>23.720833</td>\n",
       "      <td>2016</td>\n",
       "    </tr>\n",
       "    <tr>\n",
       "      <th>1165</th>\n",
       "      <td>0</td>\n",
       "      <td>3</td>\n",
       "      <td>24.916667</td>\n",
       "      <td>23.875000</td>\n",
       "      <td>23.000000</td>\n",
       "      <td>22.800000</td>\n",
       "      <td>22.800000</td>\n",
       "      <td>22.562500</td>\n",
       "      <td>21.687500</td>\n",
       "      <td>26.000000</td>\n",
       "      <td>24.933333</td>\n",
       "      <td>24.254167</td>\n",
       "      <td>2016</td>\n",
       "    </tr>\n",
       "    <tr>\n",
       "      <th>1166</th>\n",
       "      <td>0</td>\n",
       "      <td>3</td>\n",
       "      <td>24.933333</td>\n",
       "      <td>24.916667</td>\n",
       "      <td>23.875000</td>\n",
       "      <td>23.000000</td>\n",
       "      <td>22.800000</td>\n",
       "      <td>22.800000</td>\n",
       "      <td>22.562500</td>\n",
       "      <td>27.312500</td>\n",
       "      <td>26.000000</td>\n",
       "      <td>25.006250</td>\n",
       "      <td>2016</td>\n",
       "    </tr>\n",
       "    <tr>\n",
       "      <th>1167</th>\n",
       "      <td>0</td>\n",
       "      <td>3</td>\n",
       "      <td>26.000000</td>\n",
       "      <td>24.933333</td>\n",
       "      <td>24.916667</td>\n",
       "      <td>23.875000</td>\n",
       "      <td>23.000000</td>\n",
       "      <td>22.800000</td>\n",
       "      <td>22.800000</td>\n",
       "      <td>23.933333</td>\n",
       "      <td>27.312500</td>\n",
       "      <td>25.161806</td>\n",
       "      <td>2016</td>\n",
       "    </tr>\n",
       "    <tr>\n",
       "      <th>1168</th>\n",
       "      <td>0</td>\n",
       "      <td>3</td>\n",
       "      <td>27.312500</td>\n",
       "      <td>26.000000</td>\n",
       "      <td>24.933333</td>\n",
       "      <td>24.916667</td>\n",
       "      <td>23.875000</td>\n",
       "      <td>23.000000</td>\n",
       "      <td>22.800000</td>\n",
       "      <td>22.812500</td>\n",
       "      <td>23.933333</td>\n",
       "      <td>24.984722</td>\n",
       "      <td>2016</td>\n",
       "    </tr>\n",
       "  </tbody>\n",
       "</table>\n",
       "<p>1153 rows × 13 columns</p>\n",
       "</div>"
      ],
      "text/plain": [
       "     HOUR(date) MONTH(date)  NUMERIC_LAG(date, meantemp, periods=10)  \\\n",
       "id                                                                     \n",
       "16            0           1                                 7.000000   \n",
       "17            0           1                                 8.857143   \n",
       "18            0           1                                14.000000   \n",
       "19            0           1                                11.000000   \n",
       "20            0           1                                15.714286   \n",
       "...         ...         ...                                      ...   \n",
       "1164          0           3                                23.875000   \n",
       "1165          0           3                                24.916667   \n",
       "1166          0           3                                24.933333   \n",
       "1167          0           3                                26.000000   \n",
       "1168          0           3                                27.312500   \n",
       "\n",
       "      NUMERIC_LAG(date, meantemp, periods=11)  \\\n",
       "id                                              \n",
       "16                                   7.000000   \n",
       "17                                   7.000000   \n",
       "18                                   8.857143   \n",
       "19                                  14.000000   \n",
       "20                                  11.000000   \n",
       "...                                       ...   \n",
       "1164                                23.000000   \n",
       "1165                                23.875000   \n",
       "1166                                24.916667   \n",
       "1167                                24.933333   \n",
       "1168                                26.000000   \n",
       "\n",
       "      NUMERIC_LAG(date, meantemp, periods=12)  \\\n",
       "id                                              \n",
       "16                                   6.000000   \n",
       "17                                   7.000000   \n",
       "18                                   7.000000   \n",
       "19                                   8.857143   \n",
       "20                                  14.000000   \n",
       "...                                       ...   \n",
       "1164                                22.800000   \n",
       "1165                                23.000000   \n",
       "1166                                23.875000   \n",
       "1167                                24.916667   \n",
       "1168                                24.933333   \n",
       "\n",
       "      NUMERIC_LAG(date, meantemp, periods=13)  \\\n",
       "id                                              \n",
       "16                                   8.666667   \n",
       "17                                   6.000000   \n",
       "18                                   7.000000   \n",
       "19                                   7.000000   \n",
       "20                                   8.857143   \n",
       "...                                       ...   \n",
       "1164                                22.800000   \n",
       "1165                                22.800000   \n",
       "1166                                23.000000   \n",
       "1167                                23.875000   \n",
       "1168                                24.916667   \n",
       "\n",
       "      NUMERIC_LAG(date, meantemp, periods=14)  \\\n",
       "id                                              \n",
       "16                                   7.166667   \n",
       "17                                   8.666667   \n",
       "18                                   6.000000   \n",
       "19                                   7.000000   \n",
       "20                                   7.000000   \n",
       "...                                       ...   \n",
       "1164                                22.562500   \n",
       "1165                                22.800000   \n",
       "1166                                22.800000   \n",
       "1167                                23.000000   \n",
       "1168                                23.875000   \n",
       "\n",
       "      NUMERIC_LAG(date, meantemp, periods=15)  \\\n",
       "id                                              \n",
       "16                                   7.400000   \n",
       "17                                   7.166667   \n",
       "18                                   8.666667   \n",
       "19                                   6.000000   \n",
       "20                                   7.000000   \n",
       "...                                       ...   \n",
       "1164                                21.687500   \n",
       "1165                                22.562500   \n",
       "1166                                22.800000   \n",
       "1167                                22.800000   \n",
       "1168                                23.000000   \n",
       "\n",
       "      NUMERIC_LAG(date, meantemp, periods=16)  \\\n",
       "id                                              \n",
       "16                                  10.000000   \n",
       "17                                   7.400000   \n",
       "18                                   7.166667   \n",
       "19                                   8.666667   \n",
       "20                                   6.000000   \n",
       "...                                       ...   \n",
       "1164                                21.428571   \n",
       "1165                                21.687500   \n",
       "1166                                22.562500   \n",
       "1167                                22.800000   \n",
       "1168                                22.800000   \n",
       "\n",
       "      NUMERIC_LAG(date, meantemp, periods=8)  \\\n",
       "id                                             \n",
       "16                                 14.000000   \n",
       "17                                 11.000000   \n",
       "18                                 15.714286   \n",
       "19                                 14.000000   \n",
       "20                                 15.833333   \n",
       "...                                      ...   \n",
       "1164                               24.933333   \n",
       "1165                               26.000000   \n",
       "1166                               27.312500   \n",
       "1167                               23.933333   \n",
       "1168                               22.812500   \n",
       "\n",
       "      NUMERIC_LAG(date, meantemp, periods=9)  \\\n",
       "id                                             \n",
       "16                                  8.857143   \n",
       "17                                 14.000000   \n",
       "18                                 11.000000   \n",
       "19                                 15.714286   \n",
       "20                                 14.000000   \n",
       "...                                      ...   \n",
       "1164                               24.916667   \n",
       "1165                               24.933333   \n",
       "1166                               26.000000   \n",
       "1167                               27.312500   \n",
       "1168                               23.933333   \n",
       "\n",
       "      ROLLING_MEAN(date, meantemp, window_length=6, gap=8, min_periods=6)  \\\n",
       "id                                                                          \n",
       "16                                             8.587302                     \n",
       "17                                             8.976190                     \n",
       "18                                            10.595238                     \n",
       "19                                            11.761905                     \n",
       "20                                            13.234127                     \n",
       "...                                                 ...                     \n",
       "1164                                          23.720833                     \n",
       "1165                                          24.254167                     \n",
       "1166                                          25.006250                     \n",
       "1167                                          25.161806                     \n",
       "1168                                          24.984722                     \n",
       "\n",
       "     YEAR(date)  \n",
       "id               \n",
       "16         2013  \n",
       "17         2013  \n",
       "18         2013  \n",
       "19         2013  \n",
       "20         2013  \n",
       "...         ...  \n",
       "1164       2016  \n",
       "1165       2016  \n",
       "1166       2016  \n",
       "1167       2016  \n",
       "1168       2016  \n",
       "\n",
       "[1153 rows x 13 columns]"
      ]
     },
     "execution_count": 55,
     "metadata": {},
     "output_type": "execute_result"
    }
   ],
   "source": [
    "X_train = remove_nans(train_fm, target_col)\n",
    "y_train = X_train.pop(target_col)\n",
    "\n",
    "X_train"
   ]
  },
  {
   "cell_type": "markdown",
   "id": "4faf5ebc",
   "metadata": {},
   "source": [
    "Now, we'll use the feature definitions from the DFS run on the test data, producing the test feature matrix."
   ]
  },
  {
   "cell_type": "code",
   "execution_count": 56,
   "id": "360c8b0b",
   "metadata": {
    "scrolled": true
   },
   "outputs": [
    {
     "data": {
      "text/html": [
       "<div>\n",
       "<style scoped>\n",
       "    .dataframe tbody tr th:only-of-type {\n",
       "        vertical-align: middle;\n",
       "    }\n",
       "\n",
       "    .dataframe tbody tr th {\n",
       "        vertical-align: top;\n",
       "    }\n",
       "\n",
       "    .dataframe thead th {\n",
       "        text-align: right;\n",
       "    }\n",
       "</style>\n",
       "<table border=\"1\" class=\"dataframe\">\n",
       "  <thead>\n",
       "    <tr style=\"text-align: right;\">\n",
       "      <th></th>\n",
       "      <th>HOUR(date)</th>\n",
       "      <th>MONTH(date)</th>\n",
       "      <th>NUMERIC_LAG(date, meantemp, periods=10)</th>\n",
       "      <th>NUMERIC_LAG(date, meantemp, periods=11)</th>\n",
       "      <th>NUMERIC_LAG(date, meantemp, periods=12)</th>\n",
       "      <th>NUMERIC_LAG(date, meantemp, periods=13)</th>\n",
       "      <th>NUMERIC_LAG(date, meantemp, periods=14)</th>\n",
       "      <th>NUMERIC_LAG(date, meantemp, periods=15)</th>\n",
       "      <th>NUMERIC_LAG(date, meantemp, periods=16)</th>\n",
       "      <th>NUMERIC_LAG(date, meantemp, periods=8)</th>\n",
       "      <th>NUMERIC_LAG(date, meantemp, periods=9)</th>\n",
       "      <th>ROLLING_MEAN(date, meantemp, window_length=6, gap=8, min_periods=6)</th>\n",
       "      <th>YEAR(date)</th>\n",
       "    </tr>\n",
       "    <tr>\n",
       "      <th>id</th>\n",
       "      <th></th>\n",
       "      <th></th>\n",
       "      <th></th>\n",
       "      <th></th>\n",
       "      <th></th>\n",
       "      <th></th>\n",
       "      <th></th>\n",
       "      <th></th>\n",
       "      <th></th>\n",
       "      <th></th>\n",
       "      <th></th>\n",
       "      <th></th>\n",
       "      <th></th>\n",
       "    </tr>\n",
       "  </thead>\n",
       "  <tbody>\n",
       "    <tr>\n",
       "      <th>16</th>\n",
       "      <td>0</td>\n",
       "      <td>4</td>\n",
       "      <td>28.133333</td>\n",
       "      <td>26.200000</td>\n",
       "      <td>25.062500</td>\n",
       "      <td>26.625000</td>\n",
       "      <td>27.133333</td>\n",
       "      <td>26.785714</td>\n",
       "      <td>26.187500</td>\n",
       "      <td>24.666667</td>\n",
       "      <td>29.875000</td>\n",
       "      <td>26.760417</td>\n",
       "      <td>2016</td>\n",
       "    </tr>\n",
       "    <tr>\n",
       "      <th>17</th>\n",
       "      <td>0</td>\n",
       "      <td>4</td>\n",
       "      <td>29.875000</td>\n",
       "      <td>28.133333</td>\n",
       "      <td>26.200000</td>\n",
       "      <td>25.062500</td>\n",
       "      <td>26.625000</td>\n",
       "      <td>27.133333</td>\n",
       "      <td>26.785714</td>\n",
       "      <td>26.250000</td>\n",
       "      <td>24.666667</td>\n",
       "      <td>26.697917</td>\n",
       "      <td>2016</td>\n",
       "    </tr>\n",
       "    <tr>\n",
       "      <th>18</th>\n",
       "      <td>0</td>\n",
       "      <td>4</td>\n",
       "      <td>24.666667</td>\n",
       "      <td>29.875000</td>\n",
       "      <td>28.133333</td>\n",
       "      <td>26.200000</td>\n",
       "      <td>25.062500</td>\n",
       "      <td>26.625000</td>\n",
       "      <td>27.133333</td>\n",
       "      <td>25.933333</td>\n",
       "      <td>26.250000</td>\n",
       "      <td>26.843056</td>\n",
       "      <td>2016</td>\n",
       "    </tr>\n",
       "    <tr>\n",
       "      <th>19</th>\n",
       "      <td>0</td>\n",
       "      <td>4</td>\n",
       "      <td>26.250000</td>\n",
       "      <td>24.666667</td>\n",
       "      <td>29.875000</td>\n",
       "      <td>28.133333</td>\n",
       "      <td>26.200000</td>\n",
       "      <td>25.062500</td>\n",
       "      <td>26.625000</td>\n",
       "      <td>27.125000</td>\n",
       "      <td>25.933333</td>\n",
       "      <td>26.997222</td>\n",
       "      <td>2016</td>\n",
       "    </tr>\n",
       "    <tr>\n",
       "      <th>20</th>\n",
       "      <td>0</td>\n",
       "      <td>4</td>\n",
       "      <td>25.933333</td>\n",
       "      <td>26.250000</td>\n",
       "      <td>24.666667</td>\n",
       "      <td>29.875000</td>\n",
       "      <td>28.133333</td>\n",
       "      <td>26.200000</td>\n",
       "      <td>25.062500</td>\n",
       "      <td>29.571429</td>\n",
       "      <td>27.125000</td>\n",
       "      <td>27.236905</td>\n",
       "      <td>2016</td>\n",
       "    </tr>\n",
       "    <tr>\n",
       "      <th>...</th>\n",
       "      <td>...</td>\n",
       "      <td>...</td>\n",
       "      <td>...</td>\n",
       "      <td>...</td>\n",
       "      <td>...</td>\n",
       "      <td>...</td>\n",
       "      <td>...</td>\n",
       "      <td>...</td>\n",
       "      <td>...</td>\n",
       "      <td>...</td>\n",
       "      <td>...</td>\n",
       "      <td>...</td>\n",
       "      <td>...</td>\n",
       "    </tr>\n",
       "    <tr>\n",
       "      <th>285</th>\n",
       "      <td>0</td>\n",
       "      <td>12</td>\n",
       "      <td>16.083333</td>\n",
       "      <td>17.500000</td>\n",
       "      <td>15.833333</td>\n",
       "      <td>18.166667</td>\n",
       "      <td>18.555556</td>\n",
       "      <td>19.050000</td>\n",
       "      <td>19.909091</td>\n",
       "      <td>19.800000</td>\n",
       "      <td>17.857143</td>\n",
       "      <td>17.540079</td>\n",
       "      <td>2016</td>\n",
       "    </tr>\n",
       "    <tr>\n",
       "      <th>286</th>\n",
       "      <td>0</td>\n",
       "      <td>12</td>\n",
       "      <td>17.857143</td>\n",
       "      <td>16.083333</td>\n",
       "      <td>17.500000</td>\n",
       "      <td>15.833333</td>\n",
       "      <td>18.166667</td>\n",
       "      <td>18.555556</td>\n",
       "      <td>19.050000</td>\n",
       "      <td>18.050000</td>\n",
       "      <td>19.800000</td>\n",
       "      <td>17.520635</td>\n",
       "      <td>2016</td>\n",
       "    </tr>\n",
       "    <tr>\n",
       "      <th>287</th>\n",
       "      <td>0</td>\n",
       "      <td>12</td>\n",
       "      <td>19.800000</td>\n",
       "      <td>17.857143</td>\n",
       "      <td>16.083333</td>\n",
       "      <td>17.500000</td>\n",
       "      <td>15.833333</td>\n",
       "      <td>18.166667</td>\n",
       "      <td>18.555556</td>\n",
       "      <td>17.285714</td>\n",
       "      <td>18.050000</td>\n",
       "      <td>17.762698</td>\n",
       "      <td>2016</td>\n",
       "    </tr>\n",
       "    <tr>\n",
       "      <th>288</th>\n",
       "      <td>0</td>\n",
       "      <td>12</td>\n",
       "      <td>18.050000</td>\n",
       "      <td>19.800000</td>\n",
       "      <td>17.857143</td>\n",
       "      <td>16.083333</td>\n",
       "      <td>17.500000</td>\n",
       "      <td>15.833333</td>\n",
       "      <td>18.166667</td>\n",
       "      <td>15.550000</td>\n",
       "      <td>17.285714</td>\n",
       "      <td>17.437698</td>\n",
       "      <td>2016</td>\n",
       "    </tr>\n",
       "    <tr>\n",
       "      <th>289</th>\n",
       "      <td>0</td>\n",
       "      <td>1</td>\n",
       "      <td>17.285714</td>\n",
       "      <td>18.050000</td>\n",
       "      <td>19.800000</td>\n",
       "      <td>17.857143</td>\n",
       "      <td>16.083333</td>\n",
       "      <td>17.500000</td>\n",
       "      <td>15.833333</td>\n",
       "      <td>17.318182</td>\n",
       "      <td>15.550000</td>\n",
       "      <td>17.643506</td>\n",
       "      <td>2017</td>\n",
       "    </tr>\n",
       "  </tbody>\n",
       "</table>\n",
       "<p>274 rows × 13 columns</p>\n",
       "</div>"
      ],
      "text/plain": [
       "    HOUR(date) MONTH(date)  NUMERIC_LAG(date, meantemp, periods=10)  \\\n",
       "id                                                                    \n",
       "16           0           4                                28.133333   \n",
       "17           0           4                                29.875000   \n",
       "18           0           4                                24.666667   \n",
       "19           0           4                                26.250000   \n",
       "20           0           4                                25.933333   \n",
       "..         ...         ...                                      ...   \n",
       "285          0          12                                16.083333   \n",
       "286          0          12                                17.857143   \n",
       "287          0          12                                19.800000   \n",
       "288          0          12                                18.050000   \n",
       "289          0           1                                17.285714   \n",
       "\n",
       "     NUMERIC_LAG(date, meantemp, periods=11)  \\\n",
       "id                                             \n",
       "16                                 26.200000   \n",
       "17                                 28.133333   \n",
       "18                                 29.875000   \n",
       "19                                 24.666667   \n",
       "20                                 26.250000   \n",
       "..                                       ...   \n",
       "285                                17.500000   \n",
       "286                                16.083333   \n",
       "287                                17.857143   \n",
       "288                                19.800000   \n",
       "289                                18.050000   \n",
       "\n",
       "     NUMERIC_LAG(date, meantemp, periods=12)  \\\n",
       "id                                             \n",
       "16                                 25.062500   \n",
       "17                                 26.200000   \n",
       "18                                 28.133333   \n",
       "19                                 29.875000   \n",
       "20                                 24.666667   \n",
       "..                                       ...   \n",
       "285                                15.833333   \n",
       "286                                17.500000   \n",
       "287                                16.083333   \n",
       "288                                17.857143   \n",
       "289                                19.800000   \n",
       "\n",
       "     NUMERIC_LAG(date, meantemp, periods=13)  \\\n",
       "id                                             \n",
       "16                                 26.625000   \n",
       "17                                 25.062500   \n",
       "18                                 26.200000   \n",
       "19                                 28.133333   \n",
       "20                                 29.875000   \n",
       "..                                       ...   \n",
       "285                                18.166667   \n",
       "286                                15.833333   \n",
       "287                                17.500000   \n",
       "288                                16.083333   \n",
       "289                                17.857143   \n",
       "\n",
       "     NUMERIC_LAG(date, meantemp, periods=14)  \\\n",
       "id                                             \n",
       "16                                 27.133333   \n",
       "17                                 26.625000   \n",
       "18                                 25.062500   \n",
       "19                                 26.200000   \n",
       "20                                 28.133333   \n",
       "..                                       ...   \n",
       "285                                18.555556   \n",
       "286                                18.166667   \n",
       "287                                15.833333   \n",
       "288                                17.500000   \n",
       "289                                16.083333   \n",
       "\n",
       "     NUMERIC_LAG(date, meantemp, periods=15)  \\\n",
       "id                                             \n",
       "16                                 26.785714   \n",
       "17                                 27.133333   \n",
       "18                                 26.625000   \n",
       "19                                 25.062500   \n",
       "20                                 26.200000   \n",
       "..                                       ...   \n",
       "285                                19.050000   \n",
       "286                                18.555556   \n",
       "287                                18.166667   \n",
       "288                                15.833333   \n",
       "289                                17.500000   \n",
       "\n",
       "     NUMERIC_LAG(date, meantemp, periods=16)  \\\n",
       "id                                             \n",
       "16                                 26.187500   \n",
       "17                                 26.785714   \n",
       "18                                 27.133333   \n",
       "19                                 26.625000   \n",
       "20                                 25.062500   \n",
       "..                                       ...   \n",
       "285                                19.909091   \n",
       "286                                19.050000   \n",
       "287                                18.555556   \n",
       "288                                18.166667   \n",
       "289                                15.833333   \n",
       "\n",
       "     NUMERIC_LAG(date, meantemp, periods=8)  \\\n",
       "id                                            \n",
       "16                                24.666667   \n",
       "17                                26.250000   \n",
       "18                                25.933333   \n",
       "19                                27.125000   \n",
       "20                                29.571429   \n",
       "..                                      ...   \n",
       "285                               19.800000   \n",
       "286                               18.050000   \n",
       "287                               17.285714   \n",
       "288                               15.550000   \n",
       "289                               17.318182   \n",
       "\n",
       "     NUMERIC_LAG(date, meantemp, periods=9)  \\\n",
       "id                                            \n",
       "16                                29.875000   \n",
       "17                                24.666667   \n",
       "18                                26.250000   \n",
       "19                                25.933333   \n",
       "20                                27.125000   \n",
       "..                                      ...   \n",
       "285                               17.857143   \n",
       "286                               19.800000   \n",
       "287                               18.050000   \n",
       "288                               17.285714   \n",
       "289                               15.550000   \n",
       "\n",
       "     ROLLING_MEAN(date, meantemp, window_length=6, gap=8, min_periods=6)  \\\n",
       "id                                                                         \n",
       "16                                           26.760417                     \n",
       "17                                           26.697917                     \n",
       "18                                           26.843056                     \n",
       "19                                           26.997222                     \n",
       "20                                           27.236905                     \n",
       "..                                                 ...                     \n",
       "285                                          17.540079                     \n",
       "286                                          17.520635                     \n",
       "287                                          17.762698                     \n",
       "288                                          17.437698                     \n",
       "289                                          17.643506                     \n",
       "\n",
       "    YEAR(date)  \n",
       "id              \n",
       "16        2016  \n",
       "17        2016  \n",
       "18        2016  \n",
       "19        2016  \n",
       "20        2016  \n",
       "..         ...  \n",
       "285       2016  \n",
       "286       2016  \n",
       "287       2016  \n",
       "288       2016  \n",
       "289       2017  \n",
       "\n",
       "[274 rows x 13 columns]"
      ]
     },
     "execution_count": 56,
     "metadata": {},
     "output_type": "execute_result"
    }
   ],
   "source": [
    "test_fm = ft.calculate_feature_matrix(features, test_es)\n",
    "\n",
    "X_test = remove_nans(test_fm, target_col)\n",
    "y_test = X_test.pop(target_col)\n",
    "\n",
    "X_test"
   ]
  },
  {
   "cell_type": "markdown",
   "id": "d4d7945d",
   "metadata": {},
   "source": [
    "### Model Building"
   ]
  },
  {
   "cell_type": "code",
   "execution_count": 58,
   "id": "3e77b095",
   "metadata": {},
   "outputs": [
    {
     "name": "stdout",
     "output_type": "stream",
     "text": [
      "Median Abs Error: 1.60\n",
      "1: NUMERIC_LAG(date, meantemp, periods=8) [0.454]\n",
      "2: ROLLING_MEAN(date, meantemp, window_length=6, gap=8, min_periods=6) [0.350]\n",
      "3: NUMERIC_LAG(date, meantemp, periods=9) [0.062]\n",
      "4: MONTH(date) [0.057]\n",
      "5: NUMERIC_LAG(date, meantemp, periods=10) [0.015]\n",
      "6: NUMERIC_LAG(date, meantemp, periods=16) [0.011]\n",
      "7: NUMERIC_LAG(date, meantemp, periods=15) [0.010]\n",
      "8: NUMERIC_LAG(date, meantemp, periods=13) [0.010]\n",
      "9: NUMERIC_LAG(date, meantemp, periods=14) [0.008]\n",
      "10: NUMERIC_LAG(date, meantemp, periods=12) [0.008]\n",
      "11: NUMERIC_LAG(date, meantemp, periods=11) [0.008]\n",
      "12: YEAR(date) [0.006]\n",
      "13: HOUR(date) [0.000]\n",
      "-----\n",
      "\n"
     ]
    }
   ],
   "source": [
    "reg = RandomForestRegressor(n_estimators=100)\n",
    "reg.fit(X_train, y_train)\n",
    "\n",
    "preds = reg.predict(X_test)\n",
    "scores = median_absolute_error(preds, y_test)\n",
    "print('Median Abs Error: {:.2f}'.format(scores))\n",
    "\n",
    "high_imp_feats = feature_importances(X_train, reg, feats=100)\n"
   ]
  },
  {
   "cell_type": "markdown",
   "id": "e16057c8",
   "metadata": {},
   "source": [
    "## Use Time Series Regression Problem From EvalML\n",
    "We will now use EvalML to build a model that is very similar to the one we just built with the help of Featuretools. EvalML's time series regression problem type does the same feature engineering that we just did under the hood. That, along with some other optimizations and the fact that we run multiple pipelines shows the power of EvalML.\n",
    "\n",
    "### Data Splitting\n",
    "\n",
    "Here, we can use EvalML's time series data splitting capabilities, which will leave us with data that has its time index in tact."
   ]
  },
  {
   "cell_type": "code",
   "execution_count": 59,
   "id": "61a1dd8a",
   "metadata": {
    "scrolled": true
   },
   "outputs": [
    {
     "data": {
      "text/html": [
       "<div>\n",
       "<style scoped>\n",
       "    .dataframe tbody tr th:only-of-type {\n",
       "        vertical-align: middle;\n",
       "    }\n",
       "\n",
       "    .dataframe tbody tr th {\n",
       "        vertical-align: top;\n",
       "    }\n",
       "\n",
       "    .dataframe thead th {\n",
       "        text-align: right;\n",
       "    }\n",
       "</style>\n",
       "<table border=\"1\" class=\"dataframe\">\n",
       "  <thead>\n",
       "    <tr style=\"text-align: right;\">\n",
       "      <th></th>\n",
       "      <th>date</th>\n",
       "    </tr>\n",
       "  </thead>\n",
       "  <tbody>\n",
       "    <tr>\n",
       "      <th>0</th>\n",
       "      <td>2013-01-01</td>\n",
       "    </tr>\n",
       "    <tr>\n",
       "      <th>1</th>\n",
       "      <td>2013-01-02</td>\n",
       "    </tr>\n",
       "    <tr>\n",
       "      <th>2</th>\n",
       "      <td>2013-01-03</td>\n",
       "    </tr>\n",
       "    <tr>\n",
       "      <th>3</th>\n",
       "      <td>2013-01-04</td>\n",
       "    </tr>\n",
       "    <tr>\n",
       "      <th>4</th>\n",
       "      <td>2013-01-05</td>\n",
       "    </tr>\n",
       "    <tr>\n",
       "      <th>...</th>\n",
       "      <td>...</td>\n",
       "    </tr>\n",
       "    <tr>\n",
       "      <th>1164</th>\n",
       "      <td>2016-03-10</td>\n",
       "    </tr>\n",
       "    <tr>\n",
       "      <th>1165</th>\n",
       "      <td>2016-03-11</td>\n",
       "    </tr>\n",
       "    <tr>\n",
       "      <th>1166</th>\n",
       "      <td>2016-03-12</td>\n",
       "    </tr>\n",
       "    <tr>\n",
       "      <th>1167</th>\n",
       "      <td>2016-03-13</td>\n",
       "    </tr>\n",
       "    <tr>\n",
       "      <th>1168</th>\n",
       "      <td>2016-03-14</td>\n",
       "    </tr>\n",
       "  </tbody>\n",
       "</table>\n",
       "<p>1169 rows × 1 columns</p>\n",
       "</div>"
      ],
      "text/plain": [
       "           date\n",
       "0    2013-01-01\n",
       "1    2013-01-02\n",
       "2    2013-01-03\n",
       "3    2013-01-04\n",
       "4    2013-01-05\n",
       "...         ...\n",
       "1164 2016-03-10\n",
       "1165 2016-03-11\n",
       "1166 2016-03-12\n",
       "1167 2016-03-13\n",
       "1168 2016-03-14\n",
       "\n",
       "[1169 rows x 1 columns]"
      ]
     },
     "execution_count": 59,
     "metadata": {},
     "output_type": "execute_result"
    }
   ],
   "source": [
    "import evalml\n",
    "\n",
    "univariate_df = df[[time_index, target_col]]\n",
    "\n",
    "X = univariate_df\n",
    "y = univariate_df.pop(target_col)\n",
    "\n",
    "X_train, X_test, y_train, y_test = evalml.preprocessing.split_data(X, y,\n",
    "                                                                   problem_type='time series regression',\n",
    "                                                                   test_size=.2,\n",
    "                                                                  problem_configuration={\"gap\": gap, \n",
    "                                                                                         \"max_delay\": max_delay,\n",
    "                                                                                         \"forecast_horizon\": forecast_horizon,\n",
    "                                                                                         \"time_index\": time_index},)\n",
    "\n",
    "X_train"
   ]
  },
  {
   "cell_type": "markdown",
   "id": "9d83fdd2",
   "metadata": {},
   "source": [
    "### Model Building \n",
    "Now we can perform AutoMLSearch, which will provide us with six pipelines, one of which is the same as our baseline pipeline from above! "
   ]
  },
  {
   "cell_type": "code",
   "execution_count": 33,
   "id": "22e17b0a",
   "metadata": {},
   "outputs": [
    {
     "name": "stderr",
     "output_type": "stream",
     "text": [
      "Time series support in evalml is still in beta, which means we are still actively building its core features. Please be mindful of that when running search().\n",
      "Objective did not converge. You might want to increase the number of iterations, check the scale of the features or consider increasing regularisation. Duality gap: 7.504e+02, tolerance: 1.058e+00\n",
      "Objective did not converge. You might want to increase the number of iterations, check the scale of the features or consider increasing regularisation. Duality gap: 1.686e+03, tolerance: 3.066e+00\n",
      "Objective did not converge. You might want to increase the number of iterations, check the scale of the features or consider increasing regularisation. Duality gap: 2.828e+03, tolerance: 4.692e+00\n",
      "Objective did not converge. You might want to increase the number of iterations, check the scale of the features or consider increasing regularisation. Duality gap: 3.666e+03, tolerance: 6.109e+00\n"
     ]
    }
   ],
   "source": [
    "from evalml import AutoMLSearch\n",
    "\n",
    "automl = AutoMLSearch(X_train, y_train, problem_type=\"time series regression\",\n",
    "                      max_batches=1,\n",
    "                      problem_configuration={\"gap\": gap, \n",
    "                                             \"max_delay\": max_delay,\n",
    "                                             \"forecast_horizon\": forecast_horizon, \n",
    "                                             \"time_index\": time_index},\n",
    "                      allowed_model_families=[\"xgboost\", \"random_forest\", \"linear_model\", \"extra_trees\",\n",
    "                                              \"decision_tree\"],\n",
    "                      objective='MedianAE'\n",
    "                      )\n",
    "automl.search()"
   ]
  },
  {
   "cell_type": "code",
   "execution_count": 35,
   "id": "b944a534",
   "metadata": {},
   "outputs": [
    {
     "data": {
      "text/html": [
       "<div>\n",
       "<style scoped>\n",
       "    .dataframe tbody tr th:only-of-type {\n",
       "        vertical-align: middle;\n",
       "    }\n",
       "\n",
       "    .dataframe tbody tr th {\n",
       "        vertical-align: top;\n",
       "    }\n",
       "\n",
       "    .dataframe thead th {\n",
       "        text-align: right;\n",
       "    }\n",
       "</style>\n",
       "<table border=\"1\" class=\"dataframe\">\n",
       "  <thead>\n",
       "    <tr style=\"text-align: right;\">\n",
       "      <th></th>\n",
       "      <th>id</th>\n",
       "      <th>pipeline_name</th>\n",
       "      <th>search_order</th>\n",
       "      <th>mean_cv_score</th>\n",
       "      <th>standard_deviation_cv_score</th>\n",
       "      <th>validation_score</th>\n",
       "      <th>percent_better_than_baseline</th>\n",
       "      <th>high_variance_cv</th>\n",
       "      <th>parameters</th>\n",
       "    </tr>\n",
       "  </thead>\n",
       "  <tbody>\n",
       "    <tr>\n",
       "      <th>0</th>\n",
       "      <td>1</td>\n",
       "      <td>Elastic Net Regressor w/ Imputer + Time Series...</td>\n",
       "      <td>1</td>\n",
       "      <td>1.735829</td>\n",
       "      <td>0.295337</td>\n",
       "      <td>1.735829</td>\n",
       "      <td>9.435011</td>\n",
       "      <td>False</td>\n",
       "      <td>{'Imputer': {'categorical_impute_strategy': 'm...</td>\n",
       "    </tr>\n",
       "    <tr>\n",
       "      <th>1</th>\n",
       "      <td>5</td>\n",
       "      <td>Extra Trees Regressor w/ Imputer + Time Series...</td>\n",
       "      <td>5</td>\n",
       "      <td>1.798169</td>\n",
       "      <td>0.409076</td>\n",
       "      <td>1.798169</td>\n",
       "      <td>6.182511</td>\n",
       "      <td>False</td>\n",
       "      <td>{'Imputer': {'categorical_impute_strategy': 'm...</td>\n",
       "    </tr>\n",
       "    <tr>\n",
       "      <th>2</th>\n",
       "      <td>3</td>\n",
       "      <td>Random Forest Regressor w/ Imputer + Time Seri...</td>\n",
       "      <td>3</td>\n",
       "      <td>1.826079</td>\n",
       "      <td>0.432566</td>\n",
       "      <td>1.826079</td>\n",
       "      <td>4.726298</td>\n",
       "      <td>False</td>\n",
       "      <td>{'Imputer': {'categorical_impute_strategy': 'm...</td>\n",
       "    </tr>\n",
       "    <tr>\n",
       "      <th>3</th>\n",
       "      <td>0</td>\n",
       "      <td>Time Series Baseline Regression Pipeline</td>\n",
       "      <td>0</td>\n",
       "      <td>1.916667</td>\n",
       "      <td>0.314576</td>\n",
       "      <td>1.916667</td>\n",
       "      <td>0.000000</td>\n",
       "      <td>False</td>\n",
       "      <td>{'Time Series Featurizer': {'time_index': 'dat...</td>\n",
       "    </tr>\n",
       "    <tr>\n",
       "      <th>4</th>\n",
       "      <td>2</td>\n",
       "      <td>XGBoost Regressor w/ Imputer + Time Series Fea...</td>\n",
       "      <td>2</td>\n",
       "      <td>1.976012</td>\n",
       "      <td>0.429196</td>\n",
       "      <td>1.976012</td>\n",
       "      <td>-3.096295</td>\n",
       "      <td>False</td>\n",
       "      <td>{'Imputer': {'categorical_impute_strategy': 'm...</td>\n",
       "    </tr>\n",
       "    <tr>\n",
       "      <th>5</th>\n",
       "      <td>4</td>\n",
       "      <td>Decision Tree Regressor w/ Imputer + Time Seri...</td>\n",
       "      <td>4</td>\n",
       "      <td>2.134427</td>\n",
       "      <td>0.469706</td>\n",
       "      <td>2.134427</td>\n",
       "      <td>-11.361431</td>\n",
       "      <td>False</td>\n",
       "      <td>{'Imputer': {'categorical_impute_strategy': 'm...</td>\n",
       "    </tr>\n",
       "  </tbody>\n",
       "</table>\n",
       "</div>"
      ],
      "text/plain": [
       "   id                                      pipeline_name  search_order  \\\n",
       "0   1  Elastic Net Regressor w/ Imputer + Time Series...             1   \n",
       "1   5  Extra Trees Regressor w/ Imputer + Time Series...             5   \n",
       "2   3  Random Forest Regressor w/ Imputer + Time Seri...             3   \n",
       "3   0           Time Series Baseline Regression Pipeline             0   \n",
       "4   2  XGBoost Regressor w/ Imputer + Time Series Fea...             2   \n",
       "5   4  Decision Tree Regressor w/ Imputer + Time Seri...             4   \n",
       "\n",
       "   mean_cv_score  standard_deviation_cv_score  validation_score  \\\n",
       "0       1.735829                     0.295337          1.735829   \n",
       "1       1.798169                     0.409076          1.798169   \n",
       "2       1.826079                     0.432566          1.826079   \n",
       "3       1.916667                     0.314576          1.916667   \n",
       "4       1.976012                     0.429196          1.976012   \n",
       "5       2.134427                     0.469706          2.134427   \n",
       "\n",
       "   percent_better_than_baseline  high_variance_cv  \\\n",
       "0                      9.435011             False   \n",
       "1                      6.182511             False   \n",
       "2                      4.726298             False   \n",
       "3                      0.000000             False   \n",
       "4                     -3.096295             False   \n",
       "5                    -11.361431             False   \n",
       "\n",
       "                                          parameters  \n",
       "0  {'Imputer': {'categorical_impute_strategy': 'm...  \n",
       "1  {'Imputer': {'categorical_impute_strategy': 'm...  \n",
       "2  {'Imputer': {'categorical_impute_strategy': 'm...  \n",
       "3  {'Time Series Featurizer': {'time_index': 'dat...  \n",
       "4  {'Imputer': {'categorical_impute_strategy': 'm...  \n",
       "5  {'Imputer': {'categorical_impute_strategy': 'm...  "
      ]
     },
     "execution_count": 35,
     "metadata": {},
     "output_type": "execute_result"
    }
   ],
   "source": [
    "automl.rankings"
   ]
  },
  {
   "cell_type": "code",
   "execution_count": 36,
   "id": "86a2d109",
   "metadata": {
    "scrolled": true
   },
   "outputs": [
    {
     "data": {
      "text/html": [
       "<div>\n",
       "<style scoped>\n",
       "    .dataframe tbody tr th:only-of-type {\n",
       "        vertical-align: middle;\n",
       "    }\n",
       "\n",
       "    .dataframe tbody tr th {\n",
       "        vertical-align: top;\n",
       "    }\n",
       "\n",
       "    .dataframe thead th {\n",
       "        text-align: right;\n",
       "    }\n",
       "</style>\n",
       "<table border=\"1\" class=\"dataframe\">\n",
       "  <thead>\n",
       "    <tr style=\"text-align: right;\">\n",
       "      <th></th>\n",
       "      <th>feature</th>\n",
       "      <th>importance</th>\n",
       "    </tr>\n",
       "  </thead>\n",
       "  <tbody>\n",
       "    <tr>\n",
       "      <th>0</th>\n",
       "      <td>target_rolling_mean</td>\n",
       "      <td>-4.902489</td>\n",
       "    </tr>\n",
       "    <tr>\n",
       "      <th>1</th>\n",
       "      <td>target_delay_8</td>\n",
       "      <td>3.372342</td>\n",
       "    </tr>\n",
       "    <tr>\n",
       "      <th>2</th>\n",
       "      <td>target_delay_11</td>\n",
       "      <td>1.873694</td>\n",
       "    </tr>\n",
       "    <tr>\n",
       "      <th>3</th>\n",
       "      <td>date_month</td>\n",
       "      <td>-1.457329</td>\n",
       "    </tr>\n",
       "    <tr>\n",
       "      <th>4</th>\n",
       "      <td>target_delay_12</td>\n",
       "      <td>1.328903</td>\n",
       "    </tr>\n",
       "    <tr>\n",
       "      <th>5</th>\n",
       "      <td>target_delay_17</td>\n",
       "      <td>1.252257</td>\n",
       "    </tr>\n",
       "    <tr>\n",
       "      <th>6</th>\n",
       "      <td>target_delay_9</td>\n",
       "      <td>1.238030</td>\n",
       "    </tr>\n",
       "    <tr>\n",
       "      <th>7</th>\n",
       "      <td>target_delay_10</td>\n",
       "      <td>1.130770</td>\n",
       "    </tr>\n",
       "    <tr>\n",
       "      <th>8</th>\n",
       "      <td>target_delay_13</td>\n",
       "      <td>1.018069</td>\n",
       "    </tr>\n",
       "    <tr>\n",
       "      <th>9</th>\n",
       "      <td>target_delay_15</td>\n",
       "      <td>0.599405</td>\n",
       "    </tr>\n",
       "    <tr>\n",
       "      <th>10</th>\n",
       "      <td>target_delay_14</td>\n",
       "      <td>0.459829</td>\n",
       "    </tr>\n",
       "    <tr>\n",
       "      <th>11</th>\n",
       "      <td>target_delay_16</td>\n",
       "      <td>0.202317</td>\n",
       "    </tr>\n",
       "    <tr>\n",
       "      <th>12</th>\n",
       "      <td>date_year</td>\n",
       "      <td>-0.057515</td>\n",
       "    </tr>\n",
       "    <tr>\n",
       "      <th>13</th>\n",
       "      <td>date_day_of_week</td>\n",
       "      <td>-0.017602</td>\n",
       "    </tr>\n",
       "    <tr>\n",
       "      <th>14</th>\n",
       "      <td>date_hour</td>\n",
       "      <td>0.000000</td>\n",
       "    </tr>\n",
       "  </tbody>\n",
       "</table>\n",
       "</div>"
      ],
      "text/plain": [
       "                feature  importance\n",
       "0   target_rolling_mean   -4.902489\n",
       "1        target_delay_8    3.372342\n",
       "2       target_delay_11    1.873694\n",
       "3            date_month   -1.457329\n",
       "4       target_delay_12    1.328903\n",
       "5       target_delay_17    1.252257\n",
       "6        target_delay_9    1.238030\n",
       "7       target_delay_10    1.130770\n",
       "8       target_delay_13    1.018069\n",
       "9       target_delay_15    0.599405\n",
       "10      target_delay_14    0.459829\n",
       "11      target_delay_16    0.202317\n",
       "12            date_year   -0.057515\n",
       "13     date_day_of_week   -0.017602\n",
       "14            date_hour    0.000000"
      ]
     },
     "execution_count": 36,
     "metadata": {},
     "output_type": "execute_result"
    }
   ],
   "source": [
    "pipeline = automl.best_pipeline\n",
    "pipeline.feature_importance"
   ]
  },
  {
   "cell_type": "markdown",
   "id": "bb952824",
   "metadata": {},
   "source": [
    "Look at how similar the order of features in the feature importance dataframe are!\n",
    "\n",
    "Now, we'll explore the pipelines a bit more. First, we'll look at the best pipeline and show a graph of the predictions it makes over time. Then we'll do the same for the baseline pipeline. "
   ]
  },
  {
   "cell_type": "code",
   "execution_count": 62,
   "id": "20751c97",
   "metadata": {},
   "outputs": [
    {
     "name": "stderr",
     "output_type": "stream",
     "text": [
      "/Users/tamar.grey/.pyenv/versions/3.8.2/envs/evalml/lib/python3.8/site-packages/sklearn/linear_model/_coordinate_descent.py:647: ConvergenceWarning:\n",
      "\n",
      "Objective did not converge. You might want to increase the number of iterations, check the scale of the features or consider increasing regularisation. Duality gap: 3.666e+03, tolerance: 6.109e+00\n",
      "\n"
     ]
    },
    {
     "data": {
      "text/plain": [
       "1.4104719198005"
      ]
     },
     "execution_count": 62,
     "metadata": {},
     "output_type": "execute_result"
    }
   ],
   "source": [
    "pipeline.fit(X_train, y_train)\n",
    "\n",
    "best_pipeline_score = pipeline.score(X_test, y_test, ['MedianAE'], X_train, y_train)['MedianAE']\n",
    "best_pipeline_score"
   ]
  },
  {
   "cell_type": "code",
   "execution_count": 63,
   "id": "114c7f86",
   "metadata": {},
   "outputs": [
    {
     "data": {
      "application/vnd.plotly.v1+json": {
       "config": {
        "plotlyServerURL": "https://plot.ly"
       },
       "data": [
        {
         "line": {
          "color": "#1f77b4"
         },
         "mode": "lines+markers",
         "name": "Target",
         "type": "scatter",
         "x": [
          "2016-03-15T00:00:00",
          "2016-03-16T00:00:00",
          "2016-03-17T00:00:00",
          "2016-03-18T00:00:00",
          "2016-03-19T00:00:00",
          "2016-03-20T00:00:00",
          "2016-03-21T00:00:00",
          "2016-03-22T00:00:00",
          "2016-03-23T00:00:00",
          "2016-03-24T00:00:00",
          "2016-03-25T00:00:00",
          "2016-03-26T00:00:00",
          "2016-03-27T00:00:00",
          "2016-03-28T00:00:00",
          "2016-03-29T00:00:00",
          "2016-03-30T00:00:00",
          "2016-03-31T00:00:00",
          "2016-04-01T00:00:00",
          "2016-04-02T00:00:00",
          "2016-04-03T00:00:00",
          "2016-04-04T00:00:00",
          "2016-04-05T00:00:00",
          "2016-04-06T00:00:00",
          "2016-04-07T00:00:00",
          "2016-04-08T00:00:00",
          "2016-04-09T00:00:00",
          "2016-04-10T00:00:00",
          "2016-04-11T00:00:00",
          "2016-04-12T00:00:00",
          "2016-04-13T00:00:00",
          "2016-04-14T00:00:00",
          "2016-04-15T00:00:00",
          "2016-04-16T00:00:00",
          "2016-04-17T00:00:00",
          "2016-04-18T00:00:00",
          "2016-04-19T00:00:00",
          "2016-04-20T00:00:00",
          "2016-04-21T00:00:00",
          "2016-04-22T00:00:00",
          "2016-04-23T00:00:00",
          "2016-04-24T00:00:00",
          "2016-04-25T00:00:00",
          "2016-04-26T00:00:00",
          "2016-04-27T00:00:00",
          "2016-04-28T00:00:00",
          "2016-04-29T00:00:00",
          "2016-04-30T00:00:00",
          "2016-05-01T00:00:00",
          "2016-05-02T00:00:00",
          "2016-05-03T00:00:00",
          "2016-05-04T00:00:00",
          "2016-05-05T00:00:00",
          "2016-05-06T00:00:00",
          "2016-05-07T00:00:00",
          "2016-05-08T00:00:00",
          "2016-05-09T00:00:00",
          "2016-05-10T00:00:00",
          "2016-05-11T00:00:00",
          "2016-05-12T00:00:00",
          "2016-05-13T00:00:00",
          "2016-05-14T00:00:00",
          "2016-05-15T00:00:00",
          "2016-05-16T00:00:00",
          "2016-05-17T00:00:00",
          "2016-05-18T00:00:00",
          "2016-05-19T00:00:00",
          "2016-05-20T00:00:00",
          "2016-05-21T00:00:00",
          "2016-05-22T00:00:00",
          "2016-05-23T00:00:00",
          "2016-05-24T00:00:00",
          "2016-05-25T00:00:00",
          "2016-05-26T00:00:00",
          "2016-05-27T00:00:00",
          "2016-05-28T00:00:00",
          "2016-05-29T00:00:00",
          "2016-05-30T00:00:00",
          "2016-05-31T00:00:00",
          "2016-06-01T00:00:00",
          "2016-06-02T00:00:00",
          "2016-06-03T00:00:00",
          "2016-06-04T00:00:00",
          "2016-06-05T00:00:00",
          "2016-06-06T00:00:00",
          "2016-06-07T00:00:00",
          "2016-06-08T00:00:00",
          "2016-06-09T00:00:00",
          "2016-06-10T00:00:00",
          "2016-06-11T00:00:00",
          "2016-06-12T00:00:00",
          "2016-06-13T00:00:00",
          "2016-06-14T00:00:00",
          "2016-06-15T00:00:00",
          "2016-06-16T00:00:00",
          "2016-06-17T00:00:00",
          "2016-06-18T00:00:00",
          "2016-06-19T00:00:00",
          "2016-06-20T00:00:00",
          "2016-06-21T00:00:00",
          "2016-06-22T00:00:00",
          "2016-06-23T00:00:00",
          "2016-06-24T00:00:00",
          "2016-06-25T00:00:00",
          "2016-06-26T00:00:00",
          "2016-06-27T00:00:00",
          "2016-06-28T00:00:00",
          "2016-06-29T00:00:00",
          "2016-06-30T00:00:00",
          "2016-07-01T00:00:00",
          "2016-07-02T00:00:00",
          "2016-07-03T00:00:00",
          "2016-07-04T00:00:00",
          "2016-07-05T00:00:00",
          "2016-07-06T00:00:00",
          "2016-07-07T00:00:00",
          "2016-07-08T00:00:00",
          "2016-07-09T00:00:00",
          "2016-07-10T00:00:00",
          "2016-07-11T00:00:00",
          "2016-07-12T00:00:00",
          "2016-07-13T00:00:00",
          "2016-07-14T00:00:00",
          "2016-07-15T00:00:00",
          "2016-07-16T00:00:00",
          "2016-07-17T00:00:00",
          "2016-07-18T00:00:00",
          "2016-07-19T00:00:00",
          "2016-07-20T00:00:00",
          "2016-07-21T00:00:00",
          "2016-07-22T00:00:00",
          "2016-07-23T00:00:00",
          "2016-07-24T00:00:00",
          "2016-07-25T00:00:00",
          "2016-07-26T00:00:00",
          "2016-07-27T00:00:00",
          "2016-07-28T00:00:00",
          "2016-07-29T00:00:00",
          "2016-07-30T00:00:00",
          "2016-07-31T00:00:00",
          "2016-08-01T00:00:00",
          "2016-08-02T00:00:00",
          "2016-08-03T00:00:00",
          "2016-08-04T00:00:00",
          "2016-08-05T00:00:00",
          "2016-08-06T00:00:00",
          "2016-08-07T00:00:00",
          "2016-08-08T00:00:00",
          "2016-08-09T00:00:00",
          "2016-08-10T00:00:00",
          "2016-08-11T00:00:00",
          "2016-08-12T00:00:00",
          "2016-08-13T00:00:00",
          "2016-08-14T00:00:00",
          "2016-08-15T00:00:00",
          "2016-08-16T00:00:00",
          "2016-08-17T00:00:00",
          "2016-08-18T00:00:00",
          "2016-08-19T00:00:00",
          "2016-08-20T00:00:00",
          "2016-08-21T00:00:00",
          "2016-08-22T00:00:00",
          "2016-08-23T00:00:00",
          "2016-08-24T00:00:00",
          "2016-08-25T00:00:00",
          "2016-08-26T00:00:00",
          "2016-08-27T00:00:00",
          "2016-08-28T00:00:00",
          "2016-08-29T00:00:00",
          "2016-08-30T00:00:00",
          "2016-08-31T00:00:00",
          "2016-09-01T00:00:00",
          "2016-09-02T00:00:00",
          "2016-09-03T00:00:00",
          "2016-09-04T00:00:00",
          "2016-09-05T00:00:00",
          "2016-09-06T00:00:00",
          "2016-09-07T00:00:00",
          "2016-09-08T00:00:00",
          "2016-09-09T00:00:00",
          "2016-09-10T00:00:00",
          "2016-09-11T00:00:00",
          "2016-09-12T00:00:00",
          "2016-09-13T00:00:00",
          "2016-09-14T00:00:00",
          "2016-09-15T00:00:00",
          "2016-09-16T00:00:00",
          "2016-09-17T00:00:00",
          "2016-09-18T00:00:00",
          "2016-09-19T00:00:00",
          "2016-09-20T00:00:00",
          "2016-09-21T00:00:00",
          "2016-09-22T00:00:00",
          "2016-09-23T00:00:00",
          "2016-09-24T00:00:00",
          "2016-09-25T00:00:00",
          "2016-09-26T00:00:00",
          "2016-09-27T00:00:00",
          "2016-09-28T00:00:00",
          "2016-09-29T00:00:00",
          "2016-09-30T00:00:00",
          "2016-10-01T00:00:00",
          "2016-10-02T00:00:00",
          "2016-10-03T00:00:00",
          "2016-10-04T00:00:00",
          "2016-10-05T00:00:00",
          "2016-10-06T00:00:00",
          "2016-10-07T00:00:00",
          "2016-10-08T00:00:00",
          "2016-10-09T00:00:00",
          "2016-10-10T00:00:00",
          "2016-10-11T00:00:00",
          "2016-10-12T00:00:00",
          "2016-10-13T00:00:00",
          "2016-10-14T00:00:00",
          "2016-10-15T00:00:00",
          "2016-10-16T00:00:00",
          "2016-10-17T00:00:00",
          "2016-10-18T00:00:00",
          "2016-10-19T00:00:00",
          "2016-10-20T00:00:00",
          "2016-10-21T00:00:00",
          "2016-10-22T00:00:00",
          "2016-10-23T00:00:00",
          "2016-10-24T00:00:00",
          "2016-10-25T00:00:00",
          "2016-10-26T00:00:00",
          "2016-10-27T00:00:00",
          "2016-10-28T00:00:00",
          "2016-10-29T00:00:00",
          "2016-10-30T00:00:00",
          "2016-10-31T00:00:00",
          "2016-11-01T00:00:00",
          "2016-11-02T00:00:00",
          "2016-11-03T00:00:00",
          "2016-11-04T00:00:00",
          "2016-11-05T00:00:00",
          "2016-11-06T00:00:00",
          "2016-11-07T00:00:00",
          "2016-11-08T00:00:00",
          "2016-11-09T00:00:00",
          "2016-11-10T00:00:00",
          "2016-11-11T00:00:00",
          "2016-11-12T00:00:00",
          "2016-11-13T00:00:00",
          "2016-11-14T00:00:00",
          "2016-11-15T00:00:00",
          "2016-11-16T00:00:00",
          "2016-11-17T00:00:00",
          "2016-11-18T00:00:00",
          "2016-11-19T00:00:00",
          "2016-11-20T00:00:00",
          "2016-11-21T00:00:00",
          "2016-11-22T00:00:00",
          "2016-11-23T00:00:00",
          "2016-11-24T00:00:00",
          "2016-11-25T00:00:00",
          "2016-11-26T00:00:00",
          "2016-11-27T00:00:00",
          "2016-11-28T00:00:00",
          "2016-11-29T00:00:00",
          "2016-11-30T00:00:00",
          "2016-12-01T00:00:00",
          "2016-12-02T00:00:00",
          "2016-12-03T00:00:00",
          "2016-12-04T00:00:00",
          "2016-12-05T00:00:00",
          "2016-12-06T00:00:00",
          "2016-12-07T00:00:00",
          "2016-12-08T00:00:00",
          "2016-12-09T00:00:00",
          "2016-12-10T00:00:00",
          "2016-12-11T00:00:00",
          "2016-12-12T00:00:00",
          "2016-12-13T00:00:00",
          "2016-12-14T00:00:00",
          "2016-12-15T00:00:00",
          "2016-12-16T00:00:00",
          "2016-12-17T00:00:00",
          "2016-12-18T00:00:00",
          "2016-12-19T00:00:00",
          "2016-12-20T00:00:00",
          "2016-12-21T00:00:00",
          "2016-12-22T00:00:00",
          "2016-12-23T00:00:00",
          "2016-12-24T00:00:00",
          "2016-12-25T00:00:00",
          "2016-12-26T00:00:00",
          "2016-12-27T00:00:00",
          "2016-12-28T00:00:00",
          "2016-12-29T00:00:00",
          "2016-12-30T00:00:00",
          "2016-12-31T00:00:00",
          "2017-01-01T00:00:00"
         ],
         "y": [
          24.066666666666663,
          23.9375,
          26.3125,
          26.1875,
          26.785714285714285,
          27.133333333333333,
          26.625,
          25.0625,
          26.2,
          28.133333333333333,
          29.875,
          24.666666666666668,
          26.25,
          25.933333333333334,
          27.125,
          29.571428571428573,
          30,
          30.571428571428573,
          32.3125,
          33.3125,
          32.8125,
          32.3125,
          31.375,
          29.933333333333334,
          29.266666666666666,
          30.73333333333333,
          32.25,
          29.8,
          30.2,
          31.75,
          33.125,
          33.625,
          35.6875,
          34.666666666666664,
          34.625,
          34,
          34.0625,
          34,
          33.25,
          31.916666666666668,
          31.3125,
          31.75,
          33.4375,
          33.125,
          34.15384615384615,
          34.07142857142857,
          33.0625,
          34.6875,
          38,
          35.5,
          33.714285714285715,
          30.6,
          31.4375,
          33.3125,
          35.13333333333333,
          33.53333333333333,
          34,
          32.5,
          35.375,
          37.294117647058826,
          36.5625,
          37.25,
          37.21428571428572,
          37.5,
          37.75,
          37.375,
          37.4,
          36.13333333333333,
          36.8,
          32.214285714285715,
          31.526315789473685,
          33.21739130434783,
          35.26923076923077,
          38.27272727272727,
          36.0625,
          31.5,
          26.8125,
          32.642857142857146,
          36,
          37.5625,
          37.5625,
          38.2,
          36.16666666666666,
          35.42857142857143,
          34.625,
          36.07142857142857,
          35.733333333333334,
          36.13333333333333,
          33.4375,
          35.5,
          36,
          32.625,
          34.733333333333334,
          33.5,
          34.1875,
          35.857142857142854,
          35.625,
          30.9375,
          32.875,
          33.125,
          33.84615384615385,
          36.4375,
          35.42857142857143,
          34.86666666666667,
          34.3125,
          30.785714285714285,
          35.375,
          35.46666666666667,
          32.125,
          28.4,
          29.5625,
          30.6875,
          33.25,
          33.266666666666666,
          33.5,
          30.8,
          33.25,
          32.5625,
          31.5,
          30.5,
          31.25,
          30.4375,
          31,
          27.125,
          28.125,
          27.666666666666668,
          32.3125,
          34.1875,
          34.13333333333333,
          34.125,
          31.875,
          31.4375,
          31.9375,
          30.3125,
          28.3125,
          29.53333333333333,
          27.375,
          27.33333333333333,
          29.266666666666666,
          29.125,
          30.6875,
          32.5625,
          33.111111111111114,
          33.8,
          30.066666666666663,
          33.11764705882353,
          33.80952380952381,
          31.615384615384617,
          32,
          28.107142857142858,
          29.035714285714285,
          30.321428571428573,
          28.933333333333334,
          31.678571428571427,
          31.33333333333333,
          29.928571428571427,
          29.88888888888889,
          32.07142857142857,
          33.18518518518518,
          31.59259259259259,
          32.18518518518518,
          31.48,
          30.178571428571427,
          31.52,
          31.22222222222222,
          31.785714285714285,
          33.4,
          29.571428571428573,
          30.04,
          27.25925925925926,
          27.96,
          30.73913043478261,
          30.894736842105264,
          31.692307692307693,
          31.07692307692308,
          30.375,
          31.1,
          31.916666666666668,
          30.55555555555556,
          31.23076923076923,
          31,
          31.642857142857142,
          32.53333333333333,
          30.857142857142858,
          31.727272727272727,
          31.4,
          32.30769230769231,
          32.25,
          32.375,
          33.44444444444444,
          33.36,
          30.03703703703704,
          31,
          31.24,
          31.130434782608692,
          31.48,
          32.18518518518518,
          32.44,
          32.22727272727273,
          32.214285714285715,
          32.541666666666664,
          32.81481481481482,
          33.26923076923077,
          30.55555555555556,
          28.83333333333333,
          30.703703703703702,
          30.96,
          30.6,
          30.92,
          29.77777777777778,
          29.666666666666668,
          29.571428571428573,
          29.96296296296296,
          29.75,
          27.74074074074074,
          28.428571428571427,
          28.6,
          28.5,
          28.925925925925927,
          29.07692307692308,
          28.40909090909091,
          29.33333333333333,
          27.5,
          28.5,
          28.04,
          27.57692307692308,
          26.55555555555556,
          25.51851851851852,
          25.814814814814813,
          24.82608695652174,
          24.53846153846154,
          24.384615384615383,
          23.727272727272727,
          25.64,
          24.814814814814813,
          23.115384615384617,
          22.925925925925927,
          24.545454545454547,
          23.73076923076923,
          23,
          23.51851851851852,
          23.92,
          23.53846153846154,
          24.296296296296298,
          23.346153846153847,
          22.24,
          21.76923076923077,
          21.73076923076923,
          21.73076923076923,
          20.666666666666668,
          22.25,
          21.53846153846154,
          22.57894736842105,
          22.82608695652174,
          21.42105263157895,
          23.6,
          24.294117647058822,
          23.63636363636364,
          22.454545454545453,
          21.61111111111111,
          19.869565217391305,
          19.75,
          19.20833333333333,
          21.20833333333333,
          18.9,
          18.63636363636364,
          18.53846153846154,
          18.25,
          16.9,
          19.416666666666668,
          16.444444444444443,
          20.041666666666668,
          19.90909090909091,
          19.05,
          18.55555555555556,
          18.166666666666668,
          15.833333333333334,
          17.5,
          16.083333333333332,
          17.857142857142858,
          19.8,
          18.05,
          17.285714285714285,
          15.55,
          17.318181818181817,
          14,
          17.142857142857142,
          16.85,
          17.217391304347824,
          15.238095238095235,
          14.095238095238097,
          15.052631578947368,
          10
         ]
        },
        {
         "line": {
          "color": "#d62728"
         },
         "mode": "lines+markers",
         "name": "Prediction",
         "type": "scatter",
         "x": [
          "2016-03-15T00:00:00",
          "2016-03-16T00:00:00",
          "2016-03-17T00:00:00",
          "2016-03-18T00:00:00",
          "2016-03-19T00:00:00",
          "2016-03-20T00:00:00",
          "2016-03-21T00:00:00",
          "2016-03-22T00:00:00",
          "2016-03-23T00:00:00",
          "2016-03-24T00:00:00",
          "2016-03-25T00:00:00",
          "2016-03-26T00:00:00",
          "2016-03-27T00:00:00",
          "2016-03-28T00:00:00",
          "2016-03-29T00:00:00",
          "2016-03-30T00:00:00",
          "2016-03-31T00:00:00",
          "2016-04-01T00:00:00",
          "2016-04-02T00:00:00",
          "2016-04-03T00:00:00",
          "2016-04-04T00:00:00",
          "2016-04-05T00:00:00",
          "2016-04-06T00:00:00",
          "2016-04-07T00:00:00",
          "2016-04-08T00:00:00",
          "2016-04-09T00:00:00",
          "2016-04-10T00:00:00",
          "2016-04-11T00:00:00",
          "2016-04-12T00:00:00",
          "2016-04-13T00:00:00",
          "2016-04-14T00:00:00",
          "2016-04-15T00:00:00",
          "2016-04-16T00:00:00",
          "2016-04-17T00:00:00",
          "2016-04-18T00:00:00",
          "2016-04-19T00:00:00",
          "2016-04-20T00:00:00",
          "2016-04-21T00:00:00",
          "2016-04-22T00:00:00",
          "2016-04-23T00:00:00",
          "2016-04-24T00:00:00",
          "2016-04-25T00:00:00",
          "2016-04-26T00:00:00",
          "2016-04-27T00:00:00",
          "2016-04-28T00:00:00",
          "2016-04-29T00:00:00",
          "2016-04-30T00:00:00",
          "2016-05-01T00:00:00",
          "2016-05-02T00:00:00",
          "2016-05-03T00:00:00",
          "2016-05-04T00:00:00",
          "2016-05-05T00:00:00",
          "2016-05-06T00:00:00",
          "2016-05-07T00:00:00",
          "2016-05-08T00:00:00",
          "2016-05-09T00:00:00",
          "2016-05-10T00:00:00",
          "2016-05-11T00:00:00",
          "2016-05-12T00:00:00",
          "2016-05-13T00:00:00",
          "2016-05-14T00:00:00",
          "2016-05-15T00:00:00",
          "2016-05-16T00:00:00",
          "2016-05-17T00:00:00",
          "2016-05-18T00:00:00",
          "2016-05-19T00:00:00",
          "2016-05-20T00:00:00",
          "2016-05-21T00:00:00",
          "2016-05-22T00:00:00",
          "2016-05-23T00:00:00",
          "2016-05-24T00:00:00",
          "2016-05-25T00:00:00",
          "2016-05-26T00:00:00",
          "2016-05-27T00:00:00",
          "2016-05-28T00:00:00",
          "2016-05-29T00:00:00",
          "2016-05-30T00:00:00",
          "2016-05-31T00:00:00",
          "2016-06-01T00:00:00",
          "2016-06-02T00:00:00",
          "2016-06-03T00:00:00",
          "2016-06-04T00:00:00",
          "2016-06-05T00:00:00",
          "2016-06-06T00:00:00",
          "2016-06-07T00:00:00",
          "2016-06-08T00:00:00",
          "2016-06-09T00:00:00",
          "2016-06-10T00:00:00",
          "2016-06-11T00:00:00",
          "2016-06-12T00:00:00",
          "2016-06-13T00:00:00",
          "2016-06-14T00:00:00",
          "2016-06-15T00:00:00",
          "2016-06-16T00:00:00",
          "2016-06-17T00:00:00",
          "2016-06-18T00:00:00",
          "2016-06-19T00:00:00",
          "2016-06-20T00:00:00",
          "2016-06-21T00:00:00",
          "2016-06-22T00:00:00",
          "2016-06-23T00:00:00",
          "2016-06-24T00:00:00",
          "2016-06-25T00:00:00",
          "2016-06-26T00:00:00",
          "2016-06-27T00:00:00",
          "2016-06-28T00:00:00",
          "2016-06-29T00:00:00",
          "2016-06-30T00:00:00",
          "2016-07-01T00:00:00",
          "2016-07-02T00:00:00",
          "2016-07-03T00:00:00",
          "2016-07-04T00:00:00",
          "2016-07-05T00:00:00",
          "2016-07-06T00:00:00",
          "2016-07-07T00:00:00",
          "2016-07-08T00:00:00",
          "2016-07-09T00:00:00",
          "2016-07-10T00:00:00",
          "2016-07-11T00:00:00",
          "2016-07-12T00:00:00",
          "2016-07-13T00:00:00",
          "2016-07-14T00:00:00",
          "2016-07-15T00:00:00",
          "2016-07-16T00:00:00",
          "2016-07-17T00:00:00",
          "2016-07-18T00:00:00",
          "2016-07-19T00:00:00",
          "2016-07-20T00:00:00",
          "2016-07-21T00:00:00",
          "2016-07-22T00:00:00",
          "2016-07-23T00:00:00",
          "2016-07-24T00:00:00",
          "2016-07-25T00:00:00",
          "2016-07-26T00:00:00",
          "2016-07-27T00:00:00",
          "2016-07-28T00:00:00",
          "2016-07-29T00:00:00",
          "2016-07-30T00:00:00",
          "2016-07-31T00:00:00",
          "2016-08-01T00:00:00",
          "2016-08-02T00:00:00",
          "2016-08-03T00:00:00",
          "2016-08-04T00:00:00",
          "2016-08-05T00:00:00",
          "2016-08-06T00:00:00",
          "2016-08-07T00:00:00",
          "2016-08-08T00:00:00",
          "2016-08-09T00:00:00",
          "2016-08-10T00:00:00",
          "2016-08-11T00:00:00",
          "2016-08-12T00:00:00",
          "2016-08-13T00:00:00",
          "2016-08-14T00:00:00",
          "2016-08-15T00:00:00",
          "2016-08-16T00:00:00",
          "2016-08-17T00:00:00",
          "2016-08-18T00:00:00",
          "2016-08-19T00:00:00",
          "2016-08-20T00:00:00",
          "2016-08-21T00:00:00",
          "2016-08-22T00:00:00",
          "2016-08-23T00:00:00",
          "2016-08-24T00:00:00",
          "2016-08-25T00:00:00",
          "2016-08-26T00:00:00",
          "2016-08-27T00:00:00",
          "2016-08-28T00:00:00",
          "2016-08-29T00:00:00",
          "2016-08-30T00:00:00",
          "2016-08-31T00:00:00",
          "2016-09-01T00:00:00",
          "2016-09-02T00:00:00",
          "2016-09-03T00:00:00",
          "2016-09-04T00:00:00",
          "2016-09-05T00:00:00",
          "2016-09-06T00:00:00",
          "2016-09-07T00:00:00",
          "2016-09-08T00:00:00",
          "2016-09-09T00:00:00",
          "2016-09-10T00:00:00",
          "2016-09-11T00:00:00",
          "2016-09-12T00:00:00",
          "2016-09-13T00:00:00",
          "2016-09-14T00:00:00",
          "2016-09-15T00:00:00",
          "2016-09-16T00:00:00",
          "2016-09-17T00:00:00",
          "2016-09-18T00:00:00",
          "2016-09-19T00:00:00",
          "2016-09-20T00:00:00",
          "2016-09-21T00:00:00",
          "2016-09-22T00:00:00",
          "2016-09-23T00:00:00",
          "2016-09-24T00:00:00",
          "2016-09-25T00:00:00",
          "2016-09-26T00:00:00",
          "2016-09-27T00:00:00",
          "2016-09-28T00:00:00",
          "2016-09-29T00:00:00",
          "2016-09-30T00:00:00",
          "2016-10-01T00:00:00",
          "2016-10-02T00:00:00",
          "2016-10-03T00:00:00",
          "2016-10-04T00:00:00",
          "2016-10-05T00:00:00",
          "2016-10-06T00:00:00",
          "2016-10-07T00:00:00",
          "2016-10-08T00:00:00",
          "2016-10-09T00:00:00",
          "2016-10-10T00:00:00",
          "2016-10-11T00:00:00",
          "2016-10-12T00:00:00",
          "2016-10-13T00:00:00",
          "2016-10-14T00:00:00",
          "2016-10-15T00:00:00",
          "2016-10-16T00:00:00",
          "2016-10-17T00:00:00",
          "2016-10-18T00:00:00",
          "2016-10-19T00:00:00",
          "2016-10-20T00:00:00",
          "2016-10-21T00:00:00",
          "2016-10-22T00:00:00",
          "2016-10-23T00:00:00",
          "2016-10-24T00:00:00",
          "2016-10-25T00:00:00",
          "2016-10-26T00:00:00",
          "2016-10-27T00:00:00",
          "2016-10-28T00:00:00",
          "2016-10-29T00:00:00",
          "2016-10-30T00:00:00",
          "2016-10-31T00:00:00",
          "2016-11-01T00:00:00",
          "2016-11-02T00:00:00",
          "2016-11-03T00:00:00",
          "2016-11-04T00:00:00",
          "2016-11-05T00:00:00",
          "2016-11-06T00:00:00",
          "2016-11-07T00:00:00",
          "2016-11-08T00:00:00",
          "2016-11-09T00:00:00",
          "2016-11-10T00:00:00",
          "2016-11-11T00:00:00",
          "2016-11-12T00:00:00",
          "2016-11-13T00:00:00",
          "2016-11-14T00:00:00",
          "2016-11-15T00:00:00",
          "2016-11-16T00:00:00",
          "2016-11-17T00:00:00",
          "2016-11-18T00:00:00",
          "2016-11-19T00:00:00",
          "2016-11-20T00:00:00",
          "2016-11-21T00:00:00",
          "2016-11-22T00:00:00",
          "2016-11-23T00:00:00",
          "2016-11-24T00:00:00",
          "2016-11-25T00:00:00",
          "2016-11-26T00:00:00",
          "2016-11-27T00:00:00",
          "2016-11-28T00:00:00",
          "2016-11-29T00:00:00",
          "2016-11-30T00:00:00",
          "2016-12-01T00:00:00",
          "2016-12-02T00:00:00",
          "2016-12-03T00:00:00",
          "2016-12-04T00:00:00",
          "2016-12-05T00:00:00",
          "2016-12-06T00:00:00",
          "2016-12-07T00:00:00",
          "2016-12-08T00:00:00",
          "2016-12-09T00:00:00",
          "2016-12-10T00:00:00",
          "2016-12-11T00:00:00",
          "2016-12-12T00:00:00",
          "2016-12-13T00:00:00",
          "2016-12-14T00:00:00",
          "2016-12-15T00:00:00",
          "2016-12-16T00:00:00",
          "2016-12-17T00:00:00",
          "2016-12-18T00:00:00",
          "2016-12-19T00:00:00",
          "2016-12-20T00:00:00",
          "2016-12-21T00:00:00",
          "2016-12-22T00:00:00",
          "2016-12-23T00:00:00",
          "2016-12-24T00:00:00",
          "2016-12-25T00:00:00",
          "2016-12-26T00:00:00",
          "2016-12-27T00:00:00",
          "2016-12-28T00:00:00",
          "2016-12-29T00:00:00",
          "2016-12-30T00:00:00",
          "2016-12-31T00:00:00",
          "2017-01-01T00:00:00"
         ],
         "y": [
          25.64118957721686,
          25.323510771222452,
          25.42429186167601,
          26.27832463152678,
          26.12905751966137,
          26.001690522560718,
          26.181771909842368,
          25.003532660724165,
          25.241398987055256,
          25.402431099600427,
          26.031513972632936,
          26.27461852645796,
          26.855341309794774,
          27.118192713896107,
          26.97571649360692,
          26.578182740347977,
          26.80484763423965,
          27.47204373530801,
          28.033136888411683,
          26.98864236845938,
          27.6048694629889,
          27.737863627732317,
          27.606895500983896,
          28.485265138069117,
          28.767307901566614,
          29.318540963780627,
          30.474533755834294,
          31.431692617697106,
          30.760993923766623,
          31.38790130552504,
          31.482835131317174,
          31.286575287921973,
          31.431875212381858,
          32.00431955252153,
          32.48284788620616,
          31.81634628600713,
          32.052667958964044,
          32.52703309427318,
          32.61522124076712,
          32.68393822595787,
          33.655155624617315,
          33.63205290460247,
          33.948367308427535,
          34.35277045460792,
          34.14554767550581,
          34.32114666122705,
          34.40545132886142,
          33.86190093247333,
          33.5808420264286,
          33.804762093064255,
          33.915607044097044,
          33.69575731861233,
          33.9218055814264,
          34.04368446196054,
          33.69252193637256,
          34.15989360230901,
          35.275892997907135,
          34.5645381629878,
          34.25810185604642,
          33.888230533260156,
          33.74278863839846,
          34.21261448137161,
          34.63999769317433,
          34.11301126472167,
          34.54072985750775,
          34.53240311606244,
          34.718155295429696,
          35.262040293565,
          34.829807649303795,
          35.64281302053599,
          36.31432145936131,
          36.72971064749127,
          36.715399743462314,
          37.01283403408935,
          36.99179520877603,
          37.16957929395832,
          37.64643550575604,
          35.95651853231112,
          35.04861755555734,
          35.40580614637485,
          35.561416020909384,
          36.32724718903128,
          35.82625277870327,
          34.38366720615122,
          32.43350494515968,
          33.95443998929497,
          33.98634330244187,
          34.19506298644421,
          35.23852340252904,
          36.27541721293837,
          35.97744277392096,
          35.306263216376315,
          34.813353601529265,
          34.72208528072492,
          35.616117697739284,
          36.216674247247525,
          35.677143317741084,
          36.07878367893379,
          36.25661307358803,
          34.51338897464143,
          35.12898448924714,
          34.72259957831678,
          34.67748300351981,
          35.23514219856092,
          35.340615473046526,
          33.28999020901605,
          34.144740239276615,
          34.32055836327063,
          33.04350573433766,
          34.398947158407196,
          34.257102625093985,
          34.121854640785244,
          34.28484134122769,
          33.07538823028442,
          33.66753626276155,
          34.20856121530678,
          32.91387094041991,
          31.988208567118654,
          32.59962588434843,
          32.09601547562133,
          32.22080403033577,
          32.421001561866625,
          32.07177458030885,
          31.889130933543527,
          32.53642524771473,
          31.916588019756894,
          30.901113039994126,
          31.06723654241412,
          31.49196883169906,
          31.355707246537317,
          31.241627309906498,
          30.105088503481635,
          29.655344442620205,
          29.678872152272852,
          30.567993020048668,
          31.133080873083372,
          31.121366380053328,
          31.731768898760993,
          31.201579684638418,
          30.780240689536292,
          30.497155202086297,
          30.272846873457524,
          29.50102284988444,
          30.546128396378084,
          29.75832424971606,
          29.138244943427928,
          29.63226047540574,
          28.96086208526222,
          29.121309945354724,
          29.998590370945934,
          30.08546792424287,
          30.192535828715094,
          29.654712364599455,
          30.53284079399699,
          31.084827270361053,
          30.58675654605894,
          31.01553085388767,
          30.220263865651113,
          30.301444939126785,
          30.61276357180006,
          29.96932226679595,
          30.130847250389678,
          30.62101331618345,
          29.985392610213353,
          29.582684178257374,
          30.47207272254512,
          30.25977491262218,
          29.99631647393938,
          30.791367507045997,
          30.536956403846737,
          29.89835429004269,
          30.288136328604345,
          30.108490198628402,
          30.220756219547415,
          31.16883179467838,
          30.128125654736795,
          29.839762840634453,
          29.070215912935858,
          28.691793931763325,
          29.238490193997873,
          29.43451726320775,
          29.600304650868527,
          29.65628625495649,
          29.661915481543247,
          29.217864842532073,
          29.70017936658207,
          28.96719589600155,
          29.502730314667044,
          30.038345253789924,
          30.099990587007,
          30.549456684515995,
          30.008856945357856,
          30.215576833868703,
          30.312646028448004,
          30.672576867394795,
          30.52359605607367,
          30.774713265384683,
          31.207622821138052,
          31.327639212917965,
          30.413443156931727,
          30.065883501167534,
          30.389100367493445,
          29.92478899559595,
          30.17766172677488,
          30.51431440188454,
          30.506720137974312,
          30.483870033359565,
          30.575741825696156,
          30.30334590876877,
          30.589730554934388,
          30.862571271350333,
          30.06741135730463,
          29.487414530904196,
          30.111842346380545,
          29.938298674016753,
          29.555590321995307,
          29.783786910683695,
          29.437711140146106,
          29.088414974152368,
          29.00256635855701,
          28.63564978172912,
          28.249056221606054,
          27.88398671539284,
          28.02655378033786,
          27.8775308818711,
          27.594847901005295,
          27.512536272252312,
          27.591821751720417,
          27.24837670852209,
          27.583773284873747,
          26.996173470921093,
          26.470561968432825,
          26.512796084537452,
          26.220066032444688,
          25.826337308659873,
          25.426879256920557,
          25.382098730493883,
          24.655031707006543,
          24.440615794442618,
          23.927118615541968,
          23.586389427502983,
          23.85413483127062,
          23.406857801554327,
          22.566734485527423,
          22.32512448553066,
          22.776445239261754,
          22.09924745149836,
          21.715588124104023,
          22.042443151630838,
          21.929236797964613,
          21.92815590753292,
          22.077255504155655,
          21.63285666869154,
          21.113496253239195,
          21.15948925019601,
          20.886942247343956,
          20.55947052728662,
          20.20032221483395,
          20.66944104045024,
          20.25985887767969,
          20.46424170824687,
          20.07652023415326,
          19.422000504349434,
          20.080347523206182,
          20.52331929140818,
          20.31464510287578,
          19.983138328232336,
          20.148122988633578,
          19.302999620335143,
          19.137356536516673,
          18.878178705914266,
          19.090466063176024,
          18.487908400805008,
          18.16975467277289,
          17.944472722618443,
          17.251282152166066,
          16.39104418258129,
          16.852983694898214,
          15.906210902799756,
          16.614702285352244,
          17.137007405284677,
          16.270892326765903,
          16.25434355250617,
          16.22161723910775,
          15.27024261518046,
          15.445678697332617,
          15.465947088525624,
          15.224395223388688,
          16.48555407517773,
          15.802743244985518,
          15.377392872700232,
          14.841694955450576,
          19.68903577930762
         ]
        }
       ],
       "layout": {
        "template": {
         "data": {
          "bar": [
           {
            "error_x": {
             "color": "#2a3f5f"
            },
            "error_y": {
             "color": "#2a3f5f"
            },
            "marker": {
             "line": {
              "color": "#E5ECF6",
              "width": 0.5
             },
             "pattern": {
              "fillmode": "overlay",
              "size": 10,
              "solidity": 0.2
             }
            },
            "type": "bar"
           }
          ],
          "barpolar": [
           {
            "marker": {
             "line": {
              "color": "#E5ECF6",
              "width": 0.5
             },
             "pattern": {
              "fillmode": "overlay",
              "size": 10,
              "solidity": 0.2
             }
            },
            "type": "barpolar"
           }
          ],
          "carpet": [
           {
            "aaxis": {
             "endlinecolor": "#2a3f5f",
             "gridcolor": "white",
             "linecolor": "white",
             "minorgridcolor": "white",
             "startlinecolor": "#2a3f5f"
            },
            "baxis": {
             "endlinecolor": "#2a3f5f",
             "gridcolor": "white",
             "linecolor": "white",
             "minorgridcolor": "white",
             "startlinecolor": "#2a3f5f"
            },
            "type": "carpet"
           }
          ],
          "choropleth": [
           {
            "colorbar": {
             "outlinewidth": 0,
             "ticks": ""
            },
            "type": "choropleth"
           }
          ],
          "contour": [
           {
            "colorbar": {
             "outlinewidth": 0,
             "ticks": ""
            },
            "colorscale": [
             [
              0,
              "#0d0887"
             ],
             [
              0.1111111111111111,
              "#46039f"
             ],
             [
              0.2222222222222222,
              "#7201a8"
             ],
             [
              0.3333333333333333,
              "#9c179e"
             ],
             [
              0.4444444444444444,
              "#bd3786"
             ],
             [
              0.5555555555555556,
              "#d8576b"
             ],
             [
              0.6666666666666666,
              "#ed7953"
             ],
             [
              0.7777777777777778,
              "#fb9f3a"
             ],
             [
              0.8888888888888888,
              "#fdca26"
             ],
             [
              1,
              "#f0f921"
             ]
            ],
            "type": "contour"
           }
          ],
          "contourcarpet": [
           {
            "colorbar": {
             "outlinewidth": 0,
             "ticks": ""
            },
            "type": "contourcarpet"
           }
          ],
          "heatmap": [
           {
            "colorbar": {
             "outlinewidth": 0,
             "ticks": ""
            },
            "colorscale": [
             [
              0,
              "#0d0887"
             ],
             [
              0.1111111111111111,
              "#46039f"
             ],
             [
              0.2222222222222222,
              "#7201a8"
             ],
             [
              0.3333333333333333,
              "#9c179e"
             ],
             [
              0.4444444444444444,
              "#bd3786"
             ],
             [
              0.5555555555555556,
              "#d8576b"
             ],
             [
              0.6666666666666666,
              "#ed7953"
             ],
             [
              0.7777777777777778,
              "#fb9f3a"
             ],
             [
              0.8888888888888888,
              "#fdca26"
             ],
             [
              1,
              "#f0f921"
             ]
            ],
            "type": "heatmap"
           }
          ],
          "heatmapgl": [
           {
            "colorbar": {
             "outlinewidth": 0,
             "ticks": ""
            },
            "colorscale": [
             [
              0,
              "#0d0887"
             ],
             [
              0.1111111111111111,
              "#46039f"
             ],
             [
              0.2222222222222222,
              "#7201a8"
             ],
             [
              0.3333333333333333,
              "#9c179e"
             ],
             [
              0.4444444444444444,
              "#bd3786"
             ],
             [
              0.5555555555555556,
              "#d8576b"
             ],
             [
              0.6666666666666666,
              "#ed7953"
             ],
             [
              0.7777777777777778,
              "#fb9f3a"
             ],
             [
              0.8888888888888888,
              "#fdca26"
             ],
             [
              1,
              "#f0f921"
             ]
            ],
            "type": "heatmapgl"
           }
          ],
          "histogram": [
           {
            "marker": {
             "pattern": {
              "fillmode": "overlay",
              "size": 10,
              "solidity": 0.2
             }
            },
            "type": "histogram"
           }
          ],
          "histogram2d": [
           {
            "colorbar": {
             "outlinewidth": 0,
             "ticks": ""
            },
            "colorscale": [
             [
              0,
              "#0d0887"
             ],
             [
              0.1111111111111111,
              "#46039f"
             ],
             [
              0.2222222222222222,
              "#7201a8"
             ],
             [
              0.3333333333333333,
              "#9c179e"
             ],
             [
              0.4444444444444444,
              "#bd3786"
             ],
             [
              0.5555555555555556,
              "#d8576b"
             ],
             [
              0.6666666666666666,
              "#ed7953"
             ],
             [
              0.7777777777777778,
              "#fb9f3a"
             ],
             [
              0.8888888888888888,
              "#fdca26"
             ],
             [
              1,
              "#f0f921"
             ]
            ],
            "type": "histogram2d"
           }
          ],
          "histogram2dcontour": [
           {
            "colorbar": {
             "outlinewidth": 0,
             "ticks": ""
            },
            "colorscale": [
             [
              0,
              "#0d0887"
             ],
             [
              0.1111111111111111,
              "#46039f"
             ],
             [
              0.2222222222222222,
              "#7201a8"
             ],
             [
              0.3333333333333333,
              "#9c179e"
             ],
             [
              0.4444444444444444,
              "#bd3786"
             ],
             [
              0.5555555555555556,
              "#d8576b"
             ],
             [
              0.6666666666666666,
              "#ed7953"
             ],
             [
              0.7777777777777778,
              "#fb9f3a"
             ],
             [
              0.8888888888888888,
              "#fdca26"
             ],
             [
              1,
              "#f0f921"
             ]
            ],
            "type": "histogram2dcontour"
           }
          ],
          "mesh3d": [
           {
            "colorbar": {
             "outlinewidth": 0,
             "ticks": ""
            },
            "type": "mesh3d"
           }
          ],
          "parcoords": [
           {
            "line": {
             "colorbar": {
              "outlinewidth": 0,
              "ticks": ""
             }
            },
            "type": "parcoords"
           }
          ],
          "pie": [
           {
            "automargin": true,
            "type": "pie"
           }
          ],
          "scatter": [
           {
            "marker": {
             "colorbar": {
              "outlinewidth": 0,
              "ticks": ""
             }
            },
            "type": "scatter"
           }
          ],
          "scatter3d": [
           {
            "line": {
             "colorbar": {
              "outlinewidth": 0,
              "ticks": ""
             }
            },
            "marker": {
             "colorbar": {
              "outlinewidth": 0,
              "ticks": ""
             }
            },
            "type": "scatter3d"
           }
          ],
          "scattercarpet": [
           {
            "marker": {
             "colorbar": {
              "outlinewidth": 0,
              "ticks": ""
             }
            },
            "type": "scattercarpet"
           }
          ],
          "scattergeo": [
           {
            "marker": {
             "colorbar": {
              "outlinewidth": 0,
              "ticks": ""
             }
            },
            "type": "scattergeo"
           }
          ],
          "scattergl": [
           {
            "marker": {
             "colorbar": {
              "outlinewidth": 0,
              "ticks": ""
             }
            },
            "type": "scattergl"
           }
          ],
          "scattermapbox": [
           {
            "marker": {
             "colorbar": {
              "outlinewidth": 0,
              "ticks": ""
             }
            },
            "type": "scattermapbox"
           }
          ],
          "scatterpolar": [
           {
            "marker": {
             "colorbar": {
              "outlinewidth": 0,
              "ticks": ""
             }
            },
            "type": "scatterpolar"
           }
          ],
          "scatterpolargl": [
           {
            "marker": {
             "colorbar": {
              "outlinewidth": 0,
              "ticks": ""
             }
            },
            "type": "scatterpolargl"
           }
          ],
          "scatterternary": [
           {
            "marker": {
             "colorbar": {
              "outlinewidth": 0,
              "ticks": ""
             }
            },
            "type": "scatterternary"
           }
          ],
          "surface": [
           {
            "colorbar": {
             "outlinewidth": 0,
             "ticks": ""
            },
            "colorscale": [
             [
              0,
              "#0d0887"
             ],
             [
              0.1111111111111111,
              "#46039f"
             ],
             [
              0.2222222222222222,
              "#7201a8"
             ],
             [
              0.3333333333333333,
              "#9c179e"
             ],
             [
              0.4444444444444444,
              "#bd3786"
             ],
             [
              0.5555555555555556,
              "#d8576b"
             ],
             [
              0.6666666666666666,
              "#ed7953"
             ],
             [
              0.7777777777777778,
              "#fb9f3a"
             ],
             [
              0.8888888888888888,
              "#fdca26"
             ],
             [
              1,
              "#f0f921"
             ]
            ],
            "type": "surface"
           }
          ],
          "table": [
           {
            "cells": {
             "fill": {
              "color": "#EBF0F8"
             },
             "line": {
              "color": "white"
             }
            },
            "header": {
             "fill": {
              "color": "#C8D4E3"
             },
             "line": {
              "color": "white"
             }
            },
            "type": "table"
           }
          ]
         },
         "layout": {
          "annotationdefaults": {
           "arrowcolor": "#2a3f5f",
           "arrowhead": 0,
           "arrowwidth": 1
          },
          "autotypenumbers": "strict",
          "coloraxis": {
           "colorbar": {
            "outlinewidth": 0,
            "ticks": ""
           }
          },
          "colorscale": {
           "diverging": [
            [
             0,
             "#8e0152"
            ],
            [
             0.1,
             "#c51b7d"
            ],
            [
             0.2,
             "#de77ae"
            ],
            [
             0.3,
             "#f1b6da"
            ],
            [
             0.4,
             "#fde0ef"
            ],
            [
             0.5,
             "#f7f7f7"
            ],
            [
             0.6,
             "#e6f5d0"
            ],
            [
             0.7,
             "#b8e186"
            ],
            [
             0.8,
             "#7fbc41"
            ],
            [
             0.9,
             "#4d9221"
            ],
            [
             1,
             "#276419"
            ]
           ],
           "sequential": [
            [
             0,
             "#0d0887"
            ],
            [
             0.1111111111111111,
             "#46039f"
            ],
            [
             0.2222222222222222,
             "#7201a8"
            ],
            [
             0.3333333333333333,
             "#9c179e"
            ],
            [
             0.4444444444444444,
             "#bd3786"
            ],
            [
             0.5555555555555556,
             "#d8576b"
            ],
            [
             0.6666666666666666,
             "#ed7953"
            ],
            [
             0.7777777777777778,
             "#fb9f3a"
            ],
            [
             0.8888888888888888,
             "#fdca26"
            ],
            [
             1,
             "#f0f921"
            ]
           ],
           "sequentialminus": [
            [
             0,
             "#0d0887"
            ],
            [
             0.1111111111111111,
             "#46039f"
            ],
            [
             0.2222222222222222,
             "#7201a8"
            ],
            [
             0.3333333333333333,
             "#9c179e"
            ],
            [
             0.4444444444444444,
             "#bd3786"
            ],
            [
             0.5555555555555556,
             "#d8576b"
            ],
            [
             0.6666666666666666,
             "#ed7953"
            ],
            [
             0.7777777777777778,
             "#fb9f3a"
            ],
            [
             0.8888888888888888,
             "#fdca26"
            ],
            [
             1,
             "#f0f921"
            ]
           ]
          },
          "colorway": [
           "#636efa",
           "#EF553B",
           "#00cc96",
           "#ab63fa",
           "#FFA15A",
           "#19d3f3",
           "#FF6692",
           "#B6E880",
           "#FF97FF",
           "#FECB52"
          ],
          "font": {
           "color": "#2a3f5f"
          },
          "geo": {
           "bgcolor": "white",
           "lakecolor": "white",
           "landcolor": "#E5ECF6",
           "showlakes": true,
           "showland": true,
           "subunitcolor": "white"
          },
          "hoverlabel": {
           "align": "left"
          },
          "hovermode": "closest",
          "mapbox": {
           "style": "light"
          },
          "paper_bgcolor": "white",
          "plot_bgcolor": "#E5ECF6",
          "polar": {
           "angularaxis": {
            "gridcolor": "white",
            "linecolor": "white",
            "ticks": ""
           },
           "bgcolor": "#E5ECF6",
           "radialaxis": {
            "gridcolor": "white",
            "linecolor": "white",
            "ticks": ""
           }
          },
          "scene": {
           "xaxis": {
            "backgroundcolor": "#E5ECF6",
            "gridcolor": "white",
            "gridwidth": 2,
            "linecolor": "white",
            "showbackground": true,
            "ticks": "",
            "zerolinecolor": "white"
           },
           "yaxis": {
            "backgroundcolor": "#E5ECF6",
            "gridcolor": "white",
            "gridwidth": 2,
            "linecolor": "white",
            "showbackground": true,
            "ticks": "",
            "zerolinecolor": "white"
           },
           "zaxis": {
            "backgroundcolor": "#E5ECF6",
            "gridcolor": "white",
            "gridwidth": 2,
            "linecolor": "white",
            "showbackground": true,
            "ticks": "",
            "zerolinecolor": "white"
           }
          },
          "shapedefaults": {
           "line": {
            "color": "#2a3f5f"
           }
          },
          "ternary": {
           "aaxis": {
            "gridcolor": "white",
            "linecolor": "white",
            "ticks": ""
           },
           "baxis": {
            "gridcolor": "white",
            "linecolor": "white",
            "ticks": ""
           },
           "bgcolor": "#E5ECF6",
           "caxis": {
            "gridcolor": "white",
            "linecolor": "white",
            "ticks": ""
           }
          },
          "title": {
           "x": 0.05
          },
          "xaxis": {
           "automargin": true,
           "gridcolor": "white",
           "linecolor": "white",
           "ticks": "",
           "title": {
            "standoff": 15
           },
           "zerolinecolor": "white",
           "zerolinewidth": 2
          },
          "yaxis": {
           "automargin": true,
           "gridcolor": "white",
           "linecolor": "white",
           "ticks": "",
           "title": {
            "standoff": 15
           },
           "zerolinecolor": "white",
           "zerolinewidth": 2
          }
         }
        },
        "title": {
         "text": "Prediction vs Target over time"
        },
        "xaxis": {
         "title": {
          "text": "Time"
         }
        },
        "yaxis": {
         "title": {
          "text": "Target Values and Predictions"
         }
        }
       }
      },
      "text/html": [
       "<div>                            <div id=\"43a5311f-11b3-44fc-8059-87803c2beb07\" class=\"plotly-graph-div\" style=\"height:525px; width:100%;\"></div>            <script type=\"text/javascript\">                require([\"plotly\"], function(Plotly) {                    window.PLOTLYENV=window.PLOTLYENV || {};                                    if (document.getElementById(\"43a5311f-11b3-44fc-8059-87803c2beb07\")) {                    Plotly.newPlot(                        \"43a5311f-11b3-44fc-8059-87803c2beb07\",                        [{\"line\":{\"color\":\"#1f77b4\"},\"mode\":\"lines+markers\",\"name\":\"Target\",\"x\":[\"2016-03-15T00:00:00\",\"2016-03-16T00:00:00\",\"2016-03-17T00:00:00\",\"2016-03-18T00:00:00\",\"2016-03-19T00:00:00\",\"2016-03-20T00:00:00\",\"2016-03-21T00:00:00\",\"2016-03-22T00:00:00\",\"2016-03-23T00:00:00\",\"2016-03-24T00:00:00\",\"2016-03-25T00:00:00\",\"2016-03-26T00:00:00\",\"2016-03-27T00:00:00\",\"2016-03-28T00:00:00\",\"2016-03-29T00:00:00\",\"2016-03-30T00:00:00\",\"2016-03-31T00:00:00\",\"2016-04-01T00:00:00\",\"2016-04-02T00:00:00\",\"2016-04-03T00:00:00\",\"2016-04-04T00:00:00\",\"2016-04-05T00:00:00\",\"2016-04-06T00:00:00\",\"2016-04-07T00:00:00\",\"2016-04-08T00:00:00\",\"2016-04-09T00:00:00\",\"2016-04-10T00:00:00\",\"2016-04-11T00:00:00\",\"2016-04-12T00:00:00\",\"2016-04-13T00:00:00\",\"2016-04-14T00:00:00\",\"2016-04-15T00:00:00\",\"2016-04-16T00:00:00\",\"2016-04-17T00:00:00\",\"2016-04-18T00:00:00\",\"2016-04-19T00:00:00\",\"2016-04-20T00:00:00\",\"2016-04-21T00:00:00\",\"2016-04-22T00:00:00\",\"2016-04-23T00:00:00\",\"2016-04-24T00:00:00\",\"2016-04-25T00:00:00\",\"2016-04-26T00:00:00\",\"2016-04-27T00:00:00\",\"2016-04-28T00:00:00\",\"2016-04-29T00:00:00\",\"2016-04-30T00:00:00\",\"2016-05-01T00:00:00\",\"2016-05-02T00:00:00\",\"2016-05-03T00:00:00\",\"2016-05-04T00:00:00\",\"2016-05-05T00:00:00\",\"2016-05-06T00:00:00\",\"2016-05-07T00:00:00\",\"2016-05-08T00:00:00\",\"2016-05-09T00:00:00\",\"2016-05-10T00:00:00\",\"2016-05-11T00:00:00\",\"2016-05-12T00:00:00\",\"2016-05-13T00:00:00\",\"2016-05-14T00:00:00\",\"2016-05-15T00:00:00\",\"2016-05-16T00:00:00\",\"2016-05-17T00:00:00\",\"2016-05-18T00:00:00\",\"2016-05-19T00:00:00\",\"2016-05-20T00:00:00\",\"2016-05-21T00:00:00\",\"2016-05-22T00:00:00\",\"2016-05-23T00:00:00\",\"2016-05-24T00:00:00\",\"2016-05-25T00:00:00\",\"2016-05-26T00:00:00\",\"2016-05-27T00:00:00\",\"2016-05-28T00:00:00\",\"2016-05-29T00:00:00\",\"2016-05-30T00:00:00\",\"2016-05-31T00:00:00\",\"2016-06-01T00:00:00\",\"2016-06-02T00:00:00\",\"2016-06-03T00:00:00\",\"2016-06-04T00:00:00\",\"2016-06-05T00:00:00\",\"2016-06-06T00:00:00\",\"2016-06-07T00:00:00\",\"2016-06-08T00:00:00\",\"2016-06-09T00:00:00\",\"2016-06-10T00:00:00\",\"2016-06-11T00:00:00\",\"2016-06-12T00:00:00\",\"2016-06-13T00:00:00\",\"2016-06-14T00:00:00\",\"2016-06-15T00:00:00\",\"2016-06-16T00:00:00\",\"2016-06-17T00:00:00\",\"2016-06-18T00:00:00\",\"2016-06-19T00:00:00\",\"2016-06-20T00:00:00\",\"2016-06-21T00:00:00\",\"2016-06-22T00:00:00\",\"2016-06-23T00:00:00\",\"2016-06-24T00:00:00\",\"2016-06-25T00:00:00\",\"2016-06-26T00:00:00\",\"2016-06-27T00:00:00\",\"2016-06-28T00:00:00\",\"2016-06-29T00:00:00\",\"2016-06-30T00:00:00\",\"2016-07-01T00:00:00\",\"2016-07-02T00:00:00\",\"2016-07-03T00:00:00\",\"2016-07-04T00:00:00\",\"2016-07-05T00:00:00\",\"2016-07-06T00:00:00\",\"2016-07-07T00:00:00\",\"2016-07-08T00:00:00\",\"2016-07-09T00:00:00\",\"2016-07-10T00:00:00\",\"2016-07-11T00:00:00\",\"2016-07-12T00:00:00\",\"2016-07-13T00:00:00\",\"2016-07-14T00:00:00\",\"2016-07-15T00:00:00\",\"2016-07-16T00:00:00\",\"2016-07-17T00:00:00\",\"2016-07-18T00:00:00\",\"2016-07-19T00:00:00\",\"2016-07-20T00:00:00\",\"2016-07-21T00:00:00\",\"2016-07-22T00:00:00\",\"2016-07-23T00:00:00\",\"2016-07-24T00:00:00\",\"2016-07-25T00:00:00\",\"2016-07-26T00:00:00\",\"2016-07-27T00:00:00\",\"2016-07-28T00:00:00\",\"2016-07-29T00:00:00\",\"2016-07-30T00:00:00\",\"2016-07-31T00:00:00\",\"2016-08-01T00:00:00\",\"2016-08-02T00:00:00\",\"2016-08-03T00:00:00\",\"2016-08-04T00:00:00\",\"2016-08-05T00:00:00\",\"2016-08-06T00:00:00\",\"2016-08-07T00:00:00\",\"2016-08-08T00:00:00\",\"2016-08-09T00:00:00\",\"2016-08-10T00:00:00\",\"2016-08-11T00:00:00\",\"2016-08-12T00:00:00\",\"2016-08-13T00:00:00\",\"2016-08-14T00:00:00\",\"2016-08-15T00:00:00\",\"2016-08-16T00:00:00\",\"2016-08-17T00:00:00\",\"2016-08-18T00:00:00\",\"2016-08-19T00:00:00\",\"2016-08-20T00:00:00\",\"2016-08-21T00:00:00\",\"2016-08-22T00:00:00\",\"2016-08-23T00:00:00\",\"2016-08-24T00:00:00\",\"2016-08-25T00:00:00\",\"2016-08-26T00:00:00\",\"2016-08-27T00:00:00\",\"2016-08-28T00:00:00\",\"2016-08-29T00:00:00\",\"2016-08-30T00:00:00\",\"2016-08-31T00:00:00\",\"2016-09-01T00:00:00\",\"2016-09-02T00:00:00\",\"2016-09-03T00:00:00\",\"2016-09-04T00:00:00\",\"2016-09-05T00:00:00\",\"2016-09-06T00:00:00\",\"2016-09-07T00:00:00\",\"2016-09-08T00:00:00\",\"2016-09-09T00:00:00\",\"2016-09-10T00:00:00\",\"2016-09-11T00:00:00\",\"2016-09-12T00:00:00\",\"2016-09-13T00:00:00\",\"2016-09-14T00:00:00\",\"2016-09-15T00:00:00\",\"2016-09-16T00:00:00\",\"2016-09-17T00:00:00\",\"2016-09-18T00:00:00\",\"2016-09-19T00:00:00\",\"2016-09-20T00:00:00\",\"2016-09-21T00:00:00\",\"2016-09-22T00:00:00\",\"2016-09-23T00:00:00\",\"2016-09-24T00:00:00\",\"2016-09-25T00:00:00\",\"2016-09-26T00:00:00\",\"2016-09-27T00:00:00\",\"2016-09-28T00:00:00\",\"2016-09-29T00:00:00\",\"2016-09-30T00:00:00\",\"2016-10-01T00:00:00\",\"2016-10-02T00:00:00\",\"2016-10-03T00:00:00\",\"2016-10-04T00:00:00\",\"2016-10-05T00:00:00\",\"2016-10-06T00:00:00\",\"2016-10-07T00:00:00\",\"2016-10-08T00:00:00\",\"2016-10-09T00:00:00\",\"2016-10-10T00:00:00\",\"2016-10-11T00:00:00\",\"2016-10-12T00:00:00\",\"2016-10-13T00:00:00\",\"2016-10-14T00:00:00\",\"2016-10-15T00:00:00\",\"2016-10-16T00:00:00\",\"2016-10-17T00:00:00\",\"2016-10-18T00:00:00\",\"2016-10-19T00:00:00\",\"2016-10-20T00:00:00\",\"2016-10-21T00:00:00\",\"2016-10-22T00:00:00\",\"2016-10-23T00:00:00\",\"2016-10-24T00:00:00\",\"2016-10-25T00:00:00\",\"2016-10-26T00:00:00\",\"2016-10-27T00:00:00\",\"2016-10-28T00:00:00\",\"2016-10-29T00:00:00\",\"2016-10-30T00:00:00\",\"2016-10-31T00:00:00\",\"2016-11-01T00:00:00\",\"2016-11-02T00:00:00\",\"2016-11-03T00:00:00\",\"2016-11-04T00:00:00\",\"2016-11-05T00:00:00\",\"2016-11-06T00:00:00\",\"2016-11-07T00:00:00\",\"2016-11-08T00:00:00\",\"2016-11-09T00:00:00\",\"2016-11-10T00:00:00\",\"2016-11-11T00:00:00\",\"2016-11-12T00:00:00\",\"2016-11-13T00:00:00\",\"2016-11-14T00:00:00\",\"2016-11-15T00:00:00\",\"2016-11-16T00:00:00\",\"2016-11-17T00:00:00\",\"2016-11-18T00:00:00\",\"2016-11-19T00:00:00\",\"2016-11-20T00:00:00\",\"2016-11-21T00:00:00\",\"2016-11-22T00:00:00\",\"2016-11-23T00:00:00\",\"2016-11-24T00:00:00\",\"2016-11-25T00:00:00\",\"2016-11-26T00:00:00\",\"2016-11-27T00:00:00\",\"2016-11-28T00:00:00\",\"2016-11-29T00:00:00\",\"2016-11-30T00:00:00\",\"2016-12-01T00:00:00\",\"2016-12-02T00:00:00\",\"2016-12-03T00:00:00\",\"2016-12-04T00:00:00\",\"2016-12-05T00:00:00\",\"2016-12-06T00:00:00\",\"2016-12-07T00:00:00\",\"2016-12-08T00:00:00\",\"2016-12-09T00:00:00\",\"2016-12-10T00:00:00\",\"2016-12-11T00:00:00\",\"2016-12-12T00:00:00\",\"2016-12-13T00:00:00\",\"2016-12-14T00:00:00\",\"2016-12-15T00:00:00\",\"2016-12-16T00:00:00\",\"2016-12-17T00:00:00\",\"2016-12-18T00:00:00\",\"2016-12-19T00:00:00\",\"2016-12-20T00:00:00\",\"2016-12-21T00:00:00\",\"2016-12-22T00:00:00\",\"2016-12-23T00:00:00\",\"2016-12-24T00:00:00\",\"2016-12-25T00:00:00\",\"2016-12-26T00:00:00\",\"2016-12-27T00:00:00\",\"2016-12-28T00:00:00\",\"2016-12-29T00:00:00\",\"2016-12-30T00:00:00\",\"2016-12-31T00:00:00\",\"2017-01-01T00:00:00\"],\"y\":[24.066666666666663,23.9375,26.3125,26.1875,26.785714285714285,27.133333333333333,26.625,25.0625,26.2,28.133333333333333,29.875,24.666666666666668,26.25,25.933333333333334,27.125,29.571428571428573,30.0,30.571428571428573,32.3125,33.3125,32.8125,32.3125,31.375,29.933333333333334,29.266666666666666,30.73333333333333,32.25,29.8,30.2,31.75,33.125,33.625,35.6875,34.666666666666664,34.625,34.0,34.0625,34.0,33.25,31.916666666666668,31.3125,31.75,33.4375,33.125,34.15384615384615,34.07142857142857,33.0625,34.6875,38.0,35.5,33.714285714285715,30.6,31.4375,33.3125,35.13333333333333,33.53333333333333,34.0,32.5,35.375,37.294117647058826,36.5625,37.25,37.21428571428572,37.5,37.75,37.375,37.4,36.13333333333333,36.8,32.214285714285715,31.526315789473685,33.21739130434783,35.26923076923077,38.27272727272727,36.0625,31.5,26.8125,32.642857142857146,36.0,37.5625,37.5625,38.2,36.16666666666666,35.42857142857143,34.625,36.07142857142857,35.733333333333334,36.13333333333333,33.4375,35.5,36.0,32.625,34.733333333333334,33.5,34.1875,35.857142857142854,35.625,30.9375,32.875,33.125,33.84615384615385,36.4375,35.42857142857143,34.86666666666667,34.3125,30.785714285714285,35.375,35.46666666666667,32.125,28.4,29.5625,30.6875,33.25,33.266666666666666,33.5,30.8,33.25,32.5625,31.5,30.5,31.25,30.4375,31.0,27.125,28.125,27.666666666666668,32.3125,34.1875,34.13333333333333,34.125,31.875,31.4375,31.9375,30.3125,28.3125,29.53333333333333,27.375,27.33333333333333,29.266666666666666,29.125,30.6875,32.5625,33.111111111111114,33.8,30.066666666666663,33.11764705882353,33.80952380952381,31.615384615384617,32.0,28.107142857142858,29.035714285714285,30.321428571428573,28.933333333333334,31.678571428571427,31.33333333333333,29.928571428571427,29.88888888888889,32.07142857142857,33.18518518518518,31.59259259259259,32.18518518518518,31.48,30.178571428571427,31.52,31.22222222222222,31.785714285714285,33.4,29.571428571428573,30.04,27.25925925925926,27.96,30.73913043478261,30.894736842105264,31.692307692307693,31.07692307692308,30.375,31.1,31.916666666666668,30.55555555555556,31.23076923076923,31.0,31.642857142857142,32.53333333333333,30.857142857142858,31.727272727272727,31.4,32.30769230769231,32.25,32.375,33.44444444444444,33.36,30.03703703703704,31.0,31.24,31.130434782608692,31.48,32.18518518518518,32.44,32.22727272727273,32.214285714285715,32.541666666666664,32.81481481481482,33.26923076923077,30.55555555555556,28.83333333333333,30.703703703703702,30.96,30.6,30.92,29.77777777777778,29.666666666666668,29.571428571428573,29.96296296296296,29.75,27.74074074074074,28.428571428571427,28.6,28.5,28.925925925925927,29.07692307692308,28.40909090909091,29.33333333333333,27.5,28.5,28.04,27.57692307692308,26.55555555555556,25.51851851851852,25.814814814814813,24.82608695652174,24.53846153846154,24.384615384615383,23.727272727272727,25.64,24.814814814814813,23.115384615384617,22.925925925925927,24.545454545454547,23.73076923076923,23.0,23.51851851851852,23.92,23.53846153846154,24.296296296296298,23.346153846153847,22.24,21.76923076923077,21.73076923076923,21.73076923076923,20.666666666666668,22.25,21.53846153846154,22.57894736842105,22.82608695652174,21.42105263157895,23.6,24.294117647058822,23.63636363636364,22.454545454545453,21.61111111111111,19.869565217391305,19.75,19.20833333333333,21.20833333333333,18.9,18.63636363636364,18.53846153846154,18.25,16.9,19.416666666666668,16.444444444444443,20.041666666666668,19.90909090909091,19.05,18.55555555555556,18.166666666666668,15.833333333333334,17.5,16.083333333333332,17.857142857142858,19.8,18.05,17.285714285714285,15.55,17.318181818181817,14.0,17.142857142857142,16.85,17.217391304347824,15.238095238095235,14.095238095238097,15.052631578947368,10.0],\"type\":\"scatter\"},{\"line\":{\"color\":\"#d62728\"},\"mode\":\"lines+markers\",\"name\":\"Prediction\",\"x\":[\"2016-03-15T00:00:00\",\"2016-03-16T00:00:00\",\"2016-03-17T00:00:00\",\"2016-03-18T00:00:00\",\"2016-03-19T00:00:00\",\"2016-03-20T00:00:00\",\"2016-03-21T00:00:00\",\"2016-03-22T00:00:00\",\"2016-03-23T00:00:00\",\"2016-03-24T00:00:00\",\"2016-03-25T00:00:00\",\"2016-03-26T00:00:00\",\"2016-03-27T00:00:00\",\"2016-03-28T00:00:00\",\"2016-03-29T00:00:00\",\"2016-03-30T00:00:00\",\"2016-03-31T00:00:00\",\"2016-04-01T00:00:00\",\"2016-04-02T00:00:00\",\"2016-04-03T00:00:00\",\"2016-04-04T00:00:00\",\"2016-04-05T00:00:00\",\"2016-04-06T00:00:00\",\"2016-04-07T00:00:00\",\"2016-04-08T00:00:00\",\"2016-04-09T00:00:00\",\"2016-04-10T00:00:00\",\"2016-04-11T00:00:00\",\"2016-04-12T00:00:00\",\"2016-04-13T00:00:00\",\"2016-04-14T00:00:00\",\"2016-04-15T00:00:00\",\"2016-04-16T00:00:00\",\"2016-04-17T00:00:00\",\"2016-04-18T00:00:00\",\"2016-04-19T00:00:00\",\"2016-04-20T00:00:00\",\"2016-04-21T00:00:00\",\"2016-04-22T00:00:00\",\"2016-04-23T00:00:00\",\"2016-04-24T00:00:00\",\"2016-04-25T00:00:00\",\"2016-04-26T00:00:00\",\"2016-04-27T00:00:00\",\"2016-04-28T00:00:00\",\"2016-04-29T00:00:00\",\"2016-04-30T00:00:00\",\"2016-05-01T00:00:00\",\"2016-05-02T00:00:00\",\"2016-05-03T00:00:00\",\"2016-05-04T00:00:00\",\"2016-05-05T00:00:00\",\"2016-05-06T00:00:00\",\"2016-05-07T00:00:00\",\"2016-05-08T00:00:00\",\"2016-05-09T00:00:00\",\"2016-05-10T00:00:00\",\"2016-05-11T00:00:00\",\"2016-05-12T00:00:00\",\"2016-05-13T00:00:00\",\"2016-05-14T00:00:00\",\"2016-05-15T00:00:00\",\"2016-05-16T00:00:00\",\"2016-05-17T00:00:00\",\"2016-05-18T00:00:00\",\"2016-05-19T00:00:00\",\"2016-05-20T00:00:00\",\"2016-05-21T00:00:00\",\"2016-05-22T00:00:00\",\"2016-05-23T00:00:00\",\"2016-05-24T00:00:00\",\"2016-05-25T00:00:00\",\"2016-05-26T00:00:00\",\"2016-05-27T00:00:00\",\"2016-05-28T00:00:00\",\"2016-05-29T00:00:00\",\"2016-05-30T00:00:00\",\"2016-05-31T00:00:00\",\"2016-06-01T00:00:00\",\"2016-06-02T00:00:00\",\"2016-06-03T00:00:00\",\"2016-06-04T00:00:00\",\"2016-06-05T00:00:00\",\"2016-06-06T00:00:00\",\"2016-06-07T00:00:00\",\"2016-06-08T00:00:00\",\"2016-06-09T00:00:00\",\"2016-06-10T00:00:00\",\"2016-06-11T00:00:00\",\"2016-06-12T00:00:00\",\"2016-06-13T00:00:00\",\"2016-06-14T00:00:00\",\"2016-06-15T00:00:00\",\"2016-06-16T00:00:00\",\"2016-06-17T00:00:00\",\"2016-06-18T00:00:00\",\"2016-06-19T00:00:00\",\"2016-06-20T00:00:00\",\"2016-06-21T00:00:00\",\"2016-06-22T00:00:00\",\"2016-06-23T00:00:00\",\"2016-06-24T00:00:00\",\"2016-06-25T00:00:00\",\"2016-06-26T00:00:00\",\"2016-06-27T00:00:00\",\"2016-06-28T00:00:00\",\"2016-06-29T00:00:00\",\"2016-06-30T00:00:00\",\"2016-07-01T00:00:00\",\"2016-07-02T00:00:00\",\"2016-07-03T00:00:00\",\"2016-07-04T00:00:00\",\"2016-07-05T00:00:00\",\"2016-07-06T00:00:00\",\"2016-07-07T00:00:00\",\"2016-07-08T00:00:00\",\"2016-07-09T00:00:00\",\"2016-07-10T00:00:00\",\"2016-07-11T00:00:00\",\"2016-07-12T00:00:00\",\"2016-07-13T00:00:00\",\"2016-07-14T00:00:00\",\"2016-07-15T00:00:00\",\"2016-07-16T00:00:00\",\"2016-07-17T00:00:00\",\"2016-07-18T00:00:00\",\"2016-07-19T00:00:00\",\"2016-07-20T00:00:00\",\"2016-07-21T00:00:00\",\"2016-07-22T00:00:00\",\"2016-07-23T00:00:00\",\"2016-07-24T00:00:00\",\"2016-07-25T00:00:00\",\"2016-07-26T00:00:00\",\"2016-07-27T00:00:00\",\"2016-07-28T00:00:00\",\"2016-07-29T00:00:00\",\"2016-07-30T00:00:00\",\"2016-07-31T00:00:00\",\"2016-08-01T00:00:00\",\"2016-08-02T00:00:00\",\"2016-08-03T00:00:00\",\"2016-08-04T00:00:00\",\"2016-08-05T00:00:00\",\"2016-08-06T00:00:00\",\"2016-08-07T00:00:00\",\"2016-08-08T00:00:00\",\"2016-08-09T00:00:00\",\"2016-08-10T00:00:00\",\"2016-08-11T00:00:00\",\"2016-08-12T00:00:00\",\"2016-08-13T00:00:00\",\"2016-08-14T00:00:00\",\"2016-08-15T00:00:00\",\"2016-08-16T00:00:00\",\"2016-08-17T00:00:00\",\"2016-08-18T00:00:00\",\"2016-08-19T00:00:00\",\"2016-08-20T00:00:00\",\"2016-08-21T00:00:00\",\"2016-08-22T00:00:00\",\"2016-08-23T00:00:00\",\"2016-08-24T00:00:00\",\"2016-08-25T00:00:00\",\"2016-08-26T00:00:00\",\"2016-08-27T00:00:00\",\"2016-08-28T00:00:00\",\"2016-08-29T00:00:00\",\"2016-08-30T00:00:00\",\"2016-08-31T00:00:00\",\"2016-09-01T00:00:00\",\"2016-09-02T00:00:00\",\"2016-09-03T00:00:00\",\"2016-09-04T00:00:00\",\"2016-09-05T00:00:00\",\"2016-09-06T00:00:00\",\"2016-09-07T00:00:00\",\"2016-09-08T00:00:00\",\"2016-09-09T00:00:00\",\"2016-09-10T00:00:00\",\"2016-09-11T00:00:00\",\"2016-09-12T00:00:00\",\"2016-09-13T00:00:00\",\"2016-09-14T00:00:00\",\"2016-09-15T00:00:00\",\"2016-09-16T00:00:00\",\"2016-09-17T00:00:00\",\"2016-09-18T00:00:00\",\"2016-09-19T00:00:00\",\"2016-09-20T00:00:00\",\"2016-09-21T00:00:00\",\"2016-09-22T00:00:00\",\"2016-09-23T00:00:00\",\"2016-09-24T00:00:00\",\"2016-09-25T00:00:00\",\"2016-09-26T00:00:00\",\"2016-09-27T00:00:00\",\"2016-09-28T00:00:00\",\"2016-09-29T00:00:00\",\"2016-09-30T00:00:00\",\"2016-10-01T00:00:00\",\"2016-10-02T00:00:00\",\"2016-10-03T00:00:00\",\"2016-10-04T00:00:00\",\"2016-10-05T00:00:00\",\"2016-10-06T00:00:00\",\"2016-10-07T00:00:00\",\"2016-10-08T00:00:00\",\"2016-10-09T00:00:00\",\"2016-10-10T00:00:00\",\"2016-10-11T00:00:00\",\"2016-10-12T00:00:00\",\"2016-10-13T00:00:00\",\"2016-10-14T00:00:00\",\"2016-10-15T00:00:00\",\"2016-10-16T00:00:00\",\"2016-10-17T00:00:00\",\"2016-10-18T00:00:00\",\"2016-10-19T00:00:00\",\"2016-10-20T00:00:00\",\"2016-10-21T00:00:00\",\"2016-10-22T00:00:00\",\"2016-10-23T00:00:00\",\"2016-10-24T00:00:00\",\"2016-10-25T00:00:00\",\"2016-10-26T00:00:00\",\"2016-10-27T00:00:00\",\"2016-10-28T00:00:00\",\"2016-10-29T00:00:00\",\"2016-10-30T00:00:00\",\"2016-10-31T00:00:00\",\"2016-11-01T00:00:00\",\"2016-11-02T00:00:00\",\"2016-11-03T00:00:00\",\"2016-11-04T00:00:00\",\"2016-11-05T00:00:00\",\"2016-11-06T00:00:00\",\"2016-11-07T00:00:00\",\"2016-11-08T00:00:00\",\"2016-11-09T00:00:00\",\"2016-11-10T00:00:00\",\"2016-11-11T00:00:00\",\"2016-11-12T00:00:00\",\"2016-11-13T00:00:00\",\"2016-11-14T00:00:00\",\"2016-11-15T00:00:00\",\"2016-11-16T00:00:00\",\"2016-11-17T00:00:00\",\"2016-11-18T00:00:00\",\"2016-11-19T00:00:00\",\"2016-11-20T00:00:00\",\"2016-11-21T00:00:00\",\"2016-11-22T00:00:00\",\"2016-11-23T00:00:00\",\"2016-11-24T00:00:00\",\"2016-11-25T00:00:00\",\"2016-11-26T00:00:00\",\"2016-11-27T00:00:00\",\"2016-11-28T00:00:00\",\"2016-11-29T00:00:00\",\"2016-11-30T00:00:00\",\"2016-12-01T00:00:00\",\"2016-12-02T00:00:00\",\"2016-12-03T00:00:00\",\"2016-12-04T00:00:00\",\"2016-12-05T00:00:00\",\"2016-12-06T00:00:00\",\"2016-12-07T00:00:00\",\"2016-12-08T00:00:00\",\"2016-12-09T00:00:00\",\"2016-12-10T00:00:00\",\"2016-12-11T00:00:00\",\"2016-12-12T00:00:00\",\"2016-12-13T00:00:00\",\"2016-12-14T00:00:00\",\"2016-12-15T00:00:00\",\"2016-12-16T00:00:00\",\"2016-12-17T00:00:00\",\"2016-12-18T00:00:00\",\"2016-12-19T00:00:00\",\"2016-12-20T00:00:00\",\"2016-12-21T00:00:00\",\"2016-12-22T00:00:00\",\"2016-12-23T00:00:00\",\"2016-12-24T00:00:00\",\"2016-12-25T00:00:00\",\"2016-12-26T00:00:00\",\"2016-12-27T00:00:00\",\"2016-12-28T00:00:00\",\"2016-12-29T00:00:00\",\"2016-12-30T00:00:00\",\"2016-12-31T00:00:00\",\"2017-01-01T00:00:00\"],\"y\":[25.64118957721686,25.323510771222452,25.42429186167601,26.27832463152678,26.12905751966137,26.001690522560718,26.181771909842368,25.003532660724165,25.241398987055256,25.402431099600427,26.031513972632936,26.27461852645796,26.855341309794774,27.118192713896107,26.97571649360692,26.578182740347977,26.80484763423965,27.47204373530801,28.033136888411683,26.98864236845938,27.6048694629889,27.737863627732317,27.606895500983896,28.485265138069117,28.767307901566614,29.318540963780627,30.474533755834294,31.431692617697106,30.760993923766623,31.38790130552504,31.482835131317174,31.286575287921973,31.431875212381858,32.00431955252153,32.48284788620616,31.81634628600713,32.052667958964044,32.52703309427318,32.61522124076712,32.68393822595787,33.655155624617315,33.63205290460247,33.948367308427535,34.35277045460792,34.14554767550581,34.32114666122705,34.40545132886142,33.86190093247333,33.5808420264286,33.804762093064255,33.915607044097044,33.69575731861233,33.9218055814264,34.04368446196054,33.69252193637256,34.15989360230901,35.275892997907135,34.5645381629878,34.25810185604642,33.888230533260156,33.74278863839846,34.21261448137161,34.63999769317433,34.11301126472167,34.54072985750775,34.53240311606244,34.718155295429696,35.262040293565,34.829807649303795,35.64281302053599,36.31432145936131,36.72971064749127,36.715399743462314,37.01283403408935,36.99179520877603,37.16957929395832,37.64643550575604,35.95651853231112,35.04861755555734,35.40580614637485,35.561416020909384,36.32724718903128,35.82625277870327,34.38366720615122,32.43350494515968,33.95443998929497,33.98634330244187,34.19506298644421,35.23852340252904,36.27541721293837,35.97744277392096,35.306263216376315,34.813353601529265,34.72208528072492,35.616117697739284,36.216674247247525,35.677143317741084,36.07878367893379,36.25661307358803,34.51338897464143,35.12898448924714,34.72259957831678,34.67748300351981,35.23514219856092,35.340615473046526,33.28999020901605,34.144740239276615,34.32055836327063,33.04350573433766,34.398947158407196,34.257102625093985,34.121854640785244,34.28484134122769,33.07538823028442,33.66753626276155,34.20856121530678,32.91387094041991,31.988208567118654,32.59962588434843,32.09601547562133,32.22080403033577,32.421001561866625,32.07177458030885,31.889130933543527,32.53642524771473,31.916588019756894,30.901113039994126,31.06723654241412,31.49196883169906,31.355707246537317,31.241627309906498,30.105088503481635,29.655344442620205,29.678872152272852,30.567993020048668,31.133080873083372,31.121366380053328,31.731768898760993,31.201579684638418,30.780240689536292,30.497155202086297,30.272846873457524,29.50102284988444,30.546128396378084,29.75832424971606,29.138244943427928,29.63226047540574,28.96086208526222,29.121309945354724,29.998590370945934,30.08546792424287,30.192535828715094,29.654712364599455,30.53284079399699,31.084827270361053,30.58675654605894,31.01553085388767,30.220263865651113,30.301444939126785,30.61276357180006,29.96932226679595,30.130847250389678,30.62101331618345,29.985392610213353,29.582684178257374,30.47207272254512,30.25977491262218,29.99631647393938,30.791367507045997,30.536956403846737,29.89835429004269,30.288136328604345,30.108490198628402,30.220756219547415,31.16883179467838,30.128125654736795,29.839762840634453,29.070215912935858,28.691793931763325,29.238490193997873,29.43451726320775,29.600304650868527,29.65628625495649,29.661915481543247,29.217864842532073,29.70017936658207,28.96719589600155,29.502730314667044,30.038345253789924,30.099990587007,30.549456684515995,30.008856945357856,30.215576833868703,30.312646028448004,30.672576867394795,30.52359605607367,30.774713265384683,31.207622821138052,31.327639212917965,30.413443156931727,30.065883501167534,30.389100367493445,29.92478899559595,30.17766172677488,30.51431440188454,30.506720137974312,30.483870033359565,30.575741825696156,30.30334590876877,30.589730554934388,30.862571271350333,30.06741135730463,29.487414530904196,30.111842346380545,29.938298674016753,29.555590321995307,29.783786910683695,29.437711140146106,29.088414974152368,29.00256635855701,28.63564978172912,28.249056221606054,27.88398671539284,28.02655378033786,27.8775308818711,27.594847901005295,27.512536272252312,27.591821751720417,27.24837670852209,27.583773284873747,26.996173470921093,26.470561968432825,26.512796084537452,26.220066032444688,25.826337308659873,25.426879256920557,25.382098730493883,24.655031707006543,24.440615794442618,23.927118615541968,23.586389427502983,23.85413483127062,23.406857801554327,22.566734485527423,22.32512448553066,22.776445239261754,22.09924745149836,21.715588124104023,22.042443151630838,21.929236797964613,21.92815590753292,22.077255504155655,21.63285666869154,21.113496253239195,21.15948925019601,20.886942247343956,20.55947052728662,20.20032221483395,20.66944104045024,20.25985887767969,20.46424170824687,20.07652023415326,19.422000504349434,20.080347523206182,20.52331929140818,20.31464510287578,19.983138328232336,20.148122988633578,19.302999620335143,19.137356536516673,18.878178705914266,19.090466063176024,18.487908400805008,18.16975467277289,17.944472722618443,17.251282152166066,16.39104418258129,16.852983694898214,15.906210902799756,16.614702285352244,17.137007405284677,16.270892326765903,16.25434355250617,16.22161723910775,15.27024261518046,15.445678697332617,15.465947088525624,15.224395223388688,16.48555407517773,15.802743244985518,15.377392872700232,14.841694955450576,19.68903577930762],\"type\":\"scatter\"}],                        {\"title\":{\"text\":\"Prediction vs Target over time\"},\"xaxis\":{\"title\":{\"text\":\"Time\"}},\"yaxis\":{\"title\":{\"text\":\"Target Values and Predictions\"}},\"template\":{\"data\":{\"bar\":[{\"error_x\":{\"color\":\"#2a3f5f\"},\"error_y\":{\"color\":\"#2a3f5f\"},\"marker\":{\"line\":{\"color\":\"#E5ECF6\",\"width\":0.5},\"pattern\":{\"fillmode\":\"overlay\",\"size\":10,\"solidity\":0.2}},\"type\":\"bar\"}],\"barpolar\":[{\"marker\":{\"line\":{\"color\":\"#E5ECF6\",\"width\":0.5},\"pattern\":{\"fillmode\":\"overlay\",\"size\":10,\"solidity\":0.2}},\"type\":\"barpolar\"}],\"carpet\":[{\"aaxis\":{\"endlinecolor\":\"#2a3f5f\",\"gridcolor\":\"white\",\"linecolor\":\"white\",\"minorgridcolor\":\"white\",\"startlinecolor\":\"#2a3f5f\"},\"baxis\":{\"endlinecolor\":\"#2a3f5f\",\"gridcolor\":\"white\",\"linecolor\":\"white\",\"minorgridcolor\":\"white\",\"startlinecolor\":\"#2a3f5f\"},\"type\":\"carpet\"}],\"choropleth\":[{\"colorbar\":{\"outlinewidth\":0,\"ticks\":\"\"},\"type\":\"choropleth\"}],\"contour\":[{\"colorbar\":{\"outlinewidth\":0,\"ticks\":\"\"},\"colorscale\":[[0.0,\"#0d0887\"],[0.1111111111111111,\"#46039f\"],[0.2222222222222222,\"#7201a8\"],[0.3333333333333333,\"#9c179e\"],[0.4444444444444444,\"#bd3786\"],[0.5555555555555556,\"#d8576b\"],[0.6666666666666666,\"#ed7953\"],[0.7777777777777778,\"#fb9f3a\"],[0.8888888888888888,\"#fdca26\"],[1.0,\"#f0f921\"]],\"type\":\"contour\"}],\"contourcarpet\":[{\"colorbar\":{\"outlinewidth\":0,\"ticks\":\"\"},\"type\":\"contourcarpet\"}],\"heatmap\":[{\"colorbar\":{\"outlinewidth\":0,\"ticks\":\"\"},\"colorscale\":[[0.0,\"#0d0887\"],[0.1111111111111111,\"#46039f\"],[0.2222222222222222,\"#7201a8\"],[0.3333333333333333,\"#9c179e\"],[0.4444444444444444,\"#bd3786\"],[0.5555555555555556,\"#d8576b\"],[0.6666666666666666,\"#ed7953\"],[0.7777777777777778,\"#fb9f3a\"],[0.8888888888888888,\"#fdca26\"],[1.0,\"#f0f921\"]],\"type\":\"heatmap\"}],\"heatmapgl\":[{\"colorbar\":{\"outlinewidth\":0,\"ticks\":\"\"},\"colorscale\":[[0.0,\"#0d0887\"],[0.1111111111111111,\"#46039f\"],[0.2222222222222222,\"#7201a8\"],[0.3333333333333333,\"#9c179e\"],[0.4444444444444444,\"#bd3786\"],[0.5555555555555556,\"#d8576b\"],[0.6666666666666666,\"#ed7953\"],[0.7777777777777778,\"#fb9f3a\"],[0.8888888888888888,\"#fdca26\"],[1.0,\"#f0f921\"]],\"type\":\"heatmapgl\"}],\"histogram\":[{\"marker\":{\"pattern\":{\"fillmode\":\"overlay\",\"size\":10,\"solidity\":0.2}},\"type\":\"histogram\"}],\"histogram2d\":[{\"colorbar\":{\"outlinewidth\":0,\"ticks\":\"\"},\"colorscale\":[[0.0,\"#0d0887\"],[0.1111111111111111,\"#46039f\"],[0.2222222222222222,\"#7201a8\"],[0.3333333333333333,\"#9c179e\"],[0.4444444444444444,\"#bd3786\"],[0.5555555555555556,\"#d8576b\"],[0.6666666666666666,\"#ed7953\"],[0.7777777777777778,\"#fb9f3a\"],[0.8888888888888888,\"#fdca26\"],[1.0,\"#f0f921\"]],\"type\":\"histogram2d\"}],\"histogram2dcontour\":[{\"colorbar\":{\"outlinewidth\":0,\"ticks\":\"\"},\"colorscale\":[[0.0,\"#0d0887\"],[0.1111111111111111,\"#46039f\"],[0.2222222222222222,\"#7201a8\"],[0.3333333333333333,\"#9c179e\"],[0.4444444444444444,\"#bd3786\"],[0.5555555555555556,\"#d8576b\"],[0.6666666666666666,\"#ed7953\"],[0.7777777777777778,\"#fb9f3a\"],[0.8888888888888888,\"#fdca26\"],[1.0,\"#f0f921\"]],\"type\":\"histogram2dcontour\"}],\"mesh3d\":[{\"colorbar\":{\"outlinewidth\":0,\"ticks\":\"\"},\"type\":\"mesh3d\"}],\"parcoords\":[{\"line\":{\"colorbar\":{\"outlinewidth\":0,\"ticks\":\"\"}},\"type\":\"parcoords\"}],\"pie\":[{\"automargin\":true,\"type\":\"pie\"}],\"scatter\":[{\"marker\":{\"colorbar\":{\"outlinewidth\":0,\"ticks\":\"\"}},\"type\":\"scatter\"}],\"scatter3d\":[{\"line\":{\"colorbar\":{\"outlinewidth\":0,\"ticks\":\"\"}},\"marker\":{\"colorbar\":{\"outlinewidth\":0,\"ticks\":\"\"}},\"type\":\"scatter3d\"}],\"scattercarpet\":[{\"marker\":{\"colorbar\":{\"outlinewidth\":0,\"ticks\":\"\"}},\"type\":\"scattercarpet\"}],\"scattergeo\":[{\"marker\":{\"colorbar\":{\"outlinewidth\":0,\"ticks\":\"\"}},\"type\":\"scattergeo\"}],\"scattergl\":[{\"marker\":{\"colorbar\":{\"outlinewidth\":0,\"ticks\":\"\"}},\"type\":\"scattergl\"}],\"scattermapbox\":[{\"marker\":{\"colorbar\":{\"outlinewidth\":0,\"ticks\":\"\"}},\"type\":\"scattermapbox\"}],\"scatterpolar\":[{\"marker\":{\"colorbar\":{\"outlinewidth\":0,\"ticks\":\"\"}},\"type\":\"scatterpolar\"}],\"scatterpolargl\":[{\"marker\":{\"colorbar\":{\"outlinewidth\":0,\"ticks\":\"\"}},\"type\":\"scatterpolargl\"}],\"scatterternary\":[{\"marker\":{\"colorbar\":{\"outlinewidth\":0,\"ticks\":\"\"}},\"type\":\"scatterternary\"}],\"surface\":[{\"colorbar\":{\"outlinewidth\":0,\"ticks\":\"\"},\"colorscale\":[[0.0,\"#0d0887\"],[0.1111111111111111,\"#46039f\"],[0.2222222222222222,\"#7201a8\"],[0.3333333333333333,\"#9c179e\"],[0.4444444444444444,\"#bd3786\"],[0.5555555555555556,\"#d8576b\"],[0.6666666666666666,\"#ed7953\"],[0.7777777777777778,\"#fb9f3a\"],[0.8888888888888888,\"#fdca26\"],[1.0,\"#f0f921\"]],\"type\":\"surface\"}],\"table\":[{\"cells\":{\"fill\":{\"color\":\"#EBF0F8\"},\"line\":{\"color\":\"white\"}},\"header\":{\"fill\":{\"color\":\"#C8D4E3\"},\"line\":{\"color\":\"white\"}},\"type\":\"table\"}]},\"layout\":{\"annotationdefaults\":{\"arrowcolor\":\"#2a3f5f\",\"arrowhead\":0,\"arrowwidth\":1},\"autotypenumbers\":\"strict\",\"coloraxis\":{\"colorbar\":{\"outlinewidth\":0,\"ticks\":\"\"}},\"colorscale\":{\"diverging\":[[0,\"#8e0152\"],[0.1,\"#c51b7d\"],[0.2,\"#de77ae\"],[0.3,\"#f1b6da\"],[0.4,\"#fde0ef\"],[0.5,\"#f7f7f7\"],[0.6,\"#e6f5d0\"],[0.7,\"#b8e186\"],[0.8,\"#7fbc41\"],[0.9,\"#4d9221\"],[1,\"#276419\"]],\"sequential\":[[0.0,\"#0d0887\"],[0.1111111111111111,\"#46039f\"],[0.2222222222222222,\"#7201a8\"],[0.3333333333333333,\"#9c179e\"],[0.4444444444444444,\"#bd3786\"],[0.5555555555555556,\"#d8576b\"],[0.6666666666666666,\"#ed7953\"],[0.7777777777777778,\"#fb9f3a\"],[0.8888888888888888,\"#fdca26\"],[1.0,\"#f0f921\"]],\"sequentialminus\":[[0.0,\"#0d0887\"],[0.1111111111111111,\"#46039f\"],[0.2222222222222222,\"#7201a8\"],[0.3333333333333333,\"#9c179e\"],[0.4444444444444444,\"#bd3786\"],[0.5555555555555556,\"#d8576b\"],[0.6666666666666666,\"#ed7953\"],[0.7777777777777778,\"#fb9f3a\"],[0.8888888888888888,\"#fdca26\"],[1.0,\"#f0f921\"]]},\"colorway\":[\"#636efa\",\"#EF553B\",\"#00cc96\",\"#ab63fa\",\"#FFA15A\",\"#19d3f3\",\"#FF6692\",\"#B6E880\",\"#FF97FF\",\"#FECB52\"],\"font\":{\"color\":\"#2a3f5f\"},\"geo\":{\"bgcolor\":\"white\",\"lakecolor\":\"white\",\"landcolor\":\"#E5ECF6\",\"showlakes\":true,\"showland\":true,\"subunitcolor\":\"white\"},\"hoverlabel\":{\"align\":\"left\"},\"hovermode\":\"closest\",\"mapbox\":{\"style\":\"light\"},\"paper_bgcolor\":\"white\",\"plot_bgcolor\":\"#E5ECF6\",\"polar\":{\"angularaxis\":{\"gridcolor\":\"white\",\"linecolor\":\"white\",\"ticks\":\"\"},\"bgcolor\":\"#E5ECF6\",\"radialaxis\":{\"gridcolor\":\"white\",\"linecolor\":\"white\",\"ticks\":\"\"}},\"scene\":{\"xaxis\":{\"backgroundcolor\":\"#E5ECF6\",\"gridcolor\":\"white\",\"gridwidth\":2,\"linecolor\":\"white\",\"showbackground\":true,\"ticks\":\"\",\"zerolinecolor\":\"white\"},\"yaxis\":{\"backgroundcolor\":\"#E5ECF6\",\"gridcolor\":\"white\",\"gridwidth\":2,\"linecolor\":\"white\",\"showbackground\":true,\"ticks\":\"\",\"zerolinecolor\":\"white\"},\"zaxis\":{\"backgroundcolor\":\"#E5ECF6\",\"gridcolor\":\"white\",\"gridwidth\":2,\"linecolor\":\"white\",\"showbackground\":true,\"ticks\":\"\",\"zerolinecolor\":\"white\"}},\"shapedefaults\":{\"line\":{\"color\":\"#2a3f5f\"}},\"ternary\":{\"aaxis\":{\"gridcolor\":\"white\",\"linecolor\":\"white\",\"ticks\":\"\"},\"baxis\":{\"gridcolor\":\"white\",\"linecolor\":\"white\",\"ticks\":\"\"},\"bgcolor\":\"#E5ECF6\",\"caxis\":{\"gridcolor\":\"white\",\"linecolor\":\"white\",\"ticks\":\"\"}},\"title\":{\"x\":0.05},\"xaxis\":{\"automargin\":true,\"gridcolor\":\"white\",\"linecolor\":\"white\",\"ticks\":\"\",\"title\":{\"standoff\":15},\"zerolinecolor\":\"white\",\"zerolinewidth\":2},\"yaxis\":{\"automargin\":true,\"gridcolor\":\"white\",\"linecolor\":\"white\",\"ticks\":\"\",\"title\":{\"standoff\":15},\"zerolinecolor\":\"white\",\"zerolinewidth\":2}}}},                        {\"responsive\": true}                    ).then(function(){\n",
       "                            \n",
       "var gd = document.getElementById('43a5311f-11b3-44fc-8059-87803c2beb07');\n",
       "var x = new MutationObserver(function (mutations, observer) {{\n",
       "        var display = window.getComputedStyle(gd).display;\n",
       "        if (!display || display === 'none') {{\n",
       "            console.log([gd, 'removed!']);\n",
       "            Plotly.purge(gd);\n",
       "            observer.disconnect();\n",
       "        }}\n",
       "}});\n",
       "\n",
       "// Listen for the removal of the full notebook cells\n",
       "var notebookContainer = gd.closest('#notebook-container');\n",
       "if (notebookContainer) {{\n",
       "    x.observe(notebookContainer, {childList: true});\n",
       "}}\n",
       "\n",
       "// Listen for the clearing of the current output cell\n",
       "var outputEl = gd.closest('.output');\n",
       "if (outputEl) {{\n",
       "    x.observe(outputEl, {childList: true});\n",
       "}}\n",
       "\n",
       "                        })                };                });            </script>        </div>"
      ]
     },
     "metadata": {},
     "output_type": "display_data"
    }
   ],
   "source": [
    "fig = graph_prediction_vs_actual_over_time(pipeline, X_test, y_test, X_train, y_train, dates=X_test['date'])\n",
    "fig"
   ]
  },
  {
   "cell_type": "code",
   "execution_count": 64,
   "id": "a23404d3",
   "metadata": {},
   "outputs": [
    {
     "data": {
      "text/plain": [
       "2.0249999999999986"
      ]
     },
     "execution_count": 64,
     "metadata": {},
     "output_type": "execute_result"
    }
   ],
   "source": [
    "baseline = automl.get_pipeline(0)\n",
    "baseline.fit(X_train, y_train)\n",
    "naive_baseline_score = baseline.score(X_test, y_test, ['MedianAE'], X_train, y_train)['MedianAE']\n",
    "naive_baseline_score"
   ]
  },
  {
   "cell_type": "code",
   "execution_count": 65,
   "id": "077f9f61",
   "metadata": {},
   "outputs": [
    {
     "data": {
      "application/vnd.plotly.v1+json": {
       "config": {
        "plotlyServerURL": "https://plot.ly"
       },
       "data": [
        {
         "line": {
          "color": "#1f77b4"
         },
         "mode": "lines+markers",
         "name": "Target",
         "type": "scatter",
         "x": [
          "2016-03-15T00:00:00",
          "2016-03-16T00:00:00",
          "2016-03-17T00:00:00",
          "2016-03-18T00:00:00",
          "2016-03-19T00:00:00",
          "2016-03-20T00:00:00",
          "2016-03-21T00:00:00",
          "2016-03-22T00:00:00",
          "2016-03-23T00:00:00",
          "2016-03-24T00:00:00",
          "2016-03-25T00:00:00",
          "2016-03-26T00:00:00",
          "2016-03-27T00:00:00",
          "2016-03-28T00:00:00",
          "2016-03-29T00:00:00",
          "2016-03-30T00:00:00",
          "2016-03-31T00:00:00",
          "2016-04-01T00:00:00",
          "2016-04-02T00:00:00",
          "2016-04-03T00:00:00",
          "2016-04-04T00:00:00",
          "2016-04-05T00:00:00",
          "2016-04-06T00:00:00",
          "2016-04-07T00:00:00",
          "2016-04-08T00:00:00",
          "2016-04-09T00:00:00",
          "2016-04-10T00:00:00",
          "2016-04-11T00:00:00",
          "2016-04-12T00:00:00",
          "2016-04-13T00:00:00",
          "2016-04-14T00:00:00",
          "2016-04-15T00:00:00",
          "2016-04-16T00:00:00",
          "2016-04-17T00:00:00",
          "2016-04-18T00:00:00",
          "2016-04-19T00:00:00",
          "2016-04-20T00:00:00",
          "2016-04-21T00:00:00",
          "2016-04-22T00:00:00",
          "2016-04-23T00:00:00",
          "2016-04-24T00:00:00",
          "2016-04-25T00:00:00",
          "2016-04-26T00:00:00",
          "2016-04-27T00:00:00",
          "2016-04-28T00:00:00",
          "2016-04-29T00:00:00",
          "2016-04-30T00:00:00",
          "2016-05-01T00:00:00",
          "2016-05-02T00:00:00",
          "2016-05-03T00:00:00",
          "2016-05-04T00:00:00",
          "2016-05-05T00:00:00",
          "2016-05-06T00:00:00",
          "2016-05-07T00:00:00",
          "2016-05-08T00:00:00",
          "2016-05-09T00:00:00",
          "2016-05-10T00:00:00",
          "2016-05-11T00:00:00",
          "2016-05-12T00:00:00",
          "2016-05-13T00:00:00",
          "2016-05-14T00:00:00",
          "2016-05-15T00:00:00",
          "2016-05-16T00:00:00",
          "2016-05-17T00:00:00",
          "2016-05-18T00:00:00",
          "2016-05-19T00:00:00",
          "2016-05-20T00:00:00",
          "2016-05-21T00:00:00",
          "2016-05-22T00:00:00",
          "2016-05-23T00:00:00",
          "2016-05-24T00:00:00",
          "2016-05-25T00:00:00",
          "2016-05-26T00:00:00",
          "2016-05-27T00:00:00",
          "2016-05-28T00:00:00",
          "2016-05-29T00:00:00",
          "2016-05-30T00:00:00",
          "2016-05-31T00:00:00",
          "2016-06-01T00:00:00",
          "2016-06-02T00:00:00",
          "2016-06-03T00:00:00",
          "2016-06-04T00:00:00",
          "2016-06-05T00:00:00",
          "2016-06-06T00:00:00",
          "2016-06-07T00:00:00",
          "2016-06-08T00:00:00",
          "2016-06-09T00:00:00",
          "2016-06-10T00:00:00",
          "2016-06-11T00:00:00",
          "2016-06-12T00:00:00",
          "2016-06-13T00:00:00",
          "2016-06-14T00:00:00",
          "2016-06-15T00:00:00",
          "2016-06-16T00:00:00",
          "2016-06-17T00:00:00",
          "2016-06-18T00:00:00",
          "2016-06-19T00:00:00",
          "2016-06-20T00:00:00",
          "2016-06-21T00:00:00",
          "2016-06-22T00:00:00",
          "2016-06-23T00:00:00",
          "2016-06-24T00:00:00",
          "2016-06-25T00:00:00",
          "2016-06-26T00:00:00",
          "2016-06-27T00:00:00",
          "2016-06-28T00:00:00",
          "2016-06-29T00:00:00",
          "2016-06-30T00:00:00",
          "2016-07-01T00:00:00",
          "2016-07-02T00:00:00",
          "2016-07-03T00:00:00",
          "2016-07-04T00:00:00",
          "2016-07-05T00:00:00",
          "2016-07-06T00:00:00",
          "2016-07-07T00:00:00",
          "2016-07-08T00:00:00",
          "2016-07-09T00:00:00",
          "2016-07-10T00:00:00",
          "2016-07-11T00:00:00",
          "2016-07-12T00:00:00",
          "2016-07-13T00:00:00",
          "2016-07-14T00:00:00",
          "2016-07-15T00:00:00",
          "2016-07-16T00:00:00",
          "2016-07-17T00:00:00",
          "2016-07-18T00:00:00",
          "2016-07-19T00:00:00",
          "2016-07-20T00:00:00",
          "2016-07-21T00:00:00",
          "2016-07-22T00:00:00",
          "2016-07-23T00:00:00",
          "2016-07-24T00:00:00",
          "2016-07-25T00:00:00",
          "2016-07-26T00:00:00",
          "2016-07-27T00:00:00",
          "2016-07-28T00:00:00",
          "2016-07-29T00:00:00",
          "2016-07-30T00:00:00",
          "2016-07-31T00:00:00",
          "2016-08-01T00:00:00",
          "2016-08-02T00:00:00",
          "2016-08-03T00:00:00",
          "2016-08-04T00:00:00",
          "2016-08-05T00:00:00",
          "2016-08-06T00:00:00",
          "2016-08-07T00:00:00",
          "2016-08-08T00:00:00",
          "2016-08-09T00:00:00",
          "2016-08-10T00:00:00",
          "2016-08-11T00:00:00",
          "2016-08-12T00:00:00",
          "2016-08-13T00:00:00",
          "2016-08-14T00:00:00",
          "2016-08-15T00:00:00",
          "2016-08-16T00:00:00",
          "2016-08-17T00:00:00",
          "2016-08-18T00:00:00",
          "2016-08-19T00:00:00",
          "2016-08-20T00:00:00",
          "2016-08-21T00:00:00",
          "2016-08-22T00:00:00",
          "2016-08-23T00:00:00",
          "2016-08-24T00:00:00",
          "2016-08-25T00:00:00",
          "2016-08-26T00:00:00",
          "2016-08-27T00:00:00",
          "2016-08-28T00:00:00",
          "2016-08-29T00:00:00",
          "2016-08-30T00:00:00",
          "2016-08-31T00:00:00",
          "2016-09-01T00:00:00",
          "2016-09-02T00:00:00",
          "2016-09-03T00:00:00",
          "2016-09-04T00:00:00",
          "2016-09-05T00:00:00",
          "2016-09-06T00:00:00",
          "2016-09-07T00:00:00",
          "2016-09-08T00:00:00",
          "2016-09-09T00:00:00",
          "2016-09-10T00:00:00",
          "2016-09-11T00:00:00",
          "2016-09-12T00:00:00",
          "2016-09-13T00:00:00",
          "2016-09-14T00:00:00",
          "2016-09-15T00:00:00",
          "2016-09-16T00:00:00",
          "2016-09-17T00:00:00",
          "2016-09-18T00:00:00",
          "2016-09-19T00:00:00",
          "2016-09-20T00:00:00",
          "2016-09-21T00:00:00",
          "2016-09-22T00:00:00",
          "2016-09-23T00:00:00",
          "2016-09-24T00:00:00",
          "2016-09-25T00:00:00",
          "2016-09-26T00:00:00",
          "2016-09-27T00:00:00",
          "2016-09-28T00:00:00",
          "2016-09-29T00:00:00",
          "2016-09-30T00:00:00",
          "2016-10-01T00:00:00",
          "2016-10-02T00:00:00",
          "2016-10-03T00:00:00",
          "2016-10-04T00:00:00",
          "2016-10-05T00:00:00",
          "2016-10-06T00:00:00",
          "2016-10-07T00:00:00",
          "2016-10-08T00:00:00",
          "2016-10-09T00:00:00",
          "2016-10-10T00:00:00",
          "2016-10-11T00:00:00",
          "2016-10-12T00:00:00",
          "2016-10-13T00:00:00",
          "2016-10-14T00:00:00",
          "2016-10-15T00:00:00",
          "2016-10-16T00:00:00",
          "2016-10-17T00:00:00",
          "2016-10-18T00:00:00",
          "2016-10-19T00:00:00",
          "2016-10-20T00:00:00",
          "2016-10-21T00:00:00",
          "2016-10-22T00:00:00",
          "2016-10-23T00:00:00",
          "2016-10-24T00:00:00",
          "2016-10-25T00:00:00",
          "2016-10-26T00:00:00",
          "2016-10-27T00:00:00",
          "2016-10-28T00:00:00",
          "2016-10-29T00:00:00",
          "2016-10-30T00:00:00",
          "2016-10-31T00:00:00",
          "2016-11-01T00:00:00",
          "2016-11-02T00:00:00",
          "2016-11-03T00:00:00",
          "2016-11-04T00:00:00",
          "2016-11-05T00:00:00",
          "2016-11-06T00:00:00",
          "2016-11-07T00:00:00",
          "2016-11-08T00:00:00",
          "2016-11-09T00:00:00",
          "2016-11-10T00:00:00",
          "2016-11-11T00:00:00",
          "2016-11-12T00:00:00",
          "2016-11-13T00:00:00",
          "2016-11-14T00:00:00",
          "2016-11-15T00:00:00",
          "2016-11-16T00:00:00",
          "2016-11-17T00:00:00",
          "2016-11-18T00:00:00",
          "2016-11-19T00:00:00",
          "2016-11-20T00:00:00",
          "2016-11-21T00:00:00",
          "2016-11-22T00:00:00",
          "2016-11-23T00:00:00",
          "2016-11-24T00:00:00",
          "2016-11-25T00:00:00",
          "2016-11-26T00:00:00",
          "2016-11-27T00:00:00",
          "2016-11-28T00:00:00",
          "2016-11-29T00:00:00",
          "2016-11-30T00:00:00",
          "2016-12-01T00:00:00",
          "2016-12-02T00:00:00",
          "2016-12-03T00:00:00",
          "2016-12-04T00:00:00",
          "2016-12-05T00:00:00",
          "2016-12-06T00:00:00",
          "2016-12-07T00:00:00",
          "2016-12-08T00:00:00",
          "2016-12-09T00:00:00",
          "2016-12-10T00:00:00",
          "2016-12-11T00:00:00",
          "2016-12-12T00:00:00",
          "2016-12-13T00:00:00",
          "2016-12-14T00:00:00",
          "2016-12-15T00:00:00",
          "2016-12-16T00:00:00",
          "2016-12-17T00:00:00",
          "2016-12-18T00:00:00",
          "2016-12-19T00:00:00",
          "2016-12-20T00:00:00",
          "2016-12-21T00:00:00",
          "2016-12-22T00:00:00",
          "2016-12-23T00:00:00",
          "2016-12-24T00:00:00",
          "2016-12-25T00:00:00",
          "2016-12-26T00:00:00",
          "2016-12-27T00:00:00",
          "2016-12-28T00:00:00",
          "2016-12-29T00:00:00",
          "2016-12-30T00:00:00",
          "2016-12-31T00:00:00",
          "2017-01-01T00:00:00"
         ],
         "y": [
          24.066666666666663,
          23.9375,
          26.3125,
          26.1875,
          26.785714285714285,
          27.133333333333333,
          26.625,
          25.0625,
          26.2,
          28.133333333333333,
          29.875,
          24.666666666666668,
          26.25,
          25.933333333333334,
          27.125,
          29.571428571428573,
          30,
          30.571428571428573,
          32.3125,
          33.3125,
          32.8125,
          32.3125,
          31.375,
          29.933333333333334,
          29.266666666666666,
          30.73333333333333,
          32.25,
          29.8,
          30.2,
          31.75,
          33.125,
          33.625,
          35.6875,
          34.666666666666664,
          34.625,
          34,
          34.0625,
          34,
          33.25,
          31.916666666666668,
          31.3125,
          31.75,
          33.4375,
          33.125,
          34.15384615384615,
          34.07142857142857,
          33.0625,
          34.6875,
          38,
          35.5,
          33.714285714285715,
          30.6,
          31.4375,
          33.3125,
          35.13333333333333,
          33.53333333333333,
          34,
          32.5,
          35.375,
          37.294117647058826,
          36.5625,
          37.25,
          37.21428571428572,
          37.5,
          37.75,
          37.375,
          37.4,
          36.13333333333333,
          36.8,
          32.214285714285715,
          31.526315789473685,
          33.21739130434783,
          35.26923076923077,
          38.27272727272727,
          36.0625,
          31.5,
          26.8125,
          32.642857142857146,
          36,
          37.5625,
          37.5625,
          38.2,
          36.16666666666666,
          35.42857142857143,
          34.625,
          36.07142857142857,
          35.733333333333334,
          36.13333333333333,
          33.4375,
          35.5,
          36,
          32.625,
          34.733333333333334,
          33.5,
          34.1875,
          35.857142857142854,
          35.625,
          30.9375,
          32.875,
          33.125,
          33.84615384615385,
          36.4375,
          35.42857142857143,
          34.86666666666667,
          34.3125,
          30.785714285714285,
          35.375,
          35.46666666666667,
          32.125,
          28.4,
          29.5625,
          30.6875,
          33.25,
          33.266666666666666,
          33.5,
          30.8,
          33.25,
          32.5625,
          31.5,
          30.5,
          31.25,
          30.4375,
          31,
          27.125,
          28.125,
          27.666666666666668,
          32.3125,
          34.1875,
          34.13333333333333,
          34.125,
          31.875,
          31.4375,
          31.9375,
          30.3125,
          28.3125,
          29.53333333333333,
          27.375,
          27.33333333333333,
          29.266666666666666,
          29.125,
          30.6875,
          32.5625,
          33.111111111111114,
          33.8,
          30.066666666666663,
          33.11764705882353,
          33.80952380952381,
          31.615384615384617,
          32,
          28.107142857142858,
          29.035714285714285,
          30.321428571428573,
          28.933333333333334,
          31.678571428571427,
          31.33333333333333,
          29.928571428571427,
          29.88888888888889,
          32.07142857142857,
          33.18518518518518,
          31.59259259259259,
          32.18518518518518,
          31.48,
          30.178571428571427,
          31.52,
          31.22222222222222,
          31.785714285714285,
          33.4,
          29.571428571428573,
          30.04,
          27.25925925925926,
          27.96,
          30.73913043478261,
          30.894736842105264,
          31.692307692307693,
          31.07692307692308,
          30.375,
          31.1,
          31.916666666666668,
          30.55555555555556,
          31.23076923076923,
          31,
          31.642857142857142,
          32.53333333333333,
          30.857142857142858,
          31.727272727272727,
          31.4,
          32.30769230769231,
          32.25,
          32.375,
          33.44444444444444,
          33.36,
          30.03703703703704,
          31,
          31.24,
          31.130434782608692,
          31.48,
          32.18518518518518,
          32.44,
          32.22727272727273,
          32.214285714285715,
          32.541666666666664,
          32.81481481481482,
          33.26923076923077,
          30.55555555555556,
          28.83333333333333,
          30.703703703703702,
          30.96,
          30.6,
          30.92,
          29.77777777777778,
          29.666666666666668,
          29.571428571428573,
          29.96296296296296,
          29.75,
          27.74074074074074,
          28.428571428571427,
          28.6,
          28.5,
          28.925925925925927,
          29.07692307692308,
          28.40909090909091,
          29.33333333333333,
          27.5,
          28.5,
          28.04,
          27.57692307692308,
          26.55555555555556,
          25.51851851851852,
          25.814814814814813,
          24.82608695652174,
          24.53846153846154,
          24.384615384615383,
          23.727272727272727,
          25.64,
          24.814814814814813,
          23.115384615384617,
          22.925925925925927,
          24.545454545454547,
          23.73076923076923,
          23,
          23.51851851851852,
          23.92,
          23.53846153846154,
          24.296296296296298,
          23.346153846153847,
          22.24,
          21.76923076923077,
          21.73076923076923,
          21.73076923076923,
          20.666666666666668,
          22.25,
          21.53846153846154,
          22.57894736842105,
          22.82608695652174,
          21.42105263157895,
          23.6,
          24.294117647058822,
          23.63636363636364,
          22.454545454545453,
          21.61111111111111,
          19.869565217391305,
          19.75,
          19.20833333333333,
          21.20833333333333,
          18.9,
          18.63636363636364,
          18.53846153846154,
          18.25,
          16.9,
          19.416666666666668,
          16.444444444444443,
          20.041666666666668,
          19.90909090909091,
          19.05,
          18.55555555555556,
          18.166666666666668,
          15.833333333333334,
          17.5,
          16.083333333333332,
          17.857142857142858,
          19.8,
          18.05,
          17.285714285714285,
          15.55,
          17.318181818181817,
          14,
          17.142857142857142,
          16.85,
          17.217391304347824,
          15.238095238095235,
          14.095238095238097,
          15.052631578947368,
          10
         ]
        },
        {
         "line": {
          "color": "#d62728"
         },
         "mode": "lines+markers",
         "name": "Prediction",
         "type": "scatter",
         "x": [
          "2016-03-15T00:00:00",
          "2016-03-16T00:00:00",
          "2016-03-17T00:00:00",
          "2016-03-18T00:00:00",
          "2016-03-19T00:00:00",
          "2016-03-20T00:00:00",
          "2016-03-21T00:00:00",
          "2016-03-22T00:00:00",
          "2016-03-23T00:00:00",
          "2016-03-24T00:00:00",
          "2016-03-25T00:00:00",
          "2016-03-26T00:00:00",
          "2016-03-27T00:00:00",
          "2016-03-28T00:00:00",
          "2016-03-29T00:00:00",
          "2016-03-30T00:00:00",
          "2016-03-31T00:00:00",
          "2016-04-01T00:00:00",
          "2016-04-02T00:00:00",
          "2016-04-03T00:00:00",
          "2016-04-04T00:00:00",
          "2016-04-05T00:00:00",
          "2016-04-06T00:00:00",
          "2016-04-07T00:00:00",
          "2016-04-08T00:00:00",
          "2016-04-09T00:00:00",
          "2016-04-10T00:00:00",
          "2016-04-11T00:00:00",
          "2016-04-12T00:00:00",
          "2016-04-13T00:00:00",
          "2016-04-14T00:00:00",
          "2016-04-15T00:00:00",
          "2016-04-16T00:00:00",
          "2016-04-17T00:00:00",
          "2016-04-18T00:00:00",
          "2016-04-19T00:00:00",
          "2016-04-20T00:00:00",
          "2016-04-21T00:00:00",
          "2016-04-22T00:00:00",
          "2016-04-23T00:00:00",
          "2016-04-24T00:00:00",
          "2016-04-25T00:00:00",
          "2016-04-26T00:00:00",
          "2016-04-27T00:00:00",
          "2016-04-28T00:00:00",
          "2016-04-29T00:00:00",
          "2016-04-30T00:00:00",
          "2016-05-01T00:00:00",
          "2016-05-02T00:00:00",
          "2016-05-03T00:00:00",
          "2016-05-04T00:00:00",
          "2016-05-05T00:00:00",
          "2016-05-06T00:00:00",
          "2016-05-07T00:00:00",
          "2016-05-08T00:00:00",
          "2016-05-09T00:00:00",
          "2016-05-10T00:00:00",
          "2016-05-11T00:00:00",
          "2016-05-12T00:00:00",
          "2016-05-13T00:00:00",
          "2016-05-14T00:00:00",
          "2016-05-15T00:00:00",
          "2016-05-16T00:00:00",
          "2016-05-17T00:00:00",
          "2016-05-18T00:00:00",
          "2016-05-19T00:00:00",
          "2016-05-20T00:00:00",
          "2016-05-21T00:00:00",
          "2016-05-22T00:00:00",
          "2016-05-23T00:00:00",
          "2016-05-24T00:00:00",
          "2016-05-25T00:00:00",
          "2016-05-26T00:00:00",
          "2016-05-27T00:00:00",
          "2016-05-28T00:00:00",
          "2016-05-29T00:00:00",
          "2016-05-30T00:00:00",
          "2016-05-31T00:00:00",
          "2016-06-01T00:00:00",
          "2016-06-02T00:00:00",
          "2016-06-03T00:00:00",
          "2016-06-04T00:00:00",
          "2016-06-05T00:00:00",
          "2016-06-06T00:00:00",
          "2016-06-07T00:00:00",
          "2016-06-08T00:00:00",
          "2016-06-09T00:00:00",
          "2016-06-10T00:00:00",
          "2016-06-11T00:00:00",
          "2016-06-12T00:00:00",
          "2016-06-13T00:00:00",
          "2016-06-14T00:00:00",
          "2016-06-15T00:00:00",
          "2016-06-16T00:00:00",
          "2016-06-17T00:00:00",
          "2016-06-18T00:00:00",
          "2016-06-19T00:00:00",
          "2016-06-20T00:00:00",
          "2016-06-21T00:00:00",
          "2016-06-22T00:00:00",
          "2016-06-23T00:00:00",
          "2016-06-24T00:00:00",
          "2016-06-25T00:00:00",
          "2016-06-26T00:00:00",
          "2016-06-27T00:00:00",
          "2016-06-28T00:00:00",
          "2016-06-29T00:00:00",
          "2016-06-30T00:00:00",
          "2016-07-01T00:00:00",
          "2016-07-02T00:00:00",
          "2016-07-03T00:00:00",
          "2016-07-04T00:00:00",
          "2016-07-05T00:00:00",
          "2016-07-06T00:00:00",
          "2016-07-07T00:00:00",
          "2016-07-08T00:00:00",
          "2016-07-09T00:00:00",
          "2016-07-10T00:00:00",
          "2016-07-11T00:00:00",
          "2016-07-12T00:00:00",
          "2016-07-13T00:00:00",
          "2016-07-14T00:00:00",
          "2016-07-15T00:00:00",
          "2016-07-16T00:00:00",
          "2016-07-17T00:00:00",
          "2016-07-18T00:00:00",
          "2016-07-19T00:00:00",
          "2016-07-20T00:00:00",
          "2016-07-21T00:00:00",
          "2016-07-22T00:00:00",
          "2016-07-23T00:00:00",
          "2016-07-24T00:00:00",
          "2016-07-25T00:00:00",
          "2016-07-26T00:00:00",
          "2016-07-27T00:00:00",
          "2016-07-28T00:00:00",
          "2016-07-29T00:00:00",
          "2016-07-30T00:00:00",
          "2016-07-31T00:00:00",
          "2016-08-01T00:00:00",
          "2016-08-02T00:00:00",
          "2016-08-03T00:00:00",
          "2016-08-04T00:00:00",
          "2016-08-05T00:00:00",
          "2016-08-06T00:00:00",
          "2016-08-07T00:00:00",
          "2016-08-08T00:00:00",
          "2016-08-09T00:00:00",
          "2016-08-10T00:00:00",
          "2016-08-11T00:00:00",
          "2016-08-12T00:00:00",
          "2016-08-13T00:00:00",
          "2016-08-14T00:00:00",
          "2016-08-15T00:00:00",
          "2016-08-16T00:00:00",
          "2016-08-17T00:00:00",
          "2016-08-18T00:00:00",
          "2016-08-19T00:00:00",
          "2016-08-20T00:00:00",
          "2016-08-21T00:00:00",
          "2016-08-22T00:00:00",
          "2016-08-23T00:00:00",
          "2016-08-24T00:00:00",
          "2016-08-25T00:00:00",
          "2016-08-26T00:00:00",
          "2016-08-27T00:00:00",
          "2016-08-28T00:00:00",
          "2016-08-29T00:00:00",
          "2016-08-30T00:00:00",
          "2016-08-31T00:00:00",
          "2016-09-01T00:00:00",
          "2016-09-02T00:00:00",
          "2016-09-03T00:00:00",
          "2016-09-04T00:00:00",
          "2016-09-05T00:00:00",
          "2016-09-06T00:00:00",
          "2016-09-07T00:00:00",
          "2016-09-08T00:00:00",
          "2016-09-09T00:00:00",
          "2016-09-10T00:00:00",
          "2016-09-11T00:00:00",
          "2016-09-12T00:00:00",
          "2016-09-13T00:00:00",
          "2016-09-14T00:00:00",
          "2016-09-15T00:00:00",
          "2016-09-16T00:00:00",
          "2016-09-17T00:00:00",
          "2016-09-18T00:00:00",
          "2016-09-19T00:00:00",
          "2016-09-20T00:00:00",
          "2016-09-21T00:00:00",
          "2016-09-22T00:00:00",
          "2016-09-23T00:00:00",
          "2016-09-24T00:00:00",
          "2016-09-25T00:00:00",
          "2016-09-26T00:00:00",
          "2016-09-27T00:00:00",
          "2016-09-28T00:00:00",
          "2016-09-29T00:00:00",
          "2016-09-30T00:00:00",
          "2016-10-01T00:00:00",
          "2016-10-02T00:00:00",
          "2016-10-03T00:00:00",
          "2016-10-04T00:00:00",
          "2016-10-05T00:00:00",
          "2016-10-06T00:00:00",
          "2016-10-07T00:00:00",
          "2016-10-08T00:00:00",
          "2016-10-09T00:00:00",
          "2016-10-10T00:00:00",
          "2016-10-11T00:00:00",
          "2016-10-12T00:00:00",
          "2016-10-13T00:00:00",
          "2016-10-14T00:00:00",
          "2016-10-15T00:00:00",
          "2016-10-16T00:00:00",
          "2016-10-17T00:00:00",
          "2016-10-18T00:00:00",
          "2016-10-19T00:00:00",
          "2016-10-20T00:00:00",
          "2016-10-21T00:00:00",
          "2016-10-22T00:00:00",
          "2016-10-23T00:00:00",
          "2016-10-24T00:00:00",
          "2016-10-25T00:00:00",
          "2016-10-26T00:00:00",
          "2016-10-27T00:00:00",
          "2016-10-28T00:00:00",
          "2016-10-29T00:00:00",
          "2016-10-30T00:00:00",
          "2016-10-31T00:00:00",
          "2016-11-01T00:00:00",
          "2016-11-02T00:00:00",
          "2016-11-03T00:00:00",
          "2016-11-04T00:00:00",
          "2016-11-05T00:00:00",
          "2016-11-06T00:00:00",
          "2016-11-07T00:00:00",
          "2016-11-08T00:00:00",
          "2016-11-09T00:00:00",
          "2016-11-10T00:00:00",
          "2016-11-11T00:00:00",
          "2016-11-12T00:00:00",
          "2016-11-13T00:00:00",
          "2016-11-14T00:00:00",
          "2016-11-15T00:00:00",
          "2016-11-16T00:00:00",
          "2016-11-17T00:00:00",
          "2016-11-18T00:00:00",
          "2016-11-19T00:00:00",
          "2016-11-20T00:00:00",
          "2016-11-21T00:00:00",
          "2016-11-22T00:00:00",
          "2016-11-23T00:00:00",
          "2016-11-24T00:00:00",
          "2016-11-25T00:00:00",
          "2016-11-26T00:00:00",
          "2016-11-27T00:00:00",
          "2016-11-28T00:00:00",
          "2016-11-29T00:00:00",
          "2016-11-30T00:00:00",
          "2016-12-01T00:00:00",
          "2016-12-02T00:00:00",
          "2016-12-03T00:00:00",
          "2016-12-04T00:00:00",
          "2016-12-05T00:00:00",
          "2016-12-06T00:00:00",
          "2016-12-07T00:00:00",
          "2016-12-08T00:00:00",
          "2016-12-09T00:00:00",
          "2016-12-10T00:00:00",
          "2016-12-11T00:00:00",
          "2016-12-12T00:00:00",
          "2016-12-13T00:00:00",
          "2016-12-14T00:00:00",
          "2016-12-15T00:00:00",
          "2016-12-16T00:00:00",
          "2016-12-17T00:00:00",
          "2016-12-18T00:00:00",
          "2016-12-19T00:00:00",
          "2016-12-20T00:00:00",
          "2016-12-21T00:00:00",
          "2016-12-22T00:00:00",
          "2016-12-23T00:00:00",
          "2016-12-24T00:00:00",
          "2016-12-25T00:00:00",
          "2016-12-26T00:00:00",
          "2016-12-27T00:00:00",
          "2016-12-28T00:00:00",
          "2016-12-29T00:00:00",
          "2016-12-30T00:00:00",
          "2016-12-31T00:00:00",
          "2017-01-01T00:00:00"
         ],
         "y": [
          23.714285714285715,
          23.428571428571427,
          24,
          25.5625,
          25.066666666666663,
          24.5625,
          24.25,
          22.375,
          24.066666666666663,
          23.9375,
          26.3125,
          26.1875,
          26.785714285714285,
          27.133333333333333,
          26.625,
          25.0625,
          26.2,
          28.133333333333333,
          29.875,
          24.666666666666668,
          26.25,
          25.933333333333334,
          27.125,
          29.571428571428573,
          30,
          30.571428571428573,
          32.3125,
          33.3125,
          32.8125,
          32.3125,
          31.375,
          29.933333333333334,
          29.266666666666666,
          30.73333333333333,
          32.25,
          29.8,
          30.2,
          31.75,
          33.125,
          33.625,
          35.6875,
          34.666666666666664,
          34.625,
          34,
          34.0625,
          34,
          33.25,
          31.916666666666668,
          31.3125,
          31.75,
          33.4375,
          33.125,
          34.15384615384615,
          34.07142857142857,
          33.0625,
          34.6875,
          38,
          35.5,
          33.714285714285715,
          30.6,
          31.4375,
          33.3125,
          35.13333333333333,
          33.53333333333333,
          34,
          32.5,
          35.375,
          37.294117647058826,
          36.5625,
          37.25,
          37.21428571428572,
          37.5,
          37.75,
          37.375,
          37.4,
          36.13333333333333,
          36.8,
          32.214285714285715,
          31.526315789473685,
          33.21739130434783,
          35.26923076923077,
          38.27272727272727,
          36.0625,
          31.5,
          26.8125,
          32.642857142857146,
          36,
          37.5625,
          37.5625,
          38.2,
          36.16666666666666,
          35.42857142857143,
          34.625,
          36.07142857142857,
          35.733333333333334,
          36.13333333333333,
          33.4375,
          35.5,
          36,
          32.625,
          34.733333333333334,
          33.5,
          34.1875,
          35.857142857142854,
          35.625,
          30.9375,
          32.875,
          33.125,
          33.84615384615385,
          36.4375,
          35.42857142857143,
          34.86666666666667,
          34.3125,
          30.785714285714285,
          35.375,
          35.46666666666667,
          32.125,
          28.4,
          29.5625,
          30.6875,
          33.25,
          33.266666666666666,
          33.5,
          30.8,
          33.25,
          32.5625,
          31.5,
          30.5,
          31.25,
          30.4375,
          31,
          27.125,
          28.125,
          27.666666666666668,
          32.3125,
          34.1875,
          34.13333333333333,
          34.125,
          31.875,
          31.4375,
          31.9375,
          30.3125,
          28.3125,
          29.53333333333333,
          27.375,
          27.33333333333333,
          29.266666666666666,
          29.125,
          30.6875,
          32.5625,
          33.111111111111114,
          33.8,
          30.066666666666663,
          33.11764705882353,
          33.80952380952381,
          31.615384615384617,
          32,
          28.107142857142858,
          29.035714285714285,
          30.321428571428573,
          28.933333333333334,
          31.678571428571427,
          31.33333333333333,
          29.928571428571427,
          29.88888888888889,
          32.07142857142857,
          33.18518518518518,
          31.59259259259259,
          32.18518518518518,
          31.48,
          30.178571428571427,
          31.52,
          31.22222222222222,
          31.785714285714285,
          33.4,
          29.571428571428573,
          30.04,
          27.25925925925926,
          27.96,
          30.73913043478261,
          30.894736842105264,
          31.692307692307693,
          31.07692307692308,
          30.375,
          31.1,
          31.916666666666668,
          30.55555555555556,
          31.23076923076923,
          31,
          31.642857142857142,
          32.53333333333333,
          30.857142857142858,
          31.727272727272727,
          31.4,
          32.30769230769231,
          32.25,
          32.375,
          33.44444444444444,
          33.36,
          30.03703703703704,
          31,
          31.24,
          31.130434782608692,
          31.48,
          32.18518518518518,
          32.44,
          32.22727272727273,
          32.214285714285715,
          32.541666666666664,
          32.81481481481482,
          33.26923076923077,
          30.55555555555556,
          28.83333333333333,
          30.703703703703702,
          30.96,
          30.6,
          30.92,
          29.77777777777778,
          29.666666666666668,
          29.571428571428573,
          29.96296296296296,
          29.75,
          27.74074074074074,
          28.428571428571427,
          28.6,
          28.5,
          28.925925925925927,
          29.07692307692308,
          28.40909090909091,
          29.33333333333333,
          27.5,
          28.5,
          28.04,
          27.57692307692308,
          26.55555555555556,
          25.51851851851852,
          25.814814814814813,
          24.82608695652174,
          24.53846153846154,
          24.384615384615383,
          23.727272727272727,
          25.64,
          24.814814814814813,
          23.115384615384617,
          22.925925925925927,
          24.545454545454547,
          23.73076923076923,
          23,
          23.51851851851852,
          23.92,
          23.53846153846154,
          24.296296296296298,
          23.346153846153847,
          22.24,
          21.76923076923077,
          21.73076923076923,
          21.73076923076923,
          20.666666666666668,
          22.25,
          21.53846153846154,
          22.57894736842105,
          22.82608695652174,
          21.42105263157895,
          23.6,
          24.294117647058822,
          23.63636363636364,
          22.454545454545453,
          21.61111111111111,
          19.869565217391305,
          19.75,
          19.20833333333333,
          21.20833333333333,
          18.9,
          18.63636363636364,
          18.53846153846154,
          18.25,
          16.9,
          19.416666666666668,
          16.444444444444443,
          20.041666666666668,
          19.90909090909091,
          19.05,
          18.55555555555556,
          18.166666666666668,
          15.833333333333334,
          17.5,
          16.083333333333332,
          17.857142857142858,
          19.8,
          18.05,
          17.285714285714285,
          15.55,
          17.318181818181817
         ]
        }
       ],
       "layout": {
        "template": {
         "data": {
          "bar": [
           {
            "error_x": {
             "color": "#2a3f5f"
            },
            "error_y": {
             "color": "#2a3f5f"
            },
            "marker": {
             "line": {
              "color": "#E5ECF6",
              "width": 0.5
             },
             "pattern": {
              "fillmode": "overlay",
              "size": 10,
              "solidity": 0.2
             }
            },
            "type": "bar"
           }
          ],
          "barpolar": [
           {
            "marker": {
             "line": {
              "color": "#E5ECF6",
              "width": 0.5
             },
             "pattern": {
              "fillmode": "overlay",
              "size": 10,
              "solidity": 0.2
             }
            },
            "type": "barpolar"
           }
          ],
          "carpet": [
           {
            "aaxis": {
             "endlinecolor": "#2a3f5f",
             "gridcolor": "white",
             "linecolor": "white",
             "minorgridcolor": "white",
             "startlinecolor": "#2a3f5f"
            },
            "baxis": {
             "endlinecolor": "#2a3f5f",
             "gridcolor": "white",
             "linecolor": "white",
             "minorgridcolor": "white",
             "startlinecolor": "#2a3f5f"
            },
            "type": "carpet"
           }
          ],
          "choropleth": [
           {
            "colorbar": {
             "outlinewidth": 0,
             "ticks": ""
            },
            "type": "choropleth"
           }
          ],
          "contour": [
           {
            "colorbar": {
             "outlinewidth": 0,
             "ticks": ""
            },
            "colorscale": [
             [
              0,
              "#0d0887"
             ],
             [
              0.1111111111111111,
              "#46039f"
             ],
             [
              0.2222222222222222,
              "#7201a8"
             ],
             [
              0.3333333333333333,
              "#9c179e"
             ],
             [
              0.4444444444444444,
              "#bd3786"
             ],
             [
              0.5555555555555556,
              "#d8576b"
             ],
             [
              0.6666666666666666,
              "#ed7953"
             ],
             [
              0.7777777777777778,
              "#fb9f3a"
             ],
             [
              0.8888888888888888,
              "#fdca26"
             ],
             [
              1,
              "#f0f921"
             ]
            ],
            "type": "contour"
           }
          ],
          "contourcarpet": [
           {
            "colorbar": {
             "outlinewidth": 0,
             "ticks": ""
            },
            "type": "contourcarpet"
           }
          ],
          "heatmap": [
           {
            "colorbar": {
             "outlinewidth": 0,
             "ticks": ""
            },
            "colorscale": [
             [
              0,
              "#0d0887"
             ],
             [
              0.1111111111111111,
              "#46039f"
             ],
             [
              0.2222222222222222,
              "#7201a8"
             ],
             [
              0.3333333333333333,
              "#9c179e"
             ],
             [
              0.4444444444444444,
              "#bd3786"
             ],
             [
              0.5555555555555556,
              "#d8576b"
             ],
             [
              0.6666666666666666,
              "#ed7953"
             ],
             [
              0.7777777777777778,
              "#fb9f3a"
             ],
             [
              0.8888888888888888,
              "#fdca26"
             ],
             [
              1,
              "#f0f921"
             ]
            ],
            "type": "heatmap"
           }
          ],
          "heatmapgl": [
           {
            "colorbar": {
             "outlinewidth": 0,
             "ticks": ""
            },
            "colorscale": [
             [
              0,
              "#0d0887"
             ],
             [
              0.1111111111111111,
              "#46039f"
             ],
             [
              0.2222222222222222,
              "#7201a8"
             ],
             [
              0.3333333333333333,
              "#9c179e"
             ],
             [
              0.4444444444444444,
              "#bd3786"
             ],
             [
              0.5555555555555556,
              "#d8576b"
             ],
             [
              0.6666666666666666,
              "#ed7953"
             ],
             [
              0.7777777777777778,
              "#fb9f3a"
             ],
             [
              0.8888888888888888,
              "#fdca26"
             ],
             [
              1,
              "#f0f921"
             ]
            ],
            "type": "heatmapgl"
           }
          ],
          "histogram": [
           {
            "marker": {
             "pattern": {
              "fillmode": "overlay",
              "size": 10,
              "solidity": 0.2
             }
            },
            "type": "histogram"
           }
          ],
          "histogram2d": [
           {
            "colorbar": {
             "outlinewidth": 0,
             "ticks": ""
            },
            "colorscale": [
             [
              0,
              "#0d0887"
             ],
             [
              0.1111111111111111,
              "#46039f"
             ],
             [
              0.2222222222222222,
              "#7201a8"
             ],
             [
              0.3333333333333333,
              "#9c179e"
             ],
             [
              0.4444444444444444,
              "#bd3786"
             ],
             [
              0.5555555555555556,
              "#d8576b"
             ],
             [
              0.6666666666666666,
              "#ed7953"
             ],
             [
              0.7777777777777778,
              "#fb9f3a"
             ],
             [
              0.8888888888888888,
              "#fdca26"
             ],
             [
              1,
              "#f0f921"
             ]
            ],
            "type": "histogram2d"
           }
          ],
          "histogram2dcontour": [
           {
            "colorbar": {
             "outlinewidth": 0,
             "ticks": ""
            },
            "colorscale": [
             [
              0,
              "#0d0887"
             ],
             [
              0.1111111111111111,
              "#46039f"
             ],
             [
              0.2222222222222222,
              "#7201a8"
             ],
             [
              0.3333333333333333,
              "#9c179e"
             ],
             [
              0.4444444444444444,
              "#bd3786"
             ],
             [
              0.5555555555555556,
              "#d8576b"
             ],
             [
              0.6666666666666666,
              "#ed7953"
             ],
             [
              0.7777777777777778,
              "#fb9f3a"
             ],
             [
              0.8888888888888888,
              "#fdca26"
             ],
             [
              1,
              "#f0f921"
             ]
            ],
            "type": "histogram2dcontour"
           }
          ],
          "mesh3d": [
           {
            "colorbar": {
             "outlinewidth": 0,
             "ticks": ""
            },
            "type": "mesh3d"
           }
          ],
          "parcoords": [
           {
            "line": {
             "colorbar": {
              "outlinewidth": 0,
              "ticks": ""
             }
            },
            "type": "parcoords"
           }
          ],
          "pie": [
           {
            "automargin": true,
            "type": "pie"
           }
          ],
          "scatter": [
           {
            "marker": {
             "colorbar": {
              "outlinewidth": 0,
              "ticks": ""
             }
            },
            "type": "scatter"
           }
          ],
          "scatter3d": [
           {
            "line": {
             "colorbar": {
              "outlinewidth": 0,
              "ticks": ""
             }
            },
            "marker": {
             "colorbar": {
              "outlinewidth": 0,
              "ticks": ""
             }
            },
            "type": "scatter3d"
           }
          ],
          "scattercarpet": [
           {
            "marker": {
             "colorbar": {
              "outlinewidth": 0,
              "ticks": ""
             }
            },
            "type": "scattercarpet"
           }
          ],
          "scattergeo": [
           {
            "marker": {
             "colorbar": {
              "outlinewidth": 0,
              "ticks": ""
             }
            },
            "type": "scattergeo"
           }
          ],
          "scattergl": [
           {
            "marker": {
             "colorbar": {
              "outlinewidth": 0,
              "ticks": ""
             }
            },
            "type": "scattergl"
           }
          ],
          "scattermapbox": [
           {
            "marker": {
             "colorbar": {
              "outlinewidth": 0,
              "ticks": ""
             }
            },
            "type": "scattermapbox"
           }
          ],
          "scatterpolar": [
           {
            "marker": {
             "colorbar": {
              "outlinewidth": 0,
              "ticks": ""
             }
            },
            "type": "scatterpolar"
           }
          ],
          "scatterpolargl": [
           {
            "marker": {
             "colorbar": {
              "outlinewidth": 0,
              "ticks": ""
             }
            },
            "type": "scatterpolargl"
           }
          ],
          "scatterternary": [
           {
            "marker": {
             "colorbar": {
              "outlinewidth": 0,
              "ticks": ""
             }
            },
            "type": "scatterternary"
           }
          ],
          "surface": [
           {
            "colorbar": {
             "outlinewidth": 0,
             "ticks": ""
            },
            "colorscale": [
             [
              0,
              "#0d0887"
             ],
             [
              0.1111111111111111,
              "#46039f"
             ],
             [
              0.2222222222222222,
              "#7201a8"
             ],
             [
              0.3333333333333333,
              "#9c179e"
             ],
             [
              0.4444444444444444,
              "#bd3786"
             ],
             [
              0.5555555555555556,
              "#d8576b"
             ],
             [
              0.6666666666666666,
              "#ed7953"
             ],
             [
              0.7777777777777778,
              "#fb9f3a"
             ],
             [
              0.8888888888888888,
              "#fdca26"
             ],
             [
              1,
              "#f0f921"
             ]
            ],
            "type": "surface"
           }
          ],
          "table": [
           {
            "cells": {
             "fill": {
              "color": "#EBF0F8"
             },
             "line": {
              "color": "white"
             }
            },
            "header": {
             "fill": {
              "color": "#C8D4E3"
             },
             "line": {
              "color": "white"
             }
            },
            "type": "table"
           }
          ]
         },
         "layout": {
          "annotationdefaults": {
           "arrowcolor": "#2a3f5f",
           "arrowhead": 0,
           "arrowwidth": 1
          },
          "autotypenumbers": "strict",
          "coloraxis": {
           "colorbar": {
            "outlinewidth": 0,
            "ticks": ""
           }
          },
          "colorscale": {
           "diverging": [
            [
             0,
             "#8e0152"
            ],
            [
             0.1,
             "#c51b7d"
            ],
            [
             0.2,
             "#de77ae"
            ],
            [
             0.3,
             "#f1b6da"
            ],
            [
             0.4,
             "#fde0ef"
            ],
            [
             0.5,
             "#f7f7f7"
            ],
            [
             0.6,
             "#e6f5d0"
            ],
            [
             0.7,
             "#b8e186"
            ],
            [
             0.8,
             "#7fbc41"
            ],
            [
             0.9,
             "#4d9221"
            ],
            [
             1,
             "#276419"
            ]
           ],
           "sequential": [
            [
             0,
             "#0d0887"
            ],
            [
             0.1111111111111111,
             "#46039f"
            ],
            [
             0.2222222222222222,
             "#7201a8"
            ],
            [
             0.3333333333333333,
             "#9c179e"
            ],
            [
             0.4444444444444444,
             "#bd3786"
            ],
            [
             0.5555555555555556,
             "#d8576b"
            ],
            [
             0.6666666666666666,
             "#ed7953"
            ],
            [
             0.7777777777777778,
             "#fb9f3a"
            ],
            [
             0.8888888888888888,
             "#fdca26"
            ],
            [
             1,
             "#f0f921"
            ]
           ],
           "sequentialminus": [
            [
             0,
             "#0d0887"
            ],
            [
             0.1111111111111111,
             "#46039f"
            ],
            [
             0.2222222222222222,
             "#7201a8"
            ],
            [
             0.3333333333333333,
             "#9c179e"
            ],
            [
             0.4444444444444444,
             "#bd3786"
            ],
            [
             0.5555555555555556,
             "#d8576b"
            ],
            [
             0.6666666666666666,
             "#ed7953"
            ],
            [
             0.7777777777777778,
             "#fb9f3a"
            ],
            [
             0.8888888888888888,
             "#fdca26"
            ],
            [
             1,
             "#f0f921"
            ]
           ]
          },
          "colorway": [
           "#636efa",
           "#EF553B",
           "#00cc96",
           "#ab63fa",
           "#FFA15A",
           "#19d3f3",
           "#FF6692",
           "#B6E880",
           "#FF97FF",
           "#FECB52"
          ],
          "font": {
           "color": "#2a3f5f"
          },
          "geo": {
           "bgcolor": "white",
           "lakecolor": "white",
           "landcolor": "#E5ECF6",
           "showlakes": true,
           "showland": true,
           "subunitcolor": "white"
          },
          "hoverlabel": {
           "align": "left"
          },
          "hovermode": "closest",
          "mapbox": {
           "style": "light"
          },
          "paper_bgcolor": "white",
          "plot_bgcolor": "#E5ECF6",
          "polar": {
           "angularaxis": {
            "gridcolor": "white",
            "linecolor": "white",
            "ticks": ""
           },
           "bgcolor": "#E5ECF6",
           "radialaxis": {
            "gridcolor": "white",
            "linecolor": "white",
            "ticks": ""
           }
          },
          "scene": {
           "xaxis": {
            "backgroundcolor": "#E5ECF6",
            "gridcolor": "white",
            "gridwidth": 2,
            "linecolor": "white",
            "showbackground": true,
            "ticks": "",
            "zerolinecolor": "white"
           },
           "yaxis": {
            "backgroundcolor": "#E5ECF6",
            "gridcolor": "white",
            "gridwidth": 2,
            "linecolor": "white",
            "showbackground": true,
            "ticks": "",
            "zerolinecolor": "white"
           },
           "zaxis": {
            "backgroundcolor": "#E5ECF6",
            "gridcolor": "white",
            "gridwidth": 2,
            "linecolor": "white",
            "showbackground": true,
            "ticks": "",
            "zerolinecolor": "white"
           }
          },
          "shapedefaults": {
           "line": {
            "color": "#2a3f5f"
           }
          },
          "ternary": {
           "aaxis": {
            "gridcolor": "white",
            "linecolor": "white",
            "ticks": ""
           },
           "baxis": {
            "gridcolor": "white",
            "linecolor": "white",
            "ticks": ""
           },
           "bgcolor": "#E5ECF6",
           "caxis": {
            "gridcolor": "white",
            "linecolor": "white",
            "ticks": ""
           }
          },
          "title": {
           "x": 0.05
          },
          "xaxis": {
           "automargin": true,
           "gridcolor": "white",
           "linecolor": "white",
           "ticks": "",
           "title": {
            "standoff": 15
           },
           "zerolinecolor": "white",
           "zerolinewidth": 2
          },
          "yaxis": {
           "automargin": true,
           "gridcolor": "white",
           "linecolor": "white",
           "ticks": "",
           "title": {
            "standoff": 15
           },
           "zerolinecolor": "white",
           "zerolinewidth": 2
          }
         }
        },
        "title": {
         "text": "Prediction vs Target over time"
        },
        "xaxis": {
         "title": {
          "text": "Time"
         }
        },
        "yaxis": {
         "title": {
          "text": "Target Values and Predictions"
         }
        }
       }
      },
      "text/html": [
       "<div>                            <div id=\"3a1e910e-7c3b-434f-9051-4f45b4a7d4aa\" class=\"plotly-graph-div\" style=\"height:525px; width:100%;\"></div>            <script type=\"text/javascript\">                require([\"plotly\"], function(Plotly) {                    window.PLOTLYENV=window.PLOTLYENV || {};                                    if (document.getElementById(\"3a1e910e-7c3b-434f-9051-4f45b4a7d4aa\")) {                    Plotly.newPlot(                        \"3a1e910e-7c3b-434f-9051-4f45b4a7d4aa\",                        [{\"line\":{\"color\":\"#1f77b4\"},\"mode\":\"lines+markers\",\"name\":\"Target\",\"x\":[\"2016-03-15T00:00:00\",\"2016-03-16T00:00:00\",\"2016-03-17T00:00:00\",\"2016-03-18T00:00:00\",\"2016-03-19T00:00:00\",\"2016-03-20T00:00:00\",\"2016-03-21T00:00:00\",\"2016-03-22T00:00:00\",\"2016-03-23T00:00:00\",\"2016-03-24T00:00:00\",\"2016-03-25T00:00:00\",\"2016-03-26T00:00:00\",\"2016-03-27T00:00:00\",\"2016-03-28T00:00:00\",\"2016-03-29T00:00:00\",\"2016-03-30T00:00:00\",\"2016-03-31T00:00:00\",\"2016-04-01T00:00:00\",\"2016-04-02T00:00:00\",\"2016-04-03T00:00:00\",\"2016-04-04T00:00:00\",\"2016-04-05T00:00:00\",\"2016-04-06T00:00:00\",\"2016-04-07T00:00:00\",\"2016-04-08T00:00:00\",\"2016-04-09T00:00:00\",\"2016-04-10T00:00:00\",\"2016-04-11T00:00:00\",\"2016-04-12T00:00:00\",\"2016-04-13T00:00:00\",\"2016-04-14T00:00:00\",\"2016-04-15T00:00:00\",\"2016-04-16T00:00:00\",\"2016-04-17T00:00:00\",\"2016-04-18T00:00:00\",\"2016-04-19T00:00:00\",\"2016-04-20T00:00:00\",\"2016-04-21T00:00:00\",\"2016-04-22T00:00:00\",\"2016-04-23T00:00:00\",\"2016-04-24T00:00:00\",\"2016-04-25T00:00:00\",\"2016-04-26T00:00:00\",\"2016-04-27T00:00:00\",\"2016-04-28T00:00:00\",\"2016-04-29T00:00:00\",\"2016-04-30T00:00:00\",\"2016-05-01T00:00:00\",\"2016-05-02T00:00:00\",\"2016-05-03T00:00:00\",\"2016-05-04T00:00:00\",\"2016-05-05T00:00:00\",\"2016-05-06T00:00:00\",\"2016-05-07T00:00:00\",\"2016-05-08T00:00:00\",\"2016-05-09T00:00:00\",\"2016-05-10T00:00:00\",\"2016-05-11T00:00:00\",\"2016-05-12T00:00:00\",\"2016-05-13T00:00:00\",\"2016-05-14T00:00:00\",\"2016-05-15T00:00:00\",\"2016-05-16T00:00:00\",\"2016-05-17T00:00:00\",\"2016-05-18T00:00:00\",\"2016-05-19T00:00:00\",\"2016-05-20T00:00:00\",\"2016-05-21T00:00:00\",\"2016-05-22T00:00:00\",\"2016-05-23T00:00:00\",\"2016-05-24T00:00:00\",\"2016-05-25T00:00:00\",\"2016-05-26T00:00:00\",\"2016-05-27T00:00:00\",\"2016-05-28T00:00:00\",\"2016-05-29T00:00:00\",\"2016-05-30T00:00:00\",\"2016-05-31T00:00:00\",\"2016-06-01T00:00:00\",\"2016-06-02T00:00:00\",\"2016-06-03T00:00:00\",\"2016-06-04T00:00:00\",\"2016-06-05T00:00:00\",\"2016-06-06T00:00:00\",\"2016-06-07T00:00:00\",\"2016-06-08T00:00:00\",\"2016-06-09T00:00:00\",\"2016-06-10T00:00:00\",\"2016-06-11T00:00:00\",\"2016-06-12T00:00:00\",\"2016-06-13T00:00:00\",\"2016-06-14T00:00:00\",\"2016-06-15T00:00:00\",\"2016-06-16T00:00:00\",\"2016-06-17T00:00:00\",\"2016-06-18T00:00:00\",\"2016-06-19T00:00:00\",\"2016-06-20T00:00:00\",\"2016-06-21T00:00:00\",\"2016-06-22T00:00:00\",\"2016-06-23T00:00:00\",\"2016-06-24T00:00:00\",\"2016-06-25T00:00:00\",\"2016-06-26T00:00:00\",\"2016-06-27T00:00:00\",\"2016-06-28T00:00:00\",\"2016-06-29T00:00:00\",\"2016-06-30T00:00:00\",\"2016-07-01T00:00:00\",\"2016-07-02T00:00:00\",\"2016-07-03T00:00:00\",\"2016-07-04T00:00:00\",\"2016-07-05T00:00:00\",\"2016-07-06T00:00:00\",\"2016-07-07T00:00:00\",\"2016-07-08T00:00:00\",\"2016-07-09T00:00:00\",\"2016-07-10T00:00:00\",\"2016-07-11T00:00:00\",\"2016-07-12T00:00:00\",\"2016-07-13T00:00:00\",\"2016-07-14T00:00:00\",\"2016-07-15T00:00:00\",\"2016-07-16T00:00:00\",\"2016-07-17T00:00:00\",\"2016-07-18T00:00:00\",\"2016-07-19T00:00:00\",\"2016-07-20T00:00:00\",\"2016-07-21T00:00:00\",\"2016-07-22T00:00:00\",\"2016-07-23T00:00:00\",\"2016-07-24T00:00:00\",\"2016-07-25T00:00:00\",\"2016-07-26T00:00:00\",\"2016-07-27T00:00:00\",\"2016-07-28T00:00:00\",\"2016-07-29T00:00:00\",\"2016-07-30T00:00:00\",\"2016-07-31T00:00:00\",\"2016-08-01T00:00:00\",\"2016-08-02T00:00:00\",\"2016-08-03T00:00:00\",\"2016-08-04T00:00:00\",\"2016-08-05T00:00:00\",\"2016-08-06T00:00:00\",\"2016-08-07T00:00:00\",\"2016-08-08T00:00:00\",\"2016-08-09T00:00:00\",\"2016-08-10T00:00:00\",\"2016-08-11T00:00:00\",\"2016-08-12T00:00:00\",\"2016-08-13T00:00:00\",\"2016-08-14T00:00:00\",\"2016-08-15T00:00:00\",\"2016-08-16T00:00:00\",\"2016-08-17T00:00:00\",\"2016-08-18T00:00:00\",\"2016-08-19T00:00:00\",\"2016-08-20T00:00:00\",\"2016-08-21T00:00:00\",\"2016-08-22T00:00:00\",\"2016-08-23T00:00:00\",\"2016-08-24T00:00:00\",\"2016-08-25T00:00:00\",\"2016-08-26T00:00:00\",\"2016-08-27T00:00:00\",\"2016-08-28T00:00:00\",\"2016-08-29T00:00:00\",\"2016-08-30T00:00:00\",\"2016-08-31T00:00:00\",\"2016-09-01T00:00:00\",\"2016-09-02T00:00:00\",\"2016-09-03T00:00:00\",\"2016-09-04T00:00:00\",\"2016-09-05T00:00:00\",\"2016-09-06T00:00:00\",\"2016-09-07T00:00:00\",\"2016-09-08T00:00:00\",\"2016-09-09T00:00:00\",\"2016-09-10T00:00:00\",\"2016-09-11T00:00:00\",\"2016-09-12T00:00:00\",\"2016-09-13T00:00:00\",\"2016-09-14T00:00:00\",\"2016-09-15T00:00:00\",\"2016-09-16T00:00:00\",\"2016-09-17T00:00:00\",\"2016-09-18T00:00:00\",\"2016-09-19T00:00:00\",\"2016-09-20T00:00:00\",\"2016-09-21T00:00:00\",\"2016-09-22T00:00:00\",\"2016-09-23T00:00:00\",\"2016-09-24T00:00:00\",\"2016-09-25T00:00:00\",\"2016-09-26T00:00:00\",\"2016-09-27T00:00:00\",\"2016-09-28T00:00:00\",\"2016-09-29T00:00:00\",\"2016-09-30T00:00:00\",\"2016-10-01T00:00:00\",\"2016-10-02T00:00:00\",\"2016-10-03T00:00:00\",\"2016-10-04T00:00:00\",\"2016-10-05T00:00:00\",\"2016-10-06T00:00:00\",\"2016-10-07T00:00:00\",\"2016-10-08T00:00:00\",\"2016-10-09T00:00:00\",\"2016-10-10T00:00:00\",\"2016-10-11T00:00:00\",\"2016-10-12T00:00:00\",\"2016-10-13T00:00:00\",\"2016-10-14T00:00:00\",\"2016-10-15T00:00:00\",\"2016-10-16T00:00:00\",\"2016-10-17T00:00:00\",\"2016-10-18T00:00:00\",\"2016-10-19T00:00:00\",\"2016-10-20T00:00:00\",\"2016-10-21T00:00:00\",\"2016-10-22T00:00:00\",\"2016-10-23T00:00:00\",\"2016-10-24T00:00:00\",\"2016-10-25T00:00:00\",\"2016-10-26T00:00:00\",\"2016-10-27T00:00:00\",\"2016-10-28T00:00:00\",\"2016-10-29T00:00:00\",\"2016-10-30T00:00:00\",\"2016-10-31T00:00:00\",\"2016-11-01T00:00:00\",\"2016-11-02T00:00:00\",\"2016-11-03T00:00:00\",\"2016-11-04T00:00:00\",\"2016-11-05T00:00:00\",\"2016-11-06T00:00:00\",\"2016-11-07T00:00:00\",\"2016-11-08T00:00:00\",\"2016-11-09T00:00:00\",\"2016-11-10T00:00:00\",\"2016-11-11T00:00:00\",\"2016-11-12T00:00:00\",\"2016-11-13T00:00:00\",\"2016-11-14T00:00:00\",\"2016-11-15T00:00:00\",\"2016-11-16T00:00:00\",\"2016-11-17T00:00:00\",\"2016-11-18T00:00:00\",\"2016-11-19T00:00:00\",\"2016-11-20T00:00:00\",\"2016-11-21T00:00:00\",\"2016-11-22T00:00:00\",\"2016-11-23T00:00:00\",\"2016-11-24T00:00:00\",\"2016-11-25T00:00:00\",\"2016-11-26T00:00:00\",\"2016-11-27T00:00:00\",\"2016-11-28T00:00:00\",\"2016-11-29T00:00:00\",\"2016-11-30T00:00:00\",\"2016-12-01T00:00:00\",\"2016-12-02T00:00:00\",\"2016-12-03T00:00:00\",\"2016-12-04T00:00:00\",\"2016-12-05T00:00:00\",\"2016-12-06T00:00:00\",\"2016-12-07T00:00:00\",\"2016-12-08T00:00:00\",\"2016-12-09T00:00:00\",\"2016-12-10T00:00:00\",\"2016-12-11T00:00:00\",\"2016-12-12T00:00:00\",\"2016-12-13T00:00:00\",\"2016-12-14T00:00:00\",\"2016-12-15T00:00:00\",\"2016-12-16T00:00:00\",\"2016-12-17T00:00:00\",\"2016-12-18T00:00:00\",\"2016-12-19T00:00:00\",\"2016-12-20T00:00:00\",\"2016-12-21T00:00:00\",\"2016-12-22T00:00:00\",\"2016-12-23T00:00:00\",\"2016-12-24T00:00:00\",\"2016-12-25T00:00:00\",\"2016-12-26T00:00:00\",\"2016-12-27T00:00:00\",\"2016-12-28T00:00:00\",\"2016-12-29T00:00:00\",\"2016-12-30T00:00:00\",\"2016-12-31T00:00:00\",\"2017-01-01T00:00:00\"],\"y\":[24.066666666666663,23.9375,26.3125,26.1875,26.785714285714285,27.133333333333333,26.625,25.0625,26.2,28.133333333333333,29.875,24.666666666666668,26.25,25.933333333333334,27.125,29.571428571428573,30.0,30.571428571428573,32.3125,33.3125,32.8125,32.3125,31.375,29.933333333333334,29.266666666666666,30.73333333333333,32.25,29.8,30.2,31.75,33.125,33.625,35.6875,34.666666666666664,34.625,34.0,34.0625,34.0,33.25,31.916666666666668,31.3125,31.75,33.4375,33.125,34.15384615384615,34.07142857142857,33.0625,34.6875,38.0,35.5,33.714285714285715,30.6,31.4375,33.3125,35.13333333333333,33.53333333333333,34.0,32.5,35.375,37.294117647058826,36.5625,37.25,37.21428571428572,37.5,37.75,37.375,37.4,36.13333333333333,36.8,32.214285714285715,31.526315789473685,33.21739130434783,35.26923076923077,38.27272727272727,36.0625,31.5,26.8125,32.642857142857146,36.0,37.5625,37.5625,38.2,36.16666666666666,35.42857142857143,34.625,36.07142857142857,35.733333333333334,36.13333333333333,33.4375,35.5,36.0,32.625,34.733333333333334,33.5,34.1875,35.857142857142854,35.625,30.9375,32.875,33.125,33.84615384615385,36.4375,35.42857142857143,34.86666666666667,34.3125,30.785714285714285,35.375,35.46666666666667,32.125,28.4,29.5625,30.6875,33.25,33.266666666666666,33.5,30.8,33.25,32.5625,31.5,30.5,31.25,30.4375,31.0,27.125,28.125,27.666666666666668,32.3125,34.1875,34.13333333333333,34.125,31.875,31.4375,31.9375,30.3125,28.3125,29.53333333333333,27.375,27.33333333333333,29.266666666666666,29.125,30.6875,32.5625,33.111111111111114,33.8,30.066666666666663,33.11764705882353,33.80952380952381,31.615384615384617,32.0,28.107142857142858,29.035714285714285,30.321428571428573,28.933333333333334,31.678571428571427,31.33333333333333,29.928571428571427,29.88888888888889,32.07142857142857,33.18518518518518,31.59259259259259,32.18518518518518,31.48,30.178571428571427,31.52,31.22222222222222,31.785714285714285,33.4,29.571428571428573,30.04,27.25925925925926,27.96,30.73913043478261,30.894736842105264,31.692307692307693,31.07692307692308,30.375,31.1,31.916666666666668,30.55555555555556,31.23076923076923,31.0,31.642857142857142,32.53333333333333,30.857142857142858,31.727272727272727,31.4,32.30769230769231,32.25,32.375,33.44444444444444,33.36,30.03703703703704,31.0,31.24,31.130434782608692,31.48,32.18518518518518,32.44,32.22727272727273,32.214285714285715,32.541666666666664,32.81481481481482,33.26923076923077,30.55555555555556,28.83333333333333,30.703703703703702,30.96,30.6,30.92,29.77777777777778,29.666666666666668,29.571428571428573,29.96296296296296,29.75,27.74074074074074,28.428571428571427,28.6,28.5,28.925925925925927,29.07692307692308,28.40909090909091,29.33333333333333,27.5,28.5,28.04,27.57692307692308,26.55555555555556,25.51851851851852,25.814814814814813,24.82608695652174,24.53846153846154,24.384615384615383,23.727272727272727,25.64,24.814814814814813,23.115384615384617,22.925925925925927,24.545454545454547,23.73076923076923,23.0,23.51851851851852,23.92,23.53846153846154,24.296296296296298,23.346153846153847,22.24,21.76923076923077,21.73076923076923,21.73076923076923,20.666666666666668,22.25,21.53846153846154,22.57894736842105,22.82608695652174,21.42105263157895,23.6,24.294117647058822,23.63636363636364,22.454545454545453,21.61111111111111,19.869565217391305,19.75,19.20833333333333,21.20833333333333,18.9,18.63636363636364,18.53846153846154,18.25,16.9,19.416666666666668,16.444444444444443,20.041666666666668,19.90909090909091,19.05,18.55555555555556,18.166666666666668,15.833333333333334,17.5,16.083333333333332,17.857142857142858,19.8,18.05,17.285714285714285,15.55,17.318181818181817,14.0,17.142857142857142,16.85,17.217391304347824,15.238095238095235,14.095238095238097,15.052631578947368,10.0],\"type\":\"scatter\"},{\"line\":{\"color\":\"#d62728\"},\"mode\":\"lines+markers\",\"name\":\"Prediction\",\"x\":[\"2016-03-15T00:00:00\",\"2016-03-16T00:00:00\",\"2016-03-17T00:00:00\",\"2016-03-18T00:00:00\",\"2016-03-19T00:00:00\",\"2016-03-20T00:00:00\",\"2016-03-21T00:00:00\",\"2016-03-22T00:00:00\",\"2016-03-23T00:00:00\",\"2016-03-24T00:00:00\",\"2016-03-25T00:00:00\",\"2016-03-26T00:00:00\",\"2016-03-27T00:00:00\",\"2016-03-28T00:00:00\",\"2016-03-29T00:00:00\",\"2016-03-30T00:00:00\",\"2016-03-31T00:00:00\",\"2016-04-01T00:00:00\",\"2016-04-02T00:00:00\",\"2016-04-03T00:00:00\",\"2016-04-04T00:00:00\",\"2016-04-05T00:00:00\",\"2016-04-06T00:00:00\",\"2016-04-07T00:00:00\",\"2016-04-08T00:00:00\",\"2016-04-09T00:00:00\",\"2016-04-10T00:00:00\",\"2016-04-11T00:00:00\",\"2016-04-12T00:00:00\",\"2016-04-13T00:00:00\",\"2016-04-14T00:00:00\",\"2016-04-15T00:00:00\",\"2016-04-16T00:00:00\",\"2016-04-17T00:00:00\",\"2016-04-18T00:00:00\",\"2016-04-19T00:00:00\",\"2016-04-20T00:00:00\",\"2016-04-21T00:00:00\",\"2016-04-22T00:00:00\",\"2016-04-23T00:00:00\",\"2016-04-24T00:00:00\",\"2016-04-25T00:00:00\",\"2016-04-26T00:00:00\",\"2016-04-27T00:00:00\",\"2016-04-28T00:00:00\",\"2016-04-29T00:00:00\",\"2016-04-30T00:00:00\",\"2016-05-01T00:00:00\",\"2016-05-02T00:00:00\",\"2016-05-03T00:00:00\",\"2016-05-04T00:00:00\",\"2016-05-05T00:00:00\",\"2016-05-06T00:00:00\",\"2016-05-07T00:00:00\",\"2016-05-08T00:00:00\",\"2016-05-09T00:00:00\",\"2016-05-10T00:00:00\",\"2016-05-11T00:00:00\",\"2016-05-12T00:00:00\",\"2016-05-13T00:00:00\",\"2016-05-14T00:00:00\",\"2016-05-15T00:00:00\",\"2016-05-16T00:00:00\",\"2016-05-17T00:00:00\",\"2016-05-18T00:00:00\",\"2016-05-19T00:00:00\",\"2016-05-20T00:00:00\",\"2016-05-21T00:00:00\",\"2016-05-22T00:00:00\",\"2016-05-23T00:00:00\",\"2016-05-24T00:00:00\",\"2016-05-25T00:00:00\",\"2016-05-26T00:00:00\",\"2016-05-27T00:00:00\",\"2016-05-28T00:00:00\",\"2016-05-29T00:00:00\",\"2016-05-30T00:00:00\",\"2016-05-31T00:00:00\",\"2016-06-01T00:00:00\",\"2016-06-02T00:00:00\",\"2016-06-03T00:00:00\",\"2016-06-04T00:00:00\",\"2016-06-05T00:00:00\",\"2016-06-06T00:00:00\",\"2016-06-07T00:00:00\",\"2016-06-08T00:00:00\",\"2016-06-09T00:00:00\",\"2016-06-10T00:00:00\",\"2016-06-11T00:00:00\",\"2016-06-12T00:00:00\",\"2016-06-13T00:00:00\",\"2016-06-14T00:00:00\",\"2016-06-15T00:00:00\",\"2016-06-16T00:00:00\",\"2016-06-17T00:00:00\",\"2016-06-18T00:00:00\",\"2016-06-19T00:00:00\",\"2016-06-20T00:00:00\",\"2016-06-21T00:00:00\",\"2016-06-22T00:00:00\",\"2016-06-23T00:00:00\",\"2016-06-24T00:00:00\",\"2016-06-25T00:00:00\",\"2016-06-26T00:00:00\",\"2016-06-27T00:00:00\",\"2016-06-28T00:00:00\",\"2016-06-29T00:00:00\",\"2016-06-30T00:00:00\",\"2016-07-01T00:00:00\",\"2016-07-02T00:00:00\",\"2016-07-03T00:00:00\",\"2016-07-04T00:00:00\",\"2016-07-05T00:00:00\",\"2016-07-06T00:00:00\",\"2016-07-07T00:00:00\",\"2016-07-08T00:00:00\",\"2016-07-09T00:00:00\",\"2016-07-10T00:00:00\",\"2016-07-11T00:00:00\",\"2016-07-12T00:00:00\",\"2016-07-13T00:00:00\",\"2016-07-14T00:00:00\",\"2016-07-15T00:00:00\",\"2016-07-16T00:00:00\",\"2016-07-17T00:00:00\",\"2016-07-18T00:00:00\",\"2016-07-19T00:00:00\",\"2016-07-20T00:00:00\",\"2016-07-21T00:00:00\",\"2016-07-22T00:00:00\",\"2016-07-23T00:00:00\",\"2016-07-24T00:00:00\",\"2016-07-25T00:00:00\",\"2016-07-26T00:00:00\",\"2016-07-27T00:00:00\",\"2016-07-28T00:00:00\",\"2016-07-29T00:00:00\",\"2016-07-30T00:00:00\",\"2016-07-31T00:00:00\",\"2016-08-01T00:00:00\",\"2016-08-02T00:00:00\",\"2016-08-03T00:00:00\",\"2016-08-04T00:00:00\",\"2016-08-05T00:00:00\",\"2016-08-06T00:00:00\",\"2016-08-07T00:00:00\",\"2016-08-08T00:00:00\",\"2016-08-09T00:00:00\",\"2016-08-10T00:00:00\",\"2016-08-11T00:00:00\",\"2016-08-12T00:00:00\",\"2016-08-13T00:00:00\",\"2016-08-14T00:00:00\",\"2016-08-15T00:00:00\",\"2016-08-16T00:00:00\",\"2016-08-17T00:00:00\",\"2016-08-18T00:00:00\",\"2016-08-19T00:00:00\",\"2016-08-20T00:00:00\",\"2016-08-21T00:00:00\",\"2016-08-22T00:00:00\",\"2016-08-23T00:00:00\",\"2016-08-24T00:00:00\",\"2016-08-25T00:00:00\",\"2016-08-26T00:00:00\",\"2016-08-27T00:00:00\",\"2016-08-28T00:00:00\",\"2016-08-29T00:00:00\",\"2016-08-30T00:00:00\",\"2016-08-31T00:00:00\",\"2016-09-01T00:00:00\",\"2016-09-02T00:00:00\",\"2016-09-03T00:00:00\",\"2016-09-04T00:00:00\",\"2016-09-05T00:00:00\",\"2016-09-06T00:00:00\",\"2016-09-07T00:00:00\",\"2016-09-08T00:00:00\",\"2016-09-09T00:00:00\",\"2016-09-10T00:00:00\",\"2016-09-11T00:00:00\",\"2016-09-12T00:00:00\",\"2016-09-13T00:00:00\",\"2016-09-14T00:00:00\",\"2016-09-15T00:00:00\",\"2016-09-16T00:00:00\",\"2016-09-17T00:00:00\",\"2016-09-18T00:00:00\",\"2016-09-19T00:00:00\",\"2016-09-20T00:00:00\",\"2016-09-21T00:00:00\",\"2016-09-22T00:00:00\",\"2016-09-23T00:00:00\",\"2016-09-24T00:00:00\",\"2016-09-25T00:00:00\",\"2016-09-26T00:00:00\",\"2016-09-27T00:00:00\",\"2016-09-28T00:00:00\",\"2016-09-29T00:00:00\",\"2016-09-30T00:00:00\",\"2016-10-01T00:00:00\",\"2016-10-02T00:00:00\",\"2016-10-03T00:00:00\",\"2016-10-04T00:00:00\",\"2016-10-05T00:00:00\",\"2016-10-06T00:00:00\",\"2016-10-07T00:00:00\",\"2016-10-08T00:00:00\",\"2016-10-09T00:00:00\",\"2016-10-10T00:00:00\",\"2016-10-11T00:00:00\",\"2016-10-12T00:00:00\",\"2016-10-13T00:00:00\",\"2016-10-14T00:00:00\",\"2016-10-15T00:00:00\",\"2016-10-16T00:00:00\",\"2016-10-17T00:00:00\",\"2016-10-18T00:00:00\",\"2016-10-19T00:00:00\",\"2016-10-20T00:00:00\",\"2016-10-21T00:00:00\",\"2016-10-22T00:00:00\",\"2016-10-23T00:00:00\",\"2016-10-24T00:00:00\",\"2016-10-25T00:00:00\",\"2016-10-26T00:00:00\",\"2016-10-27T00:00:00\",\"2016-10-28T00:00:00\",\"2016-10-29T00:00:00\",\"2016-10-30T00:00:00\",\"2016-10-31T00:00:00\",\"2016-11-01T00:00:00\",\"2016-11-02T00:00:00\",\"2016-11-03T00:00:00\",\"2016-11-04T00:00:00\",\"2016-11-05T00:00:00\",\"2016-11-06T00:00:00\",\"2016-11-07T00:00:00\",\"2016-11-08T00:00:00\",\"2016-11-09T00:00:00\",\"2016-11-10T00:00:00\",\"2016-11-11T00:00:00\",\"2016-11-12T00:00:00\",\"2016-11-13T00:00:00\",\"2016-11-14T00:00:00\",\"2016-11-15T00:00:00\",\"2016-11-16T00:00:00\",\"2016-11-17T00:00:00\",\"2016-11-18T00:00:00\",\"2016-11-19T00:00:00\",\"2016-11-20T00:00:00\",\"2016-11-21T00:00:00\",\"2016-11-22T00:00:00\",\"2016-11-23T00:00:00\",\"2016-11-24T00:00:00\",\"2016-11-25T00:00:00\",\"2016-11-26T00:00:00\",\"2016-11-27T00:00:00\",\"2016-11-28T00:00:00\",\"2016-11-29T00:00:00\",\"2016-11-30T00:00:00\",\"2016-12-01T00:00:00\",\"2016-12-02T00:00:00\",\"2016-12-03T00:00:00\",\"2016-12-04T00:00:00\",\"2016-12-05T00:00:00\",\"2016-12-06T00:00:00\",\"2016-12-07T00:00:00\",\"2016-12-08T00:00:00\",\"2016-12-09T00:00:00\",\"2016-12-10T00:00:00\",\"2016-12-11T00:00:00\",\"2016-12-12T00:00:00\",\"2016-12-13T00:00:00\",\"2016-12-14T00:00:00\",\"2016-12-15T00:00:00\",\"2016-12-16T00:00:00\",\"2016-12-17T00:00:00\",\"2016-12-18T00:00:00\",\"2016-12-19T00:00:00\",\"2016-12-20T00:00:00\",\"2016-12-21T00:00:00\",\"2016-12-22T00:00:00\",\"2016-12-23T00:00:00\",\"2016-12-24T00:00:00\",\"2016-12-25T00:00:00\",\"2016-12-26T00:00:00\",\"2016-12-27T00:00:00\",\"2016-12-28T00:00:00\",\"2016-12-29T00:00:00\",\"2016-12-30T00:00:00\",\"2016-12-31T00:00:00\",\"2017-01-01T00:00:00\"],\"y\":[23.714285714285715,23.428571428571427,24.0,25.5625,25.066666666666663,24.5625,24.25,22.375,24.066666666666663,23.9375,26.3125,26.1875,26.785714285714285,27.133333333333333,26.625,25.0625,26.2,28.133333333333333,29.875,24.666666666666668,26.25,25.933333333333334,27.125,29.571428571428573,30.0,30.571428571428573,32.3125,33.3125,32.8125,32.3125,31.375,29.933333333333334,29.266666666666666,30.73333333333333,32.25,29.8,30.2,31.75,33.125,33.625,35.6875,34.666666666666664,34.625,34.0,34.0625,34.0,33.25,31.916666666666668,31.3125,31.75,33.4375,33.125,34.15384615384615,34.07142857142857,33.0625,34.6875,38.0,35.5,33.714285714285715,30.6,31.4375,33.3125,35.13333333333333,33.53333333333333,34.0,32.5,35.375,37.294117647058826,36.5625,37.25,37.21428571428572,37.5,37.75,37.375,37.4,36.13333333333333,36.8,32.214285714285715,31.526315789473685,33.21739130434783,35.26923076923077,38.27272727272727,36.0625,31.5,26.8125,32.642857142857146,36.0,37.5625,37.5625,38.2,36.16666666666666,35.42857142857143,34.625,36.07142857142857,35.733333333333334,36.13333333333333,33.4375,35.5,36.0,32.625,34.733333333333334,33.5,34.1875,35.857142857142854,35.625,30.9375,32.875,33.125,33.84615384615385,36.4375,35.42857142857143,34.86666666666667,34.3125,30.785714285714285,35.375,35.46666666666667,32.125,28.4,29.5625,30.6875,33.25,33.266666666666666,33.5,30.8,33.25,32.5625,31.5,30.5,31.25,30.4375,31.0,27.125,28.125,27.666666666666668,32.3125,34.1875,34.13333333333333,34.125,31.875,31.4375,31.9375,30.3125,28.3125,29.53333333333333,27.375,27.33333333333333,29.266666666666666,29.125,30.6875,32.5625,33.111111111111114,33.8,30.066666666666663,33.11764705882353,33.80952380952381,31.615384615384617,32.0,28.107142857142858,29.035714285714285,30.321428571428573,28.933333333333334,31.678571428571427,31.33333333333333,29.928571428571427,29.88888888888889,32.07142857142857,33.18518518518518,31.59259259259259,32.18518518518518,31.48,30.178571428571427,31.52,31.22222222222222,31.785714285714285,33.4,29.571428571428573,30.04,27.25925925925926,27.96,30.73913043478261,30.894736842105264,31.692307692307693,31.07692307692308,30.375,31.1,31.916666666666668,30.55555555555556,31.23076923076923,31.0,31.642857142857142,32.53333333333333,30.857142857142858,31.727272727272727,31.4,32.30769230769231,32.25,32.375,33.44444444444444,33.36,30.03703703703704,31.0,31.24,31.130434782608692,31.48,32.18518518518518,32.44,32.22727272727273,32.214285714285715,32.541666666666664,32.81481481481482,33.26923076923077,30.55555555555556,28.83333333333333,30.703703703703702,30.96,30.6,30.92,29.77777777777778,29.666666666666668,29.571428571428573,29.96296296296296,29.75,27.74074074074074,28.428571428571427,28.6,28.5,28.925925925925927,29.07692307692308,28.40909090909091,29.33333333333333,27.5,28.5,28.04,27.57692307692308,26.55555555555556,25.51851851851852,25.814814814814813,24.82608695652174,24.53846153846154,24.384615384615383,23.727272727272727,25.64,24.814814814814813,23.115384615384617,22.925925925925927,24.545454545454547,23.73076923076923,23.0,23.51851851851852,23.92,23.53846153846154,24.296296296296298,23.346153846153847,22.24,21.76923076923077,21.73076923076923,21.73076923076923,20.666666666666668,22.25,21.53846153846154,22.57894736842105,22.82608695652174,21.42105263157895,23.6,24.294117647058822,23.63636363636364,22.454545454545453,21.61111111111111,19.869565217391305,19.75,19.20833333333333,21.20833333333333,18.9,18.63636363636364,18.53846153846154,18.25,16.9,19.416666666666668,16.444444444444443,20.041666666666668,19.90909090909091,19.05,18.55555555555556,18.166666666666668,15.833333333333334,17.5,16.083333333333332,17.857142857142858,19.8,18.05,17.285714285714285,15.55,17.318181818181817],\"type\":\"scatter\"}],                        {\"title\":{\"text\":\"Prediction vs Target over time\"},\"xaxis\":{\"title\":{\"text\":\"Time\"}},\"yaxis\":{\"title\":{\"text\":\"Target Values and Predictions\"}},\"template\":{\"data\":{\"bar\":[{\"error_x\":{\"color\":\"#2a3f5f\"},\"error_y\":{\"color\":\"#2a3f5f\"},\"marker\":{\"line\":{\"color\":\"#E5ECF6\",\"width\":0.5},\"pattern\":{\"fillmode\":\"overlay\",\"size\":10,\"solidity\":0.2}},\"type\":\"bar\"}],\"barpolar\":[{\"marker\":{\"line\":{\"color\":\"#E5ECF6\",\"width\":0.5},\"pattern\":{\"fillmode\":\"overlay\",\"size\":10,\"solidity\":0.2}},\"type\":\"barpolar\"}],\"carpet\":[{\"aaxis\":{\"endlinecolor\":\"#2a3f5f\",\"gridcolor\":\"white\",\"linecolor\":\"white\",\"minorgridcolor\":\"white\",\"startlinecolor\":\"#2a3f5f\"},\"baxis\":{\"endlinecolor\":\"#2a3f5f\",\"gridcolor\":\"white\",\"linecolor\":\"white\",\"minorgridcolor\":\"white\",\"startlinecolor\":\"#2a3f5f\"},\"type\":\"carpet\"}],\"choropleth\":[{\"colorbar\":{\"outlinewidth\":0,\"ticks\":\"\"},\"type\":\"choropleth\"}],\"contour\":[{\"colorbar\":{\"outlinewidth\":0,\"ticks\":\"\"},\"colorscale\":[[0.0,\"#0d0887\"],[0.1111111111111111,\"#46039f\"],[0.2222222222222222,\"#7201a8\"],[0.3333333333333333,\"#9c179e\"],[0.4444444444444444,\"#bd3786\"],[0.5555555555555556,\"#d8576b\"],[0.6666666666666666,\"#ed7953\"],[0.7777777777777778,\"#fb9f3a\"],[0.8888888888888888,\"#fdca26\"],[1.0,\"#f0f921\"]],\"type\":\"contour\"}],\"contourcarpet\":[{\"colorbar\":{\"outlinewidth\":0,\"ticks\":\"\"},\"type\":\"contourcarpet\"}],\"heatmap\":[{\"colorbar\":{\"outlinewidth\":0,\"ticks\":\"\"},\"colorscale\":[[0.0,\"#0d0887\"],[0.1111111111111111,\"#46039f\"],[0.2222222222222222,\"#7201a8\"],[0.3333333333333333,\"#9c179e\"],[0.4444444444444444,\"#bd3786\"],[0.5555555555555556,\"#d8576b\"],[0.6666666666666666,\"#ed7953\"],[0.7777777777777778,\"#fb9f3a\"],[0.8888888888888888,\"#fdca26\"],[1.0,\"#f0f921\"]],\"type\":\"heatmap\"}],\"heatmapgl\":[{\"colorbar\":{\"outlinewidth\":0,\"ticks\":\"\"},\"colorscale\":[[0.0,\"#0d0887\"],[0.1111111111111111,\"#46039f\"],[0.2222222222222222,\"#7201a8\"],[0.3333333333333333,\"#9c179e\"],[0.4444444444444444,\"#bd3786\"],[0.5555555555555556,\"#d8576b\"],[0.6666666666666666,\"#ed7953\"],[0.7777777777777778,\"#fb9f3a\"],[0.8888888888888888,\"#fdca26\"],[1.0,\"#f0f921\"]],\"type\":\"heatmapgl\"}],\"histogram\":[{\"marker\":{\"pattern\":{\"fillmode\":\"overlay\",\"size\":10,\"solidity\":0.2}},\"type\":\"histogram\"}],\"histogram2d\":[{\"colorbar\":{\"outlinewidth\":0,\"ticks\":\"\"},\"colorscale\":[[0.0,\"#0d0887\"],[0.1111111111111111,\"#46039f\"],[0.2222222222222222,\"#7201a8\"],[0.3333333333333333,\"#9c179e\"],[0.4444444444444444,\"#bd3786\"],[0.5555555555555556,\"#d8576b\"],[0.6666666666666666,\"#ed7953\"],[0.7777777777777778,\"#fb9f3a\"],[0.8888888888888888,\"#fdca26\"],[1.0,\"#f0f921\"]],\"type\":\"histogram2d\"}],\"histogram2dcontour\":[{\"colorbar\":{\"outlinewidth\":0,\"ticks\":\"\"},\"colorscale\":[[0.0,\"#0d0887\"],[0.1111111111111111,\"#46039f\"],[0.2222222222222222,\"#7201a8\"],[0.3333333333333333,\"#9c179e\"],[0.4444444444444444,\"#bd3786\"],[0.5555555555555556,\"#d8576b\"],[0.6666666666666666,\"#ed7953\"],[0.7777777777777778,\"#fb9f3a\"],[0.8888888888888888,\"#fdca26\"],[1.0,\"#f0f921\"]],\"type\":\"histogram2dcontour\"}],\"mesh3d\":[{\"colorbar\":{\"outlinewidth\":0,\"ticks\":\"\"},\"type\":\"mesh3d\"}],\"parcoords\":[{\"line\":{\"colorbar\":{\"outlinewidth\":0,\"ticks\":\"\"}},\"type\":\"parcoords\"}],\"pie\":[{\"automargin\":true,\"type\":\"pie\"}],\"scatter\":[{\"marker\":{\"colorbar\":{\"outlinewidth\":0,\"ticks\":\"\"}},\"type\":\"scatter\"}],\"scatter3d\":[{\"line\":{\"colorbar\":{\"outlinewidth\":0,\"ticks\":\"\"}},\"marker\":{\"colorbar\":{\"outlinewidth\":0,\"ticks\":\"\"}},\"type\":\"scatter3d\"}],\"scattercarpet\":[{\"marker\":{\"colorbar\":{\"outlinewidth\":0,\"ticks\":\"\"}},\"type\":\"scattercarpet\"}],\"scattergeo\":[{\"marker\":{\"colorbar\":{\"outlinewidth\":0,\"ticks\":\"\"}},\"type\":\"scattergeo\"}],\"scattergl\":[{\"marker\":{\"colorbar\":{\"outlinewidth\":0,\"ticks\":\"\"}},\"type\":\"scattergl\"}],\"scattermapbox\":[{\"marker\":{\"colorbar\":{\"outlinewidth\":0,\"ticks\":\"\"}},\"type\":\"scattermapbox\"}],\"scatterpolar\":[{\"marker\":{\"colorbar\":{\"outlinewidth\":0,\"ticks\":\"\"}},\"type\":\"scatterpolar\"}],\"scatterpolargl\":[{\"marker\":{\"colorbar\":{\"outlinewidth\":0,\"ticks\":\"\"}},\"type\":\"scatterpolargl\"}],\"scatterternary\":[{\"marker\":{\"colorbar\":{\"outlinewidth\":0,\"ticks\":\"\"}},\"type\":\"scatterternary\"}],\"surface\":[{\"colorbar\":{\"outlinewidth\":0,\"ticks\":\"\"},\"colorscale\":[[0.0,\"#0d0887\"],[0.1111111111111111,\"#46039f\"],[0.2222222222222222,\"#7201a8\"],[0.3333333333333333,\"#9c179e\"],[0.4444444444444444,\"#bd3786\"],[0.5555555555555556,\"#d8576b\"],[0.6666666666666666,\"#ed7953\"],[0.7777777777777778,\"#fb9f3a\"],[0.8888888888888888,\"#fdca26\"],[1.0,\"#f0f921\"]],\"type\":\"surface\"}],\"table\":[{\"cells\":{\"fill\":{\"color\":\"#EBF0F8\"},\"line\":{\"color\":\"white\"}},\"header\":{\"fill\":{\"color\":\"#C8D4E3\"},\"line\":{\"color\":\"white\"}},\"type\":\"table\"}]},\"layout\":{\"annotationdefaults\":{\"arrowcolor\":\"#2a3f5f\",\"arrowhead\":0,\"arrowwidth\":1},\"autotypenumbers\":\"strict\",\"coloraxis\":{\"colorbar\":{\"outlinewidth\":0,\"ticks\":\"\"}},\"colorscale\":{\"diverging\":[[0,\"#8e0152\"],[0.1,\"#c51b7d\"],[0.2,\"#de77ae\"],[0.3,\"#f1b6da\"],[0.4,\"#fde0ef\"],[0.5,\"#f7f7f7\"],[0.6,\"#e6f5d0\"],[0.7,\"#b8e186\"],[0.8,\"#7fbc41\"],[0.9,\"#4d9221\"],[1,\"#276419\"]],\"sequential\":[[0.0,\"#0d0887\"],[0.1111111111111111,\"#46039f\"],[0.2222222222222222,\"#7201a8\"],[0.3333333333333333,\"#9c179e\"],[0.4444444444444444,\"#bd3786\"],[0.5555555555555556,\"#d8576b\"],[0.6666666666666666,\"#ed7953\"],[0.7777777777777778,\"#fb9f3a\"],[0.8888888888888888,\"#fdca26\"],[1.0,\"#f0f921\"]],\"sequentialminus\":[[0.0,\"#0d0887\"],[0.1111111111111111,\"#46039f\"],[0.2222222222222222,\"#7201a8\"],[0.3333333333333333,\"#9c179e\"],[0.4444444444444444,\"#bd3786\"],[0.5555555555555556,\"#d8576b\"],[0.6666666666666666,\"#ed7953\"],[0.7777777777777778,\"#fb9f3a\"],[0.8888888888888888,\"#fdca26\"],[1.0,\"#f0f921\"]]},\"colorway\":[\"#636efa\",\"#EF553B\",\"#00cc96\",\"#ab63fa\",\"#FFA15A\",\"#19d3f3\",\"#FF6692\",\"#B6E880\",\"#FF97FF\",\"#FECB52\"],\"font\":{\"color\":\"#2a3f5f\"},\"geo\":{\"bgcolor\":\"white\",\"lakecolor\":\"white\",\"landcolor\":\"#E5ECF6\",\"showlakes\":true,\"showland\":true,\"subunitcolor\":\"white\"},\"hoverlabel\":{\"align\":\"left\"},\"hovermode\":\"closest\",\"mapbox\":{\"style\":\"light\"},\"paper_bgcolor\":\"white\",\"plot_bgcolor\":\"#E5ECF6\",\"polar\":{\"angularaxis\":{\"gridcolor\":\"white\",\"linecolor\":\"white\",\"ticks\":\"\"},\"bgcolor\":\"#E5ECF6\",\"radialaxis\":{\"gridcolor\":\"white\",\"linecolor\":\"white\",\"ticks\":\"\"}},\"scene\":{\"xaxis\":{\"backgroundcolor\":\"#E5ECF6\",\"gridcolor\":\"white\",\"gridwidth\":2,\"linecolor\":\"white\",\"showbackground\":true,\"ticks\":\"\",\"zerolinecolor\":\"white\"},\"yaxis\":{\"backgroundcolor\":\"#E5ECF6\",\"gridcolor\":\"white\",\"gridwidth\":2,\"linecolor\":\"white\",\"showbackground\":true,\"ticks\":\"\",\"zerolinecolor\":\"white\"},\"zaxis\":{\"backgroundcolor\":\"#E5ECF6\",\"gridcolor\":\"white\",\"gridwidth\":2,\"linecolor\":\"white\",\"showbackground\":true,\"ticks\":\"\",\"zerolinecolor\":\"white\"}},\"shapedefaults\":{\"line\":{\"color\":\"#2a3f5f\"}},\"ternary\":{\"aaxis\":{\"gridcolor\":\"white\",\"linecolor\":\"white\",\"ticks\":\"\"},\"baxis\":{\"gridcolor\":\"white\",\"linecolor\":\"white\",\"ticks\":\"\"},\"bgcolor\":\"#E5ECF6\",\"caxis\":{\"gridcolor\":\"white\",\"linecolor\":\"white\",\"ticks\":\"\"}},\"title\":{\"x\":0.05},\"xaxis\":{\"automargin\":true,\"gridcolor\":\"white\",\"linecolor\":\"white\",\"ticks\":\"\",\"title\":{\"standoff\":15},\"zerolinecolor\":\"white\",\"zerolinewidth\":2},\"yaxis\":{\"automargin\":true,\"gridcolor\":\"white\",\"linecolor\":\"white\",\"ticks\":\"\",\"title\":{\"standoff\":15},\"zerolinecolor\":\"white\",\"zerolinewidth\":2}}}},                        {\"responsive\": true}                    ).then(function(){\n",
       "                            \n",
       "var gd = document.getElementById('3a1e910e-7c3b-434f-9051-4f45b4a7d4aa');\n",
       "var x = new MutationObserver(function (mutations, observer) {{\n",
       "        var display = window.getComputedStyle(gd).display;\n",
       "        if (!display || display === 'none') {{\n",
       "            console.log([gd, 'removed!']);\n",
       "            Plotly.purge(gd);\n",
       "            observer.disconnect();\n",
       "        }}\n",
       "}});\n",
       "\n",
       "// Listen for the removal of the full notebook cells\n",
       "var notebookContainer = gd.closest('#notebook-container');\n",
       "if (notebookContainer) {{\n",
       "    x.observe(notebookContainer, {childList: true});\n",
       "}}\n",
       "\n",
       "// Listen for the clearing of the current output cell\n",
       "var outputEl = gd.closest('.output');\n",
       "if (outputEl) {{\n",
       "    x.observe(outputEl, {childList: true});\n",
       "}}\n",
       "\n",
       "                        })                };                });            </script>        </div>"
      ]
     },
     "metadata": {},
     "output_type": "display_data"
    }
   ],
   "source": [
    "fig = graph_prediction_vs_actual_over_time(baseline, X_test, y_test, X_train, y_train, dates=X_test['date'])\n",
    "fig"
   ]
  }
 ],
 "metadata": {
  "kernelspec": {
   "display_name": "Python 3 (ipykernel)",
   "language": "python",
   "name": "python3"
  },
  "language_info": {
   "codemirror_mode": {
    "name": "ipython",
    "version": 3
   },
   "file_extension": ".py",
   "mimetype": "text/x-python",
   "name": "python",
   "nbconvert_exporter": "python",
   "pygments_lexer": "ipython3",
   "version": "3.8.2"
  }
 },
 "nbformat": 4,
 "nbformat_minor": 5
}
