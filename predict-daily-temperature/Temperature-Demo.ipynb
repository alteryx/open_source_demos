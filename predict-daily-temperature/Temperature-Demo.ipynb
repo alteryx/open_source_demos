{
 "cells": [
  {
   "cell_type": "code",
   "execution_count": 1,
   "id": "1484346d",
   "metadata": {},
   "outputs": [],
   "source": [
    "from utils import feature_importances\n",
    "\n",
    "from featuretools.primitives import RollingMean, NumericLag\n",
    "from IPython.display import Image\n",
    "from sklearn.ensemble import RandomForestRegressor\n",
    "from sklearn.model_selection import train_test_split\n",
    "from sklearn.metrics import median_absolute_error\n",
    "import evalml\n",
    "import featuretools as ft\n",
    "import pandas as pd\n",
    "import woodwork as ww"
   ]
  },
  {
   "cell_type": "markdown",
   "id": "e8b2fa43",
   "metadata": {},
   "source": [
    "# Using Featuretools and EvalML to Solve Time Series Problems\n",
    "\n",
    "In this demo, we'll work to predict future daily average temperatures using historical temperature data. This is a time series machine learning problem, which requires special considerations during preprocessing, feature engineering, and model building.\n",
    "\n",
    "To highlight the proess through which we can solve a time series problem, we'll build three models.\n",
    "\n",
    "First, we'll build a baseline model; this will highlight the unique constraints for data-splitting and allow us to understand the problem definition. Then, we'll explore time series feature engineering by generating features with [Featuretools](https://featuretools.alteryx.com/), an open-source Python library for automatically creating features out of a set of related tables using a technique called Deep Feature Synthesis. Finally, we'll use  [EvalML](https://github.com/alteryx/evalml)'s time series modeling to greatly simplify the process through which these models are built.\n",
    "\n",
    "## Understanding Time Series Problems\n",
    "\n",
    "Time series forecasting is different from other machine learning problems in that there is an inherent temporal ordering to the data. The ordering comes from a time index column, so at a specific point in time, we may have knowlege about earlier observations but not later ones. If the data is unordered, it’d be hard to see any overall trend or seasonality, but when sorted by date, any relationships that exist in the data can be seen and used when making predictions (winter is cold; summer is hot!). Notice how this is different from non-time series data, which can be presented in any order without having an impact on the resulting predictions.\n",
    "\n",
    "Other demos in this repository explore this concept some. For example, the predict-remaining-useful-life demo is highly reliant on the temporal ordering of its data, as it is predicting when, in the future, an engine will need to be decommissioned. In that demo, the primary impact the data's temporal ordering has on modeling occurs in splitting the data into training and test data where we use a `cutoff_time` to determine when that split occurs. We'll have to account for the same things in this demo since we have to be very careful when splitting our data to not expose future observations in the feature engineering stage. \n",
    "\n",
    "But once the data is split, the predict-remaining-useful-life demo calculates aggregations over the entire life of the engine up until the last available time. In that case, that makes sense! The goal is to predict one future value (the remaining useful life) per engine, so we should look at its entire available history when making that prediction. There is an entire dataframe of engines for which we're predicting this value, but they are not dependent on one another. \n",
    "\n",
    "However, in this demo and in many time series problems, we're trying to predict a sequential series of values that are highly dependent on one another. In these cases, we can exploit the fact that more recent observations are more predictive than more distant ones--when trying to determine tomorrow's temperature, knowing today's temperature may be the most predictive piece of information we can get. We also only have one table in our dataset, so any aggregations have to be calculated over earlier data. We'll see the impact of this in what types of features we choose to build in the expanded Featuretools run.\n",
    "\n",
    "For additional examples of time series demos that are similar to predict-remaining-useful-life, see predict-olympic-medals and predict-appointment-noshow."
   ]
  },
  {
   "cell_type": "markdown",
   "id": "7018874e",
   "metadata": {},
   "source": [
    "## Load in Data\n",
    "\n",
    "We’ll demonstrate how to build a time series model using the DailyDelhiClimateTrain dataset, which contains a `meantemp` target variable and a `date` time index. There are other columns, but for the purposes of simplicity, we'll only work with the target and time index columns. To include the others would bring this demo into the sphere of multivariate time series modeling, which brings its own host of complexity."
   ]
  },
  {
   "cell_type": "code",
   "execution_count": 2,
   "id": "e529406e",
   "metadata": {
    "scrolled": false
   },
   "outputs": [
    {
     "data": {
      "text/html": [
       "<div>\n",
       "<style scoped>\n",
       "    .dataframe tbody tr th:only-of-type {\n",
       "        vertical-align: middle;\n",
       "    }\n",
       "\n",
       "    .dataframe tbody tr th {\n",
       "        vertical-align: top;\n",
       "    }\n",
       "\n",
       "    .dataframe thead th {\n",
       "        text-align: right;\n",
       "    }\n",
       "</style>\n",
       "<table border=\"1\" class=\"dataframe\">\n",
       "  <thead>\n",
       "    <tr style=\"text-align: right;\">\n",
       "      <th></th>\n",
       "      <th>date</th>\n",
       "      <th>meantemp</th>\n",
       "      <th>humidity</th>\n",
       "      <th>wind_speed</th>\n",
       "      <th>meanpressure</th>\n",
       "    </tr>\n",
       "  </thead>\n",
       "  <tbody>\n",
       "    <tr>\n",
       "      <th>0</th>\n",
       "      <td>2013-01-01</td>\n",
       "      <td>10.000000</td>\n",
       "      <td>84.500000</td>\n",
       "      <td>0.000000</td>\n",
       "      <td>1015.666667</td>\n",
       "    </tr>\n",
       "    <tr>\n",
       "      <th>1</th>\n",
       "      <td>2013-01-02</td>\n",
       "      <td>7.400000</td>\n",
       "      <td>92.000000</td>\n",
       "      <td>2.980000</td>\n",
       "      <td>1017.800000</td>\n",
       "    </tr>\n",
       "    <tr>\n",
       "      <th>2</th>\n",
       "      <td>2013-01-03</td>\n",
       "      <td>7.166667</td>\n",
       "      <td>87.000000</td>\n",
       "      <td>4.633333</td>\n",
       "      <td>1018.666667</td>\n",
       "    </tr>\n",
       "    <tr>\n",
       "      <th>3</th>\n",
       "      <td>2013-01-04</td>\n",
       "      <td>8.666667</td>\n",
       "      <td>71.333333</td>\n",
       "      <td>1.233333</td>\n",
       "      <td>1017.166667</td>\n",
       "    </tr>\n",
       "    <tr>\n",
       "      <th>4</th>\n",
       "      <td>2013-01-05</td>\n",
       "      <td>6.000000</td>\n",
       "      <td>86.833333</td>\n",
       "      <td>3.700000</td>\n",
       "      <td>1016.500000</td>\n",
       "    </tr>\n",
       "    <tr>\n",
       "      <th>...</th>\n",
       "      <td>...</td>\n",
       "      <td>...</td>\n",
       "      <td>...</td>\n",
       "      <td>...</td>\n",
       "      <td>...</td>\n",
       "    </tr>\n",
       "    <tr>\n",
       "      <th>1457</th>\n",
       "      <td>2016-12-28</td>\n",
       "      <td>17.217391</td>\n",
       "      <td>68.043478</td>\n",
       "      <td>3.547826</td>\n",
       "      <td>1015.565217</td>\n",
       "    </tr>\n",
       "    <tr>\n",
       "      <th>1458</th>\n",
       "      <td>2016-12-29</td>\n",
       "      <td>15.238095</td>\n",
       "      <td>87.857143</td>\n",
       "      <td>6.000000</td>\n",
       "      <td>1016.904762</td>\n",
       "    </tr>\n",
       "    <tr>\n",
       "      <th>1459</th>\n",
       "      <td>2016-12-30</td>\n",
       "      <td>14.095238</td>\n",
       "      <td>89.666667</td>\n",
       "      <td>6.266667</td>\n",
       "      <td>1017.904762</td>\n",
       "    </tr>\n",
       "    <tr>\n",
       "      <th>1460</th>\n",
       "      <td>2016-12-31</td>\n",
       "      <td>15.052632</td>\n",
       "      <td>87.000000</td>\n",
       "      <td>7.325000</td>\n",
       "      <td>1016.100000</td>\n",
       "    </tr>\n",
       "    <tr>\n",
       "      <th>1461</th>\n",
       "      <td>2017-01-01</td>\n",
       "      <td>10.000000</td>\n",
       "      <td>100.000000</td>\n",
       "      <td>0.000000</td>\n",
       "      <td>1016.000000</td>\n",
       "    </tr>\n",
       "  </tbody>\n",
       "</table>\n",
       "<p>1462 rows × 5 columns</p>\n",
       "</div>"
      ],
      "text/plain": [
       "            date   meantemp    humidity  wind_speed  meanpressure\n",
       "0     2013-01-01  10.000000   84.500000    0.000000   1015.666667\n",
       "1     2013-01-02   7.400000   92.000000    2.980000   1017.800000\n",
       "2     2013-01-03   7.166667   87.000000    4.633333   1018.666667\n",
       "3     2013-01-04   8.666667   71.333333    1.233333   1017.166667\n",
       "4     2013-01-05   6.000000   86.833333    3.700000   1016.500000\n",
       "...          ...        ...         ...         ...           ...\n",
       "1457  2016-12-28  17.217391   68.043478    3.547826   1015.565217\n",
       "1458  2016-12-29  15.238095   87.857143    6.000000   1016.904762\n",
       "1459  2016-12-30  14.095238   89.666667    6.266667   1017.904762\n",
       "1460  2016-12-31  15.052632   87.000000    7.325000   1016.100000\n",
       "1461  2017-01-01  10.000000  100.000000    0.000000   1016.000000\n",
       "\n",
       "[1462 rows x 5 columns]"
      ]
     },
     "execution_count": 2,
     "metadata": {},
     "output_type": "execute_result"
    }
   ],
   "source": [
    "file_name = \"DailyDelhiClimateTrain\"\n",
    "df = pd.read_csv(f\"dataset/{file_name}.csv\")\n",
    "\n",
    "df"
   ]
  },
  {
   "cell_type": "markdown",
   "id": "a040b51c",
   "metadata": {},
   "source": [
    "Now, we'll do a quick sanity check that the data has some temporal pattern that we can exploit for modeling purposes.\n",
    "\n",
    "First, we'll use a Woodwork method to check whether there is any column with a uniform sampling frequency. This is important, because it means that there is a constant amount of time between observations. A dataset that does not have a uniform sampling frequency can still be used for time series modeling, but the existence of that frequency is a good indicator that this dataset is ripe for time series modeling. For columns that have multiple datetime columns, checking for a frequency is also a good indicator for which could be the time index."
   ]
  },
  {
   "cell_type": "code",
   "execution_count": 3,
   "id": "b7e1b470",
   "metadata": {},
   "outputs": [
    {
     "data": {
      "text/plain": [
       "{'date': 'D'}"
      ]
     },
     "execution_count": 3,
     "metadata": {},
     "output_type": "execute_result"
    }
   ],
   "source": [
    "df.ww.init()\n",
    "df.ww.infer_temporal_frequencies()"
   ]
  },
  {
   "cell_type": "markdown",
   "id": "b83d559a",
   "metadata": {},
   "source": [
    "Indeed, one of the columns, `date`, has a daily frequency; we'll move forward with it as our time index.\n",
    "\n",
    "Now, we’ll graph the data."
   ]
  },
  {
   "cell_type": "code",
   "execution_count": 4,
   "id": "620c5e14",
   "metadata": {
    "scrolled": true
   },
   "outputs": [
    {
     "data": {
      "text/plain": [
       "<AxesSubplot:xlabel='date'>"
      ]
     },
     "execution_count": 4,
     "metadata": {},
     "output_type": "execute_result"
    },
    {
     "data": {
      "image/png": "[encoded data removed]",
      "text/plain": [
       "<Figure size 432x288 with 1 Axes>"
      ]
     },
     "metadata": {
      "needs_background": "light"
     },
     "output_type": "display_data"
    }
   ],
   "source": [
    "ts = df['meantemp']\n",
    "ts.index = df['date']\n",
    "ts.plot()"
   ]
  },
  {
   "cell_type": "markdown",
   "id": "f1f6942a",
   "metadata": {},
   "source": [
    "We can see a strong seasonality, which makes sense for temperature! In many places, the time of the year is indicative of what the weather will look like. Now, we'll build a baseline model that uses the most recently available data. \n",
    "\n",
    "But how do we define what data we have access to at different points in time? In many scenarios, this might be determined by how quickly we can get access to recent observations. Consider an example where we're recording data that takes a week to ingest; the earliest data we have access to is from seven days ago.\n",
    "\n",
    "Since this demo is building a model using training and test data that we'll have access to in its entirety, we'll need to set some parameters arbitrarily. But these parameters will let us define the problem more formally. We'll stick with this problem configuration throughout the rest of the demo. \n",
    "\n",
    "## Problem Configuration\n",
    "Here are a few concepts that give us our official problem configuration. They are taken from EvalML's [time series user guide](https://evalml.alteryx.com/en/stable/user_guide/timeseries.html#Running-AutoMLSearch):\n",
    "\n",
    "**forecast_horizon**: The number of time periods we are trying to forecast. In this example, we’re interested in predicting the mean temperature for the next 5 days, so the value is 5.\n",
    "\n",
    "**gap**: The number of time periods between the end of the training set and the start of the test set. We’re going to make predictions using data from three days prior to each observation.\n",
    "\n",
    "**max_delay**: The maximum number of rows to look in the past from the current row in order to compute features. Here, we’ll use a max delay of 20.\n",
    "\n",
    "**time_index**: The column of the training dataset that contains the date corresponding to each observation. Here, it's the `date` column.\n",
    "\n",
    "Our problem can then be described as trying to predict the mean temperature 3 to 8 days out using temperature data from 20 days prior. "
   ]
  },
  {
   "cell_type": "code",
   "execution_count": 5,
   "id": "43ca1fe9",
   "metadata": {},
   "outputs": [],
   "source": [
    "# The only columns we'll want to use for modeling - makes this a univariate problem\n",
    "time_index = \"date\"\n",
    "target_col = 'meantemp'\n",
    "\n",
    "# parameters as evalml uses them \n",
    "gap = 3\n",
    "max_delay = 20\n",
    "forecast_horizon = 5"
   ]
  },
  {
   "cell_type": "markdown",
   "id": "d43a8685",
   "metadata": {},
   "source": [
    "Since we do not want to complicate the solution by performing multivariate time series modeling, we'll only use the time index column and target column for the rest of this demo. "
   ]
  },
  {
   "cell_type": "code",
   "execution_count": 6,
   "id": "88f9088b",
   "metadata": {},
   "outputs": [],
   "source": [
    "univariate_df = df[[time_index, target_col]]"
   ]
  },
  {
   "cell_type": "markdown",
   "id": "8d5254dc",
   "metadata": {},
   "source": [
    "Additionally, we'll want to have our data split up into training and testing data. We'll use the same split for both our baseline and Featuretools runs. We're leaving a `gap` number of observations between the train and test sets in order to not have the test dataset's lag feature use values that are technically before the test set begins or inside of the training set. "
   ]
  },
  {
   "cell_type": "code",
   "execution_count": 7,
   "id": "c3d27b19",
   "metadata": {},
   "outputs": [
    {
     "data": {
      "text/html": [
       "<div>\n",
       "<style scoped>\n",
       "    .dataframe tbody tr th:only-of-type {\n",
       "        vertical-align: middle;\n",
       "    }\n",
       "\n",
       "    .dataframe tbody tr th {\n",
       "        vertical-align: top;\n",
       "    }\n",
       "\n",
       "    .dataframe thead th {\n",
       "        text-align: right;\n",
       "    }\n",
       "</style>\n",
       "<table border=\"1\" class=\"dataframe\">\n",
       "  <thead>\n",
       "    <tr style=\"text-align: right;\">\n",
       "      <th></th>\n",
       "      <th>date</th>\n",
       "      <th>meantemp</th>\n",
       "    </tr>\n",
       "  </thead>\n",
       "  <tbody>\n",
       "    <tr>\n",
       "      <th>0</th>\n",
       "      <td>2013-01-01</td>\n",
       "      <td>10.000000</td>\n",
       "    </tr>\n",
       "    <tr>\n",
       "      <th>1</th>\n",
       "      <td>2013-01-02</td>\n",
       "      <td>7.400000</td>\n",
       "    </tr>\n",
       "    <tr>\n",
       "      <th>2</th>\n",
       "      <td>2013-01-03</td>\n",
       "      <td>7.166667</td>\n",
       "    </tr>\n",
       "    <tr>\n",
       "      <th>3</th>\n",
       "      <td>2013-01-04</td>\n",
       "      <td>8.666667</td>\n",
       "    </tr>\n",
       "    <tr>\n",
       "      <th>4</th>\n",
       "      <td>2013-01-05</td>\n",
       "      <td>6.000000</td>\n",
       "    </tr>\n",
       "    <tr>\n",
       "      <th>...</th>\n",
       "      <td>...</td>\n",
       "      <td>...</td>\n",
       "    </tr>\n",
       "    <tr>\n",
       "      <th>1164</th>\n",
       "      <td>2016-03-10</td>\n",
       "      <td>25.562500</td>\n",
       "    </tr>\n",
       "    <tr>\n",
       "      <th>1165</th>\n",
       "      <td>2016-03-11</td>\n",
       "      <td>25.066667</td>\n",
       "    </tr>\n",
       "    <tr>\n",
       "      <th>1166</th>\n",
       "      <td>2016-03-12</td>\n",
       "      <td>24.562500</td>\n",
       "    </tr>\n",
       "    <tr>\n",
       "      <th>1167</th>\n",
       "      <td>2016-03-13</td>\n",
       "      <td>24.250000</td>\n",
       "    </tr>\n",
       "    <tr>\n",
       "      <th>1168</th>\n",
       "      <td>2016-03-14</td>\n",
       "      <td>22.375000</td>\n",
       "    </tr>\n",
       "  </tbody>\n",
       "</table>\n",
       "<p>1169 rows × 2 columns</p>\n",
       "</div>"
      ],
      "text/plain": [
       "           date   meantemp\n",
       "0    2013-01-01  10.000000\n",
       "1    2013-01-02   7.400000\n",
       "2    2013-01-03   7.166667\n",
       "3    2013-01-04   8.666667\n",
       "4    2013-01-05   6.000000\n",
       "...         ...        ...\n",
       "1164 2016-03-10  25.562500\n",
       "1165 2016-03-11  25.066667\n",
       "1166 2016-03-12  24.562500\n",
       "1167 2016-03-13  24.250000\n",
       "1168 2016-03-14  22.375000\n",
       "\n",
       "[1169 rows x 2 columns]"
      ]
     },
     "execution_count": 7,
     "metadata": {},
     "output_type": "execute_result"
    }
   ],
   "source": [
    "split_point = int(univariate_df.shape[0]*.8)\n",
    "\n",
    "# leave gap observations between training and test datasets\n",
    "training_data = univariate_df[:split_point]\n",
    "test_data = univariate_df[(split_point + gap):]\n",
    "\n",
    "training_data"
   ]
  },
  {
   "cell_type": "markdown",
   "id": "ca6ed90f",
   "metadata": {},
   "source": [
    "# Baseline Run\n",
    "\n",
    "Our baseline run will only include one feature that is a delayed value from the `meantemp` column. That delayed value will be the first known value for each observation. \n",
    "\n",
    "### Feature Engineering"
   ]
  },
  {
   "cell_type": "code",
   "execution_count": 8,
   "id": "cd2737ca",
   "metadata": {},
   "outputs": [
    {
     "data": {
      "text/html": [
       "<div>\n",
       "<style scoped>\n",
       "    .dataframe tbody tr th:only-of-type {\n",
       "        vertical-align: middle;\n",
       "    }\n",
       "\n",
       "    .dataframe tbody tr th {\n",
       "        vertical-align: top;\n",
       "    }\n",
       "\n",
       "    .dataframe thead th {\n",
       "        text-align: right;\n",
       "    }\n",
       "</style>\n",
       "<table border=\"1\" class=\"dataframe\">\n",
       "  <thead>\n",
       "    <tr style=\"text-align: right;\">\n",
       "      <th></th>\n",
       "      <th>date</th>\n",
       "      <th>meantemp</th>\n",
       "      <th>target_delay</th>\n",
       "    </tr>\n",
       "  </thead>\n",
       "  <tbody>\n",
       "    <tr>\n",
       "      <th>0</th>\n",
       "      <td>2013-01-01</td>\n",
       "      <td>10.000000</td>\n",
       "      <td>NaN</td>\n",
       "    </tr>\n",
       "    <tr>\n",
       "      <th>1</th>\n",
       "      <td>2013-01-02</td>\n",
       "      <td>7.400000</td>\n",
       "      <td>NaN</td>\n",
       "    </tr>\n",
       "    <tr>\n",
       "      <th>2</th>\n",
       "      <td>2013-01-03</td>\n",
       "      <td>7.166667</td>\n",
       "      <td>NaN</td>\n",
       "    </tr>\n",
       "    <tr>\n",
       "      <th>3</th>\n",
       "      <td>2013-01-04</td>\n",
       "      <td>8.666667</td>\n",
       "      <td>NaN</td>\n",
       "    </tr>\n",
       "    <tr>\n",
       "      <th>4</th>\n",
       "      <td>2013-01-05</td>\n",
       "      <td>6.000000</td>\n",
       "      <td>NaN</td>\n",
       "    </tr>\n",
       "    <tr>\n",
       "      <th>...</th>\n",
       "      <td>...</td>\n",
       "      <td>...</td>\n",
       "      <td>...</td>\n",
       "    </tr>\n",
       "    <tr>\n",
       "      <th>1164</th>\n",
       "      <td>2016-03-10</td>\n",
       "      <td>25.562500</td>\n",
       "      <td>24.916667</td>\n",
       "    </tr>\n",
       "    <tr>\n",
       "      <th>1165</th>\n",
       "      <td>2016-03-11</td>\n",
       "      <td>25.066667</td>\n",
       "      <td>24.933333</td>\n",
       "    </tr>\n",
       "    <tr>\n",
       "      <th>1166</th>\n",
       "      <td>2016-03-12</td>\n",
       "      <td>24.562500</td>\n",
       "      <td>26.000000</td>\n",
       "    </tr>\n",
       "    <tr>\n",
       "      <th>1167</th>\n",
       "      <td>2016-03-13</td>\n",
       "      <td>24.250000</td>\n",
       "      <td>27.312500</td>\n",
       "    </tr>\n",
       "    <tr>\n",
       "      <th>1168</th>\n",
       "      <td>2016-03-14</td>\n",
       "      <td>22.375000</td>\n",
       "      <td>23.933333</td>\n",
       "    </tr>\n",
       "  </tbody>\n",
       "</table>\n",
       "<p>1169 rows × 3 columns</p>\n",
       "</div>"
      ],
      "text/plain": [
       "           date   meantemp  target_delay\n",
       "0    2013-01-01  10.000000           NaN\n",
       "1    2013-01-02   7.400000           NaN\n",
       "2    2013-01-03   7.166667           NaN\n",
       "3    2013-01-04   8.666667           NaN\n",
       "4    2013-01-05   6.000000           NaN\n",
       "...         ...        ...           ...\n",
       "1164 2016-03-10  25.562500     24.916667\n",
       "1165 2016-03-11  25.066667     24.933333\n",
       "1166 2016-03-12  24.562500     26.000000\n",
       "1167 2016-03-13  24.250000     27.312500\n",
       "1168 2016-03-14  22.375000     23.933333\n",
       "\n",
       "[1169 rows x 3 columns]"
      ]
     },
     "execution_count": 8,
     "metadata": {},
     "output_type": "execute_result"
    }
   ],
   "source": [
    "# Add a delayed target feature to both traning and test data\n",
    "target_lag_training = training_data[target_col].shift(forecast_horizon + gap + 1)\n",
    "target_lag_training.name = 'target_delay'\n",
    "baseline_training = pd.concat([training_data, target_lag_training], axis=1)\n",
    "\n",
    "target_lag_test = test_data[target_col].shift(forecast_horizon + gap + 1)\n",
    "target_lag_test.name = 'target_delay'\n",
    "baseline_test = pd.concat([test_data, target_lag_test], axis=1)\n",
    "\n",
    "baseline_training"
   ]
  },
  {
   "cell_type": "markdown",
   "id": "e322fedb",
   "metadata": {},
   "source": [
    "### Format data for modeling\n",
    "\n",
    "We won't want the datetime column in our data for modeling, we also need to remove the null values that were introduced in the delayed target feature, and last we need to pull the target column out. "
   ]
  },
  {
   "cell_type": "code",
   "execution_count": 9,
   "id": "9c92cff9",
   "metadata": {},
   "outputs": [
    {
     "data": {
      "text/html": [
       "<div>\n",
       "<style scoped>\n",
       "    .dataframe tbody tr th:only-of-type {\n",
       "        vertical-align: middle;\n",
       "    }\n",
       "\n",
       "    .dataframe tbody tr th {\n",
       "        vertical-align: top;\n",
       "    }\n",
       "\n",
       "    .dataframe thead th {\n",
       "        text-align: right;\n",
       "    }\n",
       "</style>\n",
       "<table border=\"1\" class=\"dataframe\">\n",
       "  <thead>\n",
       "    <tr style=\"text-align: right;\">\n",
       "      <th></th>\n",
       "      <th>target_delay</th>\n",
       "    </tr>\n",
       "  </thead>\n",
       "  <tbody>\n",
       "    <tr>\n",
       "      <th>9</th>\n",
       "      <td>10.000000</td>\n",
       "    </tr>\n",
       "    <tr>\n",
       "      <th>10</th>\n",
       "      <td>7.400000</td>\n",
       "    </tr>\n",
       "    <tr>\n",
       "      <th>11</th>\n",
       "      <td>7.166667</td>\n",
       "    </tr>\n",
       "    <tr>\n",
       "      <th>12</th>\n",
       "      <td>8.666667</td>\n",
       "    </tr>\n",
       "    <tr>\n",
       "      <th>13</th>\n",
       "      <td>6.000000</td>\n",
       "    </tr>\n",
       "    <tr>\n",
       "      <th>...</th>\n",
       "      <td>...</td>\n",
       "    </tr>\n",
       "    <tr>\n",
       "      <th>1164</th>\n",
       "      <td>24.916667</td>\n",
       "    </tr>\n",
       "    <tr>\n",
       "      <th>1165</th>\n",
       "      <td>24.933333</td>\n",
       "    </tr>\n",
       "    <tr>\n",
       "      <th>1166</th>\n",
       "      <td>26.000000</td>\n",
       "    </tr>\n",
       "    <tr>\n",
       "      <th>1167</th>\n",
       "      <td>27.312500</td>\n",
       "    </tr>\n",
       "    <tr>\n",
       "      <th>1168</th>\n",
       "      <td>23.933333</td>\n",
       "    </tr>\n",
       "  </tbody>\n",
       "</table>\n",
       "<p>1160 rows × 1 columns</p>\n",
       "</div>"
      ],
      "text/plain": [
       "      target_delay\n",
       "9        10.000000\n",
       "10        7.400000\n",
       "11        7.166667\n",
       "12        8.666667\n",
       "13        6.000000\n",
       "...            ...\n",
       "1164     24.916667\n",
       "1165     24.933333\n",
       "1166     26.000000\n",
       "1167     27.312500\n",
       "1168     23.933333\n",
       "\n",
       "[1160 rows x 1 columns]"
      ]
     },
     "execution_count": 9,
     "metadata": {},
     "output_type": "execute_result"
    }
   ],
   "source": [
    "# Get rid of the time index column for modeling\n",
    "baseline_training.drop(time_index, axis=1, inplace=True)\n",
    "baseline_test.drop(time_index, axis=1, inplace=True)\n",
    "\n",
    "# The lag feature introduces nans, so we remove those rows and pull out the target\n",
    "X_train = baseline_training.dropna()\n",
    "y_train = X_train.pop(target_col)\n",
    "\n",
    "X_test = baseline_test.dropna()\n",
    "y_test = X_test.pop(target_col)\n",
    "\n",
    "X_train"
   ]
  },
  {
   "cell_type": "markdown",
   "id": "e18cc5f9",
   "metadata": {},
   "source": [
    "### Model Building\n",
    "\n",
    "Now that we've formatted our training and test data for modeling, we can use the training data, `X_train` and the target column `y_train`, to fit the random forest regressor we've chosen as our estimator. Then, we use the test data, `X_test` to predict our target values and check its accuracy against `y_test`."
   ]
  },
  {
   "cell_type": "code",
   "execution_count": 10,
   "id": "412e13e9",
   "metadata": {},
   "outputs": [
    {
     "name": "stdout",
     "output_type": "stream",
     "text": [
      "Median Abs Error: 1.97\n"
     ]
    }
   ],
   "source": [
    "reg = RandomForestRegressor(n_estimators=100)\n",
    "reg.fit(X_train, y_train)\n",
    "\n",
    "# Check the accuracy of our model\n",
    "preds = reg.predict(X_test)\n",
    "scores = median_absolute_error(preds, y_test)\n",
    "print('Median Abs Error: {:.2f}'.format(scores))"
   ]
  },
  {
   "cell_type": "markdown",
   "id": "c0169723",
   "metadata": {},
   "source": [
    "We're using median absolue error as our objective function for determining how the model performs. The closer the score is to zero, the better.\n",
    "\n",
    "We can also learn a bit more about our model by looking at the feature importances. "
   ]
  },
  {
   "cell_type": "code",
   "execution_count": 11,
   "id": "fbd2d9ed",
   "metadata": {
    "scrolled": true
   },
   "outputs": [
    {
     "name": "stdout",
     "output_type": "stream",
     "text": [
      "1: target_delay [1.000]\n",
      "-----\n",
      "\n"
     ]
    }
   ],
   "source": [
    "high_imp_feats = feature_importances(X_train, reg, feats=10)"
   ]
  },
  {
   "cell_type": "markdown",
   "id": "ee8d9a32",
   "metadata": {},
   "source": [
    "As we only built one feature, the delayed feature, it makes sense that it has a feature importance of 1, meaning that predictions are based entirely on that value. This step will help us understand our model better when we engineer more features.\n",
    "\n",
    "Next, we're going to expand our feature engineering step using Featuretools' deep feature synthesis (DFS). We'll utilize a few time-series specific primitives as well as some datetime primitives. \n",
    "\n",
    "# Feature Engineering Run \n",
    "<p style=\"margin:30px\">\n",
    "    <img style=\"display:inline; margin-right:50px\" width=50% src=\"https://www.featuretools.com/wp-content/uploads/2017/12/FeatureLabs-Logo-Tangerine-800.png\" alt=\"Featuretools\" />\n",
    "</p>\n",
    "\n",
    "\n",
    "We're going to use the same split that we used for the baseline run, so we'll work with the `training_data` and `test_data` dataframes from before.\n",
    "\n",
    "To utilize Feturetools' time series capabilities, we'll first need to do two things:\n",
    "1. Set up an [EntitySet](https://featuretools.alteryx.com/en/stable/getting_started/using_entitysets.html) for our data - this puts the data into a format that DFS can understand.\n",
    "2. Set up [primitives](https://featuretools.alteryx.com/en/stable/getting_started/primitives.html) for the DFS run - this is where we'll incorporate our time series problem configuration\n"
   ]
  },
  {
   "cell_type": "markdown",
   "id": "04b32e54",
   "metadata": {},
   "source": [
    "### Feature Engineering with Featuretools\n",
    "\n",
    "Our first step is setting up the `EntitySet` objects for both the training and testing data. Since our dataset only includes one table, this will be a quick process that will be identical for the training and testing data. The fact that the two EntitySets are the same in every aspect except for the number of rows will let us avoid running DFS twice. The feature definitions for one EntitySet can be used for the second as well!"
   ]
  },
  {
   "cell_type": "code",
   "execution_count": 12,
   "id": "995348c8",
   "metadata": {
    "scrolled": true
   },
   "outputs": [
    {
     "data": {
      "text/plain": [
       "Entityset: training_es\n",
       "  DataFrames:\n",
       "    temperatures [Rows: 1169, Columns: 3]\n",
       "  Relationships:\n",
       "    No relationships"
      ]
     },
     "execution_count": 12,
     "metadata": {},
     "output_type": "execute_result"
    }
   ],
   "source": [
    "training_es = ft.EntitySet(id='training_es')\n",
    "# Adds an index column to the data, so the \"temperatures\"\n",
    "# dataframe will have 3 columns\n",
    "training_es.add_dataframe(training_data.copy(), \n",
    "                 dataframe_name='temperatures', \n",
    "                 index='id', \n",
    "                 make_index=True, \n",
    "                 time_index=time_index)\n",
    "\n"
   ]
  },
  {
   "cell_type": "code",
   "execution_count": 13,
   "id": "964ed15c",
   "metadata": {},
   "outputs": [
    {
     "data": {
      "text/plain": [
       "Entityset: test_es\n",
       "  DataFrames:\n",
       "    temperatures [Rows: 290, Columns: 3]\n",
       "  Relationships:\n",
       "    No relationships"
      ]
     },
     "execution_count": 13,
     "metadata": {},
     "output_type": "execute_result"
    }
   ],
   "source": [
    "# The EntitySet made from the testing data will be created in exactly the same way\n",
    "test_es = ft.EntitySet(id='test_es')\n",
    "# Adds an index column to the data, so the \"temperatures\"\n",
    "# dataframe will have 3 columns\n",
    "test_es.add_dataframe(test_data.copy(), \n",
    "                 dataframe_name='temperatures', \n",
    "                 index='id', \n",
    "                 make_index=True, \n",
    "                 time_index=time_index)\n"
   ]
  },
  {
   "cell_type": "markdown",
   "id": "692e5759",
   "metadata": {},
   "source": [
    "Now, we'll set up our primitives for DFS. There will be three types of primitives:\n",
    "\n",
    "- **Datetime primitives** - these extract features from datetime columns\n",
    "- **Rolling primitives** - these perform aggregate calculations over rolling windows within a single column. Parameters can be set that allow an observation's window to be entirely before the observation occurs, which is important for not exposing our target variable. \n",
    "- **Lagging primitives** - these are primitive versions of the delayed target feature from the baseline run. We'll define multiple of these with different delays.\n",
    "\n",
    "We use the `gap`, `forecast_horizon`, and `max_delay` parameters from before to set our primitive parameters."
   ]
  },
  {
   "cell_type": "code",
   "execution_count": 14,
   "id": "956d3b27",
   "metadata": {},
   "outputs": [],
   "source": [
    "# Rolling gap is comprised of both our `gap` parameter and the forecast horizon, \n",
    "# because they determine the first observation we have access to.\n",
    "# They are also used to define our Numeric Lag primitives\n",
    "rolling_gap = forecast_horizon + gap\n",
    "\n",
    "# The .25 is a heuristic to only use a portion of the max_delay for the window length\n",
    "rolling_window_length = int(.25*max_delay) + 1 # a quarter is a heuristic here \n",
    "# Min periods is a pandas parameter, and it just stops us from including partial calculations before the windows have \n",
    "# all the possible observations\n",
    "rolling_min_periods = int(.25*max_delay) + 1\n",
    "\n",
    "datetime_primitives = [ 'Month', \"Year\"]\n",
    "delaying_primitives = [NumericLag(periods=t + forecast_horizon + gap) for t in range(rolling_window_length)]\n",
    "rolling_mean_primitive = RollingMean(rolling_window_length, \n",
    "                                               gap=rolling_gap,\n",
    "                                              min_periods=rolling_min_periods)"
   ]
  },
  {
   "cell_type": "markdown",
   "id": "206a88be",
   "metadata": {},
   "source": [
    "Now that we have all of our time series primitives defined, we can pass them into a DFS call. DFS returns two objects: a feature matrix and a list of feature definitions. We'll need the feature matrix built from the training data to use for fitting the model, and that is what we're getting with this DFS run, but we'll also need the test feature matrix to predict on, so we will use the feature definitions from the DFS call and calculate the test feature matrix directly using them. "
   ]
  },
  {
   "cell_type": "code",
   "execution_count": 15,
   "id": "e496c781",
   "metadata": {
    "scrolled": true
   },
   "outputs": [],
   "source": [
    "# DFS Run - calculates feature matrix and the feature definitions\n",
    "train_fm, feature_defs = ft.dfs(entityset=training_es, \n",
    "               target_dataframe_name='temperatures', \n",
    "               max_depth=1,\n",
    "               trans_primitives = datetime_primitives \n",
    "                            + delaying_primitives \n",
    "                            + [ rolling_mean_primitive ]\n",
    "              )\n",
    "\n",
    "# Reuse the feature definitions for the test data\n",
    "test_fm = ft.calculate_feature_matrix(feature_defs, test_es)"
   ]
  },
  {
   "cell_type": "markdown",
   "id": "a744a969",
   "metadata": {},
   "source": [
    "### Format data for modeling \n",
    "\n",
    "Again, we'll need to remove any null values in the data. In this case, all of our lagging primitives and our rolling \n",
    "mean primitive will have introduced NaNs that we need to remove. "
   ]
  },
  {
   "cell_type": "code",
   "execution_count": 16,
   "id": "ba509cc7",
   "metadata": {},
   "outputs": [
    {
     "data": {
      "text/html": [
       "<div>\n",
       "<style scoped>\n",
       "    .dataframe tbody tr th:only-of-type {\n",
       "        vertical-align: middle;\n",
       "    }\n",
       "\n",
       "    .dataframe tbody tr th {\n",
       "        vertical-align: top;\n",
       "    }\n",
       "\n",
       "    .dataframe thead th {\n",
       "        text-align: right;\n",
       "    }\n",
       "</style>\n",
       "<table border=\"1\" class=\"dataframe\">\n",
       "  <thead>\n",
       "    <tr style=\"text-align: right;\">\n",
       "      <th></th>\n",
       "      <th>MONTH(date)</th>\n",
       "      <th>NUMERIC_LAG(date, meantemp, periods=10)</th>\n",
       "      <th>NUMERIC_LAG(date, meantemp, periods=11)</th>\n",
       "      <th>NUMERIC_LAG(date, meantemp, periods=12)</th>\n",
       "      <th>NUMERIC_LAG(date, meantemp, periods=13)</th>\n",
       "      <th>NUMERIC_LAG(date, meantemp, periods=8)</th>\n",
       "      <th>NUMERIC_LAG(date, meantemp, periods=9)</th>\n",
       "      <th>ROLLING_MEAN(date, meantemp, window_length=6, gap=8, min_periods=6)</th>\n",
       "      <th>YEAR(date)</th>\n",
       "    </tr>\n",
       "    <tr>\n",
       "      <th>id</th>\n",
       "      <th></th>\n",
       "      <th></th>\n",
       "      <th></th>\n",
       "      <th></th>\n",
       "      <th></th>\n",
       "      <th></th>\n",
       "      <th></th>\n",
       "      <th></th>\n",
       "      <th></th>\n",
       "    </tr>\n",
       "  </thead>\n",
       "  <tbody>\n",
       "    <tr>\n",
       "      <th>13</th>\n",
       "      <td>1</td>\n",
       "      <td>8.666667</td>\n",
       "      <td>7.166667</td>\n",
       "      <td>7.400000</td>\n",
       "      <td>10.000000</td>\n",
       "      <td>7.000000</td>\n",
       "      <td>6.000000</td>\n",
       "      <td>7.705556</td>\n",
       "      <td>2013</td>\n",
       "    </tr>\n",
       "    <tr>\n",
       "      <th>14</th>\n",
       "      <td>1</td>\n",
       "      <td>6.000000</td>\n",
       "      <td>8.666667</td>\n",
       "      <td>7.166667</td>\n",
       "      <td>7.400000</td>\n",
       "      <td>7.000000</td>\n",
       "      <td>7.000000</td>\n",
       "      <td>7.205556</td>\n",
       "      <td>2013</td>\n",
       "    </tr>\n",
       "    <tr>\n",
       "      <th>15</th>\n",
       "      <td>1</td>\n",
       "      <td>7.000000</td>\n",
       "      <td>6.000000</td>\n",
       "      <td>8.666667</td>\n",
       "      <td>7.166667</td>\n",
       "      <td>8.857143</td>\n",
       "      <td>7.000000</td>\n",
       "      <td>7.448413</td>\n",
       "      <td>2013</td>\n",
       "    </tr>\n",
       "    <tr>\n",
       "      <th>16</th>\n",
       "      <td>1</td>\n",
       "      <td>7.000000</td>\n",
       "      <td>7.000000</td>\n",
       "      <td>6.000000</td>\n",
       "      <td>8.666667</td>\n",
       "      <td>14.000000</td>\n",
       "      <td>8.857143</td>\n",
       "      <td>8.587302</td>\n",
       "      <td>2013</td>\n",
       "    </tr>\n",
       "    <tr>\n",
       "      <th>17</th>\n",
       "      <td>1</td>\n",
       "      <td>8.857143</td>\n",
       "      <td>7.000000</td>\n",
       "      <td>7.000000</td>\n",
       "      <td>6.000000</td>\n",
       "      <td>11.000000</td>\n",
       "      <td>14.000000</td>\n",
       "      <td>8.976190</td>\n",
       "      <td>2013</td>\n",
       "    </tr>\n",
       "    <tr>\n",
       "      <th>...</th>\n",
       "      <td>...</td>\n",
       "      <td>...</td>\n",
       "      <td>...</td>\n",
       "      <td>...</td>\n",
       "      <td>...</td>\n",
       "      <td>...</td>\n",
       "      <td>...</td>\n",
       "      <td>...</td>\n",
       "      <td>...</td>\n",
       "    </tr>\n",
       "    <tr>\n",
       "      <th>1164</th>\n",
       "      <td>3</td>\n",
       "      <td>23.875000</td>\n",
       "      <td>23.000000</td>\n",
       "      <td>22.800000</td>\n",
       "      <td>22.800000</td>\n",
       "      <td>24.933333</td>\n",
       "      <td>24.916667</td>\n",
       "      <td>23.720833</td>\n",
       "      <td>2016</td>\n",
       "    </tr>\n",
       "    <tr>\n",
       "      <th>1165</th>\n",
       "      <td>3</td>\n",
       "      <td>24.916667</td>\n",
       "      <td>23.875000</td>\n",
       "      <td>23.000000</td>\n",
       "      <td>22.800000</td>\n",
       "      <td>26.000000</td>\n",
       "      <td>24.933333</td>\n",
       "      <td>24.254167</td>\n",
       "      <td>2016</td>\n",
       "    </tr>\n",
       "    <tr>\n",
       "      <th>1166</th>\n",
       "      <td>3</td>\n",
       "      <td>24.933333</td>\n",
       "      <td>24.916667</td>\n",
       "      <td>23.875000</td>\n",
       "      <td>23.000000</td>\n",
       "      <td>27.312500</td>\n",
       "      <td>26.000000</td>\n",
       "      <td>25.006250</td>\n",
       "      <td>2016</td>\n",
       "    </tr>\n",
       "    <tr>\n",
       "      <th>1167</th>\n",
       "      <td>3</td>\n",
       "      <td>26.000000</td>\n",
       "      <td>24.933333</td>\n",
       "      <td>24.916667</td>\n",
       "      <td>23.875000</td>\n",
       "      <td>23.933333</td>\n",
       "      <td>27.312500</td>\n",
       "      <td>25.161806</td>\n",
       "      <td>2016</td>\n",
       "    </tr>\n",
       "    <tr>\n",
       "      <th>1168</th>\n",
       "      <td>3</td>\n",
       "      <td>27.312500</td>\n",
       "      <td>26.000000</td>\n",
       "      <td>24.933333</td>\n",
       "      <td>24.916667</td>\n",
       "      <td>22.812500</td>\n",
       "      <td>23.933333</td>\n",
       "      <td>24.984722</td>\n",
       "      <td>2016</td>\n",
       "    </tr>\n",
       "  </tbody>\n",
       "</table>\n",
       "<p>1156 rows × 9 columns</p>\n",
       "</div>"
      ],
      "text/plain": [
       "     MONTH(date)  NUMERIC_LAG(date, meantemp, periods=10)  \\\n",
       "id                                                          \n",
       "13             1                                 8.666667   \n",
       "14             1                                 6.000000   \n",
       "15             1                                 7.000000   \n",
       "16             1                                 7.000000   \n",
       "17             1                                 8.857143   \n",
       "...          ...                                      ...   \n",
       "1164           3                                23.875000   \n",
       "1165           3                                24.916667   \n",
       "1166           3                                24.933333   \n",
       "1167           3                                26.000000   \n",
       "1168           3                                27.312500   \n",
       "\n",
       "      NUMERIC_LAG(date, meantemp, periods=11)  \\\n",
       "id                                              \n",
       "13                                   7.166667   \n",
       "14                                   8.666667   \n",
       "15                                   6.000000   \n",
       "16                                   7.000000   \n",
       "17                                   7.000000   \n",
       "...                                       ...   \n",
       "1164                                23.000000   \n",
       "1165                                23.875000   \n",
       "1166                                24.916667   \n",
       "1167                                24.933333   \n",
       "1168                                26.000000   \n",
       "\n",
       "      NUMERIC_LAG(date, meantemp, periods=12)  \\\n",
       "id                                              \n",
       "13                                   7.400000   \n",
       "14                                   7.166667   \n",
       "15                                   8.666667   \n",
       "16                                   6.000000   \n",
       "17                                   7.000000   \n",
       "...                                       ...   \n",
       "1164                                22.800000   \n",
       "1165                                23.000000   \n",
       "1166                                23.875000   \n",
       "1167                                24.916667   \n",
       "1168                                24.933333   \n",
       "\n",
       "      NUMERIC_LAG(date, meantemp, periods=13)  \\\n",
       "id                                              \n",
       "13                                  10.000000   \n",
       "14                                   7.400000   \n",
       "15                                   7.166667   \n",
       "16                                   8.666667   \n",
       "17                                   6.000000   \n",
       "...                                       ...   \n",
       "1164                                22.800000   \n",
       "1165                                22.800000   \n",
       "1166                                23.000000   \n",
       "1167                                23.875000   \n",
       "1168                                24.916667   \n",
       "\n",
       "      NUMERIC_LAG(date, meantemp, periods=8)  \\\n",
       "id                                             \n",
       "13                                  7.000000   \n",
       "14                                  7.000000   \n",
       "15                                  8.857143   \n",
       "16                                 14.000000   \n",
       "17                                 11.000000   \n",
       "...                                      ...   \n",
       "1164                               24.933333   \n",
       "1165                               26.000000   \n",
       "1166                               27.312500   \n",
       "1167                               23.933333   \n",
       "1168                               22.812500   \n",
       "\n",
       "      NUMERIC_LAG(date, meantemp, periods=9)  \\\n",
       "id                                             \n",
       "13                                  6.000000   \n",
       "14                                  7.000000   \n",
       "15                                  7.000000   \n",
       "16                                  8.857143   \n",
       "17                                 14.000000   \n",
       "...                                      ...   \n",
       "1164                               24.916667   \n",
       "1165                               24.933333   \n",
       "1166                               26.000000   \n",
       "1167                               27.312500   \n",
       "1168                               23.933333   \n",
       "\n",
       "      ROLLING_MEAN(date, meantemp, window_length=6, gap=8, min_periods=6)  \\\n",
       "id                                                                          \n",
       "13                                             7.705556                     \n",
       "14                                             7.205556                     \n",
       "15                                             7.448413                     \n",
       "16                                             8.587302                     \n",
       "17                                             8.976190                     \n",
       "...                                                 ...                     \n",
       "1164                                          23.720833                     \n",
       "1165                                          24.254167                     \n",
       "1166                                          25.006250                     \n",
       "1167                                          25.161806                     \n",
       "1168                                          24.984722                     \n",
       "\n",
       "     YEAR(date)  \n",
       "id               \n",
       "13         2013  \n",
       "14         2013  \n",
       "15         2013  \n",
       "16         2013  \n",
       "17         2013  \n",
       "...         ...  \n",
       "1164       2016  \n",
       "1165       2016  \n",
       "1166       2016  \n",
       "1167       2016  \n",
       "1168       2016  \n",
       "\n",
       "[1156 rows x 9 columns]"
      ]
     },
     "execution_count": 16,
     "metadata": {},
     "output_type": "execute_result"
    }
   ],
   "source": [
    "# Separate in to X and y objects for modeling\n",
    "X_train = train_fm.dropna()\n",
    "y_train = X_train.pop(target_col)\n",
    "\n",
    "# Do the same for the test data \n",
    "X_test = test_fm.dropna()\n",
    "y_test = X_test.pop(target_col)\n",
    "\n",
    "X_train"
   ]
  },
  {
   "cell_type": "markdown",
   "id": "1447b546",
   "metadata": {},
   "source": [
    "### Model Building\n",
    "\n",
    "The modeling step will be the exact same as the baseline run, but now we have nine different features instead of just one!"
   ]
  },
  {
   "cell_type": "code",
   "execution_count": 17,
   "id": "3e77b095",
   "metadata": {
    "scrolled": true
   },
   "outputs": [
    {
     "name": "stdout",
     "output_type": "stream",
     "text": [
      "Median Abs Error: 1.57\n"
     ]
    }
   ],
   "source": [
    "reg = RandomForestRegressor(n_estimators=100)\n",
    "reg.fit(X_train, y_train)\n",
    "\n",
    "preds = reg.predict(X_test)\n",
    "scores = median_absolute_error(preds, y_test)\n",
    "print('Median Abs Error: {:.2f}'.format(scores))"
   ]
  },
  {
   "cell_type": "markdown",
   "id": "d65a2c20",
   "metadata": {},
   "source": [
    "We can see that the median absolute error has decreased relative to the baseline run, which means that this model is more accurate than the basline.\n",
    "\n",
    "We can also take a look at the feature importances to see which contribute the most to the model."
   ]
  },
  {
   "cell_type": "code",
   "execution_count": 18,
   "id": "5c5ce906",
   "metadata": {
    "scrolled": true
   },
   "outputs": [
    {
     "name": "stdout",
     "output_type": "stream",
     "text": [
      "1: NUMERIC_LAG(date, meantemp, periods=8) [0.481]\n",
      "2: ROLLING_MEAN(date, meantemp, window_length=6, gap=8, min_periods=6) [0.316]\n",
      "3: NUMERIC_LAG(date, meantemp, periods=9) [0.078]\n",
      "4: MONTH(date) [0.059]\n",
      "5: NUMERIC_LAG(date, meantemp, periods=10) [0.018]\n",
      "6: NUMERIC_LAG(date, meantemp, periods=13) [0.016]\n",
      "7: NUMERIC_LAG(date, meantemp, periods=11) [0.012]\n",
      "8: NUMERIC_LAG(date, meantemp, periods=12) [0.012]\n",
      "9: YEAR(date) [0.007]\n",
      "-----\n",
      "\n"
     ]
    }
   ],
   "source": [
    "high_imp_feats = feature_importances(X_train, reg, feats=100)"
   ]
  },
  {
   "cell_type": "markdown",
   "id": "e16057c8",
   "metadata": {},
   "source": [
    "Featuretools simplified what would have been a messy feature engineering process, and it got us a better model, but there were still a lot of steps to get to this point. Luckily, EvalML's Time Series Regression problem type lets us greatly simplify this process while building the exact same set of features. \n",
    "\n",
    "## Use Time Series Regression Problem From EvalML\n",
    "<p style=\"margin:30px\">\n",
    "    <img width=50% src=\"https://evalml-web-images.s3.amazonaws.com/evalml_horizontal.svg\" alt=\"Featuretools\" />\n",
    "</p>\n",
    "We will now use EvalML to build a model that is very similar to the one we just built with the help of Featuretools. EvalML's time series regression problem type does the same feature engineering usinf Featuretools that we just did under the hood. That, along with the simplicity with which we can split our data and the fact that we run multiple pipelines shows the power of EvalML.\n",
    "\n",
    "### Data Splitting\n",
    "\n",
    "Here, we can use EvalML's time series data splitting capabilities, which will leave us with data that has its time index in tact."
   ]
  },
  {
   "cell_type": "code",
   "execution_count": 19,
   "id": "61a1dd8a",
   "metadata": {
    "scrolled": true
   },
   "outputs": [
    {
     "data": {
      "text/html": [
       "<div>\n",
       "<style scoped>\n",
       "    .dataframe tbody tr th:only-of-type {\n",
       "        vertical-align: middle;\n",
       "    }\n",
       "\n",
       "    .dataframe tbody tr th {\n",
       "        vertical-align: top;\n",
       "    }\n",
       "\n",
       "    .dataframe thead th {\n",
       "        text-align: right;\n",
       "    }\n",
       "</style>\n",
       "<table border=\"1\" class=\"dataframe\">\n",
       "  <thead>\n",
       "    <tr style=\"text-align: right;\">\n",
       "      <th></th>\n",
       "      <th>date</th>\n",
       "    </tr>\n",
       "  </thead>\n",
       "  <tbody>\n",
       "    <tr>\n",
       "      <th>0</th>\n",
       "      <td>2013-01-01</td>\n",
       "    </tr>\n",
       "    <tr>\n",
       "      <th>1</th>\n",
       "      <td>2013-01-02</td>\n",
       "    </tr>\n",
       "    <tr>\n",
       "      <th>2</th>\n",
       "      <td>2013-01-03</td>\n",
       "    </tr>\n",
       "    <tr>\n",
       "      <th>3</th>\n",
       "      <td>2013-01-04</td>\n",
       "    </tr>\n",
       "    <tr>\n",
       "      <th>4</th>\n",
       "      <td>2013-01-05</td>\n",
       "    </tr>\n",
       "    <tr>\n",
       "      <th>...</th>\n",
       "      <td>...</td>\n",
       "    </tr>\n",
       "    <tr>\n",
       "      <th>1164</th>\n",
       "      <td>2016-03-10</td>\n",
       "    </tr>\n",
       "    <tr>\n",
       "      <th>1165</th>\n",
       "      <td>2016-03-11</td>\n",
       "    </tr>\n",
       "    <tr>\n",
       "      <th>1166</th>\n",
       "      <td>2016-03-12</td>\n",
       "    </tr>\n",
       "    <tr>\n",
       "      <th>1167</th>\n",
       "      <td>2016-03-13</td>\n",
       "    </tr>\n",
       "    <tr>\n",
       "      <th>1168</th>\n",
       "      <td>2016-03-14</td>\n",
       "    </tr>\n",
       "  </tbody>\n",
       "</table>\n",
       "<p>1169 rows × 1 columns</p>\n",
       "</div>"
      ],
      "text/plain": [
       "           date\n",
       "0    2013-01-01\n",
       "1    2013-01-02\n",
       "2    2013-01-03\n",
       "3    2013-01-04\n",
       "4    2013-01-05\n",
       "...         ...\n",
       "1164 2016-03-10\n",
       "1165 2016-03-11\n",
       "1166 2016-03-12\n",
       "1167 2016-03-13\n",
       "1168 2016-03-14\n",
       "\n",
       "[1169 rows x 1 columns]"
      ]
     },
     "execution_count": 19,
     "metadata": {},
     "output_type": "execute_result"
    }
   ],
   "source": [
    "univariate_df = df[[time_index, target_col]]\n",
    "\n",
    "X = univariate_df\n",
    "y = univariate_df.pop(target_col)\n",
    "\n",
    "X_train, X_test, y_train, y_test = evalml.preprocessing.split_data(X, y,\n",
    "                                                                   problem_type='time series regression',\n",
    "                                                                   test_size=.2,\n",
    "                                                                  problem_configuration={\"gap\": gap, \n",
    "                                                                                         \"max_delay\": max_delay,\n",
    "                                                                                         \"forecast_horizon\": forecast_horizon,\n",
    "                                                                                         \"time_index\": time_index},)\n",
    "\n",
    "X_train"
   ]
  },
  {
   "cell_type": "markdown",
   "id": "1bc2009b",
   "metadata": {},
   "source": [
    "### Model Building \n",
    "Now we can perform AutoMLSearch, which will provide us with six pipelines, one of which is the same as our baseline pipeline from above! "
   ]
  },
  {
   "cell_type": "code",
   "execution_count": 20,
   "id": "22e17b0a",
   "metadata": {
    "scrolled": false
   },
   "outputs": [
    {
     "name": "stderr",
     "output_type": "stream",
     "text": [
      "Time series support in evalml is still in beta, which means we are still actively building its core features. Please be mindful of that when running search().\n",
      "Objective did not converge. You might want to increase the number of iterations, check the scale of the features or consider increasing regularisation. Duality gap: 7.504e+02, tolerance: 1.058e+00\n",
      "Objective did not converge. You might want to increase the number of iterations, check the scale of the features or consider increasing regularisation. Duality gap: 1.686e+03, tolerance: 3.066e+00\n",
      "Objective did not converge. You might want to increase the number of iterations, check the scale of the features or consider increasing regularisation. Duality gap: 2.828e+03, tolerance: 4.692e+00\n",
      "Objective did not converge. You might want to increase the number of iterations, check the scale of the features or consider increasing regularisation. Duality gap: 3.666e+03, tolerance: 6.109e+00\n"
     ]
    }
   ],
   "source": [
    "automl = evalml.AutoMLSearch(X_train, y_train, problem_type=\"time series regression\",\n",
    "                      max_batches=1,\n",
    "                      problem_configuration={\"gap\": gap, \n",
    "                                             \"max_delay\": max_delay,\n",
    "                                             \"forecast_horizon\": forecast_horizon, \n",
    "                                             \"time_index\": time_index},\n",
    "                      allowed_model_families=[\"xgboost\", \"random_forest\", \"linear_model\", \"extra_trees\",\n",
    "                                              \"decision_tree\"],\n",
    "                      objective='MedianAE'\n",
    "                      )\n",
    "# Fit and predict on the model\n",
    "automl.search()"
   ]
  },
  {
   "cell_type": "markdown",
   "id": "52885aad",
   "metadata": {},
   "source": [
    "Below are the summaries of the six pipelines that were run."
   ]
  },
  {
   "cell_type": "code",
   "execution_count": 21,
   "id": "b944a534",
   "metadata": {
    "scrolled": true
   },
   "outputs": [
    {
     "data": {
      "text/html": [
       "<div>\n",
       "<style scoped>\n",
       "    .dataframe tbody tr th:only-of-type {\n",
       "        vertical-align: middle;\n",
       "    }\n",
       "\n",
       "    .dataframe tbody tr th {\n",
       "        vertical-align: top;\n",
       "    }\n",
       "\n",
       "    .dataframe thead th {\n",
       "        text-align: right;\n",
       "    }\n",
       "</style>\n",
       "<table border=\"1\" class=\"dataframe\">\n",
       "  <thead>\n",
       "    <tr style=\"text-align: right;\">\n",
       "      <th></th>\n",
       "      <th>id</th>\n",
       "      <th>pipeline_name</th>\n",
       "      <th>search_order</th>\n",
       "      <th>mean_cv_score</th>\n",
       "      <th>standard_deviation_cv_score</th>\n",
       "      <th>validation_score</th>\n",
       "      <th>percent_better_than_baseline</th>\n",
       "      <th>high_variance_cv</th>\n",
       "      <th>parameters</th>\n",
       "    </tr>\n",
       "  </thead>\n",
       "  <tbody>\n",
       "    <tr>\n",
       "      <th>0</th>\n",
       "      <td>1</td>\n",
       "      <td>Elastic Net Regressor w/ Imputer + Time Series...</td>\n",
       "      <td>1</td>\n",
       "      <td>1.735829</td>\n",
       "      <td>0.295337</td>\n",
       "      <td>1.735829</td>\n",
       "      <td>9.435011</td>\n",
       "      <td>False</td>\n",
       "      <td>{'Imputer': {'categorical_impute_strategy': 'm...</td>\n",
       "    </tr>\n",
       "    <tr>\n",
       "      <th>1</th>\n",
       "      <td>5</td>\n",
       "      <td>Extra Trees Regressor w/ Imputer + Time Series...</td>\n",
       "      <td>5</td>\n",
       "      <td>1.798169</td>\n",
       "      <td>0.409076</td>\n",
       "      <td>1.798169</td>\n",
       "      <td>6.182511</td>\n",
       "      <td>False</td>\n",
       "      <td>{'Imputer': {'categorical_impute_strategy': 'm...</td>\n",
       "    </tr>\n",
       "    <tr>\n",
       "      <th>2</th>\n",
       "      <td>3</td>\n",
       "      <td>Random Forest Regressor w/ Imputer + Time Seri...</td>\n",
       "      <td>3</td>\n",
       "      <td>1.826079</td>\n",
       "      <td>0.432566</td>\n",
       "      <td>1.826079</td>\n",
       "      <td>4.726298</td>\n",
       "      <td>False</td>\n",
       "      <td>{'Imputer': {'categorical_impute_strategy': 'm...</td>\n",
       "    </tr>\n",
       "    <tr>\n",
       "      <th>3</th>\n",
       "      <td>0</td>\n",
       "      <td>Time Series Baseline Regression Pipeline</td>\n",
       "      <td>0</td>\n",
       "      <td>1.916667</td>\n",
       "      <td>0.314576</td>\n",
       "      <td>1.916667</td>\n",
       "      <td>0.000000</td>\n",
       "      <td>False</td>\n",
       "      <td>{'Time Series Featurizer': {'time_index': 'dat...</td>\n",
       "    </tr>\n",
       "    <tr>\n",
       "      <th>4</th>\n",
       "      <td>2</td>\n",
       "      <td>XGBoost Regressor w/ Imputer + Time Series Fea...</td>\n",
       "      <td>2</td>\n",
       "      <td>1.976012</td>\n",
       "      <td>0.429196</td>\n",
       "      <td>1.976012</td>\n",
       "      <td>-3.096295</td>\n",
       "      <td>False</td>\n",
       "      <td>{'Imputer': {'categorical_impute_strategy': 'm...</td>\n",
       "    </tr>\n",
       "    <tr>\n",
       "      <th>5</th>\n",
       "      <td>4</td>\n",
       "      <td>Decision Tree Regressor w/ Imputer + Time Seri...</td>\n",
       "      <td>4</td>\n",
       "      <td>2.134427</td>\n",
       "      <td>0.469706</td>\n",
       "      <td>2.134427</td>\n",
       "      <td>-11.361431</td>\n",
       "      <td>False</td>\n",
       "      <td>{'Imputer': {'categorical_impute_strategy': 'm...</td>\n",
       "    </tr>\n",
       "  </tbody>\n",
       "</table>\n",
       "</div>"
      ],
      "text/plain": [
       "   id                                      pipeline_name  search_order  \\\n",
       "0   1  Elastic Net Regressor w/ Imputer + Time Series...             1   \n",
       "1   5  Extra Trees Regressor w/ Imputer + Time Series...             5   \n",
       "2   3  Random Forest Regressor w/ Imputer + Time Seri...             3   \n",
       "3   0           Time Series Baseline Regression Pipeline             0   \n",
       "4   2  XGBoost Regressor w/ Imputer + Time Series Fea...             2   \n",
       "5   4  Decision Tree Regressor w/ Imputer + Time Seri...             4   \n",
       "\n",
       "   mean_cv_score  standard_deviation_cv_score  validation_score  \\\n",
       "0       1.735829                     0.295337          1.735829   \n",
       "1       1.798169                     0.409076          1.798169   \n",
       "2       1.826079                     0.432566          1.826079   \n",
       "3       1.916667                     0.314576          1.916667   \n",
       "4       1.976012                     0.429196          1.976012   \n",
       "5       2.134427                     0.469706          2.134427   \n",
       "\n",
       "   percent_better_than_baseline  high_variance_cv  \\\n",
       "0                      9.435011             False   \n",
       "1                      6.182511             False   \n",
       "2                      4.726298             False   \n",
       "3                      0.000000             False   \n",
       "4                     -3.096295             False   \n",
       "5                    -11.361431             False   \n",
       "\n",
       "                                          parameters  \n",
       "0  {'Imputer': {'categorical_impute_strategy': 'm...  \n",
       "1  {'Imputer': {'categorical_impute_strategy': 'm...  \n",
       "2  {'Imputer': {'categorical_impute_strategy': 'm...  \n",
       "3  {'Time Series Featurizer': {'time_index': 'dat...  \n",
       "4  {'Imputer': {'categorical_impute_strategy': 'm...  \n",
       "5  {'Imputer': {'categorical_impute_strategy': 'm...  "
      ]
     },
     "execution_count": 21,
     "metadata": {},
     "output_type": "execute_result"
    }
   ],
   "source": [
    "automl.rankings"
   ]
  },
  {
   "cell_type": "markdown",
   "id": "63098e77",
   "metadata": {},
   "source": [
    "The `mean_cv_score` shown here is the median absolute error for predictions calculated using subsets of the training data. To compare our results to our baseline and Featuretools runs from above, we'll have to score the test data.\n",
    "\n",
    "We'll investigate further into pipeline #3, since it's the Random Forest Regressor, which is what we used above."
   ]
  },
  {
   "cell_type": "code",
   "execution_count": 22,
   "id": "86a2d109",
   "metadata": {
    "scrolled": true
   },
   "outputs": [
    {
     "data": {
      "text/plain": [
       "1.337655874430638"
      ]
     },
     "execution_count": 22,
     "metadata": {},
     "output_type": "execute_result"
    }
   ],
   "source": [
    "pipeline =  automl.get_pipeline(3)\n",
    "pipeline.fit(X_train, y_train)\n",
    "pipeline_score = pipeline.score(X_test, y_test, ['MedianAE'], X_train, y_train)['MedianAE']\n",
    "pipeline_score"
   ]
  },
  {
   "cell_type": "markdown",
   "id": "d167d4ac",
   "metadata": {},
   "source": [
    "Our model creatued using EvalML is performing slightly better than our Featuretools run! We can also inspect the feature importances. The top four features are in slightly different orders, but they are the same as our Featuretools run."
   ]
  },
  {
   "cell_type": "code",
   "execution_count": 23,
   "id": "cf775223",
   "metadata": {},
   "outputs": [
    {
     "data": {
      "text/html": [
       "<div>\n",
       "<style scoped>\n",
       "    .dataframe tbody tr th:only-of-type {\n",
       "        vertical-align: middle;\n",
       "    }\n",
       "\n",
       "    .dataframe tbody tr th {\n",
       "        vertical-align: top;\n",
       "    }\n",
       "\n",
       "    .dataframe thead th {\n",
       "        text-align: right;\n",
       "    }\n",
       "</style>\n",
       "<table border=\"1\" class=\"dataframe\">\n",
       "  <thead>\n",
       "    <tr style=\"text-align: right;\">\n",
       "      <th></th>\n",
       "      <th>feature</th>\n",
       "      <th>importance</th>\n",
       "    </tr>\n",
       "  </thead>\n",
       "  <tbody>\n",
       "    <tr>\n",
       "      <th>0</th>\n",
       "      <td>target_delay_8</td>\n",
       "      <td>0.506269</td>\n",
       "    </tr>\n",
       "    <tr>\n",
       "      <th>1</th>\n",
       "      <td>target_rolling_mean</td>\n",
       "      <td>0.354584</td>\n",
       "    </tr>\n",
       "    <tr>\n",
       "      <th>2</th>\n",
       "      <td>date_month</td>\n",
       "      <td>0.056376</td>\n",
       "    </tr>\n",
       "    <tr>\n",
       "      <th>3</th>\n",
       "      <td>target_delay_9</td>\n",
       "      <td>0.043163</td>\n",
       "    </tr>\n",
       "    <tr>\n",
       "      <th>4</th>\n",
       "      <td>target_delay_17</td>\n",
       "      <td>0.008510</td>\n",
       "    </tr>\n",
       "    <tr>\n",
       "      <th>5</th>\n",
       "      <td>target_delay_15</td>\n",
       "      <td>0.005156</td>\n",
       "    </tr>\n",
       "    <tr>\n",
       "      <th>6</th>\n",
       "      <td>target_delay_13</td>\n",
       "      <td>0.005006</td>\n",
       "    </tr>\n",
       "    <tr>\n",
       "      <th>7</th>\n",
       "      <td>target_delay_12</td>\n",
       "      <td>0.004257</td>\n",
       "    </tr>\n",
       "    <tr>\n",
       "      <th>8</th>\n",
       "      <td>target_delay_14</td>\n",
       "      <td>0.003694</td>\n",
       "    </tr>\n",
       "    <tr>\n",
       "      <th>9</th>\n",
       "      <td>target_delay_16</td>\n",
       "      <td>0.003680</td>\n",
       "    </tr>\n",
       "    <tr>\n",
       "      <th>10</th>\n",
       "      <td>target_delay_11</td>\n",
       "      <td>0.003506</td>\n",
       "    </tr>\n",
       "    <tr>\n",
       "      <th>11</th>\n",
       "      <td>target_delay_10</td>\n",
       "      <td>0.002940</td>\n",
       "    </tr>\n",
       "    <tr>\n",
       "      <th>12</th>\n",
       "      <td>date_year</td>\n",
       "      <td>0.002380</td>\n",
       "    </tr>\n",
       "    <tr>\n",
       "      <th>13</th>\n",
       "      <td>date_day_of_week</td>\n",
       "      <td>0.000480</td>\n",
       "    </tr>\n",
       "    <tr>\n",
       "      <th>14</th>\n",
       "      <td>date_hour</td>\n",
       "      <td>0.000000</td>\n",
       "    </tr>\n",
       "  </tbody>\n",
       "</table>\n",
       "</div>"
      ],
      "text/plain": [
       "                feature  importance\n",
       "0        target_delay_8    0.506269\n",
       "1   target_rolling_mean    0.354584\n",
       "2            date_month    0.056376\n",
       "3        target_delay_9    0.043163\n",
       "4       target_delay_17    0.008510\n",
       "5       target_delay_15    0.005156\n",
       "6       target_delay_13    0.005006\n",
       "7       target_delay_12    0.004257\n",
       "8       target_delay_14    0.003694\n",
       "9       target_delay_16    0.003680\n",
       "10      target_delay_11    0.003506\n",
       "11      target_delay_10    0.002940\n",
       "12            date_year    0.002380\n",
       "13     date_day_of_week    0.000480\n",
       "14            date_hour    0.000000"
      ]
     },
     "execution_count": 23,
     "metadata": {},
     "output_type": "execute_result"
    }
   ],
   "source": [
    "pipeline.feature_importance"
   ]
  },
  {
   "cell_type": "markdown",
   "id": "bb952824",
   "metadata": {},
   "source": [
    "We'll also take a look at the baseline pipeline and see how it compares to the baseline pipeline we built ourselves."
   ]
  },
  {
   "cell_type": "code",
   "execution_count": 24,
   "id": "e63599bc",
   "metadata": {},
   "outputs": [
    {
     "data": {
      "text/plain": [
       "2.0249999999999986"
      ]
     },
     "execution_count": 24,
     "metadata": {},
     "output_type": "execute_result"
    }
   ],
   "source": [
    "baseline = automl.get_pipeline(0)\n",
    "baseline.fit(X_train, y_train)\n",
    "naive_baseline_score = baseline.score(X_test, y_test, ['MedianAE'], X_train, y_train)['MedianAE']\n",
    "naive_baseline_score"
   ]
  },
  {
   "cell_type": "markdown",
   "id": "bcd49d7b",
   "metadata": {},
   "source": [
    "Indeed, our baseline score from EvalML is very similar to the one we calculated ourselves, and below we can see the feature importance of 1 for the single delayed feature. The other two features with zero importance are side effects of the AutoMLSearch process and were not included in the model itself."
   ]
  },
  {
   "cell_type": "code",
   "execution_count": 25,
   "id": "443e6bde",
   "metadata": {
    "scrolled": true
   },
   "outputs": [
    {
     "data": {
      "text/html": [
       "<div>\n",
       "<style scoped>\n",
       "    .dataframe tbody tr th:only-of-type {\n",
       "        vertical-align: middle;\n",
       "    }\n",
       "\n",
       "    .dataframe tbody tr th {\n",
       "        vertical-align: top;\n",
       "    }\n",
       "\n",
       "    .dataframe thead th {\n",
       "        text-align: right;\n",
       "    }\n",
       "</style>\n",
       "<table border=\"1\" class=\"dataframe\">\n",
       "  <thead>\n",
       "    <tr style=\"text-align: right;\">\n",
       "      <th></th>\n",
       "      <th>feature</th>\n",
       "      <th>importance</th>\n",
       "    </tr>\n",
       "  </thead>\n",
       "  <tbody>\n",
       "    <tr>\n",
       "      <th>0</th>\n",
       "      <td>target_delay_8</td>\n",
       "      <td>1</td>\n",
       "    </tr>\n",
       "    <tr>\n",
       "      <th>1</th>\n",
       "      <td>date</td>\n",
       "      <td>0</td>\n",
       "    </tr>\n",
       "    <tr>\n",
       "      <th>2</th>\n",
       "      <td>target_rolling_mean</td>\n",
       "      <td>0</td>\n",
       "    </tr>\n",
       "  </tbody>\n",
       "</table>\n",
       "</div>"
      ],
      "text/plain": [
       "               feature  importance\n",
       "0       target_delay_8           1\n",
       "1                 date           0\n",
       "2  target_rolling_mean           0"
      ]
     },
     "execution_count": 25,
     "metadata": {},
     "output_type": "execute_result"
    }
   ],
   "source": [
    "baseline.feature_importance"
   ]
  },
  {
   "cell_type": "markdown",
   "id": "46880dcf",
   "metadata": {},
   "source": [
    "### Visualizing Predictions\n",
    "\n",
    "Beyond our use of median absolute error for evaluating models, we can also use our eyes! Here are two graphs of the predictions."
   ]
  },
  {
   "cell_type": "code",
   "execution_count": 40,
   "id": "a1cac931",
   "metadata": {},
   "outputs": [
    {
     "data": {
      "image/jpeg": "[encoded data removed]",
      "text/plain": [
       "<IPython.core.display.Image object>"
      ]
     },
     "execution_count": 40,
     "metadata": {},
     "output_type": "execute_result"
    }
   ],
   "source": [
    "fig = evalml.model_understanding.graph_prediction_vs_actual_over_time(pipeline, \n",
    "                                                                      X_test, \n",
    "                                                                      y_test, \n",
    "                                                                      X_train, \n",
    "                                                                      y_train, \n",
    "                                                                      dates=X_test['date'])\n",
    "fig.update_layout(title=\"Random Forest Regressor Predictions vs target over time\")\n",
    "fig.write_image(\"figures/random_forest.jpeg\")\n",
    "Image(filename=\"figures/random_forest.jpeg\")"
   ]
  },
  {
   "cell_type": "code",
   "execution_count": 41,
   "id": "077f9f61",
   "metadata": {},
   "outputs": [
    {
     "data": {
      "image/jpeg": "[encoded data removed]",
      "text/plain": [
       "<IPython.core.display.Image object>"
      ]
     },
     "execution_count": 41,
     "metadata": {},
     "output_type": "execute_result"
    }
   ],
   "source": [
    "fig = evalml.model_understanding.graph_prediction_vs_actual_over_time(baseline, \n",
    "                                                                      X_test, \n",
    "                                                                      y_test, \n",
    "                                                                      X_train, \n",
    "                                                                      y_train, \n",
    "                                                                      dates=X_test['date'])\n",
    "fig.update_layout(title=\"Baseline Predictions vs target over time\")\n",
    "fig.write_image(\"figures/baseline.jpeg\")\n",
    "Image(filename=\"figures/baseline.jpeg\")"
   ]
  }
 ],
 "metadata": {
  "kernelspec": {
   "display_name": "Python 3 (ipykernel)",
   "language": "python",
   "name": "python3"
  },
  "language_info": {
   "codemirror_mode": {
    "name": "ipython",
    "version": 3
   },
   "file_extension": ".py",
   "mimetype": "text/x-python",
   "name": "python",
   "nbconvert_exporter": "python",
   "pygments_lexer": "ipython3",
   "version": "3.8.2"
  }
 },
 "nbformat": 4,
 "nbformat_minor": 5
}
