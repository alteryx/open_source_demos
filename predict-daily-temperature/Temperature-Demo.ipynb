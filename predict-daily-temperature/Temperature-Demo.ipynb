{
 "cells": [
  {
   "cell_type": "code",
   "execution_count": 1,
   "id": "1484346d",
   "metadata": {
    "scrolled": true
   },
   "outputs": [
    {
     "name": "stderr",
     "output_type": "stream",
     "text": [
      "/Users/tamar.grey/.pyenv/versions/3.8.2/envs/clean-env/lib/python3.8/site-packages/statsmodels/compat/pandas.py:65: FutureWarning: pandas.Int64Index is deprecated and will be removed from pandas in a future version. Use pandas.Index with the appropriate dtype instead.\n",
      "  from pandas import Int64Index as NumericIndex\n"
     ]
    }
   ],
   "source": [
    "from utils import feature_importances, plot_model_performances, set_up_entityset\n",
    "\n",
    "from featuretools.primitives import RollingMean, NumericLag\n",
    "from IPython.display import Image\n",
    "from sklearn.ensemble import RandomForestRegressor\n",
    "from sklearn.model_selection import train_test_split\n",
    "from sklearn.metrics import median_absolute_error\n",
    "import evalml\n",
    "import featuretools as ft\n",
    "import pandas as pd\n",
    "import matplotlib.pylab as plt\n",
    "import woodwork as ww"
   ]
  },
  {
   "cell_type": "markdown",
   "id": "e8b2fa43",
   "metadata": {},
   "source": [
    "# Using Featuretools and EvalML to Solve Time Series Problems\n",
    "\n",
    "In this demo, we'll work to predict future daily average temperatures using historical temperature data. This is a time series machine learning problem, which requires special considerations during preprocessing, feature engineering, and model building.\n",
    "\n",
    "To highlight the proess through which we can solve a time series problem, we'll build three models.\n",
    "\n",
    "First, we'll build a baseline model; this will highlight the unique constraints for data-splitting and allow us to understand the problem definition. Then, we'll explore time series feature engineering by generating features with which we'll fit our model using [Featuretools](https://featuretools.alteryx.com/), an open-source Python library for automatically creating features out of a set of related tables using a technique called Deep Feature Synthesis. Finally, we'll use [EvalML](https://github.com/alteryx/evalml)'s time series modeling to greatly simplify the process through which these models are built.\n",
    "\n",
    "## Understanding Time Series Problems\n",
    "\n",
    "Time series forecasting is different from other machine learning problems in that there is an inherent temporal ordering to the data. The ordering comes from a time index column, so at a specific point in time, we may have knowlege about earlier observations but not later ones. If the data is unordered, it’d be hard to see any overall trend or seasonality, but when sorted by date, any relationships that exist in the data can be seen and used when making predictions (winter is cold; summer is hot!). Notice how this is different from non-time series data, which can be presented in any order without having an impact on the resulting predictions. Therefore, in time series problems, we need to set a `time_index` column that is just as important for defining our problem as the `target_column` is.\n",
    "\n",
    "Other demos in this repository explore the time series concept some. For example, the [predict-remaining-useful-life](../predict-remaining-useful-life/README.md) demo is highly reliant on the temporal ordering of its data, as it is predicting when, in the future, an engine will need to be decommissioned. In that demo, the primary impact the data's temporal ordering has on modeling occurs in splitting the data into training and test data where we use a `cutoff_time` to determine when that split occurs and make sure no future values are exposed in the feature engineering process. We'll have to account for the same things in this demo since we have to be very careful when splitting our data to not expose future observations in the feature engineering stage. \n",
    "\n",
    "But once the data is split, the predict-remaining-useful-life demo calculates aggregations over the entire life of the engine up until the last available time. In that case, that makes sense! The goal is to predict one future value (the remaining useful life) per engine, so we should look at its entire available history when making that prediction. There is an entire dataframe of engines for which we're predicting this value, but the individual engines are not dependent on one another. \n",
    "\n",
    "However, in this demo and in many time series problems, we're trying to predict a sequential series of values that are highly dependent on one another. In these cases, we can exploit the fact that more recent observations are more predictive than more distant ones--when trying to determine tomorrow's temperature, knowing today's temperature may be the most predictive piece of information we can get. We also only have one table in our dataset, so any aggregations have to be calculated over earlier data from the same column. We'll see the impact of this in what types of features we choose to build in the expanded Featuretools run.\n",
    "\n",
    "For additional examples of time series demos that are similar to predict-remaining-useful-life, see [predict-olympic-medals](../predict-olympic-medals/README.md) and [predict-appointment-noshow](../predict-appointment-noshow/README.md)."
   ]
  },
  {
   "cell_type": "markdown",
   "id": "7018874e",
   "metadata": {},
   "source": [
    "## Load in Data\n",
    "\n",
    "We’ll demonstrate how to build a time series model using the DailyDelhiClimate dataset, which is a combination of the [Kaggle daily climate](https://www.kaggle.com/diegozurita/daily-climate-time-series) time series dataset's train and test data, since we'll be handling data splitting ourselves. This dataset contains a `meantemp` target variable and a `date` time index. There are other columns, but for the purposes of simplicity, we'll only work with the target and time index columns. To include the others would bring this demo into the sphere of multivariate time series modeling, which brings its own host of complexity."
   ]
  },
  {
   "cell_type": "code",
   "execution_count": 2,
   "id": "e529406e",
   "metadata": {
    "scrolled": false
   },
   "outputs": [
    {
     "data": {
      "text/html": [
       "<div>\n",
       "<style scoped>\n",
       "    .dataframe tbody tr th:only-of-type {\n",
       "        vertical-align: middle;\n",
       "    }\n",
       "\n",
       "    .dataframe tbody tr th {\n",
       "        vertical-align: top;\n",
       "    }\n",
       "\n",
       "    .dataframe thead th {\n",
       "        text-align: right;\n",
       "    }\n",
       "</style>\n",
       "<table border=\"1\" class=\"dataframe\">\n",
       "  <thead>\n",
       "    <tr style=\"text-align: right;\">\n",
       "      <th></th>\n",
       "      <th>date</th>\n",
       "      <th>meantemp</th>\n",
       "    </tr>\n",
       "  </thead>\n",
       "  <tbody>\n",
       "    <tr>\n",
       "      <th>0</th>\n",
       "      <td>2013-01-01</td>\n",
       "      <td>10.000000</td>\n",
       "    </tr>\n",
       "    <tr>\n",
       "      <th>1</th>\n",
       "      <td>2013-01-02</td>\n",
       "      <td>7.400000</td>\n",
       "    </tr>\n",
       "    <tr>\n",
       "      <th>2</th>\n",
       "      <td>2013-01-03</td>\n",
       "      <td>7.166667</td>\n",
       "    </tr>\n",
       "    <tr>\n",
       "      <th>3</th>\n",
       "      <td>2013-01-04</td>\n",
       "      <td>8.666667</td>\n",
       "    </tr>\n",
       "    <tr>\n",
       "      <th>4</th>\n",
       "      <td>2013-01-05</td>\n",
       "      <td>6.000000</td>\n",
       "    </tr>\n",
       "    <tr>\n",
       "      <th>...</th>\n",
       "      <td>...</td>\n",
       "      <td>...</td>\n",
       "    </tr>\n",
       "    <tr>\n",
       "      <th>1570</th>\n",
       "      <td>2017-04-20</td>\n",
       "      <td>34.500000</td>\n",
       "    </tr>\n",
       "    <tr>\n",
       "      <th>1571</th>\n",
       "      <td>2017-04-21</td>\n",
       "      <td>34.250000</td>\n",
       "    </tr>\n",
       "    <tr>\n",
       "      <th>1572</th>\n",
       "      <td>2017-04-22</td>\n",
       "      <td>32.900000</td>\n",
       "    </tr>\n",
       "    <tr>\n",
       "      <th>1573</th>\n",
       "      <td>2017-04-23</td>\n",
       "      <td>32.875000</td>\n",
       "    </tr>\n",
       "    <tr>\n",
       "      <th>1574</th>\n",
       "      <td>2017-04-24</td>\n",
       "      <td>32.000000</td>\n",
       "    </tr>\n",
       "  </tbody>\n",
       "</table>\n",
       "<p>1575 rows × 2 columns</p>\n",
       "</div>"
      ],
      "text/plain": [
       "            date   meantemp\n",
       "0     2013-01-01  10.000000\n",
       "1     2013-01-02   7.400000\n",
       "2     2013-01-03   7.166667\n",
       "3     2013-01-04   8.666667\n",
       "4     2013-01-05   6.000000\n",
       "...          ...        ...\n",
       "1570  2017-04-20  34.500000\n",
       "1571  2017-04-21  34.250000\n",
       "1572  2017-04-22  32.900000\n",
       "1573  2017-04-23  32.875000\n",
       "1574  2017-04-24  32.000000\n",
       "\n",
       "[1575 rows x 2 columns]"
      ]
     },
     "execution_count": 2,
     "metadata": {},
     "output_type": "execute_result"
    }
   ],
   "source": [
    "file_name = \"DailyDelhiClimate\"\n",
    "df = pd.read_csv(f\"dataset/{file_name}.csv\")\n",
    "\n",
    "# The only columns we'll want to use for modeling - makes this a univariate problem\n",
    "time_index = \"date\"\n",
    "target_col = 'meantemp'\n",
    "univariate_df = df[[time_index, target_col]]\n",
    "\n",
    "univariate_df"
   ]
  },
  {
   "cell_type": "markdown",
   "id": "a040b51c",
   "metadata": {},
   "source": [
    "Now, we'll do a couple of quick checks that the data has some temporal pattern that we can exploit for modeling purposes.\n",
    "\n",
    "First, we'll use a [Woodwork](https://woodwork.alteryx.com/en/stable/) method to check whether there is any column with a uniform sampling frequency. This is important, because it means that there is a constant amount of time between observations. A dataset that does not have a uniform sampling frequency can still be used for time series modeling, but the existence of that frequency is a good indicator that this dataset is ripe for time series modeling. For columns that have multiple datetime columns, checking for a frequency is also a good indicator for which could be the time index."
   ]
  },
  {
   "cell_type": "code",
   "execution_count": 3,
   "id": "b7e1b470",
   "metadata": {},
   "outputs": [
    {
     "data": {
      "text/plain": [
       "{'date': 'D'}"
      ]
     },
     "execution_count": 3,
     "metadata": {},
     "output_type": "execute_result"
    }
   ],
   "source": [
    "univariate_df.ww.init()\n",
    "univariate_df.ww.infer_temporal_frequencies()"
   ]
  },
  {
   "cell_type": "markdown",
   "id": "b83d559a",
   "metadata": {},
   "source": [
    "Indeed, one of the columns, `date`, has a daily frequency; we'll move forward with it as our time index.\n",
    "\n",
    "Now, we’ll graph the data."
   ]
  },
  {
   "cell_type": "code",
   "execution_count": 4,
   "id": "620c5e14",
   "metadata": {
    "scrolled": true
   },
   "outputs": [
    {
     "data": {
      "text/plain": [
       "<AxesSubplot:xlabel='date'>"
      ]
     },
     "execution_count": 4,
     "metadata": {},
     "output_type": "execute_result"
    },
    {
     "data": {
      "image/png": "[encoded data removed]",
      "text/plain": [
       "<Figure size 640x480 with 1 Axes>"
      ]
     },
     "metadata": {},
     "output_type": "display_data"
    }
   ],
   "source": [
    "ts = df[target_col]\n",
    "ts.index = df[time_index]\n",
    "ts.plot()"
   ]
  },
  {
   "cell_type": "markdown",
   "id": "f1f6942a",
   "metadata": {},
   "source": [
    "We can see a strong seasonality, which makes sense for temperature data! In many places, the time of the year is indicative of how warm or cold we can expect it to be outside. We can exploit that seasonality in our feature engineering, but first, we'll build a baseline model that uses only the most recently available data.\n",
    "\n",
    "But how do we define what data we have access to at different points in time? In many scenarios, this might be determined by how quickly we can get access to recent observations. Consider an example where we're recording data that takes a week to ingest; the earliest data we have access to is from seven days ago, so seven days would be our contraint for our baseline feature.\n",
    "\n",
    "In this demo, we do not naturally have any of these constraints, so we'll need to set some parameters arbitrarily when formally defining the problem we're solving. But these parameters can be used on real data, where the contraints will define the problem. We'll stick with this problem configuration throughout the rest of the demo. \n",
    "\n",
    "## Problem Configuration\n",
    "Here are a few concepts that give us our official problem configuration. They are taken from EvalML's [time series user guide](https://evalml.alteryx.com/en/stable/user_guide/timeseries.html#Running-AutoMLSearch):\n",
    "\n",
    "**forecast_horizon**: The number of time periods we are trying to forecast.\n",
    "\n",
    "**gap**: The number of time periods between the end of the training set and the start of the test set.\n",
    "\n",
    "**max_delay**: The maximum number of rows to look in the past from the current row in order to compute features.\n",
    "\n",
    "**time_index**: The column of the training dataset that contains the date corresponding to each observation. We set the time index along with the target column above; it's the `date` column.\n",
    "\n",
    "Below is a visualization of the forecast horizon and gap on a timeline. The max delay is not shown, because it gets used in the feature engineering step to limit how far back in time we can look for each observation.\n",
    "\n",
    "<p style=\"margin:30px\">\n",
    "    <img style=\"display:inline; margin-right:50px\" width=80% src=\"figures/ts_parameter_viz.png\" alt=\"ts\" />\n",
    "</p>\n",
    "\n",
    "Our problem can be described as trying to predict the mean temperature 3 to 8 days out using temperature data from 20 days prior. With the concepts above in-hand, we can define our parameters as follows:"
   ]
  },
  {
   "cell_type": "code",
   "execution_count": 5,
   "id": "43ca1fe9",
   "metadata": {},
   "outputs": [],
   "source": [
    "gap = 3\n",
    "max_delay = 20\n",
    "forecast_horizon = 5"
   ]
  },
  {
   "cell_type": "markdown",
   "id": "8d5254dc",
   "metadata": {},
   "source": [
    "## Data Splitting\n",
    "\n",
    "Additionally, we'll want to have our data split up into training and testing data. We'll use the same split for both our baseline and Featuretools runs. We're leaving a `gap` number of observations between the train and test sets in order to not have the test dataset's delayed feature use values that are technically before the test set begins or inside of the training set. "
   ]
  },
  {
   "cell_type": "code",
   "execution_count": 6,
   "id": "c3d27b19",
   "metadata": {},
   "outputs": [
    {
     "data": {
      "text/html": [
       "<div>\n",
       "<style scoped>\n",
       "    .dataframe tbody tr th:only-of-type {\n",
       "        vertical-align: middle;\n",
       "    }\n",
       "\n",
       "    .dataframe tbody tr th {\n",
       "        vertical-align: top;\n",
       "    }\n",
       "\n",
       "    .dataframe thead th {\n",
       "        text-align: right;\n",
       "    }\n",
       "</style>\n",
       "<table border=\"1\" class=\"dataframe\">\n",
       "  <thead>\n",
       "    <tr style=\"text-align: right;\">\n",
       "      <th></th>\n",
       "      <th>date</th>\n",
       "      <th>meantemp</th>\n",
       "    </tr>\n",
       "  </thead>\n",
       "  <tbody>\n",
       "    <tr>\n",
       "      <th>0</th>\n",
       "      <td>2013-01-01</td>\n",
       "      <td>10.000000</td>\n",
       "    </tr>\n",
       "    <tr>\n",
       "      <th>1</th>\n",
       "      <td>2013-01-02</td>\n",
       "      <td>7.400000</td>\n",
       "    </tr>\n",
       "    <tr>\n",
       "      <th>2</th>\n",
       "      <td>2013-01-03</td>\n",
       "      <td>7.166667</td>\n",
       "    </tr>\n",
       "    <tr>\n",
       "      <th>3</th>\n",
       "      <td>2013-01-04</td>\n",
       "      <td>8.666667</td>\n",
       "    </tr>\n",
       "    <tr>\n",
       "      <th>4</th>\n",
       "      <td>2013-01-05</td>\n",
       "      <td>6.000000</td>\n",
       "    </tr>\n",
       "  </tbody>\n",
       "</table>\n",
       "</div>"
      ],
      "text/plain": [
       "        date   meantemp\n",
       "0 2013-01-01  10.000000\n",
       "1 2013-01-02   7.400000\n",
       "2 2013-01-03   7.166667\n",
       "3 2013-01-04   8.666667\n",
       "4 2013-01-05   6.000000"
      ]
     },
     "execution_count": 6,
     "metadata": {},
     "output_type": "execute_result"
    }
   ],
   "source": [
    "split_point = int(univariate_df.shape[0]*.8)\n",
    "\n",
    "# leave gap observations between training and test datasets\n",
    "training_data = univariate_df[:split_point]\n",
    "test_data = univariate_df[(split_point + gap):]\n",
    "\n",
    "training_data.head()"
   ]
  },
  {
   "cell_type": "markdown",
   "id": "ca6ed90f",
   "metadata": {},
   "source": [
    "# Baseline Run\n",
    "\n",
    "Our baseline run will only include one feature that is a delayed value from the `meantemp` column. That delayed value will be the first known value for each observation. \n",
    "\n",
    "### Feature Engineering"
   ]
  },
  {
   "cell_type": "code",
   "execution_count": 7,
   "id": "cd2737ca",
   "metadata": {},
   "outputs": [
    {
     "data": {
      "text/html": [
       "<div>\n",
       "<style scoped>\n",
       "    .dataframe tbody tr th:only-of-type {\n",
       "        vertical-align: middle;\n",
       "    }\n",
       "\n",
       "    .dataframe tbody tr th {\n",
       "        vertical-align: top;\n",
       "    }\n",
       "\n",
       "    .dataframe thead th {\n",
       "        text-align: right;\n",
       "    }\n",
       "</style>\n",
       "<table border=\"1\" class=\"dataframe\">\n",
       "  <thead>\n",
       "    <tr style=\"text-align: right;\">\n",
       "      <th></th>\n",
       "      <th>date</th>\n",
       "      <th>meantemp</th>\n",
       "      <th>target_delay</th>\n",
       "    </tr>\n",
       "  </thead>\n",
       "  <tbody>\n",
       "    <tr>\n",
       "      <th>0</th>\n",
       "      <td>2013-01-01</td>\n",
       "      <td>10.000000</td>\n",
       "      <td>NaN</td>\n",
       "    </tr>\n",
       "    <tr>\n",
       "      <th>1</th>\n",
       "      <td>2013-01-02</td>\n",
       "      <td>7.400000</td>\n",
       "      <td>NaN</td>\n",
       "    </tr>\n",
       "    <tr>\n",
       "      <th>2</th>\n",
       "      <td>2013-01-03</td>\n",
       "      <td>7.166667</td>\n",
       "      <td>NaN</td>\n",
       "    </tr>\n",
       "    <tr>\n",
       "      <th>3</th>\n",
       "      <td>2013-01-04</td>\n",
       "      <td>8.666667</td>\n",
       "      <td>NaN</td>\n",
       "    </tr>\n",
       "    <tr>\n",
       "      <th>4</th>\n",
       "      <td>2013-01-05</td>\n",
       "      <td>6.000000</td>\n",
       "      <td>NaN</td>\n",
       "    </tr>\n",
       "    <tr>\n",
       "      <th>5</th>\n",
       "      <td>2013-01-06</td>\n",
       "      <td>7.000000</td>\n",
       "      <td>NaN</td>\n",
       "    </tr>\n",
       "    <tr>\n",
       "      <th>6</th>\n",
       "      <td>2013-01-07</td>\n",
       "      <td>7.000000</td>\n",
       "      <td>NaN</td>\n",
       "    </tr>\n",
       "    <tr>\n",
       "      <th>7</th>\n",
       "      <td>2013-01-08</td>\n",
       "      <td>8.857143</td>\n",
       "      <td>NaN</td>\n",
       "    </tr>\n",
       "    <tr>\n",
       "      <th>8</th>\n",
       "      <td>2013-01-09</td>\n",
       "      <td>14.000000</td>\n",
       "      <td>NaN</td>\n",
       "    </tr>\n",
       "    <tr>\n",
       "      <th>9</th>\n",
       "      <td>2013-01-10</td>\n",
       "      <td>11.000000</td>\n",
       "      <td>10.000000</td>\n",
       "    </tr>\n",
       "    <tr>\n",
       "      <th>10</th>\n",
       "      <td>2013-01-11</td>\n",
       "      <td>15.714286</td>\n",
       "      <td>7.400000</td>\n",
       "    </tr>\n",
       "    <tr>\n",
       "      <th>11</th>\n",
       "      <td>2013-01-12</td>\n",
       "      <td>14.000000</td>\n",
       "      <td>7.166667</td>\n",
       "    </tr>\n",
       "    <tr>\n",
       "      <th>12</th>\n",
       "      <td>2013-01-13</td>\n",
       "      <td>15.833333</td>\n",
       "      <td>8.666667</td>\n",
       "    </tr>\n",
       "  </tbody>\n",
       "</table>\n",
       "</div>"
      ],
      "text/plain": [
       "         date   meantemp  target_delay\n",
       "0  2013-01-01  10.000000           NaN\n",
       "1  2013-01-02   7.400000           NaN\n",
       "2  2013-01-03   7.166667           NaN\n",
       "3  2013-01-04   8.666667           NaN\n",
       "4  2013-01-05   6.000000           NaN\n",
       "5  2013-01-06   7.000000           NaN\n",
       "6  2013-01-07   7.000000           NaN\n",
       "7  2013-01-08   8.857143           NaN\n",
       "8  2013-01-09  14.000000           NaN\n",
       "9  2013-01-10  11.000000     10.000000\n",
       "10 2013-01-11  15.714286      7.400000\n",
       "11 2013-01-12  14.000000      7.166667\n",
       "12 2013-01-13  15.833333      8.666667"
      ]
     },
     "execution_count": 7,
     "metadata": {},
     "output_type": "execute_result"
    }
   ],
   "source": [
    "# The delay includes the gap, because that's how many rows are skipped between train and test data.\n",
    "# The forecast horizon is also present so that when we predict out a forecast_horizon number of observations into\n",
    "# the future, we don't need to use predicted values to predict new values.\n",
    "delay_length = forecast_horizon + gap + 1\n",
    "\n",
    "# Add a delayed target feature to both traning and test data\n",
    "target_delay_training = training_data[target_col].shift(delay_length)\n",
    "target_delay_training.name = 'target_delay'\n",
    "baseline_training = pd.concat([training_data, target_delay_training], axis=1)\n",
    "\n",
    "target_delay_test = test_data[target_col].shift(delay_length)\n",
    "target_delay_test.name = 'target_delay'\n",
    "baseline_test = pd.concat([test_data, target_delay_test], axis=1)\n",
    "\n",
    "baseline_training.head(13)"
   ]
  },
  {
   "cell_type": "markdown",
   "id": "e322fedb",
   "metadata": {},
   "source": [
    "Notice how the `meantemp` value at index `0` is the same `target_delay` value at index `10`, the first non null value, since it's the first delayed value to be present in the original target column. \n",
    "\n",
    "### Format data for modeling\n",
    "\n",
    "We won't want the time index column, `date`, in our data for modeling, we also need to remove the null values that were introduced in the delayed target feature, and last we need to pull the target column out. "
   ]
  },
  {
   "cell_type": "code",
   "execution_count": 8,
   "id": "9c92cff9",
   "metadata": {},
   "outputs": [
    {
     "data": {
      "text/html": [
       "<div>\n",
       "<style scoped>\n",
       "    .dataframe tbody tr th:only-of-type {\n",
       "        vertical-align: middle;\n",
       "    }\n",
       "\n",
       "    .dataframe tbody tr th {\n",
       "        vertical-align: top;\n",
       "    }\n",
       "\n",
       "    .dataframe thead th {\n",
       "        text-align: right;\n",
       "    }\n",
       "</style>\n",
       "<table border=\"1\" class=\"dataframe\">\n",
       "  <thead>\n",
       "    <tr style=\"text-align: right;\">\n",
       "      <th></th>\n",
       "      <th>target_delay</th>\n",
       "    </tr>\n",
       "  </thead>\n",
       "  <tbody>\n",
       "    <tr>\n",
       "      <th>9</th>\n",
       "      <td>10.000000</td>\n",
       "    </tr>\n",
       "    <tr>\n",
       "      <th>10</th>\n",
       "      <td>7.400000</td>\n",
       "    </tr>\n",
       "    <tr>\n",
       "      <th>11</th>\n",
       "      <td>7.166667</td>\n",
       "    </tr>\n",
       "    <tr>\n",
       "      <th>12</th>\n",
       "      <td>8.666667</td>\n",
       "    </tr>\n",
       "    <tr>\n",
       "      <th>13</th>\n",
       "      <td>6.000000</td>\n",
       "    </tr>\n",
       "  </tbody>\n",
       "</table>\n",
       "</div>"
      ],
      "text/plain": [
       "    target_delay\n",
       "9      10.000000\n",
       "10      7.400000\n",
       "11      7.166667\n",
       "12      8.666667\n",
       "13      6.000000"
      ]
     },
     "execution_count": 8,
     "metadata": {},
     "output_type": "execute_result"
    }
   ],
   "source": [
    "# Get rid of the time index column for modeling\n",
    "baseline_training.drop(time_index, axis=1, inplace=True)\n",
    "baseline_test.drop(time_index, axis=1, inplace=True)\n",
    "\n",
    "# The lag feature introduces nans, so we remove those rows and pull out the target\n",
    "X_train = baseline_training.dropna()\n",
    "y_train = X_train.pop(target_col)\n",
    "\n",
    "X_test = baseline_test.dropna()\n",
    "y_test = X_test.pop(target_col)\n",
    "\n",
    "X_train.head()"
   ]
  },
  {
   "cell_type": "markdown",
   "id": "e18cc5f9",
   "metadata": {},
   "source": [
    "### Model Building\n",
    "\n",
    "Now that we've formatted our training and test data for modeling, we can use the training data, `X_train` and the target column `y_train`, to fit the random forest regressor we've chosen as our estimator. Then, we use the test data, `X_test` to predict our target values and check its accuracy against `y_test`."
   ]
  },
  {
   "cell_type": "code",
   "execution_count": 9,
   "id": "412e13e9",
   "metadata": {},
   "outputs": [
    {
     "name": "stdout",
     "output_type": "stream",
     "text": [
      "Median Abs Error: 2.07\n"
     ]
    }
   ],
   "source": [
    "reg = RandomForestRegressor(n_estimators=100)\n",
    "reg.fit(X_train, y_train)\n",
    "\n",
    "# Check the accuracy of our model\n",
    "preds = reg.predict(X_test)\n",
    "baseline_score = median_absolute_error(preds, y_test)\n",
    "print('Median Abs Error: {:.2f}'.format(baseline_score))"
   ]
  },
  {
   "cell_type": "markdown",
   "id": "c0169723",
   "metadata": {},
   "source": [
    "We're using median absolue error as our objective function for determining how the model performs. **The closer the score is to zero, the more accurate our model is.**\n",
    "\n",
    "We can also learn a bit more about our model by looking at the feature importances. "
   ]
  },
  {
   "cell_type": "code",
   "execution_count": 10,
   "id": "fbd2d9ed",
   "metadata": {
    "scrolled": true
   },
   "outputs": [
    {
     "name": "stdout",
     "output_type": "stream",
     "text": [
      "1: target_delay [1.000]\n",
      "-----\n",
      "\n"
     ]
    }
   ],
   "source": [
    "high_imp_feats = feature_importances(X_train, reg, feats=10)"
   ]
  },
  {
   "cell_type": "markdown",
   "id": "ee8d9a32",
   "metadata": {},
   "source": [
    "As we only built one feature, the delayed feature, it makes sense that it has a feature importance of 1, meaning that predictions are based entirely on that value. This step will help us understand our model better when we engineer more features.\n",
    "\n",
    "Next, we're going to expand our feature engineering step using Featuretools' deep feature synthesis (DFS). We'll utilize a few time-series specific primitives as well as some datetime primitives. \n",
    "\n",
    "# Feature Engineering Run \n",
    "<p style=\"margin:30px\">\n",
    "    <img style=\"display:inline; margin-right:50px\" width=50% src=\"https://www.featuretools.com/wp-content/uploads/2017/12/FeatureLabs-Logo-Tangerine-800.png\" alt=\"Featuretools\" />\n",
    "</p>\n",
    "\n",
    "\n",
    "We're going to use the same split that we used for the baseline run, so we'll work with the `training_data` and `test_data` dataframes from before.\n",
    "\n",
    "To utilize Feturetools' time series capabilities, we'll first need to do two things:\n",
    "1. Set up an [EntitySet](https://featuretools.alteryx.com/en/stable/getting_started/using_entitysets.html) for our data - this puts the data into a format that DFS can understand.\n",
    "2. Set up [primitives](https://featuretools.alteryx.com/en/stable/getting_started/primitives.html) for the DFS run - this is where we'll incorporate our time series problem configuration - some of the primitives will be applied to our target column.\n"
   ]
  },
  {
   "cell_type": "markdown",
   "id": "04b32e54",
   "metadata": {},
   "source": [
    "### Feature Engineering with Featuretools\n",
    "\n",
    "Our first step is setting up the `EntitySet` objects for both the training and testing data. Since our dataset only includes one table, this will be a quick process that will be identical for the training and testing data. The fact that the two EntitySets are the same in every aspect except for the number of rows will let us avoid running DFS twice. The feature definitions for one EntitySet can be used for the second as well!"
   ]
  },
  {
   "cell_type": "code",
   "execution_count": 11,
   "id": "995348c8",
   "metadata": {
    "scrolled": true
   },
   "outputs": [
    {
     "data": {
      "text/plain": [
       "Entityset: training_es\n",
       "  DataFrames:\n",
       "    temperatures [Rows: 1260, Columns: 3]\n",
       "  Relationships:\n",
       "    No relationships"
      ]
     },
     "execution_count": 11,
     "metadata": {},
     "output_type": "execute_result"
    }
   ],
   "source": [
    "# Adds an index column to the data, so the \"temperatures\"\n",
    "# dataframe will have 3 columns\n",
    "training_es = set_up_entityset(training_data, id='training_es', time_index=time_index)\n",
    "test_es = set_up_entityset(test_data, id='test_es', time_index=time_index)\n",
    "\n",
    "training_es"
   ]
  },
  {
   "cell_type": "markdown",
   "id": "692e5759",
   "metadata": {},
   "source": [
    "Now, we'll set up our primitives for DFS. There will be three types of primitives:\n",
    "\n",
    "- **Datetime primitives** - these extract features from datetime columns\n",
    "- **Rolling primitives** - these perform aggregate calculations over rolling windows within a single column. Parameters can be set that allow an observation's window to be entirely before the observation occurs, which is important for not exposing our target variable. \n",
    "- **Lagging primitives** - these are primitive versions of the delayed target feature from the baseline run. We'll define multiple of these with different delays.\n",
    "\n",
    "We use the `gap`, `forecast_horizon`, and `max_delay` parameters from before to set our primitive parameters. Let's start with our delaying primitives, since those are similar to the feature we built with our baseline model.\n",
    "\n",
    "Featuretools' `NumericLag` primitive will introduce a `periods` long delay to the column it's appled to. In the same way that `gap` and `forecast_horizon` determined what the earliest observation we have access to, we use `max_delay` to determine the latest observation we have access to and create delaying primitives across that range. "
   ]
  },
  {
   "cell_type": "code",
   "execution_count": 12,
   "id": "83961599",
   "metadata": {},
   "outputs": [],
   "source": [
    "# The .25 is a heuristic to only use a portion of the max_delay for the window length\n",
    "window_length = int(.25*max_delay) + 1\n",
    "\n",
    "delaying_primitives = [NumericLag(periods=t + forecast_horizon + gap) for t in range(window_length)]"
   ]
  },
  {
   "cell_type": "markdown",
   "id": "895b0f6f",
   "metadata": {},
   "source": [
    "Next, we'll use some datetime-specific primitives that will allow us to extract features from the time index columns. This is how we can get some of the larger historical seasonality into our model, since we can expect the `Month` to influence how warm we can expect the temperature to be. "
   ]
  },
  {
   "cell_type": "code",
   "execution_count": 13,
   "id": "a0ac2f8e",
   "metadata": {},
   "outputs": [],
   "source": [
    "datetime_primitives = [ 'Month', \"Year\"]"
   ]
  },
  {
   "cell_type": "markdown",
   "id": "c1569cb5",
   "metadata": {},
   "source": [
    "The last primitive we'll create is one that calculates a rolling average over our target column. However, since we need to be careful to not expose a row's `meantemp` value in its rolling window, we introduce a delay before the start of the window that is determined by `forecast_horizon + gap` (just like the delaying primitives!). The end of the window is determined using the `max_delay` similar to the delaying primitives as well, so we'll reuse the `window_length` variable from before."
   ]
  },
  {
   "cell_type": "code",
   "execution_count": 14,
   "id": "de48a85c",
   "metadata": {},
   "outputs": [],
   "source": [
    "rolling_gap = forecast_horizon + gap\n",
    "# Min periods is a pandas parameter, and it just stops us from including partial calculations before the windows have \n",
    "# all the possible observations, so it's the window_length\n",
    "rolling_min_periods = window_length\n",
    "\n",
    "rolling_mean_primitive = RollingMean(window_length, \n",
    "                                     gap=rolling_gap,\n",
    "                                     min_periods=rolling_min_periods)"
   ]
  },
  {
   "cell_type": "markdown",
   "id": "206a88be",
   "metadata": {},
   "source": [
    "Now that we have all of our time series primitives defined, we can pass them into a DFS call. DFS returns two objects: a feature matrix and a list of feature definitions. We'll need the feature matrix built from the training data to use for fitting the model, and that is what we're getting with this DFS run, but we'll also need the test feature matrix to predict on, so we will use the feature definitions from the DFS call and calculate the test feature matrix directly using them. "
   ]
  },
  {
   "cell_type": "code",
   "execution_count": 15,
   "id": "e496c781",
   "metadata": {
    "scrolled": true
   },
   "outputs": [],
   "source": [
    "# DFS Run - calculates feature matrix and the feature definitions\n",
    "train_fm, feature_defs = ft.dfs(entityset=training_es, \n",
    "                                target_dataframe_name='temperatures', \n",
    "                                max_depth=1,\n",
    "                                trans_primitives = datetime_primitives \n",
    "                                            + delaying_primitives \n",
    "                                            + [ rolling_mean_primitive ]\n",
    "                                  )\n",
    "\n",
    "# Reuse the feature definitions for the test data\n",
    "test_fm = ft.calculate_feature_matrix(feature_defs, test_es)"
   ]
  },
  {
   "cell_type": "markdown",
   "id": "a744a969",
   "metadata": {},
   "source": [
    "### Format data for modeling \n",
    "\n",
    "Again, we'll need to remove any null values in the data. In this case, all of our lagging primitives and our rolling \n",
    "mean primitive will have introduced NaNs that we need to remove. "
   ]
  },
  {
   "cell_type": "code",
   "execution_count": 16,
   "id": "ba509cc7",
   "metadata": {},
   "outputs": [
    {
     "data": {
      "text/html": [
       "<div>\n",
       "<style scoped>\n",
       "    .dataframe tbody tr th:only-of-type {\n",
       "        vertical-align: middle;\n",
       "    }\n",
       "\n",
       "    .dataframe tbody tr th {\n",
       "        vertical-align: top;\n",
       "    }\n",
       "\n",
       "    .dataframe thead th {\n",
       "        text-align: right;\n",
       "    }\n",
       "</style>\n",
       "<table border=\"1\" class=\"dataframe\">\n",
       "  <thead>\n",
       "    <tr style=\"text-align: right;\">\n",
       "      <th></th>\n",
       "      <th>MONTH(date)</th>\n",
       "      <th>NUMERIC_LAG(date, meantemp, periods=10)</th>\n",
       "      <th>NUMERIC_LAG(date, meantemp, periods=11)</th>\n",
       "      <th>NUMERIC_LAG(date, meantemp, periods=12)</th>\n",
       "      <th>NUMERIC_LAG(date, meantemp, periods=13)</th>\n",
       "      <th>NUMERIC_LAG(date, meantemp, periods=8)</th>\n",
       "      <th>NUMERIC_LAG(date, meantemp, periods=9)</th>\n",
       "      <th>ROLLING_MEAN(date, meantemp, window_length=6, gap=8, min_periods=6)</th>\n",
       "      <th>YEAR(date)</th>\n",
       "    </tr>\n",
       "    <tr>\n",
       "      <th>id</th>\n",
       "      <th></th>\n",
       "      <th></th>\n",
       "      <th></th>\n",
       "      <th></th>\n",
       "      <th></th>\n",
       "      <th></th>\n",
       "      <th></th>\n",
       "      <th></th>\n",
       "      <th></th>\n",
       "    </tr>\n",
       "  </thead>\n",
       "  <tbody>\n",
       "    <tr>\n",
       "      <th>13</th>\n",
       "      <td>1</td>\n",
       "      <td>8.666667</td>\n",
       "      <td>7.166667</td>\n",
       "      <td>7.400000</td>\n",
       "      <td>10.000000</td>\n",
       "      <td>7.000000</td>\n",
       "      <td>6.000000</td>\n",
       "      <td>7.705556</td>\n",
       "      <td>2013</td>\n",
       "    </tr>\n",
       "    <tr>\n",
       "      <th>14</th>\n",
       "      <td>1</td>\n",
       "      <td>6.000000</td>\n",
       "      <td>8.666667</td>\n",
       "      <td>7.166667</td>\n",
       "      <td>7.400000</td>\n",
       "      <td>7.000000</td>\n",
       "      <td>7.000000</td>\n",
       "      <td>7.205556</td>\n",
       "      <td>2013</td>\n",
       "    </tr>\n",
       "    <tr>\n",
       "      <th>15</th>\n",
       "      <td>1</td>\n",
       "      <td>7.000000</td>\n",
       "      <td>6.000000</td>\n",
       "      <td>8.666667</td>\n",
       "      <td>7.166667</td>\n",
       "      <td>8.857143</td>\n",
       "      <td>7.000000</td>\n",
       "      <td>7.448413</td>\n",
       "      <td>2013</td>\n",
       "    </tr>\n",
       "    <tr>\n",
       "      <th>16</th>\n",
       "      <td>1</td>\n",
       "      <td>7.000000</td>\n",
       "      <td>7.000000</td>\n",
       "      <td>6.000000</td>\n",
       "      <td>8.666667</td>\n",
       "      <td>14.000000</td>\n",
       "      <td>8.857143</td>\n",
       "      <td>8.587302</td>\n",
       "      <td>2013</td>\n",
       "    </tr>\n",
       "    <tr>\n",
       "      <th>17</th>\n",
       "      <td>1</td>\n",
       "      <td>8.857143</td>\n",
       "      <td>7.000000</td>\n",
       "      <td>7.000000</td>\n",
       "      <td>6.000000</td>\n",
       "      <td>11.000000</td>\n",
       "      <td>14.000000</td>\n",
       "      <td>8.976190</td>\n",
       "      <td>2013</td>\n",
       "    </tr>\n",
       "    <tr>\n",
       "      <th>18</th>\n",
       "      <td>1</td>\n",
       "      <td>14.000000</td>\n",
       "      <td>8.857143</td>\n",
       "      <td>7.000000</td>\n",
       "      <td>7.000000</td>\n",
       "      <td>15.714286</td>\n",
       "      <td>11.000000</td>\n",
       "      <td>10.595238</td>\n",
       "      <td>2013</td>\n",
       "    </tr>\n",
       "    <tr>\n",
       "      <th>19</th>\n",
       "      <td>1</td>\n",
       "      <td>11.000000</td>\n",
       "      <td>14.000000</td>\n",
       "      <td>8.857143</td>\n",
       "      <td>7.000000</td>\n",
       "      <td>14.000000</td>\n",
       "      <td>15.714286</td>\n",
       "      <td>11.761905</td>\n",
       "      <td>2013</td>\n",
       "    </tr>\n",
       "    <tr>\n",
       "      <th>20</th>\n",
       "      <td>1</td>\n",
       "      <td>15.714286</td>\n",
       "      <td>11.000000</td>\n",
       "      <td>14.000000</td>\n",
       "      <td>8.857143</td>\n",
       "      <td>15.833333</td>\n",
       "      <td>14.000000</td>\n",
       "      <td>13.234127</td>\n",
       "      <td>2013</td>\n",
       "    </tr>\n",
       "    <tr>\n",
       "      <th>21</th>\n",
       "      <td>1</td>\n",
       "      <td>14.000000</td>\n",
       "      <td>15.714286</td>\n",
       "      <td>11.000000</td>\n",
       "      <td>14.000000</td>\n",
       "      <td>12.833333</td>\n",
       "      <td>15.833333</td>\n",
       "      <td>13.896825</td>\n",
       "      <td>2013</td>\n",
       "    </tr>\n",
       "    <tr>\n",
       "      <th>22</th>\n",
       "      <td>1</td>\n",
       "      <td>15.833333</td>\n",
       "      <td>14.000000</td>\n",
       "      <td>15.714286</td>\n",
       "      <td>11.000000</td>\n",
       "      <td>14.714286</td>\n",
       "      <td>12.833333</td>\n",
       "      <td>14.015873</td>\n",
       "      <td>2013</td>\n",
       "    </tr>\n",
       "    <tr>\n",
       "      <th>23</th>\n",
       "      <td>1</td>\n",
       "      <td>12.833333</td>\n",
       "      <td>15.833333</td>\n",
       "      <td>14.000000</td>\n",
       "      <td>15.714286</td>\n",
       "      <td>13.833333</td>\n",
       "      <td>14.714286</td>\n",
       "      <td>14.488095</td>\n",
       "      <td>2013</td>\n",
       "    </tr>\n",
       "    <tr>\n",
       "      <th>24</th>\n",
       "      <td>1</td>\n",
       "      <td>14.714286</td>\n",
       "      <td>12.833333</td>\n",
       "      <td>15.833333</td>\n",
       "      <td>14.000000</td>\n",
       "      <td>16.500000</td>\n",
       "      <td>13.833333</td>\n",
       "      <td>14.619048</td>\n",
       "      <td>2013</td>\n",
       "    </tr>\n",
       "    <tr>\n",
       "      <th>25</th>\n",
       "      <td>1</td>\n",
       "      <td>13.833333</td>\n",
       "      <td>14.714286</td>\n",
       "      <td>12.833333</td>\n",
       "      <td>15.833333</td>\n",
       "      <td>13.833333</td>\n",
       "      <td>16.500000</td>\n",
       "      <td>14.591270</td>\n",
       "      <td>2013</td>\n",
       "    </tr>\n",
       "  </tbody>\n",
       "</table>\n",
       "</div>"
      ],
      "text/plain": [
       "   MONTH(date)  NUMERIC_LAG(date, meantemp, periods=10)  \\\n",
       "id                                                        \n",
       "13           1                                 8.666667   \n",
       "14           1                                 6.000000   \n",
       "15           1                                 7.000000   \n",
       "16           1                                 7.000000   \n",
       "17           1                                 8.857143   \n",
       "18           1                                14.000000   \n",
       "19           1                                11.000000   \n",
       "20           1                                15.714286   \n",
       "21           1                                14.000000   \n",
       "22           1                                15.833333   \n",
       "23           1                                12.833333   \n",
       "24           1                                14.714286   \n",
       "25           1                                13.833333   \n",
       "\n",
       "    NUMERIC_LAG(date, meantemp, periods=11)  \\\n",
       "id                                            \n",
       "13                                 7.166667   \n",
       "14                                 8.666667   \n",
       "15                                 6.000000   \n",
       "16                                 7.000000   \n",
       "17                                 7.000000   \n",
       "18                                 8.857143   \n",
       "19                                14.000000   \n",
       "20                                11.000000   \n",
       "21                                15.714286   \n",
       "22                                14.000000   \n",
       "23                                15.833333   \n",
       "24                                12.833333   \n",
       "25                                14.714286   \n",
       "\n",
       "    NUMERIC_LAG(date, meantemp, periods=12)  \\\n",
       "id                                            \n",
       "13                                 7.400000   \n",
       "14                                 7.166667   \n",
       "15                                 8.666667   \n",
       "16                                 6.000000   \n",
       "17                                 7.000000   \n",
       "18                                 7.000000   \n",
       "19                                 8.857143   \n",
       "20                                14.000000   \n",
       "21                                11.000000   \n",
       "22                                15.714286   \n",
       "23                                14.000000   \n",
       "24                                15.833333   \n",
       "25                                12.833333   \n",
       "\n",
       "    NUMERIC_LAG(date, meantemp, periods=13)  \\\n",
       "id                                            \n",
       "13                                10.000000   \n",
       "14                                 7.400000   \n",
       "15                                 7.166667   \n",
       "16                                 8.666667   \n",
       "17                                 6.000000   \n",
       "18                                 7.000000   \n",
       "19                                 7.000000   \n",
       "20                                 8.857143   \n",
       "21                                14.000000   \n",
       "22                                11.000000   \n",
       "23                                15.714286   \n",
       "24                                14.000000   \n",
       "25                                15.833333   \n",
       "\n",
       "    NUMERIC_LAG(date, meantemp, periods=8)  \\\n",
       "id                                           \n",
       "13                                7.000000   \n",
       "14                                7.000000   \n",
       "15                                8.857143   \n",
       "16                               14.000000   \n",
       "17                               11.000000   \n",
       "18                               15.714286   \n",
       "19                               14.000000   \n",
       "20                               15.833333   \n",
       "21                               12.833333   \n",
       "22                               14.714286   \n",
       "23                               13.833333   \n",
       "24                               16.500000   \n",
       "25                               13.833333   \n",
       "\n",
       "    NUMERIC_LAG(date, meantemp, periods=9)  \\\n",
       "id                                           \n",
       "13                                6.000000   \n",
       "14                                7.000000   \n",
       "15                                7.000000   \n",
       "16                                8.857143   \n",
       "17                               14.000000   \n",
       "18                               11.000000   \n",
       "19                               15.714286   \n",
       "20                               14.000000   \n",
       "21                               15.833333   \n",
       "22                               12.833333   \n",
       "23                               14.714286   \n",
       "24                               13.833333   \n",
       "25                               16.500000   \n",
       "\n",
       "    ROLLING_MEAN(date, meantemp, window_length=6, gap=8, min_periods=6)  \\\n",
       "id                                                                        \n",
       "13                                           7.705556                     \n",
       "14                                           7.205556                     \n",
       "15                                           7.448413                     \n",
       "16                                           8.587302                     \n",
       "17                                           8.976190                     \n",
       "18                                          10.595238                     \n",
       "19                                          11.761905                     \n",
       "20                                          13.234127                     \n",
       "21                                          13.896825                     \n",
       "22                                          14.015873                     \n",
       "23                                          14.488095                     \n",
       "24                                          14.619048                     \n",
       "25                                          14.591270                     \n",
       "\n",
       "   YEAR(date)  \n",
       "id             \n",
       "13       2013  \n",
       "14       2013  \n",
       "15       2013  \n",
       "16       2013  \n",
       "17       2013  \n",
       "18       2013  \n",
       "19       2013  \n",
       "20       2013  \n",
       "21       2013  \n",
       "22       2013  \n",
       "23       2013  \n",
       "24       2013  \n",
       "25       2013  "
      ]
     },
     "execution_count": 16,
     "metadata": {},
     "output_type": "execute_result"
    }
   ],
   "source": [
    "# Separate in to X and y objects for modeling\n",
    "X_train = train_fm.dropna()\n",
    "y_train = X_train.pop(target_col)\n",
    "\n",
    "# Do the same for the test data \n",
    "X_test = test_fm.dropna()\n",
    "y_test = X_test.pop(target_col)\n",
    "\n",
    "X_train.head(13)"
   ]
  },
  {
   "cell_type": "markdown",
   "id": "1447b546",
   "metadata": {},
   "source": [
    "### Model Building\n",
    "\n",
    "The modeling step will be the exact same as the baseline run, but now we have nine different features instead of just one!"
   ]
  },
  {
   "cell_type": "code",
   "execution_count": 17,
   "id": "3e77b095",
   "metadata": {
    "scrolled": true
   },
   "outputs": [
    {
     "name": "stdout",
     "output_type": "stream",
     "text": [
      "Median Abs Error: 1.70\n"
     ]
    }
   ],
   "source": [
    "reg = RandomForestRegressor(n_estimators=100)\n",
    "reg.fit(X_train, y_train)\n",
    "\n",
    "preds = reg.predict(X_test)\n",
    "featuretools_score = median_absolute_error(preds, y_test)\n",
    "print('Median Abs Error: {:.2f}'.format(featuretools_score))"
   ]
  },
  {
   "cell_type": "markdown",
   "id": "d65a2c20",
   "metadata": {},
   "source": [
    "We can see that the median absolute error has decreased relative to the baseline run, which means that this model is more accurate than the basline.\n",
    "\n",
    "We can also take a look at the feature importances to see which contribute the most to the model."
   ]
  },
  {
   "cell_type": "code",
   "execution_count": 18,
   "id": "5c5ce906",
   "metadata": {
    "scrolled": true
   },
   "outputs": [
    {
     "name": "stdout",
     "output_type": "stream",
     "text": [
      "1: ROLLING_MEAN(date, meantemp, window_length=6, gap=8, min_periods=6) [0.460]\n",
      "2: NUMERIC_LAG(date, meantemp, periods=8) [0.389]\n",
      "3: MONTH(date) [0.055]\n",
      "4: NUMERIC_LAG(date, meantemp, periods=9) [0.033]\n",
      "5: NUMERIC_LAG(date, meantemp, periods=10) [0.018]\n",
      "6: NUMERIC_LAG(date, meantemp, periods=13) [0.016]\n",
      "7: NUMERIC_LAG(date, meantemp, periods=12) [0.011]\n",
      "8: NUMERIC_LAG(date, meantemp, periods=11) [0.011]\n",
      "9: YEAR(date) [0.008]\n",
      "-----\n",
      "\n"
     ]
    }
   ],
   "source": [
    "high_imp_feats = feature_importances(X_train, reg, feats=100)"
   ]
  },
  {
   "cell_type": "markdown",
   "id": "e16057c8",
   "metadata": {},
   "source": [
    "Featuretools simplified what would have been a messy feature engineering process, and it got us a better model, but there were still a lot of steps to get to this point. Luckily, EvalML's Time Series Regression problem type lets us greatly simplify this process while building the exact same set of features. \n",
    "\n",
    "## Use Time Series Regression Problem From EvalML\n",
    "<p style=\"margin:30px\">\n",
    "    <img width=50% src=\"https://evalml-web-images.s3.amazonaws.com/evalml_horizontal.svg\" alt=\"Featuretools\" />\n",
    "</p>\n",
    "We will now use EvalML to build a model that is very similar to the one we just built with the help of Featuretools. EvalML's time series regression problem type does the same feature engineering using Featuretools that we just did under the hood. That, along with the simplicity with which we can split our data and the fact that we run multiple pipelines shows the power of EvalML.\n",
    "\n",
    "### Data Splitting\n",
    "\n",
    "Here, we can use EvalML's time series data splitting capabilities, which will leave us with data that has its time index in tact."
   ]
  },
  {
   "cell_type": "code",
   "execution_count": 19,
   "id": "61a1dd8a",
   "metadata": {
    "scrolled": true
   },
   "outputs": [
    {
     "data": {
      "text/html": [
       "<div>\n",
       "<style scoped>\n",
       "    .dataframe tbody tr th:only-of-type {\n",
       "        vertical-align: middle;\n",
       "    }\n",
       "\n",
       "    .dataframe tbody tr th {\n",
       "        vertical-align: top;\n",
       "    }\n",
       "\n",
       "    .dataframe thead th {\n",
       "        text-align: right;\n",
       "    }\n",
       "</style>\n",
       "<table border=\"1\" class=\"dataframe\">\n",
       "  <thead>\n",
       "    <tr style=\"text-align: right;\">\n",
       "      <th></th>\n",
       "      <th>date</th>\n",
       "    </tr>\n",
       "  </thead>\n",
       "  <tbody>\n",
       "    <tr>\n",
       "      <th>0</th>\n",
       "      <td>2013-01-01</td>\n",
       "    </tr>\n",
       "    <tr>\n",
       "      <th>1</th>\n",
       "      <td>2013-01-02</td>\n",
       "    </tr>\n",
       "    <tr>\n",
       "      <th>2</th>\n",
       "      <td>2013-01-03</td>\n",
       "    </tr>\n",
       "    <tr>\n",
       "      <th>3</th>\n",
       "      <td>2013-01-04</td>\n",
       "    </tr>\n",
       "    <tr>\n",
       "      <th>4</th>\n",
       "      <td>2013-01-05</td>\n",
       "    </tr>\n",
       "  </tbody>\n",
       "</table>\n",
       "</div>"
      ],
      "text/plain": [
       "        date\n",
       "0 2013-01-01\n",
       "1 2013-01-02\n",
       "2 2013-01-03\n",
       "3 2013-01-04\n",
       "4 2013-01-05"
      ]
     },
     "execution_count": 19,
     "metadata": {},
     "output_type": "execute_result"
    }
   ],
   "source": [
    "X = univariate_df.copy()\n",
    "y = X.pop(target_col)\n",
    "\n",
    "X_train, X_test, y_train, y_test = evalml.preprocessing.split_data(X, y,\n",
    "                                                                   problem_type='time series regression',\n",
    "                                                                   test_size=.2,\n",
    "                                                                  problem_configuration={\"gap\": gap, \n",
    "                                                                                         \"max_delay\": max_delay,\n",
    "                                                                                         \"forecast_horizon\": forecast_horizon,\n",
    "                                                                                         \"time_index\": time_index},)\n",
    "\n",
    "X_train.head()"
   ]
  },
  {
   "cell_type": "markdown",
   "id": "1bc2009b",
   "metadata": {},
   "source": [
    "### Model Building \n",
    "Now we can perform AutoMLSearch, which will provide us with six pipelines, one of which is the same as our baseline pipeline from above! "
   ]
  },
  {
   "cell_type": "code",
   "execution_count": 20,
   "id": "22e17b0a",
   "metadata": {
    "scrolled": false
   },
   "outputs": [
    {
     "name": "stderr",
     "output_type": "stream",
     "text": [
      "Time series support in evalml is still in beta, which means we are still actively building its core features. Please be mindful of that when running search().\n",
      "Objective did not converge. You might want to increase the number of iterations, check the scale of the features or consider increasing regularisation. Duality gap: 8.102e+02, tolerance: 1.133e+00\n",
      "Objective did not converge. You might want to increase the number of iterations, check the scale of the features or consider increasing regularisation. Duality gap: 1.816e+03, tolerance: 3.188e+00\n",
      "Objective did not converge. You might want to increase the number of iterations, check the scale of the features or consider increasing regularisation. Duality gap: 3.098e+03, tolerance: 5.041e+00\n"
     ]
    }
   ],
   "source": [
    "automl = evalml.AutoMLSearch(X_train, y_train, problem_type=\"time series regression\",\n",
    "                      max_batches=1,\n",
    "                      problem_configuration={\"gap\": gap, \n",
    "                                             \"max_delay\": max_delay,\n",
    "                                             \"forecast_horizon\": forecast_horizon, \n",
    "                                             \"time_index\": time_index},\n",
    "                      allowed_model_families=[\"xgboost\", \"random_forest\", \"linear_model\", \"extra_trees\",\n",
    "                                              \"decision_tree\"],\n",
    "                      objective='MedianAE'\n",
    "                      )\n",
    "# Fit and predict on the model\n",
    "automl.search()"
   ]
  },
  {
   "cell_type": "markdown",
   "id": "52885aad",
   "metadata": {},
   "source": [
    "Below are the summaries of the six pipelines that were run."
   ]
  },
  {
   "cell_type": "code",
   "execution_count": 21,
   "id": "b944a534",
   "metadata": {
    "scrolled": true
   },
   "outputs": [
    {
     "data": {
      "text/html": [
       "<div>\n",
       "<style scoped>\n",
       "    .dataframe tbody tr th:only-of-type {\n",
       "        vertical-align: middle;\n",
       "    }\n",
       "\n",
       "    .dataframe tbody tr th {\n",
       "        vertical-align: top;\n",
       "    }\n",
       "\n",
       "    .dataframe thead th {\n",
       "        text-align: right;\n",
       "    }\n",
       "</style>\n",
       "<table border=\"1\" class=\"dataframe\">\n",
       "  <thead>\n",
       "    <tr style=\"text-align: right;\">\n",
       "      <th></th>\n",
       "      <th>id</th>\n",
       "      <th>pipeline_name</th>\n",
       "      <th>search_order</th>\n",
       "      <th>mean_cv_score</th>\n",
       "      <th>standard_deviation_cv_score</th>\n",
       "      <th>validation_score</th>\n",
       "      <th>percent_better_than_baseline</th>\n",
       "      <th>high_variance_cv</th>\n",
       "      <th>parameters</th>\n",
       "    </tr>\n",
       "  </thead>\n",
       "  <tbody>\n",
       "    <tr>\n",
       "      <th>0</th>\n",
       "      <td>3</td>\n",
       "      <td>Random Forest Regressor w/ Imputer + Time Seri...</td>\n",
       "      <td>3</td>\n",
       "      <td>1.665593</td>\n",
       "      <td>0.230574</td>\n",
       "      <td>1.665593</td>\n",
       "      <td>16.288514</td>\n",
       "      <td>False</td>\n",
       "      <td>{'Imputer': {'categorical_impute_strategy': 'm...</td>\n",
       "    </tr>\n",
       "    <tr>\n",
       "      <th>1</th>\n",
       "      <td>5</td>\n",
       "      <td>Extra Trees Regressor w/ Imputer + Time Series...</td>\n",
       "      <td>5</td>\n",
       "      <td>1.682997</td>\n",
       "      <td>0.149086</td>\n",
       "      <td>1.682997</td>\n",
       "      <td>15.413816</td>\n",
       "      <td>False</td>\n",
       "      <td>{'Imputer': {'categorical_impute_strategy': 'm...</td>\n",
       "    </tr>\n",
       "    <tr>\n",
       "      <th>2</th>\n",
       "      <td>2</td>\n",
       "      <td>XGBoost Regressor w/ Imputer + Time Series Fea...</td>\n",
       "      <td>2</td>\n",
       "      <td>1.706157</td>\n",
       "      <td>0.067399</td>\n",
       "      <td>1.706157</td>\n",
       "      <td>14.249810</td>\n",
       "      <td>False</td>\n",
       "      <td>{'Imputer': {'categorical_impute_strategy': 'm...</td>\n",
       "    </tr>\n",
       "    <tr>\n",
       "      <th>3</th>\n",
       "      <td>1</td>\n",
       "      <td>Elastic Net Regressor w/ Imputer + Time Series...</td>\n",
       "      <td>1</td>\n",
       "      <td>1.758901</td>\n",
       "      <td>0.233439</td>\n",
       "      <td>1.758901</td>\n",
       "      <td>11.598889</td>\n",
       "      <td>False</td>\n",
       "      <td>{'Imputer': {'categorical_impute_strategy': 'm...</td>\n",
       "    </tr>\n",
       "    <tr>\n",
       "      <th>4</th>\n",
       "      <td>4</td>\n",
       "      <td>Decision Tree Regressor w/ Imputer + Time Seri...</td>\n",
       "      <td>4</td>\n",
       "      <td>1.981819</td>\n",
       "      <td>0.257195</td>\n",
       "      <td>1.981819</td>\n",
       "      <td>0.395209</td>\n",
       "      <td>False</td>\n",
       "      <td>{'Imputer': {'categorical_impute_strategy': 'm...</td>\n",
       "    </tr>\n",
       "    <tr>\n",
       "      <th>5</th>\n",
       "      <td>0</td>\n",
       "      <td>Time Series Baseline Regression Pipeline</td>\n",
       "      <td>0</td>\n",
       "      <td>1.989683</td>\n",
       "      <td>0.342684</td>\n",
       "      <td>1.989683</td>\n",
       "      <td>0.000000</td>\n",
       "      <td>False</td>\n",
       "      <td>{'Time Series Featurizer': {'time_index': 'dat...</td>\n",
       "    </tr>\n",
       "  </tbody>\n",
       "</table>\n",
       "</div>"
      ],
      "text/plain": [
       "   id                                      pipeline_name  search_order  \\\n",
       "0   3  Random Forest Regressor w/ Imputer + Time Seri...             3   \n",
       "1   5  Extra Trees Regressor w/ Imputer + Time Series...             5   \n",
       "2   2  XGBoost Regressor w/ Imputer + Time Series Fea...             2   \n",
       "3   1  Elastic Net Regressor w/ Imputer + Time Series...             1   \n",
       "4   4  Decision Tree Regressor w/ Imputer + Time Seri...             4   \n",
       "5   0           Time Series Baseline Regression Pipeline             0   \n",
       "\n",
       "   mean_cv_score  standard_deviation_cv_score  validation_score  \\\n",
       "0       1.665593                     0.230574          1.665593   \n",
       "1       1.682997                     0.149086          1.682997   \n",
       "2       1.706157                     0.067399          1.706157   \n",
       "3       1.758901                     0.233439          1.758901   \n",
       "4       1.981819                     0.257195          1.981819   \n",
       "5       1.989683                     0.342684          1.989683   \n",
       "\n",
       "   percent_better_than_baseline  high_variance_cv  \\\n",
       "0                     16.288514             False   \n",
       "1                     15.413816             False   \n",
       "2                     14.249810             False   \n",
       "3                     11.598889             False   \n",
       "4                      0.395209             False   \n",
       "5                      0.000000             False   \n",
       "\n",
       "                                          parameters  \n",
       "0  {'Imputer': {'categorical_impute_strategy': 'm...  \n",
       "1  {'Imputer': {'categorical_impute_strategy': 'm...  \n",
       "2  {'Imputer': {'categorical_impute_strategy': 'm...  \n",
       "3  {'Imputer': {'categorical_impute_strategy': 'm...  \n",
       "4  {'Imputer': {'categorical_impute_strategy': 'm...  \n",
       "5  {'Time Series Featurizer': {'time_index': 'dat...  "
      ]
     },
     "execution_count": 21,
     "metadata": {},
     "output_type": "execute_result"
    }
   ],
   "source": [
    "automl.rankings"
   ]
  },
  {
   "cell_type": "markdown",
   "id": "63098e77",
   "metadata": {},
   "source": [
    "The `mean_cv_score` shown here is the median absolute error for predictions calculated using subsets of the training data. To compare our results to our baseline and Featuretools runs from above, we'll have to score the test data.\n",
    "\n",
    "We'll investigate further into pipeline #3, since it's the Random Forest Regressor, which is what we used above."
   ]
  },
  {
   "cell_type": "code",
   "execution_count": 22,
   "id": "86a2d109",
   "metadata": {
    "scrolled": true
   },
   "outputs": [
    {
     "data": {
      "text/plain": [
       "1.6343816942868656"
      ]
     },
     "execution_count": 22,
     "metadata": {},
     "output_type": "execute_result"
    }
   ],
   "source": [
    "pipeline =  automl.get_pipeline(3)\n",
    "pipeline.fit(X_train, y_train)\n",
    "random_forest_evalml_score = pipeline.score(X_test, y_test, ['MedianAE'], X_train, y_train)['MedianAE']\n",
    "random_forest_evalml_score"
   ]
  },
  {
   "cell_type": "markdown",
   "id": "d167d4ac",
   "metadata": {},
   "source": [
    "Our model creatued using EvalML is performing slightly better than our Featuretools run! We can also inspect the feature importances. The top four features are in slightly different orders, but they are the same as our Featuretools run."
   ]
  },
  {
   "cell_type": "code",
   "execution_count": 23,
   "id": "cf775223",
   "metadata": {},
   "outputs": [
    {
     "data": {
      "text/html": [
       "<div>\n",
       "<style scoped>\n",
       "    .dataframe tbody tr th:only-of-type {\n",
       "        vertical-align: middle;\n",
       "    }\n",
       "\n",
       "    .dataframe tbody tr th {\n",
       "        vertical-align: top;\n",
       "    }\n",
       "\n",
       "    .dataframe thead th {\n",
       "        text-align: right;\n",
       "    }\n",
       "</style>\n",
       "<table border=\"1\" class=\"dataframe\">\n",
       "  <thead>\n",
       "    <tr style=\"text-align: right;\">\n",
       "      <th></th>\n",
       "      <th>feature</th>\n",
       "      <th>importance</th>\n",
       "    </tr>\n",
       "  </thead>\n",
       "  <tbody>\n",
       "    <tr>\n",
       "      <th>0</th>\n",
       "      <td>target_rolling_mean</td>\n",
       "      <td>0.469444</td>\n",
       "    </tr>\n",
       "    <tr>\n",
       "      <th>1</th>\n",
       "      <td>target_delay_8</td>\n",
       "      <td>0.417216</td>\n",
       "    </tr>\n",
       "    <tr>\n",
       "      <th>2</th>\n",
       "      <td>date_month</td>\n",
       "      <td>0.055203</td>\n",
       "    </tr>\n",
       "    <tr>\n",
       "      <th>3</th>\n",
       "      <td>target_delay_9</td>\n",
       "      <td>0.019783</td>\n",
       "    </tr>\n",
       "    <tr>\n",
       "      <th>4</th>\n",
       "      <td>target_delay_17</td>\n",
       "      <td>0.008225</td>\n",
       "    </tr>\n",
       "    <tr>\n",
       "      <th>5</th>\n",
       "      <td>target_delay_15</td>\n",
       "      <td>0.005271</td>\n",
       "    </tr>\n",
       "    <tr>\n",
       "      <th>6</th>\n",
       "      <td>target_delay_13</td>\n",
       "      <td>0.004572</td>\n",
       "    </tr>\n",
       "    <tr>\n",
       "      <th>7</th>\n",
       "      <td>target_delay_12</td>\n",
       "      <td>0.004456</td>\n",
       "    </tr>\n",
       "    <tr>\n",
       "      <th>8</th>\n",
       "      <td>target_delay_16</td>\n",
       "      <td>0.003593</td>\n",
       "    </tr>\n",
       "    <tr>\n",
       "      <th>9</th>\n",
       "      <td>target_delay_14</td>\n",
       "      <td>0.003493</td>\n",
       "    </tr>\n",
       "    <tr>\n",
       "      <th>10</th>\n",
       "      <td>target_delay_11</td>\n",
       "      <td>0.003183</td>\n",
       "    </tr>\n",
       "    <tr>\n",
       "      <th>11</th>\n",
       "      <td>target_delay_10</td>\n",
       "      <td>0.002717</td>\n",
       "    </tr>\n",
       "    <tr>\n",
       "      <th>12</th>\n",
       "      <td>date_year</td>\n",
       "      <td>0.002334</td>\n",
       "    </tr>\n",
       "    <tr>\n",
       "      <th>13</th>\n",
       "      <td>date_day_of_week</td>\n",
       "      <td>0.000510</td>\n",
       "    </tr>\n",
       "    <tr>\n",
       "      <th>14</th>\n",
       "      <td>date_hour</td>\n",
       "      <td>0.000000</td>\n",
       "    </tr>\n",
       "  </tbody>\n",
       "</table>\n",
       "</div>"
      ],
      "text/plain": [
       "                feature  importance\n",
       "0   target_rolling_mean    0.469444\n",
       "1        target_delay_8    0.417216\n",
       "2            date_month    0.055203\n",
       "3        target_delay_9    0.019783\n",
       "4       target_delay_17    0.008225\n",
       "5       target_delay_15    0.005271\n",
       "6       target_delay_13    0.004572\n",
       "7       target_delay_12    0.004456\n",
       "8       target_delay_16    0.003593\n",
       "9       target_delay_14    0.003493\n",
       "10      target_delay_11    0.003183\n",
       "11      target_delay_10    0.002717\n",
       "12            date_year    0.002334\n",
       "13     date_day_of_week    0.000510\n",
       "14            date_hour    0.000000"
      ]
     },
     "execution_count": 23,
     "metadata": {},
     "output_type": "execute_result"
    }
   ],
   "source": [
    "pipeline.feature_importance"
   ]
  },
  {
   "cell_type": "markdown",
   "id": "bb952824",
   "metadata": {},
   "source": [
    "We'll also take a look at the baseline pipeline and see how it compares to the baseline pipeline we built ourselves."
   ]
  },
  {
   "cell_type": "code",
   "execution_count": 24,
   "id": "e63599bc",
   "metadata": {},
   "outputs": [
    {
     "data": {
      "text/plain": [
       "2.0357142857142847"
      ]
     },
     "execution_count": 24,
     "metadata": {},
     "output_type": "execute_result"
    }
   ],
   "source": [
    "baseline = automl.get_pipeline(0)\n",
    "baseline.fit(X_train, y_train)\n",
    "baseline_evalml_score = baseline.score(X_test, y_test, ['MedianAE'], X_train, y_train)['MedianAE']\n",
    "baseline_evalml_score"
   ]
  },
  {
   "cell_type": "markdown",
   "id": "bcd49d7b",
   "metadata": {},
   "source": [
    "Indeed, our baseline score from EvalML is very similar to the one we calculated ourselves, and below we can see the feature importance of 1 for the single delayed feature. The other two features with zero importance are side effects of the AutoMLSearch process and were not included in the model itself."
   ]
  },
  {
   "cell_type": "code",
   "execution_count": 25,
   "id": "443e6bde",
   "metadata": {
    "scrolled": true
   },
   "outputs": [
    {
     "data": {
      "text/html": [
       "<div>\n",
       "<style scoped>\n",
       "    .dataframe tbody tr th:only-of-type {\n",
       "        vertical-align: middle;\n",
       "    }\n",
       "\n",
       "    .dataframe tbody tr th {\n",
       "        vertical-align: top;\n",
       "    }\n",
       "\n",
       "    .dataframe thead th {\n",
       "        text-align: right;\n",
       "    }\n",
       "</style>\n",
       "<table border=\"1\" class=\"dataframe\">\n",
       "  <thead>\n",
       "    <tr style=\"text-align: right;\">\n",
       "      <th></th>\n",
       "      <th>feature</th>\n",
       "      <th>importance</th>\n",
       "    </tr>\n",
       "  </thead>\n",
       "  <tbody>\n",
       "    <tr>\n",
       "      <th>0</th>\n",
       "      <td>date</td>\n",
       "      <td>0.0</td>\n",
       "    </tr>\n",
       "  </tbody>\n",
       "</table>\n",
       "</div>"
      ],
      "text/plain": [
       "  feature  importance\n",
       "0    date         0.0"
      ]
     },
     "execution_count": 25,
     "metadata": {},
     "output_type": "execute_result"
    }
   ],
   "source": [
    "baseline.feature_importance"
   ]
  },
  {
   "cell_type": "markdown",
   "id": "46880dcf",
   "metadata": {},
   "source": [
    "### Visualizing Predictions\n",
    "Beyond our use of median absolute error for evaluating models, we can also use our eyes! Here are two graphs of the predictions."
   ]
  },
  {
   "cell_type": "code",
   "execution_count": 26,
   "id": "a1cac931",
   "metadata": {
    "scrolled": false
   },
   "outputs": [
    {
     "data": {
      "image/jpeg": "[encoded data removed]",
      "text/plain": [
       "<IPython.core.display.Image object>"
      ]
     },
     "execution_count": 26,
     "metadata": {},
     "output_type": "execute_result"
    }
   ],
   "source": [
    "fig = evalml.model_understanding.graph_prediction_vs_actual_over_time(pipeline, \n",
    "                                                                      X_test, \n",
    "                                                                      y_test, \n",
    "                                                                      X_train, \n",
    "                                                                      y_train, \n",
    "                                                                      dates=X_test['date'])\n",
    "fig.update_layout(title=\"Random Forest Regressor Predictions vs target over time\")\n",
    "fig.write_image(\"figures/random_forest.jpeg\")\n",
    "Image(filename=\"figures/random_forest.jpeg\")"
   ]
  },
  {
   "cell_type": "code",
   "execution_count": 27,
   "id": "077f9f61",
   "metadata": {
    "scrolled": true
   },
   "outputs": [
    {
     "data": {
      "image/jpeg": "[encoded data removed]",
      "text/plain": [
       "<IPython.core.display.Image object>"
      ]
     },
     "execution_count": 27,
     "metadata": {},
     "output_type": "execute_result"
    }
   ],
   "source": [
    "fig = evalml.model_understanding.graph_prediction_vs_actual_over_time(baseline, \n",
    "                                                                      X_test, \n",
    "                                                                      y_test, \n",
    "                                                                      X_train, \n",
    "                                                                      y_train, \n",
    "                                                                      dates=X_test['date'])\n",
    "fig.update_layout(title=\"Baseline Predictions vs target over time\")\n",
    "fig.write_image(\"figures/baseline.jpeg\")\n",
    "Image(filename=\"figures/baseline.jpeg\")"
   ]
  },
  {
   "cell_type": "markdown",
   "id": "ff5fbb5f",
   "metadata": {},
   "source": [
    "Notice how the prediction for the baseline run is essentially a shifted version of the target data. This makes sense, as the only feature used was a delayed version of the target data. Using more features--most specifically the rolling mean--we get predictions that are better, because they follow the rolling mean more tightly.\n",
    "\n",
    "## Summarize Results\n",
    "\n",
    "Below is a comparison of EvalML's model performance against the two manual runs. We can see that the manual and EvalML baseline models were nearly identical, and the models that employed feature engineering were both better, though EvalML slightly outperformed the Featuretools manual run.\n",
    "\n",
    "From this we can see that, for time series problems, Featuretools and EvalML can improve model performance while also simplifying the steps to built the model."
   ]
  },
  {
   "cell_type": "code",
   "execution_count": 28,
   "id": "56766c3e",
   "metadata": {
    "scrolled": true
   },
   "outputs": [
    {
     "data": {
      "image/png": "[encoded data removed]",
      "text/plain": [
       "<Figure size 640x480 with 1 Axes>"
      ]
     },
     "metadata": {},
     "output_type": "display_data"
    }
   ],
   "source": [
    "plot_model_performances(baseline_evalml_score, random_forest_evalml_score, baseline_score, featuretools_score)"
   ]
  }
 ],
 "metadata": {
  "kernelspec": {
   "display_name": "Python 3 (ipykernel)",
   "language": "python",
   "name": "python3"
  },
  "language_info": {
   "codemirror_mode": {
    "name": "ipython",
    "version": 3
   },
   "file_extension": ".py",
   "mimetype": "text/x-python",
   "name": "python",
   "nbconvert_exporter": "python",
   "pygments_lexer": "ipython3",
   "version": "3.8.2"
  }
 },
 "nbformat": 4,
 "nbformat_minor": 5
}
