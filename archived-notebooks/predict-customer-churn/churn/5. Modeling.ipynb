{
 "cells": [
  {
   "cell_type": "markdown",
   "metadata": {},
   "source": [
    "# Introduction: Modeling\n",
    "\n",
    "The last step in the machine learning pipeline is also where the value is derived. After we have developed the labels, each with its own cutoff time, we need to train a model to map from the features to predict the label. \n",
    "\n",
    "In this notebook, we will use the feature matrices and label times to train and test a machine learning model. We will work through a single prediction problem, predicting on the first of each month which customers will churn during the month with churn defined as no active membership for more than 31 days, a lead time of 1 month, and a prediction window of 1 month.\n",
    "\n",
    "The general process of modeling is shown below:\n",
    "\n",
    "![](../images/modeling_process.png)\n",
    "\n",
    "## Approach\n",
    "\n",
    "Our basic machine learning approach is:\n",
    "\n",
    "1. Prepare data for machine learning\n",
    "    * Fill in missing values with median imputation\n",
    "    * Encoding of categorical values\n",
    "2. Split data into training and hold out testing based on time \n",
    "3. Evaluate a baseline logistic regression model\n",
    "    * Also try a naive baseline for comparison\n",
    "4. Try a non-linear more capable classifier, the Random Forest \n",
    "    * Use mostly default hyperparameters\n",
    "    * Evaluate on hold-out testing data\n",
    "5. Inspect predictions to determine if business need has been met\n",
    "    * Precision recall curve used to tune threshold\n",
    "    * Confusion matrix to assess predictions\n",
    "    * Determine business value\n",
    "6. Optimizer model automatically using an auto-ml library\n",
    "    * Using TPOT although many options exist\n",
    "    \n",
    "The final outcome is an optimized model that solves the business problem of predicting customer churn with given parameters. The model can be deployed - used to make predictions on new data"
   ]
  },
  {
   "cell_type": "code",
   "execution_count": 1,
   "metadata": {
    "ExecuteTime": {
     "end_time": "2018-11-01T17:25:28.026449Z",
     "start_time": "2018-11-01T17:25:27.784837Z"
    }
   },
   "outputs": [],
   "source": [
    "import os\n",
    "\n",
    "import pandas as pd\n",
    "import numpy as np\n",
    "\n",
    "import warnings\n",
    "warnings.simplefilter('ignore')\n",
    "\n",
    "CWD = os.getcwd()\n",
    "PARTITION_DIR = f'{CWD}/data/partitions/'"
   ]
  },
  {
   "cell_type": "code",
   "execution_count": 2,
   "metadata": {
    "ExecuteTime": {
     "end_time": "2018-11-01T17:25:30.043651Z",
     "start_time": "2018-11-01T17:25:28.027832Z"
    }
   },
   "outputs": [
    {
     "data": {
      "text/html": [
       "<div>\n",
       "<style scoped>\n",
       "    .dataframe tbody tr th:only-of-type {\n",
       "        vertical-align: middle;\n",
       "    }\n",
       "\n",
       "    .dataframe tbody tr th {\n",
       "        vertical-align: top;\n",
       "    }\n",
       "\n",
       "    .dataframe thead th {\n",
       "        text-align: right;\n",
       "    }\n",
       "</style>\n",
       "<table border=\"1\" class=\"dataframe\">\n",
       "  <thead>\n",
       "    <tr style=\"text-align: right;\">\n",
       "      <th></th>\n",
       "      <th>msno</th>\n",
       "      <th>time</th>\n",
       "      <th>city</th>\n",
       "      <th>bd</th>\n",
       "      <th>gender</th>\n",
       "      <th>registered_via</th>\n",
       "      <th>AVG_TIME_BETWEEN(transactions.transaction_date)</th>\n",
       "      <th>COUNT(transactions)</th>\n",
       "      <th>LAST(transactions.actual_amount_paid)</th>\n",
       "      <th>LAST(transactions.daily_price)</th>\n",
       "      <th>...</th>\n",
       "      <th>DAY(LAST(transactions.transaction_date))</th>\n",
       "      <th>IS_WEEKEND(LAST(logs.date))</th>\n",
       "      <th>IS_WEEKEND(LAST(transactions.membership_expire_date))</th>\n",
       "      <th>IS_WEEKEND(LAST(transactions.transaction_date))</th>\n",
       "      <th>MONTH(LAST(logs.date))</th>\n",
       "      <th>MONTH(LAST(transactions.membership_expire_date))</th>\n",
       "      <th>MONTH(LAST(transactions.transaction_date))</th>\n",
       "      <th>label</th>\n",
       "      <th>days_to_churn</th>\n",
       "      <th>churn_date</th>\n",
       "    </tr>\n",
       "  </thead>\n",
       "  <tbody>\n",
       "    <tr>\n",
       "      <th>0</th>\n",
       "      <td>+0xzW79gt3V4AP3Y1lMKAYfHtlZWJ5WUempHeYOqLnw=</td>\n",
       "      <td>2015-07-01</td>\n",
       "      <td>NaN</td>\n",
       "      <td>NaN</td>\n",
       "      <td>NaN</td>\n",
       "      <td>NaN</td>\n",
       "      <td>NaN</td>\n",
       "      <td>0</td>\n",
       "      <td>NaN</td>\n",
       "      <td>NaN</td>\n",
       "      <td>...</td>\n",
       "      <td>NaN</td>\n",
       "      <td>NaN</td>\n",
       "      <td>NaN</td>\n",
       "      <td>NaN</td>\n",
       "      <td>NaN</td>\n",
       "      <td>NaN</td>\n",
       "      <td>NaN</td>\n",
       "      <td>NaN</td>\n",
       "      <td>NaN</td>\n",
       "      <td>NaN</td>\n",
       "    </tr>\n",
       "    <tr>\n",
       "      <th>1</th>\n",
       "      <td>+0xzW79gt3V4AP3Y1lMKAYfHtlZWJ5WUempHeYOqLnw=</td>\n",
       "      <td>2015-08-01</td>\n",
       "      <td>NaN</td>\n",
       "      <td>NaN</td>\n",
       "      <td>NaN</td>\n",
       "      <td>NaN</td>\n",
       "      <td>NaN</td>\n",
       "      <td>0</td>\n",
       "      <td>NaN</td>\n",
       "      <td>NaN</td>\n",
       "      <td>...</td>\n",
       "      <td>NaN</td>\n",
       "      <td>NaN</td>\n",
       "      <td>NaN</td>\n",
       "      <td>NaN</td>\n",
       "      <td>NaN</td>\n",
       "      <td>NaN</td>\n",
       "      <td>NaN</td>\n",
       "      <td>NaN</td>\n",
       "      <td>NaN</td>\n",
       "      <td>NaN</td>\n",
       "    </tr>\n",
       "    <tr>\n",
       "      <th>2</th>\n",
       "      <td>+1pSZrXcWvWf7GNJqXCaPQEx6NNjQ1VlyAgXEszTIRs=</td>\n",
       "      <td>2016-08-01</td>\n",
       "      <td>1.0</td>\n",
       "      <td>0.0</td>\n",
       "      <td>NaN</td>\n",
       "      <td>4.0</td>\n",
       "      <td>NaN</td>\n",
       "      <td>0</td>\n",
       "      <td>NaN</td>\n",
       "      <td>NaN</td>\n",
       "      <td>...</td>\n",
       "      <td>NaN</td>\n",
       "      <td>False</td>\n",
       "      <td>False</td>\n",
       "      <td>False</td>\n",
       "      <td>5.0</td>\n",
       "      <td>NaN</td>\n",
       "      <td>NaN</td>\n",
       "      <td>0.0</td>\n",
       "      <td>66.0</td>\n",
       "      <td>NaN</td>\n",
       "    </tr>\n",
       "    <tr>\n",
       "      <th>3</th>\n",
       "      <td>+1pSZrXcWvWf7GNJqXCaPQEx6NNjQ1VlyAgXEszTIRs=</td>\n",
       "      <td>2016-09-01</td>\n",
       "      <td>1.0</td>\n",
       "      <td>0.0</td>\n",
       "      <td>NaN</td>\n",
       "      <td>4.0</td>\n",
       "      <td>NaN</td>\n",
       "      <td>1</td>\n",
       "      <td>0.0</td>\n",
       "      <td>0.0</td>\n",
       "      <td>...</td>\n",
       "      <td>30.0</td>\n",
       "      <td>False</td>\n",
       "      <td>True</td>\n",
       "      <td>False</td>\n",
       "      <td>5.0</td>\n",
       "      <td>9.0</td>\n",
       "      <td>8.0</td>\n",
       "      <td>1.0</td>\n",
       "      <td>35.0</td>\n",
       "      <td>2016-10-06</td>\n",
       "    </tr>\n",
       "    <tr>\n",
       "      <th>4</th>\n",
       "      <td>+1pSZrXcWvWf7GNJqXCaPQEx6NNjQ1VlyAgXEszTIRs=</td>\n",
       "      <td>2016-10-01</td>\n",
       "      <td>1.0</td>\n",
       "      <td>0.0</td>\n",
       "      <td>NaN</td>\n",
       "      <td>4.0</td>\n",
       "      <td>NaN</td>\n",
       "      <td>1</td>\n",
       "      <td>0.0</td>\n",
       "      <td>0.0</td>\n",
       "      <td>...</td>\n",
       "      <td>30.0</td>\n",
       "      <td>False</td>\n",
       "      <td>True</td>\n",
       "      <td>False</td>\n",
       "      <td>5.0</td>\n",
       "      <td>9.0</td>\n",
       "      <td>8.0</td>\n",
       "      <td>0.0</td>\n",
       "      <td>5.0</td>\n",
       "      <td>NaN</td>\n",
       "    </tr>\n",
       "  </tbody>\n",
       "</table>\n",
       "<p>5 rows × 321 columns</p>\n",
       "</div>"
      ],
      "text/plain": [
       "                                           msno        time  city   bd gender  \\\n",
       "0  +0xzW79gt3V4AP3Y1lMKAYfHtlZWJ5WUempHeYOqLnw=  2015-07-01   NaN  NaN    NaN   \n",
       "1  +0xzW79gt3V4AP3Y1lMKAYfHtlZWJ5WUempHeYOqLnw=  2015-08-01   NaN  NaN    NaN   \n",
       "2  +1pSZrXcWvWf7GNJqXCaPQEx6NNjQ1VlyAgXEszTIRs=  2016-08-01   1.0  0.0    NaN   \n",
       "3  +1pSZrXcWvWf7GNJqXCaPQEx6NNjQ1VlyAgXEszTIRs=  2016-09-01   1.0  0.0    NaN   \n",
       "4  +1pSZrXcWvWf7GNJqXCaPQEx6NNjQ1VlyAgXEszTIRs=  2016-10-01   1.0  0.0    NaN   \n",
       "\n",
       "   registered_via  AVG_TIME_BETWEEN(transactions.transaction_date)  \\\n",
       "0             NaN                                              NaN   \n",
       "1             NaN                                              NaN   \n",
       "2             4.0                                              NaN   \n",
       "3             4.0                                              NaN   \n",
       "4             4.0                                              NaN   \n",
       "\n",
       "   COUNT(transactions)  LAST(transactions.actual_amount_paid)  \\\n",
       "0                    0                                    NaN   \n",
       "1                    0                                    NaN   \n",
       "2                    0                                    NaN   \n",
       "3                    1                                    0.0   \n",
       "4                    1                                    0.0   \n",
       "\n",
       "   LAST(transactions.daily_price)  ...  \\\n",
       "0                             NaN  ...   \n",
       "1                             NaN  ...   \n",
       "2                             NaN  ...   \n",
       "3                             0.0  ...   \n",
       "4                             0.0  ...   \n",
       "\n",
       "  DAY(LAST(transactions.transaction_date)) IS_WEEKEND(LAST(logs.date))  \\\n",
       "0                                      NaN                         NaN   \n",
       "1                                      NaN                         NaN   \n",
       "2                                      NaN                       False   \n",
       "3                                     30.0                       False   \n",
       "4                                     30.0                       False   \n",
       "\n",
       "   IS_WEEKEND(LAST(transactions.membership_expire_date))  \\\n",
       "0                                                NaN       \n",
       "1                                                NaN       \n",
       "2                                              False       \n",
       "3                                               True       \n",
       "4                                               True       \n",
       "\n",
       "   IS_WEEKEND(LAST(transactions.transaction_date))  MONTH(LAST(logs.date))  \\\n",
       "0                                              NaN                     NaN   \n",
       "1                                              NaN                     NaN   \n",
       "2                                            False                     5.0   \n",
       "3                                            False                     5.0   \n",
       "4                                            False                     5.0   \n",
       "\n",
       "   MONTH(LAST(transactions.membership_expire_date))  \\\n",
       "0                                               NaN   \n",
       "1                                               NaN   \n",
       "2                                               NaN   \n",
       "3                                               9.0   \n",
       "4                                               9.0   \n",
       "\n",
       "   MONTH(LAST(transactions.transaction_date))  label  days_to_churn  \\\n",
       "0                                         NaN    NaN            NaN   \n",
       "1                                         NaN    NaN            NaN   \n",
       "2                                         NaN    0.0           66.0   \n",
       "3                                         8.0    1.0           35.0   \n",
       "4                                         8.0    0.0            5.0   \n",
       "\n",
       "   churn_date  \n",
       "0         NaN  \n",
       "1         NaN  \n",
       "2         NaN  \n",
       "3  2016-10-06  \n",
       "4         NaN  \n",
       "\n",
       "[5 rows x 321 columns]"
      ]
     },
     "execution_count": 2,
     "metadata": {},
     "output_type": "execute_result"
    }
   ],
   "source": [
    "p7_fm = pd.read_csv(f'{PARTITION_DIR}/p7/MS-31_feature_matrix.csv')\n",
    "p7_fm.head()"
   ]
  },
  {
   "cell_type": "markdown",
   "metadata": {},
   "source": [
    "### Retrieve Data\n",
    "\n",
    "Normally for a problem of this size, all of the data would be stored in AWS S3, but for this example we have stored the data locally. We'll retrieve 20 partitions of feature matrices created in previous notebooks. For this problem, we'll use a lead offset of 1 month meaning that our predictions are made one month in advance. Adjsting this value significantly affects the performance because it is harder for the model to learn meaningful relationships farther out from the end of the features (which are determined by the cutoff time)."
   ]
  },
  {
   "cell_type": "code",
   "execution_count": 3,
   "metadata": {
    "ExecuteTime": {
     "end_time": "2018-11-02T14:17:50.945407Z",
     "start_time": "2018-11-02T14:17:50.941935Z"
    }
   },
   "outputs": [],
   "source": [
    "def retrieve_data(partition_num, label_type='MS-31'):\n",
    "    \"\"\"Retrieve features and labels and merge. Lead periods is the number of offsets\"\"\"\n",
    "\n",
    "    # Read in features and labels\n",
    "    fm = pd.read_csv(f'{PARTITION_DIR}/p{partition_num}/{label_type}_feature_matrix.csv', low_memory=False).\\\n",
    "        drop(columns=['label', 'days_to_churn', 'churn_date'])\n",
    "    labels = pd.read_csv(\n",
    "        f'{PARTITION_DIR}/p{partition_num}/{label_type}_labels.csv', low_memory=False)\n",
    "\n",
    "    # Merge together features and labels\n",
    "    feature_matrix = fm.merge(labels, on=[\n",
    "                              'msno', 'time'], how='inner').sort_values(['msno', 'time'])\n",
    "\n",
    "    return feature_matrix"
   ]
  },
  {
   "cell_type": "code",
   "execution_count": 4,
   "metadata": {},
   "outputs": [
    {
     "data": {
      "text/html": [
       "<div>\n",
       "<style scoped>\n",
       "    .dataframe tbody tr th:only-of-type {\n",
       "        vertical-align: middle;\n",
       "    }\n",
       "\n",
       "    .dataframe tbody tr th {\n",
       "        vertical-align: top;\n",
       "    }\n",
       "\n",
       "    .dataframe thead th {\n",
       "        text-align: right;\n",
       "    }\n",
       "</style>\n",
       "<table border=\"1\" class=\"dataframe\">\n",
       "  <thead>\n",
       "    <tr style=\"text-align: right;\">\n",
       "      <th></th>\n",
       "      <th>msno</th>\n",
       "      <th>time</th>\n",
       "      <th>city</th>\n",
       "      <th>bd</th>\n",
       "      <th>gender</th>\n",
       "      <th>registered_via</th>\n",
       "      <th>AVG_TIME_BETWEEN(transactions.transaction_date)</th>\n",
       "      <th>COUNT(transactions)</th>\n",
       "      <th>LAST(transactions.actual_amount_paid)</th>\n",
       "      <th>LAST(transactions.daily_price)</th>\n",
       "      <th>...</th>\n",
       "      <th>DAY(LAST(transactions.transaction_date))</th>\n",
       "      <th>IS_WEEKEND(LAST(logs.date))</th>\n",
       "      <th>IS_WEEKEND(LAST(transactions.membership_expire_date))</th>\n",
       "      <th>IS_WEEKEND(LAST(transactions.transaction_date))</th>\n",
       "      <th>MONTH(LAST(logs.date))</th>\n",
       "      <th>MONTH(LAST(transactions.membership_expire_date))</th>\n",
       "      <th>MONTH(LAST(transactions.transaction_date))</th>\n",
       "      <th>label</th>\n",
       "      <th>days_to_churn</th>\n",
       "      <th>churn_date</th>\n",
       "    </tr>\n",
       "  </thead>\n",
       "  <tbody>\n",
       "    <tr>\n",
       "      <th>0</th>\n",
       "      <td>+0kEcWM5x7HtJeNh997Sb8I02Gkw3qwq/fkpA4ZMU34=</td>\n",
       "      <td>2015-01-01</td>\n",
       "      <td>1.0</td>\n",
       "      <td>0.0</td>\n",
       "      <td>NaN</td>\n",
       "      <td>3.0</td>\n",
       "      <td>NaN</td>\n",
       "      <td>0</td>\n",
       "      <td>NaN</td>\n",
       "      <td>NaN</td>\n",
       "      <td>...</td>\n",
       "      <td>NaN</td>\n",
       "      <td>False</td>\n",
       "      <td>False</td>\n",
       "      <td>False</td>\n",
       "      <td>1.0</td>\n",
       "      <td>NaN</td>\n",
       "      <td>NaN</td>\n",
       "      <td>0.0</td>\n",
       "      <td>193.0</td>\n",
       "      <td>NaN</td>\n",
       "    </tr>\n",
       "    <tr>\n",
       "      <th>1</th>\n",
       "      <td>+0kEcWM5x7HtJeNh997Sb8I02Gkw3qwq/fkpA4ZMU34=</td>\n",
       "      <td>2015-02-01</td>\n",
       "      <td>1.0</td>\n",
       "      <td>0.0</td>\n",
       "      <td>NaN</td>\n",
       "      <td>3.0</td>\n",
       "      <td>NaN</td>\n",
       "      <td>1</td>\n",
       "      <td>149.0</td>\n",
       "      <td>4.966667</td>\n",
       "      <td>...</td>\n",
       "      <td>18.0</td>\n",
       "      <td>True</td>\n",
       "      <td>False</td>\n",
       "      <td>True</td>\n",
       "      <td>1.0</td>\n",
       "      <td>2.0</td>\n",
       "      <td>1.0</td>\n",
       "      <td>0.0</td>\n",
       "      <td>162.0</td>\n",
       "      <td>NaN</td>\n",
       "    </tr>\n",
       "    <tr>\n",
       "      <th>2</th>\n",
       "      <td>+0kEcWM5x7HtJeNh997Sb8I02Gkw3qwq/fkpA4ZMU34=</td>\n",
       "      <td>2015-03-01</td>\n",
       "      <td>1.0</td>\n",
       "      <td>0.0</td>\n",
       "      <td>NaN</td>\n",
       "      <td>3.0</td>\n",
       "      <td>3024000.0</td>\n",
       "      <td>2</td>\n",
       "      <td>149.0</td>\n",
       "      <td>4.966667</td>\n",
       "      <td>...</td>\n",
       "      <td>22.0</td>\n",
       "      <td>True</td>\n",
       "      <td>False</td>\n",
       "      <td>True</td>\n",
       "      <td>3.0</td>\n",
       "      <td>3.0</td>\n",
       "      <td>2.0</td>\n",
       "      <td>0.0</td>\n",
       "      <td>134.0</td>\n",
       "      <td>NaN</td>\n",
       "    </tr>\n",
       "    <tr>\n",
       "      <th>3</th>\n",
       "      <td>+0kEcWM5x7HtJeNh997Sb8I02Gkw3qwq/fkpA4ZMU34=</td>\n",
       "      <td>2015-04-01</td>\n",
       "      <td>1.0</td>\n",
       "      <td>0.0</td>\n",
       "      <td>NaN</td>\n",
       "      <td>3.0</td>\n",
       "      <td>2980800.0</td>\n",
       "      <td>3</td>\n",
       "      <td>149.0</td>\n",
       "      <td>4.966667</td>\n",
       "      <td>...</td>\n",
       "      <td>28.0</td>\n",
       "      <td>False</td>\n",
       "      <td>False</td>\n",
       "      <td>True</td>\n",
       "      <td>4.0</td>\n",
       "      <td>4.0</td>\n",
       "      <td>3.0</td>\n",
       "      <td>0.0</td>\n",
       "      <td>103.0</td>\n",
       "      <td>NaN</td>\n",
       "    </tr>\n",
       "    <tr>\n",
       "      <th>4</th>\n",
       "      <td>+0kEcWM5x7HtJeNh997Sb8I02Gkw3qwq/fkpA4ZMU34=</td>\n",
       "      <td>2015-05-01</td>\n",
       "      <td>1.0</td>\n",
       "      <td>0.0</td>\n",
       "      <td>NaN</td>\n",
       "      <td>3.0</td>\n",
       "      <td>2980800.0</td>\n",
       "      <td>3</td>\n",
       "      <td>149.0</td>\n",
       "      <td>4.966667</td>\n",
       "      <td>...</td>\n",
       "      <td>28.0</td>\n",
       "      <td>False</td>\n",
       "      <td>False</td>\n",
       "      <td>True</td>\n",
       "      <td>4.0</td>\n",
       "      <td>4.0</td>\n",
       "      <td>3.0</td>\n",
       "      <td>0.0</td>\n",
       "      <td>73.0</td>\n",
       "      <td>NaN</td>\n",
       "    </tr>\n",
       "  </tbody>\n",
       "</table>\n",
       "<p>5 rows × 321 columns</p>\n",
       "</div>"
      ],
      "text/plain": [
       "                                           msno        time  city   bd gender  \\\n",
       "0  +0kEcWM5x7HtJeNh997Sb8I02Gkw3qwq/fkpA4ZMU34=  2015-01-01   1.0  0.0    NaN   \n",
       "1  +0kEcWM5x7HtJeNh997Sb8I02Gkw3qwq/fkpA4ZMU34=  2015-02-01   1.0  0.0    NaN   \n",
       "2  +0kEcWM5x7HtJeNh997Sb8I02Gkw3qwq/fkpA4ZMU34=  2015-03-01   1.0  0.0    NaN   \n",
       "3  +0kEcWM5x7HtJeNh997Sb8I02Gkw3qwq/fkpA4ZMU34=  2015-04-01   1.0  0.0    NaN   \n",
       "4  +0kEcWM5x7HtJeNh997Sb8I02Gkw3qwq/fkpA4ZMU34=  2015-05-01   1.0  0.0    NaN   \n",
       "\n",
       "   registered_via  AVG_TIME_BETWEEN(transactions.transaction_date)  \\\n",
       "0             3.0                                              NaN   \n",
       "1             3.0                                              NaN   \n",
       "2             3.0                                        3024000.0   \n",
       "3             3.0                                        2980800.0   \n",
       "4             3.0                                        2980800.0   \n",
       "\n",
       "   COUNT(transactions)  LAST(transactions.actual_amount_paid)  \\\n",
       "0                    0                                    NaN   \n",
       "1                    1                                  149.0   \n",
       "2                    2                                  149.0   \n",
       "3                    3                                  149.0   \n",
       "4                    3                                  149.0   \n",
       "\n",
       "   LAST(transactions.daily_price)  ...  \\\n",
       "0                             NaN  ...   \n",
       "1                        4.966667  ...   \n",
       "2                        4.966667  ...   \n",
       "3                        4.966667  ...   \n",
       "4                        4.966667  ...   \n",
       "\n",
       "  DAY(LAST(transactions.transaction_date)) IS_WEEKEND(LAST(logs.date))  \\\n",
       "0                                      NaN                       False   \n",
       "1                                     18.0                        True   \n",
       "2                                     22.0                        True   \n",
       "3                                     28.0                       False   \n",
       "4                                     28.0                       False   \n",
       "\n",
       "   IS_WEEKEND(LAST(transactions.membership_expire_date))  \\\n",
       "0                                              False       \n",
       "1                                              False       \n",
       "2                                              False       \n",
       "3                                              False       \n",
       "4                                              False       \n",
       "\n",
       "   IS_WEEKEND(LAST(transactions.transaction_date))  MONTH(LAST(logs.date))  \\\n",
       "0                                            False                     1.0   \n",
       "1                                             True                     1.0   \n",
       "2                                             True                     3.0   \n",
       "3                                             True                     4.0   \n",
       "4                                             True                     4.0   \n",
       "\n",
       "   MONTH(LAST(transactions.membership_expire_date))  \\\n",
       "0                                               NaN   \n",
       "1                                               2.0   \n",
       "2                                               3.0   \n",
       "3                                               4.0   \n",
       "4                                               4.0   \n",
       "\n",
       "   MONTH(LAST(transactions.transaction_date))  label  days_to_churn  \\\n",
       "0                                         NaN    0.0          193.0   \n",
       "1                                         1.0    0.0          162.0   \n",
       "2                                         2.0    0.0          134.0   \n",
       "3                                         3.0    0.0          103.0   \n",
       "4                                         3.0    0.0           73.0   \n",
       "\n",
       "   churn_date  \n",
       "0         NaN  \n",
       "1         NaN  \n",
       "2         NaN  \n",
       "3         NaN  \n",
       "4         NaN  \n",
       "\n",
       "[5 rows x 321 columns]"
      ]
     },
     "execution_count": 4,
     "metadata": {},
     "output_type": "execute_result"
    }
   ],
   "source": [
    "fm = retrieve_data(5)\n",
    "fm.head()"
   ]
  },
  {
   "cell_type": "markdown",
   "metadata": {},
   "source": [
    "The next cell retrieves a number of feature matrices for training and for testing."
   ]
  },
  {
   "cell_type": "code",
   "execution_count": 5,
   "metadata": {
    "ExecuteTime": {
     "end_time": "2018-11-02T14:18:24.842350Z",
     "start_time": "2018-11-02T14:17:56.142709Z"
    }
   },
   "outputs": [
    {
     "name": "stdout",
     "output_type": "stream",
     "text": [
      "95.0% complete.\r"
     ]
    },
    {
     "data": {
      "text/plain": [
       "(312333, 321)"
      ]
     },
     "execution_count": 5,
     "metadata": {},
     "output_type": "execute_result"
    }
   ],
   "source": [
    "# Set number of train and testing feature matrices\n",
    "fms_to_get = 20\n",
    "\n",
    "# Retrieve feature matrices from disk\n",
    "fms = []\n",
    "for i, r in enumerate(range(fms_to_get)):\n",
    "    fm = retrieve_data(r)\n",
    "    print(f'{round(100 * (i / fms_to_get), 2)}% complete.', end='\\r')\n",
    "    fms.append(fm)\n",
    "\n",
    "# Join together and drop rows with unknown label\n",
    "feature_matrix = pd.concat(fms)\n",
    "feature_matrix = feature_matrix[~feature_matrix['label'].isna()].sort_values([\n",
    "    'msno', 'time'])\n",
    "\n",
    "# Drop rows with no previous transactions\n",
    "feature_matrix = feature_matrix[~feature_matrix['TIME_SINCE_LAST(transactions.transaction_date)'].isna(\n",
    ")]\n",
    "\n",
    "feature_matrix.shape"
   ]
  },
  {
   "cell_type": "markdown",
   "metadata": {},
   "source": [
    "The cell below converts the boolean types to integers for use in a machine learning model. Most of the boolean indicate whether or not all the values for customer were True (`All` primitive) or if the date was a weekend (`IsWeekend` primitive)."
   ]
  },
  {
   "cell_type": "code",
   "execution_count": 6,
   "metadata": {
    "ExecuteTime": {
     "end_time": "2018-11-02T14:18:45.683991Z",
     "start_time": "2018-11-02T14:18:30.256616Z"
    }
   },
   "outputs": [],
   "source": [
    "feature_matrix = feature_matrix.replace({False: 0, True: 1})"
   ]
  },
  {
   "cell_type": "code",
   "execution_count": 7,
   "metadata": {
    "ExecuteTime": {
     "end_time": "2018-11-02T14:18:55.294876Z",
     "start_time": "2018-11-02T14:18:51.081353Z"
    }
   },
   "outputs": [
    {
     "data": {
      "text/html": [
       "<div>\n",
       "<style scoped>\n",
       "    .dataframe tbody tr th:only-of-type {\n",
       "        vertical-align: middle;\n",
       "    }\n",
       "\n",
       "    .dataframe tbody tr th {\n",
       "        vertical-align: top;\n",
       "    }\n",
       "\n",
       "    .dataframe thead th {\n",
       "        text-align: right;\n",
       "    }\n",
       "</style>\n",
       "<table border=\"1\" class=\"dataframe\">\n",
       "  <thead>\n",
       "    <tr style=\"text-align: right;\">\n",
       "      <th></th>\n",
       "      <th>IS_WEEKEND(registration_init_time)</th>\n",
       "      <th>LAST(transactions.IS_WEEKEND(membership_expire_date))</th>\n",
       "      <th>LAST(transactions.IS_WEEKEND(transaction_date))</th>\n",
       "      <th>LAST(logs.IS_WEEKEND(date))</th>\n",
       "      <th>IS_WEEKEND(LAST(logs.date))</th>\n",
       "      <th>IS_WEEKEND(LAST(transactions.membership_expire_date))</th>\n",
       "      <th>IS_WEEKEND(LAST(transactions.transaction_date))</th>\n",
       "    </tr>\n",
       "  </thead>\n",
       "  <tbody>\n",
       "    <tr>\n",
       "      <th>1</th>\n",
       "      <td>0.0</td>\n",
       "      <td>0.0</td>\n",
       "      <td>0.0</td>\n",
       "      <td>NaN</td>\n",
       "      <td>0.0</td>\n",
       "      <td>0.0</td>\n",
       "      <td>0.0</td>\n",
       "    </tr>\n",
       "    <tr>\n",
       "      <th>2</th>\n",
       "      <td>0.0</td>\n",
       "      <td>0.0</td>\n",
       "      <td>0.0</td>\n",
       "      <td>0.0</td>\n",
       "      <td>0.0</td>\n",
       "      <td>0.0</td>\n",
       "      <td>0.0</td>\n",
       "    </tr>\n",
       "    <tr>\n",
       "      <th>3</th>\n",
       "      <td>0.0</td>\n",
       "      <td>1.0</td>\n",
       "      <td>0.0</td>\n",
       "      <td>0.0</td>\n",
       "      <td>0.0</td>\n",
       "      <td>1.0</td>\n",
       "      <td>0.0</td>\n",
       "    </tr>\n",
       "    <tr>\n",
       "      <th>4</th>\n",
       "      <td>0.0</td>\n",
       "      <td>0.0</td>\n",
       "      <td>1.0</td>\n",
       "      <td>0.0</td>\n",
       "      <td>0.0</td>\n",
       "      <td>0.0</td>\n",
       "      <td>1.0</td>\n",
       "    </tr>\n",
       "    <tr>\n",
       "      <th>5</th>\n",
       "      <td>0.0</td>\n",
       "      <td>0.0</td>\n",
       "      <td>0.0</td>\n",
       "      <td>0.0</td>\n",
       "      <td>0.0</td>\n",
       "      <td>0.0</td>\n",
       "      <td>0.0</td>\n",
       "    </tr>\n",
       "  </tbody>\n",
       "</table>\n",
       "</div>"
      ],
      "text/plain": [
       "   IS_WEEKEND(registration_init_time)  \\\n",
       "1                                 0.0   \n",
       "2                                 0.0   \n",
       "3                                 0.0   \n",
       "4                                 0.0   \n",
       "5                                 0.0   \n",
       "\n",
       "   LAST(transactions.IS_WEEKEND(membership_expire_date))  \\\n",
       "1                                                0.0       \n",
       "2                                                0.0       \n",
       "3                                                1.0       \n",
       "4                                                0.0       \n",
       "5                                                0.0       \n",
       "\n",
       "   LAST(transactions.IS_WEEKEND(transaction_date))  \\\n",
       "1                                              0.0   \n",
       "2                                              0.0   \n",
       "3                                              0.0   \n",
       "4                                              1.0   \n",
       "5                                              0.0   \n",
       "\n",
       "   LAST(logs.IS_WEEKEND(date))  IS_WEEKEND(LAST(logs.date))  \\\n",
       "1                          NaN                          0.0   \n",
       "2                          0.0                          0.0   \n",
       "3                          0.0                          0.0   \n",
       "4                          0.0                          0.0   \n",
       "5                          0.0                          0.0   \n",
       "\n",
       "   IS_WEEKEND(LAST(transactions.membership_expire_date))  \\\n",
       "1                                                0.0       \n",
       "2                                                0.0       \n",
       "3                                                1.0       \n",
       "4                                                0.0       \n",
       "5                                                0.0       \n",
       "\n",
       "   IS_WEEKEND(LAST(transactions.transaction_date))  \n",
       "1                                              0.0  \n",
       "2                                              0.0  \n",
       "3                                              0.0  \n",
       "4                                              1.0  \n",
       "5                                              0.0  "
      ]
     },
     "execution_count": 7,
     "metadata": {},
     "output_type": "execute_result"
    }
   ],
   "source": [
    "feature_matrix_original = feature_matrix.copy()\n",
    "feature_matrix.drop(columns=[c for c in ['churn', 'days_to_next_churn',\n",
    "                                         'churn_date'] if c in feature_matrix],\n",
    "                    inplace=True)\n",
    "\n",
    "bool_cols = [c for c in feature_matrix if 'ALL' in c or (\n",
    "    'WEEKEND' in c and 'PERCENT_TRUE' not in c)]\n",
    "\n",
    "for c in bool_cols:\n",
    "    feature_matrix[c] = feature_matrix[c].astype(float)\n",
    "feature_matrix[bool_cols].head()"
   ]
  },
  {
   "cell_type": "code",
   "execution_count": 8,
   "metadata": {
    "ExecuteTime": {
     "end_time": "2018-11-02T14:19:06.597183Z",
     "start_time": "2018-11-02T14:19:00.643232Z"
    }
   },
   "outputs": [],
   "source": [
    "feature_matrix = feature_matrix.drop_duplicates(subset = ['msno', 'time'])"
   ]
  },
  {
   "cell_type": "markdown",
   "metadata": {},
   "source": [
    "## Data Cleaning\n",
    "\n",
    "We'll do a few basic data cleaning steps:\n",
    "\n",
    "* Remove columns with many missing values\n",
    "* Remove columns with a single unique value\n",
    "* Remove highly correlated - colinear - columns"
   ]
  },
  {
   "cell_type": "markdown",
   "metadata": {},
   "source": [
    "#### Missing Values\n",
    "\n",
    "We'll drop any columns with more than 90% missing values."
   ]
  },
  {
   "cell_type": "code",
   "execution_count": 9,
   "metadata": {
    "ExecuteTime": {
     "end_time": "2018-11-02T14:19:14.742053Z",
     "start_time": "2018-11-02T14:19:11.977249Z"
    }
   },
   "outputs": [
    {
     "data": {
      "text/plain": [
       "[]"
      ]
     },
     "execution_count": 9,
     "metadata": {},
     "output_type": "execute_result"
    }
   ],
   "source": [
    "missing_pct = feature_matrix.isnull().sum() / len(feature_matrix)\n",
    "to_drop = list((missing_pct[missing_pct > 0.9]).index)\n",
    "to_drop = [x for x in to_drop if x != 'days_to_churn']\n",
    "to_drop"
   ]
  },
  {
   "cell_type": "code",
   "execution_count": 10,
   "metadata": {
    "ExecuteTime": {
     "end_time": "2018-11-02T14:19:20.564191Z",
     "start_time": "2018-11-02T14:19:20.104884Z"
    }
   },
   "outputs": [
    {
     "data": {
      "text/plain": [
       "(312333, 320)"
      ]
     },
     "execution_count": 10,
     "metadata": {},
     "output_type": "execute_result"
    }
   ],
   "source": [
    "feature_matrix.drop(columns=to_drop, inplace=True)\n",
    "feature_matrix.shape"
   ]
  },
  {
   "cell_type": "markdown",
   "metadata": {},
   "source": [
    "#### One Unique Value\n",
    "\n",
    "Columns with only a single unique value contain no information and hence can be dropped."
   ]
  },
  {
   "cell_type": "code",
   "execution_count": 11,
   "metadata": {
    "ExecuteTime": {
     "end_time": "2018-11-02T14:19:54.506659Z",
     "start_time": "2018-11-02T14:19:25.919536Z"
    }
   },
   "outputs": [
    {
     "data": {
      "text/plain": [
       "[]"
      ]
     },
     "execution_count": 11,
     "metadata": {},
     "output_type": "execute_result"
    }
   ],
   "source": [
    "one_unique = feature_matrix.apply(lambda x: x.nunique() == 1, axis=0)\n",
    "to_drop = list(one_unique[one_unique == True].index)\n",
    "to_drop"
   ]
  },
  {
   "cell_type": "code",
   "execution_count": 12,
   "metadata": {
    "ExecuteTime": {
     "end_time": "2018-11-02T14:20:00.324714Z",
     "start_time": "2018-11-02T14:19:59.868925Z"
    }
   },
   "outputs": [
    {
     "data": {
      "text/plain": [
       "(312333, 320)"
      ]
     },
     "execution_count": 12,
     "metadata": {},
     "output_type": "execute_result"
    }
   ],
   "source": [
    "feature_matrix.drop(columns=to_drop, inplace=True)\n",
    "feature_matrix.shape"
   ]
  },
  {
   "cell_type": "markdown",
   "metadata": {},
   "source": [
    "#### Highly Correlated (collinear) Columns\n",
    "\n",
    "Collinear columns can slow down training, lead to less interpretable models, and decrease generalization performance. Therefore, it's generally a good idea to remove one of each pair of highly correlated columns for machine learning. The following code identifies columns that exceed an absolute magnitude correlation of 0.95."
   ]
  },
  {
   "cell_type": "code",
   "execution_count": 13,
   "metadata": {
    "ExecuteTime": {
     "end_time": "2018-11-02T14:21:43.532455Z",
     "start_time": "2018-11-02T14:20:05.662835Z"
    }
   },
   "outputs": [],
   "source": [
    "threshold = 0.95\n",
    "\n",
    "# Calculate correlations\n",
    "corr_matrix = feature_matrix.corr().abs()\n",
    "\n",
    "# Subset to the upper triangle of correlation matrix\n",
    "upper = corr_matrix.where(\n",
    "    np.triu(np.ones(corr_matrix.shape), k=1).astype(np.bool))\n",
    "\n",
    "# Identify names of columns with correlation above threshold\n",
    "to_drop = [column for column in upper.columns if any(\n",
    "    upper[column] >= threshold)]"
   ]
  },
  {
   "cell_type": "code",
   "execution_count": 14,
   "metadata": {
    "ExecuteTime": {
     "end_time": "2018-11-02T14:21:48.870672Z",
     "start_time": "2018-11-02T14:21:48.868473Z"
    }
   },
   "outputs": [
    {
     "name": "stdout",
     "output_type": "stream",
     "text": [
      "There are 168 columns to drop with correlation > 0.95\n"
     ]
    }
   ],
   "source": [
    "print(\n",
    "    f'There are {len(to_drop)} columns to drop with correlation > {threshold}')"
   ]
  },
  {
   "cell_type": "code",
   "execution_count": 15,
   "metadata": {
    "ExecuteTime": {
     "end_time": "2018-11-02T14:21:54.548857Z",
     "start_time": "2018-11-02T14:21:54.222447Z"
    }
   },
   "outputs": [
    {
     "data": {
      "text/plain": [
       "(312333, 152)"
      ]
     },
     "execution_count": 15,
     "metadata": {},
     "output_type": "execute_result"
    }
   ],
   "source": [
    "feature_matrix.drop(columns=to_drop, inplace=True)\n",
    "feature_matrix.shape"
   ]
  },
  {
   "cell_type": "markdown",
   "metadata": {},
   "source": [
    "These data cleaning operations should increase the generalization performance of our model and make it more interpretable. A few simple operations can greatly improve a machine learning model and often are more effective than model optimization."
   ]
  },
  {
   "cell_type": "markdown",
   "metadata": {},
   "source": [
    "# Separate into Training and Testing Set\n",
    "\n",
    "We'll separate into a training and testing set based on the date. We'll use 25% of the data in the testing and 75% in the training. Separating training and testing by the date is important in time sensitive problems because it prevents data leakage and gives a better estimate of the generalization performance of the model. On real data, our model will have to make forecasts of the future, and we can try to recreate that situation by using a hold-out set from later in time than the training data."
   ]
  },
  {
   "cell_type": "code",
   "execution_count": 16,
   "metadata": {
    "ExecuteTime": {
     "end_time": "2018-11-02T14:22:00.055241Z",
     "start_time": "2018-11-02T14:21:59.923400Z"
    }
   },
   "outputs": [
    {
     "data": {
      "text/plain": [
       "count                  312333\n",
       "unique                     25\n",
       "top       2016-10-01 00:00:00\n",
       "freq                    16085\n",
       "first     2015-01-01 00:00:00\n",
       "last      2017-01-01 00:00:00\n",
       "Name: time, dtype: object"
      ]
     },
     "execution_count": 16,
     "metadata": {},
     "output_type": "execute_result"
    }
   ],
   "source": [
    "feature_matrix['time'] = pd.to_datetime(feature_matrix['time'])\n",
    "feature_matrix['time'].describe()"
   ]
  },
  {
   "cell_type": "markdown",
   "metadata": {},
   "source": [
    "The cell below splits the data based on the time. We'll try to use about 30% of the data for testing and the rest for training."
   ]
  },
  {
   "cell_type": "code",
   "execution_count": 17,
   "metadata": {
    "ExecuteTime": {
     "end_time": "2018-11-02T14:22:06.707453Z",
     "start_time": "2018-11-02T14:22:05.393891Z"
    }
   },
   "outputs": [
    {
     "data": {
      "text/plain": [
       "((219516, 152), (92817, 152))"
      ]
     },
     "execution_count": 17,
     "metadata": {},
     "output_type": "execute_result"
    }
   ],
   "source": [
    "split_date = pd.datetime(2016, 8, 1)\n",
    "\n",
    "\n",
    "train = feature_matrix.loc[feature_matrix['time'] < split_date].copy()\n",
    "test = feature_matrix.loc[feature_matrix['time'] >= split_date].copy()\n",
    "\n",
    "train.sort_values(['time'], inplace=True)\n",
    "test.sort_values(['time'], inplace=True)\n",
    "train.shape, test.shape"
   ]
  },
  {
   "cell_type": "code",
   "execution_count": 18,
   "metadata": {},
   "outputs": [
    {
     "data": {
      "text/plain": [
       "0.7028267906369163"
      ]
     },
     "execution_count": 18,
     "metadata": {},
     "output_type": "execute_result"
    }
   ],
   "source": [
    "len(train) / len(feature_matrix)"
   ]
  },
  {
   "cell_type": "markdown",
   "metadata": {},
   "source": [
    "# Feature Preparation\n",
    "\n",
    "The next blocks of code get the features ready for machine learning.\n",
    "\n",
    "\n",
    "### Encoding Categoricals\n",
    "\n",
    "First we need to one hot encode the features. After doing this, we align the training and testing dataframes so they have the same columns."
   ]
  },
  {
   "cell_type": "code",
   "execution_count": 19,
   "metadata": {
    "ExecuteTime": {
     "end_time": "2018-11-02T14:22:13.828366Z",
     "start_time": "2018-11-02T14:22:12.160961Z"
    }
   },
   "outputs": [
    {
     "data": {
      "text/plain": [
       "((219516, 151), (92817, 151))"
      ]
     },
     "execution_count": 19,
     "metadata": {},
     "output_type": "execute_result"
    }
   ],
   "source": [
    "train = pd.get_dummies(train.drop(columns=['time', 'msno']))\n",
    "test = pd.get_dummies(test.drop(columns=['time', 'msno']))\n",
    "\n",
    "train, test = train.align(test, join='inner', axis=1)\n",
    "train.shape, test.shape"
   ]
  },
  {
   "cell_type": "markdown",
   "metadata": {},
   "source": [
    "### Extract the Labels\n",
    "\n",
    "Now we can extract the labels. There are two different problems: one is a binary classification of whether or not the customer will churn during the month. The other is a regression: how many days are there until the next churn."
   ]
  },
  {
   "cell_type": "code",
   "execution_count": 20,
   "metadata": {
    "ExecuteTime": {
     "end_time": "2018-11-02T14:22:19.759075Z",
     "start_time": "2018-11-02T14:22:19.152458Z"
    }
   },
   "outputs": [],
   "source": [
    "y, test_y = np.array(train.pop('label')), np.array(test.pop('label'))\n",
    "\n",
    "y_reg, test_y_reg = np.array(train.pop('days_to_churn')), np.array(\n",
    "    test.pop('days_to_churn'))"
   ]
  },
  {
   "cell_type": "code",
   "execution_count": 21,
   "metadata": {
    "ExecuteTime": {
     "end_time": "2018-11-02T14:22:25.287809Z",
     "start_time": "2018-11-02T14:22:25.122493Z"
    }
   },
   "outputs": [
    {
     "data": {
      "text/plain": [
       "Text(0, 0.5, 'Count')"
      ]
     },
     "execution_count": 21,
     "metadata": {},
     "output_type": "execute_result"
    },
    {
     "data": {
      "image/png": "[encoded data removed]",
      "text/plain": [
       "<Figure size 432x288 with 1 Axes>"
      ]
     },
     "metadata": {
      "needs_background": "light"
     },
     "output_type": "display_data"
    }
   ],
   "source": [
    "import matplotlib.pyplot as plt\n",
    "%matplotlib inline\n",
    "\n",
    "plt.hist(y)\n",
    "plt.title('Label Distribution')\n",
    "plt.ylabel('Count')"
   ]
  },
  {
   "cell_type": "markdown",
   "metadata": {},
   "source": [
    "### Fill in Missing Values\n",
    "\n",
    "We can fill in missing values using the median of the column. As an important note, the missing test values are filled in with the median of the corresponding training feature."
   ]
  },
  {
   "cell_type": "code",
   "execution_count": 22,
   "metadata": {
    "ExecuteTime": {
     "end_time": "2018-11-02T14:22:33.378381Z",
     "start_time": "2018-11-02T14:22:30.655544Z"
    }
   },
   "outputs": [],
   "source": [
    "train = train.replace([np.inf, -np.inf], np.nan)\n",
    "train = train.fillna(train.median())"
   ]
  },
  {
   "cell_type": "code",
   "execution_count": 23,
   "metadata": {
    "ExecuteTime": {
     "end_time": "2018-11-02T14:22:48.424978Z",
     "start_time": "2018-11-02T14:22:45.671654Z"
    }
   },
   "outputs": [
    {
     "data": {
      "text/plain": [
       "(False, False)"
      ]
     },
     "execution_count": 23,
     "metadata": {},
     "output_type": "execute_result"
    }
   ],
   "source": [
    "np.any(train.isnull()), np.any(np.isinf(train))"
   ]
  },
  {
   "cell_type": "code",
   "execution_count": 24,
   "metadata": {
    "ExecuteTime": {
     "end_time": "2018-11-02T14:22:40.298649Z",
     "start_time": "2018-11-02T14:22:38.712397Z"
    }
   },
   "outputs": [],
   "source": [
    "test = test.replace([np.inf, -np.inf], np.nan)\n",
    "test = test.fillna(train.median())"
   ]
  },
  {
   "cell_type": "code",
   "execution_count": 25,
   "metadata": {},
   "outputs": [
    {
     "data": {
      "text/plain": [
       "(False, False)"
      ]
     },
     "execution_count": 25,
     "metadata": {},
     "output_type": "execute_result"
    }
   ],
   "source": [
    "np.any(test.isnull()), np.any(np.isinf(test))"
   ]
  },
  {
   "cell_type": "markdown",
   "metadata": {},
   "source": [
    "Now that there are no missing values and all of the values are numeric, our data is ready for machine learning. However, before we do machine learning, we need to figure out what a naive baseline would score."
   ]
  },
  {
   "cell_type": "markdown",
   "metadata": {},
   "source": [
    "# Naive Baseline\n",
    "\n",
    "For a naive baseline, we can randomly guess that a customer has churned with the same frequence of the churns in the training data. We'll assess the predictions using a number of different metrics.\n",
    "\n",
    "## Metrics\n",
    "\n",
    "For an imbalanced classification problem, there are a number of metrics to consider:\n",
    "\n",
    "* Receiver Operating Characteristic Area Under the Curve (ROC AUC): a measure between 0 and 1 comparing the performance of the classifier when predicting probabilities across a range of thresholds.\n",
    "* Precision Score: number of true positives divided by the total number of positives predicted\n",
    "* Recall Score: number of true positives divided by the total number of actual positives in the data\n",
    "* F1 Score: Harmonic mean of precision and recall\n",
    "\n",
    "The exact metric used and the threshold that our model needs to reach depends on the business need. We can tune the model to some extent to optimize for different metrics."
   ]
  },
  {
   "cell_type": "code",
   "execution_count": 26,
   "metadata": {
    "ExecuteTime": {
     "end_time": "2018-11-02T14:22:53.793360Z",
     "start_time": "2018-11-02T14:22:53.786555Z"
    }
   },
   "outputs": [
    {
     "data": {
      "text/plain": [
       "(array([0, 0, 0, 0, 0, 1, 0, 0, 0, 0]), 3216)"
      ]
     },
     "execution_count": 26,
     "metadata": {},
     "output_type": "execute_result"
    }
   ],
   "source": [
    "np.random.seed(50)\n",
    "naive_guess = np.random.binomial(1, p=np.mean(y), size=len(test_y))\n",
    "naive_guess[:10], naive_guess.sum()"
   ]
  },
  {
   "cell_type": "code",
   "execution_count": 27,
   "metadata": {
    "ExecuteTime": {
     "end_time": "2018-11-02T14:22:59.310175Z",
     "start_time": "2018-11-02T14:22:59.189673Z"
    }
   },
   "outputs": [
    {
     "name": "stdout",
     "output_type": "stream",
     "text": [
      "Naive Baseline\n",
      "\n",
      "ROC AUC: 0.5\n",
      "precision_score: 0.0106\n",
      "recall_score: 0.0354\n",
      "f1_score: 0.0163\n"
     ]
    }
   ],
   "source": [
    "from sklearn.metrics import (roc_auc_score, precision_score,\n",
    "                             recall_score, f1_score)\n",
    "\n",
    "print(f'Naive Baseline\\n')\n",
    "roc = roc_auc_score(test_y, np.repeat(np.mean(y), len(test_y)))\n",
    "print(f'ROC AUC: {round(roc, 4)}')\n",
    "\n",
    "for metric in [precision_score, recall_score, f1_score]:\n",
    "    print(f'{metric.__name__}: {round(metric(test_y, naive_guess), 4)}')"
   ]
  },
  {
   "cell_type": "markdown",
   "metadata": {},
   "source": [
    "We can see that these metrics are very poor! A naive approach clearly does not provide much value."
   ]
  },
  {
   "cell_type": "code",
   "execution_count": 28,
   "metadata": {
    "ExecuteTime": {
     "end_time": "2018-11-02T14:23:04.666970Z",
     "start_time": "2018-11-02T14:23:04.664354Z"
    }
   },
   "outputs": [
    {
     "name": "stdout",
     "output_type": "stream",
     "text": [
      "The percentage of churns is 4.0% in the training data.\n"
     ]
    }
   ],
   "source": [
    "print(\n",
    "    f'The percentage of churns is {100 * round(np.mean(y), 2)}% in the training data.')"
   ]
  },
  {
   "cell_type": "markdown",
   "metadata": {},
   "source": [
    "## More Complex Model\n",
    "\n",
    "For a potentially better machine learning model, we can move to the [Random Forest Classifier](http://scikit-learn.org/stable/modules/generated/sklearn.ensemble.RandomForestClassifier.html)."
   ]
  },
  {
   "cell_type": "markdown",
   "metadata": {},
   "source": [
    "We'll use most of the default hyperparameters but alter a few to prevent overfitting. We can also set `class_weight = 'balanced'` to try and offset the impact of such an imbalanced classification problem."
   ]
  },
  {
   "cell_type": "code",
   "execution_count": 29,
   "metadata": {},
   "outputs": [],
   "source": [
    "from sklearn.metrics import roc_auc_score, precision_score, recall_score, f1_score\n",
    "\n",
    "\n",
    "def evaluate(model, train, y, test, test_y):\n",
    "    \"\"\"Evaluate a machine learning model on four metrics:\n",
    "       ROC AUC, precision score, recall score, and f1 score.\n",
    "\n",
    "       Returns the model and the predictions.\"\"\"\n",
    "\n",
    "    model.fit(train, y)\n",
    "\n",
    "    # Predict probabilities and labels\n",
    "    probs = model.predict_proba(test)[:, 1]\n",
    "    preds = model.predict(test)\n",
    "\n",
    "    # Calculate ROC AUC\n",
    "    roc = roc_auc_score(test_y, probs)\n",
    "    name = repr(model).split('(')[0]\n",
    "    print(f\"{name}\\n\")\n",
    "    print(f'ROC AUC: {round(roc, 4)}')\n",
    "\n",
    "    # Iterate through metrics\n",
    "    for metric in [precision_score, recall_score, f1_score]:\n",
    "        # Use .__name__ attribute to list metric\n",
    "        print(f'{metric.__name__}: {round(metric(test_y, preds), 4)}')\n",
    "\n",
    "    return model, preds"
   ]
  },
  {
   "cell_type": "code",
   "execution_count": 30,
   "metadata": {
    "ExecuteTime": {
     "end_time": "2018-11-02T14:24:13.769241Z",
     "start_time": "2018-11-02T14:23:36.197719Z"
    }
   },
   "outputs": [
    {
     "name": "stdout",
     "output_type": "stream",
     "text": [
      "RandomForestClassifier\n",
      "\n",
      "ROC AUC: 0.9245\n",
      "precision_score: 0.1246\n",
      "recall_score: 0.6219\n",
      "f1_score: 0.2075\n"
     ]
    }
   ],
   "source": [
    "from sklearn.ensemble import RandomForestClassifier\n",
    "\n",
    "model = RandomForestClassifier(n_estimators=100, max_depth=40,\n",
    "                               min_samples_leaf=50,\n",
    "                               n_jobs=-1, class_weight='balanced',\n",
    "                               random_state=50)\n",
    "\n",
    "model, preds = evaluate(model, train, y, test, test_y)"
   ]
  },
  {
   "cell_type": "markdown",
   "metadata": {},
   "source": [
    "The random forest performance is much better than just guessing! This should give us confidence that we can solve this problem using machine learning.\n",
    "\n",
    "# Model Validation\n",
    "\n",
    "We need to inspect the model results to determine if it meets our business needs. This includes looking at the performance as well as the feature importances. We want to make sure that our model performs well, but also try and understand _why_ it performs well. \n",
    "\n",
    "## Precision Recall Curve\n",
    "\n",
    "One of the best methods for tuning a model for a business need is through the precision recall curve. This shows the precision-recall tradeoff for different thresholds. Depending on the business requirement, we can change the threshold for classifying a positive example to alter the balance of true positives, false positives, false negatives, and true negatives. There will always be a tradeoff between precision and recall, but we can try to find the right balance by visually and quantitatively assessing the model."
   ]
  },
  {
   "cell_type": "code",
   "execution_count": 31,
   "metadata": {
    "ExecuteTime": {
     "end_time": "2018-11-02T14:25:35.035697Z",
     "start_time": "2018-11-02T14:25:33.835263Z"
    }
   },
   "outputs": [
    {
     "data": {
      "image/png": "[encoded data removed]",
      "text/plain": [
       "<Figure size 720x576 with 1 Axes>"
      ]
     },
     "metadata": {},
     "output_type": "display_data"
    }
   ],
   "source": [
    "from sklearn.metrics import precision_recall_curve, confusion_matrix\n",
    "\n",
    "import matplotlib.pyplot as plt\n",
    "%matplotlib inline\n",
    "\n",
    "plt.style.use('seaborn')\n",
    "\n",
    "\n",
    "def plot_precision_recall(test_y, probs, title='Precision Recall Curve', threshold_selected=None):\n",
    "    \"\"\"Plot a precision recall curve for predictions. \n",
    "       Source: http://scikit-learn.org/stable/auto_examples/model_selection/plot_precision_recall.html#sphx-glr-auto-examples-model-selection-plot-precision-recall-py\"\"\"\n",
    "\n",
    "    precision, recall, threshold = precision_recall_curve(test_y, probs)\n",
    "    plt.figure(figsize=(10, 8))\n",
    "    # In matplotlib < 1.5, plt.fill_between does not have a 'step' argument\n",
    "    step_kwargs = ({'step': 'post'})\n",
    "    plt.step(recall, precision, color='b', alpha=0.2,\n",
    "             where='post')\n",
    "    plt.fill_between(recall, precision, alpha=0.2, color='b', **step_kwargs)\n",
    "\n",
    "    plt.xlabel('Recall', size=18)\n",
    "    plt.ylabel('Precision', size=18)\n",
    "    plt.ylim([0.0, 1.05])\n",
    "    plt.xlim([0.0, 1.0])\n",
    "    plt.title(title, size=20)\n",
    "    plt.xticks(size=14)\n",
    "    plt.yticks(size=14)\n",
    "\n",
    "    if threshold_selected:\n",
    "        p = precision(np.where(threshold == threshold_selected)[0])\n",
    "        r = recall(np.where(threshold == threshold_selected)[0])\n",
    "        plt.scatter(r, p, marker='*', size=200)\n",
    "        plt.vlines(r, ymin=0, ymax=p, linestyles='--')\n",
    "        plt.hlines(p, xmin=0, xmax=r, linestyles='--')\n",
    "\n",
    "    pr = pd.DataFrame({'precision': precision[:-1], 'recall': recall[:-1],\n",
    "                       'threshold': threshold})\n",
    "    return pr\n",
    "\n",
    "\n",
    "probs = model.predict_proba(test)[:, 1]\n",
    "pr_data = plot_precision_recall(\n",
    "    test_y, probs, title='Precision-Recall Curve for Random Forest')"
   ]
  },
  {
   "cell_type": "markdown",
   "metadata": {},
   "source": [
    "We can query the dataframe to find the threshold required for a given precision or recall. For example, to find the threshold for a precision of 25%, we use the following code:"
   ]
  },
  {
   "cell_type": "code",
   "execution_count": 32,
   "metadata": {
    "ExecuteTime": {
     "end_time": "2018-11-02T14:25:40.482343Z",
     "start_time": "2018-11-02T14:25:40.473079Z"
    }
   },
   "outputs": [
    {
     "data": {
      "text/html": [
       "<div>\n",
       "<style scoped>\n",
       "    .dataframe tbody tr th:only-of-type {\n",
       "        vertical-align: middle;\n",
       "    }\n",
       "\n",
       "    .dataframe tbody tr th {\n",
       "        vertical-align: top;\n",
       "    }\n",
       "\n",
       "    .dataframe thead th {\n",
       "        text-align: right;\n",
       "    }\n",
       "</style>\n",
       "<table border=\"1\" class=\"dataframe\">\n",
       "  <thead>\n",
       "    <tr style=\"text-align: right;\">\n",
       "      <th></th>\n",
       "      <th>precision</th>\n",
       "      <th>recall</th>\n",
       "      <th>threshold</th>\n",
       "    </tr>\n",
       "  </thead>\n",
       "  <tbody>\n",
       "    <tr>\n",
       "      <th>88044</th>\n",
       "      <td>0.250000</td>\n",
       "      <td>0.242708</td>\n",
       "      <td>0.732123</td>\n",
       "    </tr>\n",
       "    <tr>\n",
       "      <th>88045</th>\n",
       "      <td>0.250269</td>\n",
       "      <td>0.242708</td>\n",
       "      <td>0.732163</td>\n",
       "    </tr>\n",
       "    <tr>\n",
       "      <th>88048</th>\n",
       "      <td>0.250000</td>\n",
       "      <td>0.241667</td>\n",
       "      <td>0.732227</td>\n",
       "    </tr>\n",
       "    <tr>\n",
       "      <th>88050</th>\n",
       "      <td>0.250540</td>\n",
       "      <td>0.241667</td>\n",
       "      <td>0.732349</td>\n",
       "    </tr>\n",
       "    <tr>\n",
       "      <th>88049</th>\n",
       "      <td>0.250270</td>\n",
       "      <td>0.241667</td>\n",
       "      <td>0.732286</td>\n",
       "    </tr>\n",
       "  </tbody>\n",
       "</table>\n",
       "</div>"
      ],
      "text/plain": [
       "       precision    recall  threshold\n",
       "88044   0.250000  0.242708   0.732123\n",
       "88045   0.250269  0.242708   0.732163\n",
       "88048   0.250000  0.241667   0.732227\n",
       "88050   0.250540  0.241667   0.732349\n",
       "88049   0.250270  0.241667   0.732286"
      ]
     },
     "execution_count": 32,
     "metadata": {},
     "output_type": "execute_result"
    }
   ],
   "source": [
    "precision_above = pr_data.loc[pr_data['precision'] >= 0.25].copy()\n",
    "precision_above.sort_values('recall', ascending=False, inplace=True)\n",
    "precision_above.head()"
   ]
  },
  {
   "cell_type": "markdown",
   "metadata": {},
   "source": [
    "We can see that if we want a precision of 25%, then our recall will be 25%. This means we'll miss over 75% of the true churns in the data.\n",
    "\n",
    "### Adjusting for the Business Requirement\n",
    "\n",
    "Let's say we are required to have a recall of 75% in our model. This means our model finds 75% of the true churns in the data. We'll work through the rest of this notebook under this assumption. To find the threshold, we use:"
   ]
  },
  {
   "cell_type": "code",
   "execution_count": 33,
   "metadata": {
    "ExecuteTime": {
     "end_time": "2018-11-02T14:25:45.919210Z",
     "start_time": "2018-11-02T14:25:45.903261Z"
    }
   },
   "outputs": [
    {
     "data": {
      "text/html": [
       "<div>\n",
       "<style scoped>\n",
       "    .dataframe tbody tr th:only-of-type {\n",
       "        vertical-align: middle;\n",
       "    }\n",
       "\n",
       "    .dataframe tbody tr th {\n",
       "        vertical-align: top;\n",
       "    }\n",
       "\n",
       "    .dataframe thead th {\n",
       "        text-align: right;\n",
       "    }\n",
       "</style>\n",
       "<table border=\"1\" class=\"dataframe\">\n",
       "  <thead>\n",
       "    <tr style=\"text-align: right;\">\n",
       "      <th></th>\n",
       "      <th>precision</th>\n",
       "      <th>recall</th>\n",
       "      <th>threshold</th>\n",
       "    </tr>\n",
       "  </thead>\n",
       "  <tbody>\n",
       "    <tr>\n",
       "      <th>81447</th>\n",
       "      <td>0.094712</td>\n",
       "      <td>0.75</td>\n",
       "      <td>0.407157</td>\n",
       "    </tr>\n",
       "    <tr>\n",
       "      <th>81446</th>\n",
       "      <td>0.094699</td>\n",
       "      <td>0.75</td>\n",
       "      <td>0.407048</td>\n",
       "    </tr>\n",
       "    <tr>\n",
       "      <th>81445</th>\n",
       "      <td>0.094687</td>\n",
       "      <td>0.75</td>\n",
       "      <td>0.407047</td>\n",
       "    </tr>\n",
       "    <tr>\n",
       "      <th>81444</th>\n",
       "      <td>0.094675</td>\n",
       "      <td>0.75</td>\n",
       "      <td>0.407009</td>\n",
       "    </tr>\n",
       "    <tr>\n",
       "      <th>81443</th>\n",
       "      <td>0.094662</td>\n",
       "      <td>0.75</td>\n",
       "      <td>0.407004</td>\n",
       "    </tr>\n",
       "  </tbody>\n",
       "</table>\n",
       "</div>"
      ],
      "text/plain": [
       "       precision  recall  threshold\n",
       "81447   0.094712    0.75   0.407157\n",
       "81446   0.094699    0.75   0.407048\n",
       "81445   0.094687    0.75   0.407047\n",
       "81444   0.094675    0.75   0.407009\n",
       "81443   0.094662    0.75   0.407004"
      ]
     },
     "execution_count": 33,
     "metadata": {},
     "output_type": "execute_result"
    }
   ],
   "source": [
    "recall_attained = 0.75\n",
    "recall_above = pr_data.loc[pr_data['recall'] >= recall_attained].copy()\n",
    "recall_above.sort_values('precision', ascending=False, inplace=True)\n",
    "recall_above.head()"
   ]
  },
  {
   "cell_type": "code",
   "execution_count": 34,
   "metadata": {
    "ExecuteTime": {
     "end_time": "2018-11-02T14:25:51.366613Z",
     "start_time": "2018-11-02T14:25:51.361519Z"
    }
   },
   "outputs": [
    {
     "name": "stdout",
     "output_type": "stream",
     "text": [
      "At a threshold of 0.4072 the recall is 75.00% and the precision is 9.4712%\n"
     ]
    }
   ],
   "source": [
    "precision_attained = recall_above.iloc[0, 0]\n",
    "threshold_required = recall_above.iloc[0, -1]\n",
    "\n",
    "print(\n",
    "    f'At a threshold of {round(threshold_required, 4)} the recall is {100 * recall_attained:.2f}% and the precision is {round(100 * precision_attained, 4)}%')"
   ]
  },
  {
   "cell_type": "markdown",
   "metadata": {},
   "source": [
    "This means that in order to identify 75% of the actual churns, we'll have to accept that only 9.5% of the predicted positives are actually positive churns. "
   ]
  },
  {
   "cell_type": "code",
   "execution_count": 35,
   "metadata": {
    "ExecuteTime": {
     "end_time": "2018-11-02T14:25:56.835965Z",
     "start_time": "2018-11-02T14:25:56.830238Z"
    }
   },
   "outputs": [],
   "source": [
    "def plot_precision_recall(test_y, probs, title='Precision Recall Curve', threshold_selected=None):\n",
    "    \"\"\"Plot a precision recall curve for predictions. \n",
    "       Source: http://scikit-learn.org/stable/auto_examples/model_selection/plot_precision_recall.html#sphx-glr-auto-examples-model-selection-plot-precision-recall-py\"\"\"\n",
    "\n",
    "    precision, recall, threshold = precision_recall_curve(test_y, probs)\n",
    "    plt.figure(figsize=(10, 10))\n",
    "    # In matplotlib < 1.5, plt.fill_between does not have a 'step' argument\n",
    "    step_kwargs = ({'step': 'post'})\n",
    "    plt.step(recall, precision, color='b', alpha=0.2,\n",
    "             where='post')\n",
    "    plt.fill_between(recall, precision, alpha=0.2, color='b', **step_kwargs)\n",
    "\n",
    "    plt.xlabel('Recall', size=24)\n",
    "    plt.ylabel('Precision', size=24)\n",
    "    plt.ylim([0.0, 1.05])\n",
    "    plt.xlim([0.0, 1.0])\n",
    "    plt.title(title, size=24)\n",
    "    plt.xticks(size=18)\n",
    "    plt.yticks(size=18)\n",
    "\n",
    "    if threshold_selected:\n",
    "        p = precision[np.where(threshold == threshold_selected)[0]]\n",
    "        r = recall[np.where(threshold == threshold_selected)[0]]\n",
    "        plt.scatter(r, p, marker='*', s=600, c='r')\n",
    "        plt.vlines(r, ymin=0, ymax=p, linestyles='--')\n",
    "        plt.hlines(p, xmin=0, xmax=r, linestyles='--')\n",
    "        plt.text(r - 0.1, p + 0.15,\n",
    "                 s=f'Threshold: {round(threshold_selected, 2)}', size=20, fontdict={'weight': 1000})\n",
    "        plt.text(r - 0.2, p + 0.075,\n",
    "                 s=f'Precision: {round(100 * p[0], 2)}% Recall: {round(100 * r[0], 2)}%', size=20,\n",
    "                 fontdict={'weight': 1000})\n",
    "\n",
    "    pr = pd.DataFrame({'precision': precision[:-1], 'recall': recall[:-1],\n",
    "                       'threshold': threshold})\n",
    "    return pr"
   ]
  },
  {
   "cell_type": "code",
   "execution_count": 36,
   "metadata": {
    "ExecuteTime": {
     "end_time": "2018-11-02T14:26:02.834919Z",
     "start_time": "2018-11-02T14:26:02.234828Z"
    }
   },
   "outputs": [
    {
     "data": {
      "image/png": "[encoded data removed]",
      "text/plain": [
       "<Figure size 720x720 with 1 Axes>"
      ]
     },
     "metadata": {},
     "output_type": "display_data"
    }
   ],
   "source": [
    "pr_data = plot_precision_recall(test_y, probs, title='Precision-Recall Curve for Tuned Random Forest',\n",
    "                                threshold_selected=threshold_required)"
   ]
  },
  {
   "cell_type": "markdown",
   "metadata": {},
   "source": [
    "## Confusion Matrix\n",
    "\n",
    "A confusion matrix is often a useful way to visualize predictions. This shows the true values along the top row and the predicted values along the bottom row. Looking at the different cells, we can see where the model performed well and where it did not do so well.\n",
    "\n",
    "We'll use the threshold identified above to construct the confusion matrix."
   ]
  },
  {
   "cell_type": "code",
   "execution_count": 37,
   "metadata": {
    "ExecuteTime": {
     "end_time": "2018-11-02T14:26:11.562493Z",
     "start_time": "2018-11-02T14:26:11.556827Z"
    }
   },
   "outputs": [],
   "source": [
    "from sklearn.metrics import confusion_matrix\n",
    "import itertools\n",
    "\n",
    "\n",
    "def plot_confusion_matrix(cm, classes,\n",
    "                          normalize=False,\n",
    "                          title='Confusion matrix',\n",
    "                          cmap=plt.cm.YlOrRd):\n",
    "    \"\"\"\n",
    "    This function prints and plots the confusion matrix.\n",
    "    Normalization can be applied by setting `normalize=True`.\n",
    "    Source: http://scikit-learn.org/stable/auto_examples/model_selection/plot_confusion_matrix.html\n",
    "    \"\"\"\n",
    "    if normalize:\n",
    "        cm = cm.astype('float') / cm.sum(axis=1)[:, np.newaxis]\n",
    "        print(\"Normalized confusion matrix\")\n",
    "    else:\n",
    "        print('Confusion matrix, without normalization')\n",
    "\n",
    "    print(cm)\n",
    "    plt.style.use('bmh')\n",
    "    plt.figure(figsize=(9, 9))\n",
    "    plt.imshow(cm, interpolation='nearest', cmap=cmap)\n",
    "    plt.title(title, size=22)\n",
    "    plt.colorbar()\n",
    "    tick_marks = np.arange(len(classes))\n",
    "    plt.xticks(tick_marks, classes, rotation=45, size=20)\n",
    "    plt.yticks(tick_marks, classes, size=20)\n",
    "\n",
    "    fmt = '.2f' if normalize else 'd'\n",
    "    thresh = cm.max() / 2.\n",
    "    for i, j in itertools.product(range(cm.shape[0]), range(cm.shape[1])):\n",
    "        plt.text(j, i, format(cm[i, j], fmt),\n",
    "                 horizontalalignment=\"center\",\n",
    "                 color=\"white\" if cm[i, j] > thresh else \"black\",\n",
    "                 size=20)\n",
    "    plt.grid(None)\n",
    "    plt.ylabel('True label', size=22)\n",
    "    plt.xlabel('Predicted label', size=22)\n",
    "    plt.tight_layout()"
   ]
  },
  {
   "cell_type": "code",
   "execution_count": 38,
   "metadata": {
    "ExecuteTime": {
     "end_time": "2018-11-02T14:26:17.628613Z",
     "start_time": "2018-11-02T14:26:17.257426Z"
    }
   },
   "outputs": [
    {
     "name": "stdout",
     "output_type": "stream",
     "text": [
      "Confusion matrix, without normalization\n",
      "[[84975  6882]\n",
      " [  240   720]]\n"
     ]
    },
    {
     "data": {
      "image/png": "[encoded data removed]",
      "text/plain": [
       "<Figure size 648x648 with 2 Axes>"
      ]
     },
     "metadata": {},
     "output_type": "display_data"
    }
   ],
   "source": [
    "# Make predictions where probability is above threshold\n",
    "preds = np.zeros(len(test_y))\n",
    "preds[probs >= threshold_required] = 1\n",
    "\n",
    "# Make and plot confusion matrix\n",
    "cm = confusion_matrix(test_y, preds)\n",
    "plot_confusion_matrix(cm, classes=['No Churn', 'Churn'],\n",
    "                      title='Churn Confusion Matrix')"
   ]
  },
  {
   "cell_type": "markdown",
   "metadata": {},
   "source": [
    "If we satisfy our business requirement, this is the best prediction of what our performance would be on new data. The model is able to identiy 75% of churned customers compared to a baseline of around 3%. The precision has increased from the baseline 1% to 9%, a relative increase of over 900%."
   ]
  },
  {
   "cell_type": "markdown",
   "metadata": {},
   "source": [
    "### Feature Importances\n",
    "\n",
    "As one method for trying to understand how the model makes decisions, we can look at the most important features. The absolute value of the importances is not as useful as is the relative ranking of the features which is determined by how well the feature separates the classes when building the decision trees in the random forest."
   ]
  },
  {
   "cell_type": "code",
   "execution_count": 39,
   "metadata": {
    "ExecuteTime": {
     "end_time": "2018-11-02T14:26:23.177390Z",
     "start_time": "2018-11-02T14:26:23.067796Z"
    }
   },
   "outputs": [
    {
     "data": {
      "text/html": [
       "<div>\n",
       "<style scoped>\n",
       "    .dataframe tbody tr th:only-of-type {\n",
       "        vertical-align: middle;\n",
       "    }\n",
       "\n",
       "    .dataframe tbody tr th {\n",
       "        vertical-align: top;\n",
       "    }\n",
       "\n",
       "    .dataframe thead th {\n",
       "        text-align: right;\n",
       "    }\n",
       "</style>\n",
       "<table border=\"1\" class=\"dataframe\">\n",
       "  <thead>\n",
       "    <tr style=\"text-align: right;\">\n",
       "      <th></th>\n",
       "      <th>importance</th>\n",
       "    </tr>\n",
       "  </thead>\n",
       "  <tbody>\n",
       "    <tr>\n",
       "      <th>TIME_SINCE_LAST(transactions.transaction_date)</th>\n",
       "      <td>0.127209</td>\n",
       "    </tr>\n",
       "    <tr>\n",
       "      <th>LAST(transactions.payment_method_id)</th>\n",
       "      <td>0.047209</td>\n",
       "    </tr>\n",
       "    <tr>\n",
       "      <th>AVG_TIME_BETWEEN(transactions.transaction_date)</th>\n",
       "      <td>0.043560</td>\n",
       "    </tr>\n",
       "    <tr>\n",
       "      <th>LAST(transactions.DAY(transaction_date))</th>\n",
       "      <td>0.035853</td>\n",
       "    </tr>\n",
       "    <tr>\n",
       "      <th>SUM(transactions.actual_amount_paid WHERE is_auto_renew = True)</th>\n",
       "      <td>0.034439</td>\n",
       "    </tr>\n",
       "    <tr>\n",
       "      <th>LAST(transactions.MONTH(transaction_date))</th>\n",
       "      <td>0.027998</td>\n",
       "    </tr>\n",
       "    <tr>\n",
       "      <th>SUM(transactions.CUM_SUM(actual_amount_paid) WHERE is_auto_renew = True)</th>\n",
       "      <td>0.024065</td>\n",
       "    </tr>\n",
       "    <tr>\n",
       "      <th>PERCENT_TRUE(transactions.IS_WEEKEND(membership_expire_date) WHERE is_auto_renew = True)</th>\n",
       "      <td>0.023547</td>\n",
       "    </tr>\n",
       "    <tr>\n",
       "      <th>NUM_UNIQUE(transactions.DAY(transaction_date))</th>\n",
       "      <td>0.022384</td>\n",
       "    </tr>\n",
       "    <tr>\n",
       "      <th>LAST(transactions.DAY(membership_expire_date))</th>\n",
       "      <td>0.019631</td>\n",
       "    </tr>\n",
       "  </tbody>\n",
       "</table>\n",
       "</div>"
      ],
      "text/plain": [
       "                                                    importance\n",
       "TIME_SINCE_LAST(transactions.transaction_date)        0.127209\n",
       "LAST(transactions.payment_method_id)                  0.047209\n",
       "AVG_TIME_BETWEEN(transactions.transaction_date)       0.043560\n",
       "LAST(transactions.DAY(transaction_date))              0.035853\n",
       "SUM(transactions.actual_amount_paid WHERE is_au...    0.034439\n",
       "LAST(transactions.MONTH(transaction_date))            0.027998\n",
       "SUM(transactions.CUM_SUM(actual_amount_paid) WH...    0.024065\n",
       "PERCENT_TRUE(transactions.IS_WEEKEND(membership...    0.023547\n",
       "NUM_UNIQUE(transactions.DAY(transaction_date))        0.022384\n",
       "LAST(transactions.DAY(membership_expire_date))        0.019631"
      ]
     },
     "execution_count": 39,
     "metadata": {},
     "output_type": "execute_result"
    }
   ],
   "source": [
    "fi = pd.DataFrame({'importance': model.feature_importances_}, index=train.columns).\\\n",
    "    sort_values('importance', ascending=False)\n",
    "fi.head(10)"
   ]
  },
  {
   "cell_type": "code",
   "execution_count": 40,
   "metadata": {
    "ExecuteTime": {
     "end_time": "2018-11-02T14:26:29.038265Z",
     "start_time": "2018-11-02T14:26:28.626806Z"
    }
   },
   "outputs": [
    {
     "data": {
      "image/png": "[encoded data removed]",
      "text/plain": [
       "<Figure size 1008x720 with 1 Axes>"
      ]
     },
     "metadata": {},
     "output_type": "display_data"
    }
   ],
   "source": [
    "fi.iloc[:10]['importance'].plot.barh(color='r', edgecolor='k',\n",
    "                                     figsize=(14, 10), linewidth=2)\n",
    "ax = plt.gca()\n",
    "ax.invert_yaxis()\n",
    "plt.xticks(size=20)\n",
    "plt.yticks(size=18)\n",
    "plt.title('Most Important Features', size=28);"
   ]
  },
  {
   "cell_type": "markdown",
   "metadata": {},
   "source": [
    "# Make Predictions\n",
    "\n",
    "Now we will use the trained model to make predictions on the hold-out testing set. We'll can make predictions in terms of probabilities and then threshold them to labels using our selected threshold."
   ]
  },
  {
   "cell_type": "code",
   "execution_count": 41,
   "metadata": {
    "ExecuteTime": {
     "end_time": "2018-11-01T17:30:08.834747Z",
     "start_time": "2018-11-01T17:30:07.762294Z"
    }
   },
   "outputs": [
    {
     "data": {
      "text/html": [
       "<div>\n",
       "<style scoped>\n",
       "    .dataframe tbody tr th:only-of-type {\n",
       "        vertical-align: middle;\n",
       "    }\n",
       "\n",
       "    .dataframe tbody tr th {\n",
       "        vertical-align: top;\n",
       "    }\n",
       "\n",
       "    .dataframe thead th {\n",
       "        text-align: right;\n",
       "    }\n",
       "</style>\n",
       "<table border=\"1\" class=\"dataframe\">\n",
       "  <thead>\n",
       "    <tr style=\"text-align: right;\">\n",
       "      <th></th>\n",
       "      <th>msno</th>\n",
       "      <th>time</th>\n",
       "      <th>probability</th>\n",
       "      <th>prediction</th>\n",
       "    </tr>\n",
       "  </thead>\n",
       "  <tbody>\n",
       "    <tr>\n",
       "      <th>57527</th>\n",
       "      <td>byin6g4267N0G5O18fdOpvF2MIPRlZOd+QyeYVENh6Y=</td>\n",
       "      <td>2016-09-01</td>\n",
       "      <td>0.065201</td>\n",
       "      <td>False</td>\n",
       "    </tr>\n",
       "    <tr>\n",
       "      <th>5218</th>\n",
       "      <td>1THjjESCatYwRZAdx5erdLZoj9KCNNv2HBjMmTET7nQ=</td>\n",
       "      <td>2017-01-01</td>\n",
       "      <td>0.263145</td>\n",
       "      <td>False</td>\n",
       "    </tr>\n",
       "    <tr>\n",
       "      <th>77896</th>\n",
       "      <td>ptqi7NWmOHFZh9g+bxtvjglpovX4v8x5lbJvVa5Ia/I=</td>\n",
       "      <td>2016-08-01</td>\n",
       "      <td>0.024292</td>\n",
       "      <td>False</td>\n",
       "    </tr>\n",
       "    <tr>\n",
       "      <th>31542</th>\n",
       "      <td>JmrF6myL588zBGH3HkDqjNybyXwRmUaF/k8hSgAsndI=</td>\n",
       "      <td>2016-11-01</td>\n",
       "      <td>0.043056</td>\n",
       "      <td>False</td>\n",
       "    </tr>\n",
       "    <tr>\n",
       "      <th>81813</th>\n",
       "      <td>sRhLZKS2P1fKTVoJ3TDJeY05IK6w/xYNcQl8G63mKDw=</td>\n",
       "      <td>2016-09-01</td>\n",
       "      <td>0.077044</td>\n",
       "      <td>False</td>\n",
       "    </tr>\n",
       "    <tr>\n",
       "      <th>24509</th>\n",
       "      <td>EtKFhIZai5VQQDqLPrs8flsQzj0IbPiqH8YnslnLQxM=</td>\n",
       "      <td>2016-12-01</td>\n",
       "      <td>0.032892</td>\n",
       "      <td>False</td>\n",
       "    </tr>\n",
       "    <tr>\n",
       "      <th>56156</th>\n",
       "      <td>b1mjN+HHODZqtqGW6qml6lFUg/DkB+GvepKSGWt5vdY=</td>\n",
       "      <td>2016-09-01</td>\n",
       "      <td>0.293019</td>\n",
       "      <td>False</td>\n",
       "    </tr>\n",
       "    <tr>\n",
       "      <th>1913</th>\n",
       "      <td>/FGfUHjCKRSKhI7QFEnOe5ehF7MGGJyjDVUE58jDPhQ=</td>\n",
       "      <td>2016-09-01</td>\n",
       "      <td>0.031265</td>\n",
       "      <td>False</td>\n",
       "    </tr>\n",
       "    <tr>\n",
       "      <th>90565</th>\n",
       "      <td>yK1T7Rn3c86YerkuPeOvBozWlTuR/Q5sfFNfrLPlFFU=</td>\n",
       "      <td>2016-10-01</td>\n",
       "      <td>0.034706</td>\n",
       "      <td>False</td>\n",
       "    </tr>\n",
       "    <tr>\n",
       "      <th>47533</th>\n",
       "      <td>VKbul9NW2zYfXYKDR0mkHhVxDMDF8Vypl1M5NGzXO+U=</td>\n",
       "      <td>2016-08-01</td>\n",
       "      <td>0.152698</td>\n",
       "      <td>False</td>\n",
       "    </tr>\n",
       "  </tbody>\n",
       "</table>\n",
       "</div>"
      ],
      "text/plain": [
       "                                               msno       time  probability  \\\n",
       "57527  byin6g4267N0G5O18fdOpvF2MIPRlZOd+QyeYVENh6Y= 2016-09-01     0.065201   \n",
       "5218   1THjjESCatYwRZAdx5erdLZoj9KCNNv2HBjMmTET7nQ= 2017-01-01     0.263145   \n",
       "77896  ptqi7NWmOHFZh9g+bxtvjglpovX4v8x5lbJvVa5Ia/I= 2016-08-01     0.024292   \n",
       "31542  JmrF6myL588zBGH3HkDqjNybyXwRmUaF/k8hSgAsndI= 2016-11-01     0.043056   \n",
       "81813  sRhLZKS2P1fKTVoJ3TDJeY05IK6w/xYNcQl8G63mKDw= 2016-09-01     0.077044   \n",
       "24509  EtKFhIZai5VQQDqLPrs8flsQzj0IbPiqH8YnslnLQxM= 2016-12-01     0.032892   \n",
       "56156  b1mjN+HHODZqtqGW6qml6lFUg/DkB+GvepKSGWt5vdY= 2016-09-01     0.293019   \n",
       "1913   /FGfUHjCKRSKhI7QFEnOe5ehF7MGGJyjDVUE58jDPhQ= 2016-09-01     0.031265   \n",
       "90565  yK1T7Rn3c86YerkuPeOvBozWlTuR/Q5sfFNfrLPlFFU= 2016-10-01     0.034706   \n",
       "47533  VKbul9NW2zYfXYKDR0mkHhVxDMDF8Vypl1M5NGzXO+U= 2016-08-01     0.152698   \n",
       "\n",
       "       prediction  \n",
       "57527       False  \n",
       "5218        False  \n",
       "77896       False  \n",
       "31542       False  \n",
       "81813       False  \n",
       "24509       False  \n",
       "56156       False  \n",
       "1913        False  \n",
       "90565       False  \n",
       "47533       False  "
      ]
     },
     "execution_count": 41,
     "metadata": {},
     "output_type": "execute_result"
    }
   ],
   "source": [
    "new_probs = model.predict_proba(test)[:, 1]\n",
    "\n",
    "\n",
    "oos_ids = list(feature_matrix.loc[feature_matrix['time'] >= split_date, 'msno'])\n",
    "oos_cutoff_time = list(feature_matrix.loc[feature_matrix['time'] >= split_date, 'time'])\n",
    "\n",
    "prediction_df = pd.DataFrame({'msno': oos_ids, 'time': oos_cutoff_time,\n",
    "                              'probability': new_probs})\n",
    "prediction_df['prediction'] = prediction_df['probability'] > threshold_required\n",
    "prediction_df.sample(10)"
   ]
  },
  {
   "cell_type": "code",
   "execution_count": 42,
   "metadata": {
    "ExecuteTime": {
     "end_time": "2018-11-01T17:30:09.074346Z",
     "start_time": "2018-11-01T17:30:08.856576Z"
    }
   },
   "outputs": [
    {
     "data": {
      "text/plain": [
       "Text(0.5, 1.0, 'Distribution of Predicted Probabilities')"
      ]
     },
     "execution_count": 42,
     "metadata": {},
     "output_type": "execute_result"
    },
    {
     "data": {
      "image/png": "[encoded data removed]",
      "text/plain": [
       "<Figure size 576x396 with 1 Axes>"
      ]
     },
     "metadata": {},
     "output_type": "display_data"
    }
   ],
   "source": [
    "prediction_df['probability'].plot.hist(bins=20, edgecolor='k')\n",
    "plt.axvline(x=threshold_required, color='r', linewidth=2)\n",
    "plt.title('Distribution of Predicted Probabilities')"
   ]
  },
  {
   "cell_type": "markdown",
   "metadata": {},
   "source": [
    "The model is fairly confident that most of the predictions are not churns. Moreover, there are a number of probabilities that are exactly the same as can be seen in the [empirical cumulative density function](https://en.wikipedia.org/wiki/Empirical_distribution_function). "
   ]
  },
  {
   "cell_type": "code",
   "execution_count": 43,
   "metadata": {},
   "outputs": [],
   "source": [
    "# Inspiration: https://campus.datacamp.com/courses/statistical-thinking-in-python-part-1/graphical-exploratory-data-analysis?ex=12\n",
    "def ecdf(x):\n",
    "    n = len(x)\n",
    "    x = np.sort(x)\n",
    "    y = np.arange(1, n + 1) / n\n",
    "    return x, y"
   ]
  },
  {
   "cell_type": "code",
   "execution_count": 44,
   "metadata": {
    "ExecuteTime": {
     "end_time": "2018-11-01T17:30:09.616714Z",
     "start_time": "2018-11-01T17:30:09.075790Z"
    }
   },
   "outputs": [
    {
     "data": {
      "text/plain": [
       "Text(0, 0.5, 'Percentile')"
      ]
     },
     "execution_count": 44,
     "metadata": {},
     "output_type": "execute_result"
    },
    {
     "data": {
      "image/png": "[encoded data removed]",
      "text/plain": [
       "<Figure size 576x396 with 1 Axes>"
      ]
     },
     "metadata": {},
     "output_type": "display_data"
    }
   ],
   "source": [
    "xs, ys = ecdf(prediction_df['probability'])\n",
    "plt.plot(xs, ys, marker='.')\n",
    "plt.title('ECDF of Predicted Probobabilities')\n",
    "plt.axvline(x=threshold_required, color='r', linewidth=2)\n",
    "plt.xlabel('Probability')\n",
    "plt.ylabel('Percentile')"
   ]
  },
  {
   "cell_type": "markdown",
   "metadata": {},
   "source": [
    "# Business Value Analysis\n",
    "\n",
    "Using the metrics from the model, we can conduct an analysis of the business value of our solution. We'll use the precision and recall along with a few assumptions.\n",
    "\n",
    "* Typical plan price = 150 (NTD)\n",
    "* Reduced plan price = 130 (NTD)\n",
    "* Recall = 75%\n",
    "* Precision = 9.5%\n",
    "* Conversion Rate = 75%\n",
    "\n",
    "$$\\text{Recall} = \\frac{TP}{TP + FN}$$\n",
    "\n",
    "$$\\text{Precision} = \\frac{TP}{TP + FP}$$\n",
    "\n",
    "We can scale our analysis to the entire dataset since we only used a subset of it for modeling. We'll assume we are able to achieve the same performance on the entire dataset, which is reasonable because the accuracy of a model generally improves as the amount of data used increases."
   ]
  },
  {
   "cell_type": "code",
   "execution_count": 45,
   "metadata": {},
   "outputs": [
    {
     "name": "stdout",
     "output_type": "stream",
     "text": [
      "Typical monthly revenue lost to 191597 churned customers = $28,739,586.27 (NTD).\n",
      "Typical total monthly revenue = $1,015,420,950.00.\n",
      "Churns losses represent 2.83% of monthly revenue.\n"
     ]
    }
   ],
   "source": [
    "plan_price = 150\n",
    "r_plan_price = 130\n",
    "recall = recall_attained\n",
    "precision = precision_attained\n",
    "conversion_rate = 0.75\n",
    "\n",
    "# Find total number of members\n",
    "n_members = pd.read_csv(f'{CWD}/data/members_v3.csv', usecols = ['msno']).shape[0]\n",
    "monthly_revenue = n_members * plan_price\n",
    "churn_rate = np.mean(feature_matrix['label'])\n",
    "\n",
    "churns = int(churn_rate * n_members)\n",
    "# Find the typical monthly revenue lost to churned customers\n",
    "revenue_lost_churns = n_members * churn_rate * plan_price\n",
    "print(f'Typical monthly revenue lost to {churns} churned customers = ${revenue_lost_churns:,.2f} (NTD).')\n",
    "print(f'Typical total monthly revenue = ${monthly_revenue:,.2f}.')\n",
    "print(f'Churns losses represent {100 * (revenue_lost_churns / monthly_revenue):.2f}% of monthly revenue.')"
   ]
  },
  {
   "cell_type": "code",
   "execution_count": 46,
   "metadata": {},
   "outputs": [
    {
     "name": "stdout",
     "output_type": "stream",
     "text": [
      "True positives: 143697; False negatives: 47900; False positives: 1373503.\n"
     ]
    }
   ],
   "source": [
    "# Find stats for entire dataset\n",
    "true_positives = int(churns * recall)\n",
    "false_negatives = int(churns - true_positives)\n",
    "false_positives = int((true_positives * (1 - precision)) / precision)\n",
    "\n",
    "print(f'True positives: {true_positives}; False negatives: {false_negatives}; False positives: {false_positives}.')"
   ]
  },
  {
   "cell_type": "markdown",
   "metadata": {},
   "source": [
    "As a sanity check, we'll make sure the precision and recall metrics come out right."
   ]
  },
  {
   "cell_type": "code",
   "execution_count": 47,
   "metadata": {},
   "outputs": [
    {
     "data": {
      "text/plain": [
       "0.09471196941734775"
      ]
     },
     "execution_count": 47,
     "metadata": {},
     "output_type": "execute_result"
    }
   ],
   "source": [
    "(true_positives) / (true_positives + false_positives)"
   ]
  },
  {
   "cell_type": "code",
   "execution_count": 48,
   "metadata": {},
   "outputs": [
    {
     "data": {
      "text/plain": [
       "0.7499960855336983"
      ]
     },
     "execution_count": 48,
     "metadata": {},
     "output_type": "execute_result"
    }
   ],
   "source": [
    "(true_positives) / (true_positives + false_negatives)"
   ]
  },
  {
   "cell_type": "markdown",
   "metadata": {},
   "source": [
    "Things look right here."
   ]
  },
  {
   "cell_type": "code",
   "execution_count": 49,
   "metadata": {},
   "outputs": [
    {
     "name": "stdout",
     "output_type": "stream",
     "text": [
      "Cost from false positives = $27,470,060.00 (NTD); Cost from false negatives = $7,185,000.00 (NTD)\n",
      "Revenue recouped from true positives = $14,010,457.50 (NTD).\n"
     ]
    }
   ],
   "source": [
    "revenue_lost_false_positives = false_positives * (plan_price - r_plan_price)\n",
    "revenue_lost_false_negatives = false_negatives * plan_price\n",
    "revenue_recouped_true_positives = conversion_rate * (true_positives * r_plan_price)\n",
    "\n",
    "print(f'Cost from false positives = ${revenue_lost_false_positives:,.2f} (NTD); Cost from false negatives = ${revenue_lost_false_negatives:,.2f} (NTD)')\n",
    "print(f'Revenue recouped from true positives = ${revenue_recouped_true_positives:,.2f} (NTD).')"
   ]
  },
  {
   "cell_type": "code",
   "execution_count": 50,
   "metadata": {},
   "outputs": [
    {
     "name": "stdout",
     "output_type": "stream",
     "text": [
      "Total Effect of identifying churns $8,094,983.77 (NTD) = $267,134.46 (USD).\n",
      "This represents 28.17% of the losses due to churns.\n"
     ]
    }
   ],
   "source": [
    "total_effect = revenue_lost_churns - (-revenue_recouped_true_positives + revenue_lost_false_positives + revenue_lost_false_negatives)\n",
    "us_dollars = total_effect * 0.033\n",
    "print(f'Total Effect of identifying churns ${total_effect:,.2f} (NTD) = ${us_dollars:,.2f} (USD).')\n",
    "print(f'This represents {100 * (total_effect / revenue_lost_churns):.2f}% of the losses due to churns.')"
   ]
  },
  {
   "cell_type": "markdown",
   "metadata": {},
   "source": [
    "Our model has successfully solved the business problem. This does require a number of assumptions, but with additional refinement, our model could probably deliver even greater value."
   ]
  },
  {
   "cell_type": "markdown",
   "metadata": {},
   "source": [
    "# Conclusions\n",
    "\n",
    "Our final tuned model was able to achieve  a significant increase over the naive baseline model. We can now use this model to predict customers at risk for churning in the future. An analysis of the business payback also showed that the final model delivered significant value. The predictions would then be handed off to the customer engagement team to hopefully reduce the number of churns.\n",
    "\n",
    "The framework for solving this problem - and for solving any problem with machine learning - was:\n",
    "\n",
    "1. Prediction Engineering: define the business objective, translate into a machine learning task, and create a set of labeled historical examples with cutoff time from the data.\n",
    "2. Feature Engineering: use the label times to automatically build hundreds of relevant and valid features for each label.\n",
    "3. Modeling: use a machine learning algorithm implemented in common Python libraries to train a model to predit the labels from the features. Validate and tune model for the business need and then make predictions on new data.\n",
    "\n",
    "![](../images/Framework.png)\n",
    "\n",
    "This approach solves a number of problems: it standardizes the traditionally ad-hoc process of solving a problem with machine learning and it is general so that nearly the same code can be used for multiple prediction problems on the same dataset. The benefits of machine learning have been limited to a few companies both because of the lack of a shared language for expressing and solving problems, and because each solution requires custom code and must be completely rebuilt for a different prediction problem. By codifying the processes needed to solve problems with machine learning, we aim to make it easier for companies to use this transformational technology. \n",
    "\n",
    "Furthermore, the framework lets data scientists fill in the details with existing tools allowing for rapid development and deployment of model pipelines. The achievements of machine learning are already impressive, but with a scaffolding in place the benefits can be extended to a broader population.\n"
   ]
  }
 ],
 "metadata": {
  "kernelspec": {
   "display_name": "Python 3 (ipykernel)",
   "language": "python",
   "name": "python3"
  },
  "language_info": {
   "codemirror_mode": {
    "name": "ipython",
    "version": 3
   },
   "file_extension": ".py",
   "mimetype": "text/x-python",
   "name": "python",
   "nbconvert_exporter": "python",
   "pygments_lexer": "ipython3",
   "version": "3.8.5"
  },
  "toc": {
   "base_numbering": 1,
   "nav_menu": {},
   "number_sections": true,
   "sideBar": true,
   "skip_h1_title": false,
   "title_cell": "Table of Contents",
   "title_sidebar": "Contents",
   "toc_cell": false,
   "toc_position": {},
   "toc_section_display": true,
   "toc_window_display": false
  },
  "varInspector": {
   "cols": {
    "lenName": 16,
    "lenType": 16,
    "lenVar": 40
   },
   "kernels_config": {
    "python": {
     "delete_cmd_postfix": "",
     "delete_cmd_prefix": "del ",
     "library": "var_list.py",
     "varRefreshCmd": "print(var_dic_list())"
    },
    "r": {
     "delete_cmd_postfix": ") ",
     "delete_cmd_prefix": "rm(",
     "library": "var_list.r",
     "varRefreshCmd": "cat(var_dic_list()) "
    }
   },
   "types_to_exclude": [
    "module",
    "function",
    "builtin_function_or_method",
    "instance",
    "_Feature"
   ],
   "window_display": false
  }
 },
 "nbformat": 4,
 "nbformat_minor": 2
}
