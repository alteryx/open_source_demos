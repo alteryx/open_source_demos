{
 "cells": [
  {
   "cell_type": "code",
   "execution_count": 1,
   "metadata": {},
   "outputs": [],
   "source": [
    "import featuretools as ft\n",
    "from featuretools.primitives import Percentile\n",
    "import composeml as cp\n",
    "import pandas as pd"
   ]
  },
  {
   "cell_type": "markdown",
   "metadata": {},
   "source": [
    "# Load in data"
   ]
  },
  {
   "cell_type": "code",
   "execution_count": 2,
   "metadata": {},
   "outputs": [],
   "source": [
    "cyber_df = pd.read_csv(\"data/CyberFLTenDays.csv\").sample(10000)\n",
    "cyber_df.index.name = \"log_id\"\n",
    "cyber_df.reset_index(inplace=True, drop=False)\n",
    "cyber_df['label'] = cyber_df['label'].map({'N': False, 'A': True}, na_action='ignore')"
   ]
  },
  {
   "cell_type": "markdown",
   "metadata": {},
   "source": [
    "# Create an EntitySet with many different dataframes\n",
    "\n",
    "Each dataframe is a different definition of \"connection\""
   ]
  },
  {
   "cell_type": "code",
   "execution_count": 3,
   "metadata": {},
   "outputs": [
    {
     "data": {
      "text/plain": [
       "Entityset: CyberLL\n",
       "  DataFrames:\n",
       "    log [Rows: 10000, Columns: 7]\n",
       "    name_host_pairs [Rows: 8001, Columns: 5]\n",
       "    src_pairs [Rows: 7325, Columns: 4]\n",
       "    src_names [Rows: 5701, Columns: 2]\n",
       "    src_hosts [Rows: 3467, Columns: 2]\n",
       "    dest_pairs [Rows: 7370, Columns: 4]\n",
       "    dest_names [Rows: 5728, Columns: 2]\n",
       "    dest_hosts [Rows: 922, Columns: 2]\n",
       "  Relationships:\n",
       "    log.name_host_pair -> name_host_pairs.name_host_pair\n",
       "    name_host_pairs.src_pair -> src_pairs.src_pair\n",
       "    src_pairs.src_name -> src_names.src_name\n",
       "    src_pairs.src_host -> src_hosts.src_host\n",
       "    name_host_pairs.dest_pair -> dest_pairs.dest_pair\n",
       "    dest_pairs.dest_name -> dest_names.dest_name\n",
       "    dest_pairs.dest_host -> dest_hosts.dest_host"
      ]
     },
     "execution_count": 3,
     "metadata": {},
     "output_type": "execute_result"
    }
   ],
   "source": [
    "es = ft.EntitySet(\"CyberLL\")\n",
    "# create an index column\n",
    "cyber_df[\"name_host_pair\"] = cyber_df[\"src_name\"].str.cat(\n",
    "                                [cyber_df[\"dest_name\"],\n",
    "                                 cyber_df[\"src_host\"],\n",
    "                                 cyber_df[\"dest_host\"]],\n",
    "                                sep=' / ')\n",
    "cyber_df[\"src_pair\"] = cyber_df[\"src_name\"].str.cat(\n",
    "                                 cyber_df[\"src_host\"],\n",
    "                                 sep=' / ')\n",
    "cyber_df[\"dest_pair\"] = cyber_df[\"dest_name\"].str.cat(\n",
    "                                 cyber_df[\"dest_host\"],\n",
    "                                 sep=' / ')\n",
    "es.add_dataframe(dataframe_name=\"log\",\n",
    "                 dataframe=cyber_df,\n",
    "                 index=\"log_id\",\n",
    "                 time_index=\"secs\")\n",
    "es.normalize_dataframe(base_dataframe_name=\"log\",\n",
    "                       new_dataframe_name=\"name_host_pairs\",\n",
    "                       index=\"name_host_pair\",\n",
    "                       additional_columns=[\"src_name\", \"dest_name\",\n",
    "                                           \"src_host\", \"dest_host\",\n",
    "                                           \"src_pair\",\n",
    "                                           \"dest_pair\",\n",
    "                                           \"label\"])\n",
    "es.normalize_dataframe(base_dataframe_name=\"name_host_pairs\",\n",
    "                       new_dataframe_name=\"src_pairs\",\n",
    "                       index=\"src_pair\",\n",
    "                       additional_columns=[\"src_name\", \"src_host\"])\n",
    "es.normalize_dataframe(base_dataframe_name=\"src_pairs\",\n",
    "                       new_dataframe_name=\"src_names\",\n",
    "                       index=\"src_name\")\n",
    "es.normalize_dataframe(base_dataframe_name=\"src_pairs\",\n",
    "                       new_dataframe_name=\"src_hosts\",\n",
    "                       index=\"src_host\")\n",
    "es.normalize_dataframe(base_dataframe_name=\"name_host_pairs\",\n",
    "                       new_dataframe_name=\"dest_pairs\",\n",
    "                       index=\"dest_pair\",\n",
    "                       additional_columns=[\"dest_name\", \"dest_host\"])\n",
    "es.normalize_dataframe(base_dataframe_name=\"dest_pairs\",\n",
    "                       new_dataframe_name=\"dest_names\",\n",
    "                       index=\"dest_name\")\n",
    "es.normalize_dataframe(base_dataframe_name=\"dest_pairs\",\n",
    "                       new_dataframe_name=\"dest_hosts\",\n",
    "                       index=\"dest_host\")"
   ]
  },
  {
   "cell_type": "markdown",
   "metadata": {},
   "source": [
    "## Visualize EntitySet"
   ]
  },
  {
   "cell_type": "code",
   "execution_count": 4,
   "metadata": {},
   "outputs": [
    {
     "data": {
      "image/svg+xml": [
       "<?xml version=\"1.0\" encoding=\"UTF-8\" standalone=\"no\"?>\n",
       "<!DOCTYPE svg PUBLIC \"-//W3C//DTD SVG 1.1//EN\"\n",
       " \"http://www.w3.org/Graphics/SVG/1.1/DTD/svg11.dtd\">\n",
       "<!-- Generated by graphviz version 2.44.1 (20200629.0846)\n",
       " -->\n",
       "<!-- Title: CyberLL Pages: 1 -->\n",
       "<svg width=\"1066pt\" height=\"514pt\"\n",
       " viewBox=\"0.00 0.00 1066.00 514.00\" xmlns=\"http://www.w3.org/2000/svg\" xmlns:xlink=\"http://www.w3.org/1999/xlink\">\n",
       "<g id=\"graph0\" class=\"graph\" transform=\"scale(1 1) rotate(0) translate(4 510)\">\n",
       "<title>CyberLL</title>\n",
       "<polygon fill=\"white\" stroke=\"transparent\" points=\"-4,4 -4,-510 1062,-510 1062,4 -4,4\"/>\n",
       "<!-- log -->\n",
       "<g id=\"node1\" class=\"node\">\n",
       "<title>log</title>\n",
       "<polygon fill=\"none\" stroke=\"black\" points=\"403,-369.5 403,-505.5 644,-505.5 644,-369.5 403,-369.5\"/>\n",
       "<text text-anchor=\"middle\" x=\"523.5\" y=\"-490.3\" font-family=\"Times,serif\" font-size=\"14.00\">log (10000 rows)</text>\n",
       "<polyline fill=\"none\" stroke=\"black\" points=\"403,-482.5 644,-482.5 \"/>\n",
       "<text text-anchor=\"start\" x=\"411\" y=\"-467.3\" font-family=\"Times,serif\" font-size=\"14.00\">log_id : Integer; index</text>\n",
       "<text text-anchor=\"start\" x=\"411\" y=\"-452.3\" font-family=\"Times,serif\" font-size=\"14.00\">secs : Integer; time_index</text>\n",
       "<text text-anchor=\"start\" x=\"411\" y=\"-437.3\" font-family=\"Times,serif\" font-size=\"14.00\">auth_type : Categorical</text>\n",
       "<text text-anchor=\"start\" x=\"411\" y=\"-422.3\" font-family=\"Times,serif\" font-size=\"14.00\">login_type : Categorical</text>\n",
       "<text text-anchor=\"start\" x=\"411\" y=\"-407.3\" font-family=\"Times,serif\" font-size=\"14.00\">stage : Categorical</text>\n",
       "<text text-anchor=\"start\" x=\"411\" y=\"-392.3\" font-family=\"Times,serif\" font-size=\"14.00\">result : Categorical</text>\n",
       "<text text-anchor=\"start\" x=\"411\" y=\"-377.3\" font-family=\"Times,serif\" font-size=\"14.00\">name_host_pair : Unknown; foreign_key</text>\n",
       "</g>\n",
       "<!-- name_host_pairs -->\n",
       "<g id=\"node2\" class=\"node\">\n",
       "<title>name_host_pairs</title>\n",
       "<polygon fill=\"none\" stroke=\"black\" points=\"417.5,-226.5 417.5,-332.5 629.5,-332.5 629.5,-226.5 417.5,-226.5\"/>\n",
       "<text text-anchor=\"middle\" x=\"523.5\" y=\"-317.3\" font-family=\"Times,serif\" font-size=\"14.00\">name_host_pairs (8001 rows)</text>\n",
       "<polyline fill=\"none\" stroke=\"black\" points=\"417.5,-309.5 629.5,-309.5 \"/>\n",
       "<text text-anchor=\"start\" x=\"425.5\" y=\"-294.3\" font-family=\"Times,serif\" font-size=\"14.00\">name_host_pair : Unknown; index</text>\n",
       "<text text-anchor=\"start\" x=\"425.5\" y=\"-279.3\" font-family=\"Times,serif\" font-size=\"14.00\">src_pair : Unknown; foreign_key</text>\n",
       "<text text-anchor=\"start\" x=\"425.5\" y=\"-264.3\" font-family=\"Times,serif\" font-size=\"14.00\">dest_pair : Unknown; foreign_key</text>\n",
       "<text text-anchor=\"start\" x=\"425.5\" y=\"-249.3\" font-family=\"Times,serif\" font-size=\"14.00\">label : Boolean</text>\n",
       "<text text-anchor=\"start\" x=\"425.5\" y=\"-234.3\" font-family=\"Times,serif\" font-size=\"14.00\">first_log_time : Integer; time_index</text>\n",
       "</g>\n",
       "<!-- log&#45;&gt;name_host_pairs -->\n",
       "<g id=\"edge1\" class=\"edge\">\n",
       "<title>log&#45;&gt;name_host_pairs</title>\n",
       "<path fill=\"none\" stroke=\"black\" d=\"M523.5,-369.12C523.5,-369.12 523.5,-342.75 523.5,-342.75\"/>\n",
       "<polygon fill=\"black\" stroke=\"black\" points=\"527,-342.75 523.5,-332.75 520,-342.75 527,-342.75\"/>\n",
       "<text text-anchor=\"middle\" x=\"479.5\" y=\"-344.73\" font-family=\"Times,serif\" font-size=\"14.00\">name_host_pair</text>\n",
       "</g>\n",
       "<!-- src_pairs -->\n",
       "<g id=\"node3\" class=\"node\">\n",
       "<title>src_pairs</title>\n",
       "<polygon fill=\"none\" stroke=\"black\" points=\"228,-98.5 228,-189.5 515,-189.5 515,-98.5 228,-98.5\"/>\n",
       "<text text-anchor=\"middle\" x=\"371.5\" y=\"-174.3\" font-family=\"Times,serif\" font-size=\"14.00\">src_pairs (7325 rows)</text>\n",
       "<polyline fill=\"none\" stroke=\"black\" points=\"228,-166.5 515,-166.5 \"/>\n",
       "<text text-anchor=\"start\" x=\"236\" y=\"-151.3\" font-family=\"Times,serif\" font-size=\"14.00\">src_pair : Unknown; index</text>\n",
       "<text text-anchor=\"start\" x=\"236\" y=\"-136.3\" font-family=\"Times,serif\" font-size=\"14.00\">src_name : Unknown; foreign_key</text>\n",
       "<text text-anchor=\"start\" x=\"236\" y=\"-121.3\" font-family=\"Times,serif\" font-size=\"14.00\">src_host : Unknown; foreign_key</text>\n",
       "<text text-anchor=\"start\" x=\"236\" y=\"-106.3\" font-family=\"Times,serif\" font-size=\"14.00\">first_name_host_pairs_time : Integer; time_index</text>\n",
       "</g>\n",
       "<!-- name_host_pairs&#45;&gt;src_pairs -->\n",
       "<g id=\"edge2\" class=\"edge\">\n",
       "<title>name_host_pairs&#45;&gt;src_pairs</title>\n",
       "<path fill=\"none\" stroke=\"black\" d=\"M466.25,-226.34C466.25,-226.34 466.25,-199.55 466.25,-199.55\"/>\n",
       "<polygon fill=\"black\" stroke=\"black\" points=\"469.75,-199.55 466.25,-189.55 462.75,-199.55 469.75,-199.55\"/>\n",
       "<text text-anchor=\"middle\" x=\"444.25\" y=\"-201.74\" font-family=\"Times,serif\" font-size=\"14.00\">src_pair</text>\n",
       "</g>\n",
       "<!-- dest_pairs -->\n",
       "<g id=\"node6\" class=\"node\">\n",
       "<title>dest_pairs</title>\n",
       "<polygon fill=\"none\" stroke=\"black\" points=\"533,-98.5 533,-189.5 820,-189.5 820,-98.5 533,-98.5\"/>\n",
       "<text text-anchor=\"middle\" x=\"676.5\" y=\"-174.3\" font-family=\"Times,serif\" font-size=\"14.00\">dest_pairs (7370 rows)</text>\n",
       "<polyline fill=\"none\" stroke=\"black\" points=\"533,-166.5 820,-166.5 \"/>\n",
       "<text text-anchor=\"start\" x=\"541\" y=\"-151.3\" font-family=\"Times,serif\" font-size=\"14.00\">dest_pair : Unknown; index</text>\n",
       "<text text-anchor=\"start\" x=\"541\" y=\"-136.3\" font-family=\"Times,serif\" font-size=\"14.00\">dest_name : Unknown; foreign_key</text>\n",
       "<text text-anchor=\"start\" x=\"541\" y=\"-121.3\" font-family=\"Times,serif\" font-size=\"14.00\">dest_host : Categorical; foreign_key</text>\n",
       "<text text-anchor=\"start\" x=\"541\" y=\"-106.3\" font-family=\"Times,serif\" font-size=\"14.00\">first_name_host_pairs_time : Integer; time_index</text>\n",
       "</g>\n",
       "<!-- name_host_pairs&#45;&gt;dest_pairs -->\n",
       "<g id=\"edge5\" class=\"edge\">\n",
       "<title>name_host_pairs&#45;&gt;dest_pairs</title>\n",
       "<path fill=\"none\" stroke=\"black\" d=\"M581.25,-226.34C581.25,-226.34 581.25,-199.55 581.25,-199.55\"/>\n",
       "<polygon fill=\"black\" stroke=\"black\" points=\"584.75,-199.55 581.25,-189.55 577.75,-199.55 584.75,-199.55\"/>\n",
       "<text text-anchor=\"middle\" x=\"556.25\" y=\"-201.74\" font-family=\"Times,serif\" font-size=\"14.00\">dest_pair</text>\n",
       "</g>\n",
       "<!-- src_names -->\n",
       "<g id=\"node4\" class=\"node\">\n",
       "<title>src_names</title>\n",
       "<polygon fill=\"none\" stroke=\"black\" points=\"0,-0.5 0,-61.5 243,-61.5 243,-0.5 0,-0.5\"/>\n",
       "<text text-anchor=\"middle\" x=\"121.5\" y=\"-46.3\" font-family=\"Times,serif\" font-size=\"14.00\">src_names (5701 rows)</text>\n",
       "<polyline fill=\"none\" stroke=\"black\" points=\"0,-38.5 243,-38.5 \"/>\n",
       "<text text-anchor=\"start\" x=\"8\" y=\"-23.3\" font-family=\"Times,serif\" font-size=\"14.00\">src_name : Unknown; index</text>\n",
       "<text text-anchor=\"start\" x=\"8\" y=\"-8.3\" font-family=\"Times,serif\" font-size=\"14.00\">first_src_pairs_time : Integer; time_index</text>\n",
       "</g>\n",
       "<!-- src_pairs&#45;&gt;src_names -->\n",
       "<g id=\"edge3\" class=\"edge\">\n",
       "<title>src_pairs&#45;&gt;src_names</title>\n",
       "<path fill=\"none\" stroke=\"black\" d=\"M235.5,-98.36C235.5,-98.36 235.5,-71.57 235.5,-71.57\"/>\n",
       "<polygon fill=\"black\" stroke=\"black\" points=\"239,-71.57 235.5,-61.57 232,-71.57 239,-71.57\"/>\n",
       "<text text-anchor=\"middle\" x=\"209\" y=\"-73.77\" font-family=\"Times,serif\" font-size=\"14.00\">src_name</text>\n",
       "</g>\n",
       "<!-- src_hosts -->\n",
       "<g id=\"node5\" class=\"node\">\n",
       "<title>src_hosts</title>\n",
       "<polygon fill=\"none\" stroke=\"black\" points=\"261,-0.5 261,-61.5 504,-61.5 504,-0.5 261,-0.5\"/>\n",
       "<text text-anchor=\"middle\" x=\"382.5\" y=\"-46.3\" font-family=\"Times,serif\" font-size=\"14.00\">src_hosts (3467 rows)</text>\n",
       "<polyline fill=\"none\" stroke=\"black\" points=\"261,-38.5 504,-38.5 \"/>\n",
       "<text text-anchor=\"start\" x=\"269\" y=\"-23.3\" font-family=\"Times,serif\" font-size=\"14.00\">src_host : Unknown; index</text>\n",
       "<text text-anchor=\"start\" x=\"269\" y=\"-8.3\" font-family=\"Times,serif\" font-size=\"14.00\">first_src_pairs_time : Integer; time_index</text>\n",
       "</g>\n",
       "<!-- src_pairs&#45;&gt;src_hosts -->\n",
       "<g id=\"edge4\" class=\"edge\">\n",
       "<title>src_pairs&#45;&gt;src_hosts</title>\n",
       "<path fill=\"none\" stroke=\"black\" d=\"M382.5,-98.36C382.5,-98.36 382.5,-71.57 382.5,-71.57\"/>\n",
       "<polygon fill=\"black\" stroke=\"black\" points=\"386,-71.57 382.5,-61.57 379,-71.57 386,-71.57\"/>\n",
       "<text text-anchor=\"middle\" x=\"359.5\" y=\"-73.77\" font-family=\"Times,serif\" font-size=\"14.00\">src_host</text>\n",
       "</g>\n",
       "<!-- dest_names -->\n",
       "<g id=\"node7\" class=\"node\">\n",
       "<title>dest_names</title>\n",
       "<polygon fill=\"none\" stroke=\"black\" points=\"542,-0.5 542,-61.5 791,-61.5 791,-0.5 542,-0.5\"/>\n",
       "<text text-anchor=\"middle\" x=\"666.5\" y=\"-46.3\" font-family=\"Times,serif\" font-size=\"14.00\">dest_names (5728 rows)</text>\n",
       "<polyline fill=\"none\" stroke=\"black\" points=\"542,-38.5 791,-38.5 \"/>\n",
       "<text text-anchor=\"start\" x=\"550\" y=\"-23.3\" font-family=\"Times,serif\" font-size=\"14.00\">dest_name : Unknown; index</text>\n",
       "<text text-anchor=\"start\" x=\"550\" y=\"-8.3\" font-family=\"Times,serif\" font-size=\"14.00\">first_dest_pairs_time : Integer; time_index</text>\n",
       "</g>\n",
       "<!-- dest_pairs&#45;&gt;dest_names -->\n",
       "<g id=\"edge6\" class=\"edge\">\n",
       "<title>dest_pairs&#45;&gt;dest_names</title>\n",
       "<path fill=\"none\" stroke=\"black\" d=\"M666.5,-98.36C666.5,-98.36 666.5,-71.57 666.5,-71.57\"/>\n",
       "<polygon fill=\"black\" stroke=\"black\" points=\"670,-71.57 666.5,-61.57 663,-71.57 670,-71.57\"/>\n",
       "<text text-anchor=\"middle\" x=\"637\" y=\"-73.77\" font-family=\"Times,serif\" font-size=\"14.00\">dest_name</text>\n",
       "</g>\n",
       "<!-- dest_hosts -->\n",
       "<g id=\"node8\" class=\"node\">\n",
       "<title>dest_hosts</title>\n",
       "<polygon fill=\"none\" stroke=\"black\" points=\"809,-0.5 809,-61.5 1058,-61.5 1058,-0.5 809,-0.5\"/>\n",
       "<text text-anchor=\"middle\" x=\"933.5\" y=\"-46.3\" font-family=\"Times,serif\" font-size=\"14.00\">dest_hosts (922 rows)</text>\n",
       "<polyline fill=\"none\" stroke=\"black\" points=\"809,-38.5 1058,-38.5 \"/>\n",
       "<text text-anchor=\"start\" x=\"817\" y=\"-23.3\" font-family=\"Times,serif\" font-size=\"14.00\">dest_host : Categorical; index</text>\n",
       "<text text-anchor=\"start\" x=\"817\" y=\"-8.3\" font-family=\"Times,serif\" font-size=\"14.00\">first_dest_pairs_time : Integer; time_index</text>\n",
       "</g>\n",
       "<!-- dest_pairs&#45;&gt;dest_hosts -->\n",
       "<g id=\"edge7\" class=\"edge\">\n",
       "<title>dest_pairs&#45;&gt;dest_hosts</title>\n",
       "<path fill=\"none\" stroke=\"black\" d=\"M814.5,-98.36C814.5,-98.36 814.5,-71.57 814.5,-71.57\"/>\n",
       "<polygon fill=\"black\" stroke=\"black\" points=\"818,-71.57 814.5,-61.57 811,-71.57 818,-71.57\"/>\n",
       "<text text-anchor=\"middle\" x=\"788.5\" y=\"-73.77\" font-family=\"Times,serif\" font-size=\"14.00\">dest_host</text>\n",
       "</g>\n",
       "</g>\n",
       "</svg>\n"
      ],
      "text/plain": [
       "<graphviz.graphs.Digraph at 0x7f953b72cf70>"
      ]
     },
     "execution_count": 4,
     "metadata": {},
     "output_type": "execute_result"
    }
   ],
   "source": [
    "es.plot()"
   ]
  },
  {
   "cell_type": "markdown",
   "metadata": {},
   "source": [
    "# Define function to generate labels and cutoff times"
   ]
  },
  {
   "cell_type": "markdown",
   "metadata": {},
   "source": [
    "We use [Compose](https://compose.featurelabs.com/) to define our labeling function."
   ]
  },
  {
   "cell_type": "code",
   "execution_count": 5,
   "metadata": {},
   "outputs": [],
   "source": [
    "def malicious_connection(df, lead):\n",
    "    if (len(df.index) > lead + 1): \n",
    "        return df.iloc[lead:]['label'].any()\n",
    "    \n",
    "def label_generator(cyber_df, index_col, after_n_obs, lead, prediction_window):\n",
    "    lm = cp.LabelMaker(\n",
    "        target_dataframe_name=index_col,\n",
    "        time_index=\"secs\",\n",
    "        labeling_function=malicious_connection,\n",
    "        window_size=window + lead\n",
    "    )\n",
    "    label_times = lm.search(\n",
    "        cyber_df.sort_values('secs'),\n",
    "        minimum_data=after_n_obs,\n",
    "        gap=after_n_obs + lead + window,\n",
    "        num_examples_per_instance=1,\n",
    "        lead=lead,\n",
    "        verbose=False\n",
    "    )\n",
    "    label_times['time'] = pd.to_numeric(label_times['time'])\n",
    "    return label_times"
   ]
  },
  {
   "cell_type": "code",
   "execution_count": 6,
   "metadata": {},
   "outputs": [],
   "source": [
    "# predict after 3 observations\n",
    "after_n_obs = 3\n",
    "\n",
    "# predict 2 observations out\n",
    "lead = 2\n",
    "\n",
    "# predict if any malicious attacks in a 10-observation window\n",
    "window = 10"
   ]
  },
  {
   "cell_type": "markdown",
   "metadata": {},
   "source": [
    "# Compute features for various types of connections"
   ]
  },
  {
   "cell_type": "code",
   "execution_count": 7,
   "metadata": {},
   "outputs": [
    {
     "name": "stdout",
     "output_type": "stream",
     "text": [
      "Built 799 features\n",
      "Elapsed: 01:20 | Progress: 100%|██████████████████████████████████████████\n"
     ]
    }
   ],
   "source": [
    "# features on src_name\n",
    "cutoffs = label_generator(cyber_df, \"src_name\", after_n_obs, lead, window)\n",
    "fm, fl = ft.dfs(entityset=es, target_dataframe_name=\"src_names\", cutoff_time=cutoffs, verbose=True, max_depth=3)"
   ]
  },
  {
   "cell_type": "code",
   "execution_count": 8,
   "metadata": {},
   "outputs": [
    {
     "name": "stdout",
     "output_type": "stream",
     "text": [
      "Built 799 features\n",
      "Elapsed: 01:17 | Progress: 100%|██████████████████████████████████████████\n"
     ]
    }
   ],
   "source": [
    "## features on src_host\n",
    "cutoffs = label_generator(cyber_df, \"src_host\", after_n_obs, lead, window)\n",
    "fm, fl = ft.dfs(entityset=es, target_dataframe_name=\"src_hosts\", cutoff_time=cutoffs, verbose=True, max_depth=3)"
   ]
  },
  {
   "cell_type": "code",
   "execution_count": 9,
   "metadata": {},
   "outputs": [
    {
     "name": "stdout",
     "output_type": "stream",
     "text": [
      "Built 793 features\n",
      "Elapsed: 01:24 | Progress: 100%|██████████████████████████████████████████\n"
     ]
    }
   ],
   "source": [
    "## features on dest_name\n",
    "cutoffs = label_generator(cyber_df, \"dest_name\", after_n_obs, lead, window)\n",
    "fm, fl = ft.dfs(entityset=es, target_dataframe_name=\"dest_names\", cutoff_time=cutoffs, verbose=True, max_depth=3)"
   ]
  },
  {
   "cell_type": "code",
   "execution_count": 10,
   "metadata": {},
   "outputs": [
    {
     "name": "stdout",
     "output_type": "stream",
     "text": [
      "Built 799 features\n",
      "Elapsed: 01:00 | Progress: 100%|██████████████████████████████████████████\n"
     ]
    }
   ],
   "source": [
    "## features on dest_host\n",
    "cutoffs = label_generator(cyber_df, \"dest_host\", after_n_obs, lead, window)\n",
    "fm, fl = ft.dfs(entityset=es, target_dataframe_name=\"dest_hosts\", cutoff_time=cutoffs, verbose=True, max_depth=3)"
   ]
  },
  {
   "cell_type": "code",
   "execution_count": 11,
   "metadata": {},
   "outputs": [
    {
     "name": "stdout",
     "output_type": "stream",
     "text": [
      "Built 88 features\n",
      "Elapsed: 01:19 | Progress: 100%|██████████████████████████████████████████\n"
     ]
    }
   ],
   "source": [
    "# features on src_name/dest_name/src_host/dest_host\n",
    "cutoffs = label_generator(cyber_df, \"name_host_pair\", after_n_obs, lead, window)\n",
    "fm, fl = ft.dfs(entityset=es, target_dataframe_name=\"name_host_pairs\", cutoff_time=cutoffs, verbose=True, max_depth=2, trans_primitives=[Percentile])"
   ]
  },
  {
   "cell_type": "code",
   "execution_count": 12,
   "metadata": {},
   "outputs": [],
   "source": [
    "# merge entities together to access the index variables created in the process of normalizing\n",
    "merged = (es['log'].merge(es['name_host_pairs'])\n",
    "                   .merge(es['src_pairs'])\n",
    "                   .merge(es['dest_pairs']))"
   ]
  },
  {
   "cell_type": "code",
   "execution_count": 13,
   "metadata": {},
   "outputs": [
    {
     "name": "stdout",
     "output_type": "stream",
     "text": [
      "Built 192 features\n",
      "Elapsed: 00:59 | Progress: 100%|██████████████████████████████████████████\n"
     ]
    }
   ],
   "source": [
    "# features on src_name/src_host\n",
    "cutoffs = label_generator(merged, 'src_pair', after_n_obs, lead, window)\n",
    "fm, fl = ft.dfs(entityset=es, target_dataframe_name=\"src_pairs\", cutoff_time=cutoffs, verbose=True, max_depth=2, trans_primitives=[Percentile])"
   ]
  },
  {
   "cell_type": "code",
   "execution_count": 14,
   "metadata": {},
   "outputs": [
    {
     "name": "stdout",
     "output_type": "stream",
     "text": [
      "Built 193 features\n",
      "Elapsed: 01:00 | Progress: 100%|██████████████████████████████████████████\n"
     ]
    }
   ],
   "source": [
    "# features on dest_name/dest_host\n",
    "cutoffs = label_generator(merged, 'dest_pair', after_n_obs, lead, window)\n",
    "fm, fl = ft.dfs(entityset=es, target_dataframe_name=\"dest_pairs\", cutoff_time=cutoffs, verbose=True, max_depth=2, trans_primitives=[Percentile])"
   ]
  },
  {
   "cell_type": "markdown",
   "metadata": {},
   "source": [
    "## Built at Alteryx Innovation Labs\n",
    "\n",
    "<p>\n",
    "<a href=\"https://www.alteryx.com/innovation-labs\">\n",
    "    <img width=\"75%\" src=\"https://evalml-web-images.s3.amazonaws.com/alteryx_innovation_labs.png\" alt=\"Alteryx Innovation Labs\" />\n",
    "</a>\n",
    "</p>"
   ]
  }
 ],
 "metadata": {
  "kernelspec": {
   "display_name": "Python 3 (ipykernel)",
   "language": "python",
   "name": "python3"
  },
  "language_info": {
   "codemirror_mode": {
    "name": "ipython",
    "version": 3
   },
   "file_extension": ".py",
   "mimetype": "text/x-python",
   "name": "python",
   "nbconvert_exporter": "python",
   "pygments_lexer": "ipython3",
   "version": "3.8.5"
  }
 },
 "nbformat": 4,
 "nbformat_minor": 2
}
