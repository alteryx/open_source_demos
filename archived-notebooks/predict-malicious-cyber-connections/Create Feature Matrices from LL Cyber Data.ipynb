{
 "cells": [
  {
   "cell_type": "code",
   "execution_count": 1,
   "metadata": {},
   "outputs": [],
   "source": [
    "import featuretools as ft\n",
    "from featuretools.primitives import Percentile\n",
    "import composeml as cp\n",
    "import pandas as pd"
   ]
  },
  {
   "cell_type": "markdown",
   "metadata": {},
   "source": [
    "# Load in data"
   ]
  },
  {
   "cell_type": "code",
   "execution_count": 2,
   "metadata": {},
   "outputs": [],
   "source": [
    "cyber_df = pd.read_csv(\"data/CyberFLTenDays.csv\").sample(10000)\n",
    "cyber_df.index.name = \"log_id\"\n",
    "cyber_df.reset_index(inplace=True, drop=False)\n",
    "cyber_df['label'] = cyber_df['label'].map({'N': False, 'A': True}, na_action='ignore')"
   ]
  },
  {
   "cell_type": "markdown",
   "metadata": {},
   "source": [
    "# Create an EntitySet with many different entities\n",
    "\n",
    "Each entity is a different definition of \"connection\""
   ]
  },
  {
   "cell_type": "code",
   "execution_count": 3,
   "metadata": {},
   "outputs": [
    {
     "data": {
      "text/plain": [
       "Entityset: CyberLL\n",
       "  Entities:\n",
       "    log [Rows: 10000, Columns: 7]\n",
       "    name_host_pairs [Rows: 8021, Columns: 5]\n",
       "    src_pairs [Rows: 7336, Columns: 4]\n",
       "    src_names [Rows: 5691, Columns: 2]\n",
       "    src_hosts [Rows: 3542, Columns: 2]\n",
       "    dest_pairs [Rows: 7365, Columns: 4]\n",
       "    dest_names [Rows: 5695, Columns: 2]\n",
       "    dest_hosts [Rows: 940, Columns: 2]\n",
       "  Relationships:\n",
       "    log.name_host_pair -> name_host_pairs.name_host_pair\n",
       "    name_host_pairs.src_pair -> src_pairs.src_pair\n",
       "    src_pairs.src_name -> src_names.src_name\n",
       "    src_pairs.src_host -> src_hosts.src_host\n",
       "    name_host_pairs.dest_pair -> dest_pairs.dest_pair\n",
       "    dest_pairs.dest_name -> dest_names.dest_name\n",
       "    dest_pairs.dest_host -> dest_hosts.dest_host"
      ]
     },
     "execution_count": 3,
     "metadata": {},
     "output_type": "execute_result"
    }
   ],
   "source": [
    "es = ft.EntitySet(\"CyberLL\")\n",
    "# create an index column\n",
    "cyber_df[\"name_host_pair\"] = cyber_df[\"src_name\"].str.cat(\n",
    "                                [cyber_df[\"dest_name\"],\n",
    "                                 cyber_df[\"src_host\"],\n",
    "                                 cyber_df[\"dest_host\"]],\n",
    "                                sep=' / ')\n",
    "cyber_df[\"src_pair\"] = cyber_df[\"src_name\"].str.cat(\n",
    "                                 cyber_df[\"src_host\"],\n",
    "                                 sep=' / ')\n",
    "cyber_df[\"dest_pair\"] = cyber_df[\"dest_name\"].str.cat(\n",
    "                                 cyber_df[\"dest_host\"],\n",
    "                                 sep=' / ')\n",
    "es.entity_from_dataframe(\"log\",\n",
    "                         cyber_df,\n",
    "                         index=\"log_id\",\n",
    "                         time_index=\"secs\")\n",
    "es.normalize_entity(base_entity_id=\"log\",\n",
    "                    new_entity_id=\"name_host_pairs\",\n",
    "                    index=\"name_host_pair\",\n",
    "                    additional_variables=[\"src_name\", \"dest_name\",\n",
    "                                          \"src_host\", \"dest_host\",\n",
    "                                          \"src_pair\",\n",
    "                                          \"dest_pair\",\n",
    "                                          \"label\"])\n",
    "es.normalize_entity(base_entity_id=\"name_host_pairs\",\n",
    "                    new_entity_id=\"src_pairs\",\n",
    "                    index=\"src_pair\",\n",
    "                    additional_variables=[\"src_name\", \"src_host\"])\n",
    "es.normalize_entity(base_entity_id=\"src_pairs\",\n",
    "                    new_entity_id=\"src_names\",\n",
    "                    index=\"src_name\")\n",
    "es.normalize_entity(base_entity_id=\"src_pairs\",\n",
    "                    new_entity_id=\"src_hosts\",\n",
    "                    index=\"src_host\")\n",
    "es.normalize_entity(base_entity_id=\"name_host_pairs\",\n",
    "                    new_entity_id=\"dest_pairs\",\n",
    "                    index=\"dest_pair\",\n",
    "                    additional_variables=[\"dest_name\", \"dest_host\"])\n",
    "es.normalize_entity(base_entity_id=\"dest_pairs\",\n",
    "                    new_entity_id=\"dest_names\",\n",
    "                    index=\"dest_name\")\n",
    "es.normalize_entity(base_entity_id=\"dest_pairs\",\n",
    "                    new_entity_id=\"dest_hosts\",\n",
    "                    index=\"dest_host\")"
   ]
  },
  {
   "cell_type": "markdown",
   "metadata": {},
   "source": [
    "## Visualize EntitySet"
   ]
  },
  {
   "cell_type": "code",
   "execution_count": 4,
   "metadata": {},
   "outputs": [
    {
     "data": {
      "image/svg+xml": [
       "<?xml version=\"1.0\" encoding=\"UTF-8\" standalone=\"no\"?>\n",
       "<!DOCTYPE svg PUBLIC \"-//W3C//DTD SVG 1.1//EN\"\n",
       " \"http://www.w3.org/Graphics/SVG/1.1/DTD/svg11.dtd\">\n",
       "<!-- Generated by graphviz version 2.43.0 (0)\n",
       " -->\n",
       "<!-- Title: CyberLL Pages: 1 -->\n",
       "<svg width=\"1110pt\" height=\"492pt\"\n",
       " viewBox=\"0.00 0.00 1110.07 492.00\" xmlns=\"http://www.w3.org/2000/svg\" xmlns:xlink=\"http://www.w3.org/1999/xlink\">\n",
       "<g id=\"graph0\" class=\"graph\" transform=\"scale(1 1) rotate(0) translate(4 488)\">\n",
       "<title>CyberLL</title>\n",
       "<polygon fill=\"white\" stroke=\"transparent\" points=\"-4,4 -4,-488 1106.07,-488 1106.07,4 -4,4\"/>\n",
       "<!-- log -->\n",
       "<g id=\"node1\" class=\"node\">\n",
       "<title>log</title>\n",
       "<polygon fill=\"none\" stroke=\"black\" points=\"462.94,-355.5 462.94,-483.5 629.01,-483.5 629.01,-355.5 462.94,-355.5\"/>\n",
       "<text text-anchor=\"middle\" x=\"545.98\" y=\"-468.3\" font-family=\"Times,serif\" font-size=\"14.00\">log (10000 rows)</text>\n",
       "<polyline fill=\"none\" stroke=\"black\" points=\"462.94,-461.5 629.01,-461.5 \"/>\n",
       "<text text-anchor=\"start\" x=\"470.94\" y=\"-446.3\" font-family=\"Times,serif\" font-size=\"14.00\">log_id : index</text>\n",
       "<text text-anchor=\"start\" x=\"470.94\" y=\"-432.3\" font-family=\"Times,serif\" font-size=\"14.00\">secs : numeric_time_index</text>\n",
       "<text text-anchor=\"start\" x=\"470.94\" y=\"-418.3\" font-family=\"Times,serif\" font-size=\"14.00\">auth_type : categorical</text>\n",
       "<text text-anchor=\"start\" x=\"470.94\" y=\"-404.3\" font-family=\"Times,serif\" font-size=\"14.00\">login_type : categorical</text>\n",
       "<text text-anchor=\"start\" x=\"470.94\" y=\"-390.3\" font-family=\"Times,serif\" font-size=\"14.00\">stage : categorical</text>\n",
       "<text text-anchor=\"start\" x=\"470.94\" y=\"-376.3\" font-family=\"Times,serif\" font-size=\"14.00\">result : categorical</text>\n",
       "<text text-anchor=\"start\" x=\"470.94\" y=\"-362.3\" font-family=\"Times,serif\" font-size=\"14.00\">name_host_pair : id</text>\n",
       "</g>\n",
       "<!-- name_host_pairs -->\n",
       "<g id=\"node2\" class=\"node\">\n",
       "<title>name_host_pairs</title>\n",
       "<polygon fill=\"none\" stroke=\"black\" points=\"435.32,-218.5 435.32,-318.5 656.63,-318.5 656.63,-218.5 435.32,-218.5\"/>\n",
       "<text text-anchor=\"middle\" x=\"545.98\" y=\"-303.3\" font-family=\"Times,serif\" font-size=\"14.00\">name_host_pairs (8021 rows)</text>\n",
       "<polyline fill=\"none\" stroke=\"black\" points=\"435.32,-296.5 656.63,-296.5 \"/>\n",
       "<text text-anchor=\"start\" x=\"443.32\" y=\"-281.3\" font-family=\"Times,serif\" font-size=\"14.00\">name_host_pair : index</text>\n",
       "<text text-anchor=\"start\" x=\"443.32\" y=\"-267.3\" font-family=\"Times,serif\" font-size=\"14.00\">src_pair : id</text>\n",
       "<text text-anchor=\"start\" x=\"443.32\" y=\"-253.3\" font-family=\"Times,serif\" font-size=\"14.00\">dest_pair : id</text>\n",
       "<text text-anchor=\"start\" x=\"443.32\" y=\"-239.3\" font-family=\"Times,serif\" font-size=\"14.00\">label : boolean</text>\n",
       "<text text-anchor=\"start\" x=\"443.32\" y=\"-225.3\" font-family=\"Times,serif\" font-size=\"14.00\">first_log_time : numeric_time_index</text>\n",
       "</g>\n",
       "<!-- log&#45;&gt;name_host_pairs -->\n",
       "<g id=\"edge1\" class=\"edge\">\n",
       "<title>log&#45;&gt;name_host_pairs</title>\n",
       "<path fill=\"none\" stroke=\"black\" d=\"M545.98,-355.46C545.98,-355.46 545.98,-328.9 545.98,-328.9\"/>\n",
       "<polygon fill=\"black\" stroke=\"black\" points=\"549.48,-328.9 545.98,-318.9 542.48,-328.9 549.48,-328.9\"/>\n",
       "<text text-anchor=\"middle\" x=\"501.27\" y=\"-330.98\" font-family=\"Times,serif\" font-size=\"14.00\">name_host_pair</text>\n",
       "</g>\n",
       "<!-- src_pairs -->\n",
       "<g id=\"node3\" class=\"node\">\n",
       "<title>src_pairs</title>\n",
       "<polygon fill=\"none\" stroke=\"black\" points=\"238.83,-95.5 238.83,-181.5 537.12,-181.5 537.12,-95.5 238.83,-95.5\"/>\n",
       "<text text-anchor=\"middle\" x=\"387.98\" y=\"-166.3\" font-family=\"Times,serif\" font-size=\"14.00\">src_pairs (7336 rows)</text>\n",
       "<polyline fill=\"none\" stroke=\"black\" points=\"238.83,-159.5 537.12,-159.5 \"/>\n",
       "<text text-anchor=\"start\" x=\"246.83\" y=\"-144.3\" font-family=\"Times,serif\" font-size=\"14.00\">src_pair : index</text>\n",
       "<text text-anchor=\"start\" x=\"246.83\" y=\"-130.3\" font-family=\"Times,serif\" font-size=\"14.00\">src_name : id</text>\n",
       "<text text-anchor=\"start\" x=\"246.83\" y=\"-116.3\" font-family=\"Times,serif\" font-size=\"14.00\">src_host : id</text>\n",
       "<text text-anchor=\"start\" x=\"246.83\" y=\"-102.3\" font-family=\"Times,serif\" font-size=\"14.00\">first_name_host_pairs_time : numeric_time_index</text>\n",
       "</g>\n",
       "<!-- name_host_pairs&#45;&gt;src_pairs -->\n",
       "<g id=\"edge2\" class=\"edge\">\n",
       "<title>name_host_pairs&#45;&gt;src_pairs</title>\n",
       "<path fill=\"none\" stroke=\"black\" d=\"M486.22,-218.24C486.22,-218.24 486.22,-191.86 486.22,-191.86\"/>\n",
       "<polygon fill=\"black\" stroke=\"black\" points=\"489.72,-191.86 486.22,-181.86 482.72,-191.86 489.72,-191.86\"/>\n",
       "<text text-anchor=\"middle\" x=\"463.68\" y=\"-193.85\" font-family=\"Times,serif\" font-size=\"14.00\">src_pair</text>\n",
       "</g>\n",
       "<!-- dest_pairs -->\n",
       "<g id=\"node6\" class=\"node\">\n",
       "<title>dest_pairs</title>\n",
       "<polygon fill=\"none\" stroke=\"black\" points=\"554.83,-95.5 554.83,-181.5 853.12,-181.5 853.12,-95.5 554.83,-95.5\"/>\n",
       "<text text-anchor=\"middle\" x=\"703.98\" y=\"-166.3\" font-family=\"Times,serif\" font-size=\"14.00\">dest_pairs (7365 rows)</text>\n",
       "<polyline fill=\"none\" stroke=\"black\" points=\"554.83,-159.5 853.12,-159.5 \"/>\n",
       "<text text-anchor=\"start\" x=\"562.83\" y=\"-144.3\" font-family=\"Times,serif\" font-size=\"14.00\">dest_pair : index</text>\n",
       "<text text-anchor=\"start\" x=\"562.83\" y=\"-130.3\" font-family=\"Times,serif\" font-size=\"14.00\">dest_name : id</text>\n",
       "<text text-anchor=\"start\" x=\"562.83\" y=\"-116.3\" font-family=\"Times,serif\" font-size=\"14.00\">dest_host : id</text>\n",
       "<text text-anchor=\"start\" x=\"562.83\" y=\"-102.3\" font-family=\"Times,serif\" font-size=\"14.00\">first_name_host_pairs_time : numeric_time_index</text>\n",
       "</g>\n",
       "<!-- name_host_pairs&#45;&gt;dest_pairs -->\n",
       "<g id=\"edge5\" class=\"edge\">\n",
       "<title>name_host_pairs&#45;&gt;dest_pairs</title>\n",
       "<path fill=\"none\" stroke=\"black\" d=\"M605.73,-218.24C605.73,-218.24 605.73,-191.86 605.73,-191.86\"/>\n",
       "<polygon fill=\"black\" stroke=\"black\" points=\"609.23,-191.86 605.73,-181.86 602.23,-191.86 609.23,-191.86\"/>\n",
       "<text text-anchor=\"middle\" x=\"580.07\" y=\"-193.85\" font-family=\"Times,serif\" font-size=\"14.00\">dest_pair</text>\n",
       "</g>\n",
       "<!-- src_names -->\n",
       "<g id=\"node4\" class=\"node\">\n",
       "<title>src_names</title>\n",
       "<polygon fill=\"none\" stroke=\"black\" points=\"0,-0.5 0,-58.5 253.95,-58.5 253.95,-0.5 0,-0.5\"/>\n",
       "<text text-anchor=\"middle\" x=\"126.98\" y=\"-43.3\" font-family=\"Times,serif\" font-size=\"14.00\">src_names (5691 rows)</text>\n",
       "<polyline fill=\"none\" stroke=\"black\" points=\"0,-36.5 253.95,-36.5 \"/>\n",
       "<text text-anchor=\"start\" x=\"8\" y=\"-21.3\" font-family=\"Times,serif\" font-size=\"14.00\">src_name : index</text>\n",
       "<text text-anchor=\"start\" x=\"8\" y=\"-7.3\" font-family=\"Times,serif\" font-size=\"14.00\">first_src_pairs_time : numeric_time_index</text>\n",
       "</g>\n",
       "<!-- src_pairs&#45;&gt;src_names -->\n",
       "<g id=\"edge3\" class=\"edge\">\n",
       "<title>src_pairs&#45;&gt;src_names</title>\n",
       "<path fill=\"none\" stroke=\"black\" d=\"M246.39,-95.42C246.39,-95.42 246.39,-68.53 246.39,-68.53\"/>\n",
       "<polygon fill=\"black\" stroke=\"black\" points=\"249.89,-68.53 246.39,-58.53 242.89,-68.53 249.89,-68.53\"/>\n",
       "<text text-anchor=\"middle\" x=\"219.57\" y=\"-84.78\" font-family=\"Times,serif\" font-size=\"14.00\">src_name</text>\n",
       "</g>\n",
       "<!-- src_hosts -->\n",
       "<g id=\"node5\" class=\"node\">\n",
       "<title>src_hosts</title>\n",
       "<polygon fill=\"none\" stroke=\"black\" points=\"272,-0.5 272,-58.5 525.95,-58.5 525.95,-0.5 272,-0.5\"/>\n",
       "<text text-anchor=\"middle\" x=\"398.98\" y=\"-43.3\" font-family=\"Times,serif\" font-size=\"14.00\">src_hosts (3542 rows)</text>\n",
       "<polyline fill=\"none\" stroke=\"black\" points=\"272,-36.5 525.95,-36.5 \"/>\n",
       "<text text-anchor=\"start\" x=\"280\" y=\"-21.3\" font-family=\"Times,serif\" font-size=\"14.00\">src_host : index</text>\n",
       "<text text-anchor=\"start\" x=\"280\" y=\"-7.3\" font-family=\"Times,serif\" font-size=\"14.00\">first_src_pairs_time : numeric_time_index</text>\n",
       "</g>\n",
       "<!-- src_pairs&#45;&gt;src_hosts -->\n",
       "<g id=\"edge4\" class=\"edge\">\n",
       "<title>src_pairs&#45;&gt;src_hosts</title>\n",
       "<path fill=\"none\" stroke=\"black\" d=\"M398.98,-95.42C398.98,-95.42 398.98,-68.53 398.98,-68.53\"/>\n",
       "<polygon fill=\"black\" stroke=\"black\" points=\"402.48,-68.53 398.98,-58.53 395.48,-68.53 402.48,-68.53\"/>\n",
       "<text text-anchor=\"middle\" x=\"375.65\" y=\"-84.78\" font-family=\"Times,serif\" font-size=\"14.00\">src_host</text>\n",
       "</g>\n",
       "<!-- dest_names -->\n",
       "<g id=\"node7\" class=\"node\">\n",
       "<title>dest_names</title>\n",
       "<polygon fill=\"none\" stroke=\"black\" points=\"563.89,-0.5 563.89,-58.5 824.07,-58.5 824.07,-0.5 563.89,-0.5\"/>\n",
       "<text text-anchor=\"middle\" x=\"693.98\" y=\"-43.3\" font-family=\"Times,serif\" font-size=\"14.00\">dest_names (5695 rows)</text>\n",
       "<polyline fill=\"none\" stroke=\"black\" points=\"563.89,-36.5 824.07,-36.5 \"/>\n",
       "<text text-anchor=\"start\" x=\"571.89\" y=\"-21.3\" font-family=\"Times,serif\" font-size=\"14.00\">dest_name : index</text>\n",
       "<text text-anchor=\"start\" x=\"571.89\" y=\"-7.3\" font-family=\"Times,serif\" font-size=\"14.00\">first_dest_pairs_time : numeric_time_index</text>\n",
       "</g>\n",
       "<!-- dest_pairs&#45;&gt;dest_names -->\n",
       "<g id=\"edge6\" class=\"edge\">\n",
       "<title>dest_pairs&#45;&gt;dest_names</title>\n",
       "<path fill=\"none\" stroke=\"black\" d=\"M693.98,-95.42C693.98,-95.42 693.98,-68.53 693.98,-68.53\"/>\n",
       "<polygon fill=\"black\" stroke=\"black\" points=\"697.48,-68.53 693.98,-58.53 690.48,-68.53 697.48,-68.53\"/>\n",
       "<text text-anchor=\"middle\" x=\"664.04\" y=\"-84.78\" font-family=\"Times,serif\" font-size=\"14.00\">dest_name</text>\n",
       "</g>\n",
       "<!-- dest_hosts -->\n",
       "<g id=\"node8\" class=\"node\">\n",
       "<title>dest_hosts</title>\n",
       "<polygon fill=\"none\" stroke=\"black\" points=\"841.89,-0.5 841.89,-58.5 1102.07,-58.5 1102.07,-0.5 841.89,-0.5\"/>\n",
       "<text text-anchor=\"middle\" x=\"971.98\" y=\"-43.3\" font-family=\"Times,serif\" font-size=\"14.00\">dest_hosts (940 rows)</text>\n",
       "<polyline fill=\"none\" stroke=\"black\" points=\"841.89,-36.5 1102.07,-36.5 \"/>\n",
       "<text text-anchor=\"start\" x=\"849.89\" y=\"-21.3\" font-family=\"Times,serif\" font-size=\"14.00\">dest_host : index</text>\n",
       "<text text-anchor=\"start\" x=\"849.89\" y=\"-7.3\" font-family=\"Times,serif\" font-size=\"14.00\">first_dest_pairs_time : numeric_time_index</text>\n",
       "</g>\n",
       "<!-- dest_pairs&#45;&gt;dest_hosts -->\n",
       "<g id=\"edge7\" class=\"edge\">\n",
       "<title>dest_pairs&#45;&gt;dest_hosts</title>\n",
       "<path fill=\"none\" stroke=\"black\" d=\"M847.5,-95.42C847.5,-95.42 847.5,-68.53 847.5,-68.53\"/>\n",
       "<polygon fill=\"black\" stroke=\"black\" points=\"851,-68.53 847.5,-58.53 844,-68.53 851,-68.53\"/>\n",
       "<text text-anchor=\"middle\" x=\"821.06\" y=\"-84.78\" font-family=\"Times,serif\" font-size=\"14.00\">dest_host</text>\n",
       "</g>\n",
       "</g>\n",
       "</svg>\n"
      ],
      "text/plain": [
       "<graphviz.dot.Digraph at 0x13d54c290>"
      ]
     },
     "execution_count": 4,
     "metadata": {},
     "output_type": "execute_result"
    }
   ],
   "source": [
    "es.plot()"
   ]
  },
  {
   "cell_type": "markdown",
   "metadata": {},
   "source": [
    "# Define function to generate labels and cutoff times"
   ]
  },
  {
   "cell_type": "markdown",
   "metadata": {},
   "source": [
    "We use [Compose](https://compose.featurelabs.com/) to define our labeling function."
   ]
  },
  {
   "cell_type": "code",
   "execution_count": 5,
   "metadata": {},
   "outputs": [],
   "source": [
    "def malicious_connection(df, lead):\n",
    "    if (len(df.index) > lead + 1): \n",
    "        return df.iloc[lead:]['label'].any()\n",
    "    \n",
    "def label_generator(cyber_df, index_col, after_n_obs, lead, prediction_window):\n",
    "    lm = cp.LabelMaker(\n",
    "        target_entity=index_col,\n",
    "        time_index=\"secs\",\n",
    "        labeling_function=malicious_connection,\n",
    "        window_size=window + lead\n",
    "    )\n",
    "    label_times = lm.search(\n",
    "        cyber_df.sort_values('secs'),\n",
    "        minimum_data=after_n_obs,\n",
    "        gap=after_n_obs + lead + window,\n",
    "        num_examples_per_instance=1,\n",
    "        lead=lead,\n",
    "        verbose=False\n",
    "    )\n",
    "    label_times['time'] = pd.to_numeric(label_times['time'])\n",
    "    return label_times"
   ]
  },
  {
   "cell_type": "code",
   "execution_count": 6,
   "metadata": {},
   "outputs": [],
   "source": [
    "# predict after 3 observations\n",
    "after_n_obs = 3\n",
    "\n",
    "# predict 2 observations out\n",
    "lead = 2\n",
    "\n",
    "# predict if any malicious attacks in a 10-observation window\n",
    "window = 10"
   ]
  },
  {
   "cell_type": "markdown",
   "metadata": {},
   "source": [
    "# Compute features for various types of connections"
   ]
  },
  {
   "cell_type": "code",
   "execution_count": 7,
   "metadata": {},
   "outputs": [
    {
     "name": "stdout",
     "output_type": "stream",
     "text": [
      "Built 881 features\n",
      "Elapsed: 02:08 | Progress: 100%|██████████\n"
     ]
    }
   ],
   "source": [
    "# features on src_name\n",
    "cutoffs = label_generator(cyber_df, \"src_name\", after_n_obs, lead, window)\n",
    "fm, fl = ft.dfs(entityset=es, target_entity=\"src_names\", cutoff_time=cutoffs, verbose=True, max_depth=3)"
   ]
  },
  {
   "cell_type": "code",
   "execution_count": 8,
   "metadata": {},
   "outputs": [
    {
     "name": "stdout",
     "output_type": "stream",
     "text": [
      "Built 881 features\n",
      "Elapsed: 01:46 | Progress: 100%|██████████\n"
     ]
    }
   ],
   "source": [
    "## features on src_host\n",
    "cutoffs = label_generator(cyber_df, \"src_host\", after_n_obs, lead, window)\n",
    "fm, fl = ft.dfs(entityset=es, target_entity=\"src_hosts\", cutoff_time=cutoffs, verbose=True, max_depth=3)"
   ]
  },
  {
   "cell_type": "code",
   "execution_count": 9,
   "metadata": {},
   "outputs": [
    {
     "name": "stdout",
     "output_type": "stream",
     "text": [
      "Built 881 features\n",
      "Elapsed: 02:09 | Progress: 100%|██████████\n"
     ]
    }
   ],
   "source": [
    "## features on dest_name\n",
    "cutoffs = label_generator(cyber_df, \"dest_name\", after_n_obs, lead, window)\n",
    "fm, fl = ft.dfs(entityset=es, target_entity=\"dest_names\", cutoff_time=cutoffs, verbose=True, max_depth=3)"
   ]
  },
  {
   "cell_type": "code",
   "execution_count": 10,
   "metadata": {},
   "outputs": [
    {
     "name": "stdout",
     "output_type": "stream",
     "text": [
      "Built 881 features\n",
      "Elapsed: 01:34 | Progress: 100%|██████████\n"
     ]
    }
   ],
   "source": [
    "## features on dest_host\n",
    "cutoffs = label_generator(cyber_df, \"dest_host\", after_n_obs, lead, window)\n",
    "fm, fl = ft.dfs(entityset=es, target_entity=\"dest_hosts\", cutoff_time=cutoffs, verbose=True, max_depth=3)"
   ]
  },
  {
   "cell_type": "code",
   "execution_count": 11,
   "metadata": {},
   "outputs": [
    {
     "name": "stdout",
     "output_type": "stream",
     "text": [
      "Built 99 features\n",
      "Elapsed: 01:14 | Progress: 100%|██████████\n"
     ]
    }
   ],
   "source": [
    "# features on src_name/dest_name/src_host/dest_host\n",
    "cutoffs = label_generator(cyber_df, \"name_host_pair\", after_n_obs, lead, window)\n",
    "fm, fl = ft.dfs(entityset=es, target_entity=\"name_host_pairs\", cutoff_time=cutoffs, verbose=True, max_depth=2, trans_primitives=[Percentile])"
   ]
  },
  {
   "cell_type": "code",
   "execution_count": 12,
   "metadata": {},
   "outputs": [],
   "source": [
    "# merge entities together to access the index variables created in the process of normalizing\n",
    "merged = (es['log'].df\n",
    "                   .merge(es['name_host_pairs'].df)\n",
    "                   .merge(es['src_pairs'].df)\n",
    "                   .merge(es['dest_pairs'].df))"
   ]
  },
  {
   "cell_type": "code",
   "execution_count": 13,
   "metadata": {},
   "outputs": [
    {
     "name": "stdout",
     "output_type": "stream",
     "text": [
      "Built 216 features\n",
      "Elapsed: 01:16 | Progress: 100%|██████████\n"
     ]
    }
   ],
   "source": [
    "# features on src_name/src_host\n",
    "cutoffs = label_generator(merged, 'src_pair', after_n_obs, lead, window)\n",
    "fm, fl = ft.dfs(entityset=es, target_entity=\"src_pairs\", cutoff_time=cutoffs, verbose=True, max_depth=2, trans_primitives=[Percentile])"
   ]
  },
  {
   "cell_type": "code",
   "execution_count": 14,
   "metadata": {},
   "outputs": [
    {
     "name": "stdout",
     "output_type": "stream",
     "text": [
      "Built 216 features\n",
      "Elapsed: 01:15 | Progress: 100%|██████████\n"
     ]
    }
   ],
   "source": [
    "# features on dest_name/dest_host\n",
    "cutoffs = label_generator(merged, 'dest_pair', after_n_obs, lead, window)\n",
    "fm, fl = ft.dfs(entityset=es, target_entity=\"dest_pairs\", cutoff_time=cutoffs, verbose=True, max_depth=2, trans_primitives=[Percentile])"
   ]
  },
  {
   "cell_type": "markdown",
   "metadata": {},
   "source": [
    "<p>\n",
    "    <img src=\"https://www.featurelabs.com/wp-content/uploads/2017/12/logo.png\" alt=\"Featuretools\" />\n",
    "</p>\n",
    "\n",
    "Featuretools was created by the developers at [Feature Labs](https://www.featurelabs.com/). If building impactful data science pipelines is important to you or your business, please [get in touch](https://www.featurelabs.com/contact/)."
   ]
  }
 ],
 "metadata": {
  "kernelspec": {
   "display_name": "Python 3",
   "language": "python",
   "name": "python3"
  },
  "language_info": {
   "codemirror_mode": {
    "name": "ipython",
    "version": 3
   },
   "file_extension": ".py",
   "mimetype": "text/x-python",
   "name": "python",
   "nbconvert_exporter": "python",
   "pygments_lexer": "ipython3",
   "version": "3.7.4"
  }
 },
 "nbformat": 4,
 "nbformat_minor": 2
}
