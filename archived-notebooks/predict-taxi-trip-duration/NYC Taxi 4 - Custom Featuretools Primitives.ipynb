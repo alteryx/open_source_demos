{
 "cells": [
  {
   "cell_type": "markdown",
   "metadata": {},
   "source": [
    "<center><a href=\"https://www.featuretools.com/\"><img src=\"img/featuretools-logo.png\" width=\"400\" height=\"200\" /></a></center>"
   ]
  },
  {
   "cell_type": "markdown",
   "metadata": {},
   "source": [
    "<h2> An Advanced Featuretools Approach with Custom Primitives</h2>\n",
    "<p>The following tutorial illustrates an advanced featuretools model for the NYC Taxi Trip Duration competition on Kaggle using our custom primitive API. You will need to download the following five files into a `data` folder in this repository.</p>\n",
    "\n",
    "<h2>Step 1: Download raw data </h2>\n",
    "<a href=\"https://www.kaggle.com/c/nyc-taxi-trip-duration/data\">test.csv and train.csv</a>\n",
    "\n",
    "The functions used here don't appear until Featuretools version 0.1.9. If you're using a lower version you will get an error."
   ]
  },
  {
   "cell_type": "code",
   "execution_count": 3,
   "metadata": {},
   "outputs": [
    {
     "data": {
      "text/plain": [
       "'0.22.0'"
      ]
     },
     "execution_count": 3,
     "metadata": {},
     "output_type": "execute_result"
    }
   ],
   "source": [
    "import featuretools as ft\n",
    "import pandas as pd\n",
    "import numpy as np\n",
    "import taxi_utils\n",
    "ft.__version__"
   ]
  },
  {
   "cell_type": "markdown",
   "metadata": {},
   "source": [
    "<h2>Step 2: Prepare the Data </h2>"
   ]
  },
  {
   "cell_type": "code",
   "execution_count": 4,
   "metadata": {},
   "outputs": [],
   "source": [
    "TRAIN_DIR = \"data/train.csv\"\n",
    "TEST_DIR = \"data/test.csv\"\n",
    "\n",
    "data_train, data_test = taxi_utils.read_data(TRAIN_DIR, TEST_DIR)"
   ]
  },
  {
   "cell_type": "markdown",
   "metadata": {},
   "source": [
    "The `fastest_routes` dataset has information on the shortest path between two coordinates in NYC. We can merge it in with our dataset here and then merge together our test and train datasets after marking them as such."
   ]
  },
  {
   "cell_type": "code",
   "execution_count": 5,
   "metadata": {},
   "outputs": [
    {
     "data": {
      "text/html": [
       "<div>\n",
       "<style scoped>\n",
       "    .dataframe tbody tr th:only-of-type {\n",
       "        vertical-align: middle;\n",
       "    }\n",
       "\n",
       "    .dataframe tbody tr th {\n",
       "        vertical-align: top;\n",
       "    }\n",
       "\n",
       "    .dataframe thead th {\n",
       "        text-align: right;\n",
       "    }\n",
       "</style>\n",
       "<table border=\"1\" class=\"dataframe\">\n",
       "  <thead>\n",
       "    <tr style=\"text-align: right;\">\n",
       "      <th></th>\n",
       "      <th>dropoff_latitude</th>\n",
       "      <th>dropoff_longitude</th>\n",
       "      <th>id</th>\n",
       "      <th>passenger_count</th>\n",
       "      <th>pickup_datetime</th>\n",
       "      <th>pickup_latitude</th>\n",
       "      <th>pickup_longitude</th>\n",
       "      <th>store_and_fwd_flag</th>\n",
       "      <th>test_data</th>\n",
       "      <th>trip_duration</th>\n",
       "      <th>vendor_id</th>\n",
       "    </tr>\n",
       "  </thead>\n",
       "  <tbody>\n",
       "    <tr>\n",
       "      <th>0</th>\n",
       "      <td>40.765602</td>\n",
       "      <td>-73.964630</td>\n",
       "      <td>id2875421</td>\n",
       "      <td>1</td>\n",
       "      <td>2016-03-14 17:24:55</td>\n",
       "      <td>40.767937</td>\n",
       "      <td>-73.982155</td>\n",
       "      <td>False</td>\n",
       "      <td>False</td>\n",
       "      <td>455.0</td>\n",
       "      <td>2</td>\n",
       "    </tr>\n",
       "    <tr>\n",
       "      <th>1</th>\n",
       "      <td>40.731152</td>\n",
       "      <td>-73.999481</td>\n",
       "      <td>id2377394</td>\n",
       "      <td>1</td>\n",
       "      <td>2016-06-12 00:43:35</td>\n",
       "      <td>40.738564</td>\n",
       "      <td>-73.980415</td>\n",
       "      <td>False</td>\n",
       "      <td>False</td>\n",
       "      <td>663.0</td>\n",
       "      <td>1</td>\n",
       "    </tr>\n",
       "    <tr>\n",
       "      <th>2</th>\n",
       "      <td>40.710087</td>\n",
       "      <td>-74.005333</td>\n",
       "      <td>id3858529</td>\n",
       "      <td>1</td>\n",
       "      <td>2016-01-19 11:35:24</td>\n",
       "      <td>40.763939</td>\n",
       "      <td>-73.979027</td>\n",
       "      <td>False</td>\n",
       "      <td>False</td>\n",
       "      <td>2124.0</td>\n",
       "      <td>2</td>\n",
       "    </tr>\n",
       "    <tr>\n",
       "      <th>3</th>\n",
       "      <td>40.706718</td>\n",
       "      <td>-74.012268</td>\n",
       "      <td>id3504673</td>\n",
       "      <td>1</td>\n",
       "      <td>2016-04-06 19:32:31</td>\n",
       "      <td>40.719971</td>\n",
       "      <td>-74.010040</td>\n",
       "      <td>False</td>\n",
       "      <td>False</td>\n",
       "      <td>429.0</td>\n",
       "      <td>2</td>\n",
       "    </tr>\n",
       "    <tr>\n",
       "      <th>4</th>\n",
       "      <td>40.782520</td>\n",
       "      <td>-73.972923</td>\n",
       "      <td>id2181028</td>\n",
       "      <td>1</td>\n",
       "      <td>2016-03-26 13:30:55</td>\n",
       "      <td>40.793209</td>\n",
       "      <td>-73.973053</td>\n",
       "      <td>False</td>\n",
       "      <td>False</td>\n",
       "      <td>435.0</td>\n",
       "      <td>2</td>\n",
       "    </tr>\n",
       "  </tbody>\n",
       "</table>\n",
       "</div>"
      ],
      "text/plain": [
       "   dropoff_latitude  dropoff_longitude         id  passenger_count  \\\n",
       "0         40.765602         -73.964630  id2875421                1   \n",
       "1         40.731152         -73.999481  id2377394                1   \n",
       "2         40.710087         -74.005333  id3858529                1   \n",
       "3         40.706718         -74.012268  id3504673                1   \n",
       "4         40.782520         -73.972923  id2181028                1   \n",
       "\n",
       "      pickup_datetime  pickup_latitude  pickup_longitude  store_and_fwd_flag  \\\n",
       "0 2016-03-14 17:24:55        40.767937        -73.982155               False   \n",
       "1 2016-06-12 00:43:35        40.738564        -73.980415               False   \n",
       "2 2016-01-19 11:35:24        40.763939        -73.979027               False   \n",
       "3 2016-04-06 19:32:31        40.719971        -74.010040               False   \n",
       "4 2016-03-26 13:30:55        40.793209        -73.973053               False   \n",
       "\n",
       "   test_data  trip_duration  vendor_id  \n",
       "0      False          455.0          2  \n",
       "1      False          663.0          1  \n",
       "2      False         2124.0          2  \n",
       "3      False          429.0          2  \n",
       "4      False          435.0          2  "
      ]
     },
     "execution_count": 5,
     "metadata": {},
     "output_type": "execute_result"
    }
   ],
   "source": [
    "# Make a train/test column\n",
    "data_train['test_data'] = False\n",
    "data_test['test_data'] = True\n",
    "\n",
    "# Combine the data and convert some strings\n",
    "data = pd.concat([data_train, data_test], sort=True)\n",
    "data.head(5)"
   ]
  },
  {
   "cell_type": "markdown",
   "metadata": {},
   "source": [
    "## Step 3: Custom Primitives\n",
    "The custom primitive API is new to Featuretools version 0.1.9. Our workflow will be as follows:\n",
    "1. Make a new LatLong class which is a tuple of a latitude and longitude\n",
    "2. Define some functions for LatLong\n",
    "3. Make new primitives from those functions\n",
    "\n",
    "For the first step, we'll make new columns for the pickup and dropoff locations which are tuples."
   ]
  },
  {
   "cell_type": "code",
   "execution_count": 6,
   "metadata": {},
   "outputs": [],
   "source": [
    "data[\"pickup_latlong\"] = data[['pickup_latitude', 'pickup_longitude']].apply(tuple, axis=1)\n",
    "data[\"dropoff_latlong\"] = data[['dropoff_latitude', 'dropoff_longitude']].apply(tuple, axis=1)\n",
    "data = data.drop([\"pickup_latitude\", \"pickup_longitude\", \"dropoff_latitude\", \"dropoff_longitude\"], axis = 1)"
   ]
  },
  {
   "cell_type": "markdown",
   "metadata": {},
   "source": [
    "We can define the `pickup_latlong` to be a `LatLong` type. This is a way to tell DFS that certain primitives are only important in one direction, from the beginning of a trip to the end. "
   ]
  },
  {
   "cell_type": "code",
   "execution_count": 7,
   "metadata": {},
   "outputs": [],
   "source": [
    "from featuretools import variable_types as vtypes\n",
    "from featuretools.variable_types import LatLong\n",
    "    \n",
    "trip_variable_types = {\n",
    "    'passenger_count': vtypes.Ordinal, \n",
    "    'vendor_id': vtypes.Categorical,\n",
    "    'pickup_latlong': LatLong,\n",
    "    'dropoff_latlong': LatLong,\n",
    "}\n",
    "\n",
    "es = ft.EntitySet(\"taxi\")\n",
    "\n",
    "es.entity_from_dataframe(entity_id=\"trips\",\n",
    "                         dataframe=data,\n",
    "                         index=\"id\",\n",
    "                         time_index='pickup_datetime',\n",
    "                         variable_types=trip_variable_types)\n",
    "\n",
    "es.normalize_entity(base_entity_id=\"trips\",\n",
    "                    new_entity_id=\"vendors\",\n",
    "                    index=\"vendor_id\")\n",
    "\n",
    "es.normalize_entity(base_entity_id=\"trips\",\n",
    "                    new_entity_id=\"passenger_cnt\",\n",
    "                    index=\"passenger_count\")\n",
    "\n",
    "cutoff_time = es['trips'].df[['id', 'pickup_datetime']]"
   ]
  },
  {
   "cell_type": "markdown",
   "metadata": {},
   "source": [
    "## Visualize EntitySet"
   ]
  },
  {
   "cell_type": "code",
   "execution_count": 8,
   "metadata": {},
   "outputs": [
    {
     "data": {
      "image/svg+xml": [
       "<?xml version=\"1.0\" encoding=\"UTF-8\" standalone=\"no\"?>\r\n",
       "<!DOCTYPE svg PUBLIC \"-//W3C//DTD SVG 1.1//EN\"\r\n",
       " \"http://www.w3.org/Graphics/SVG/1.1/DTD/svg11.dtd\">\r\n",
       "<!-- Generated by graphviz version 2.38.0 (20140413.2041)\r\n",
       " -->\r\n",
       "<!-- Title: taxi Pages: 1 -->\r\n",
       "<svg width=\"480pt\" height=\"273pt\"\r\n",
       " viewBox=\"0.00 0.00 480.00 273.00\" xmlns=\"http://www.w3.org/2000/svg\" xmlns:xlink=\"http://www.w3.org/1999/xlink\">\r\n",
       "<g id=\"graph0\" class=\"graph\" transform=\"scale(1 1) rotate(0) translate(4 269)\">\r\n",
       "<title>taxi</title>\r\n",
       "<polygon fill=\"white\" stroke=\"none\" points=\"-4,4 -4,-269 476,-269 476,4 -4,4\"/>\r\n",
       "<!-- trips -->\r\n",
       "<g id=\"node1\" class=\"node\"><title>trips</title>\r\n",
       "<polygon fill=\"none\" stroke=\"black\" points=\"118.5,-98.5 118.5,-264.5 352.5,-264.5 352.5,-98.5 118.5,-98.5\"/>\r\n",
       "<text text-anchor=\"middle\" x=\"235.5\" y=\"-249.3\" font-family=\"Times New Roman,serif\" font-size=\"14.00\">trips (2050266 rows)</text>\r\n",
       "<polyline fill=\"none\" stroke=\"black\" points=\"118.5,-241.5 352.5,-241.5 \"/>\r\n",
       "<text text-anchor=\"start\" x=\"126.5\" y=\"-226.3\" font-family=\"Times New Roman,serif\" font-size=\"14.00\">id : index</text>\r\n",
       "<text text-anchor=\"start\" x=\"126.5\" y=\"-211.3\" font-family=\"Times New Roman,serif\" font-size=\"14.00\">pickup_datetime : datetime_time_index</text>\r\n",
       "<text text-anchor=\"start\" x=\"126.5\" y=\"-196.3\" font-family=\"Times New Roman,serif\" font-size=\"14.00\">store_and_fwd_flag : boolean</text>\r\n",
       "<text text-anchor=\"start\" x=\"126.5\" y=\"-181.3\" font-family=\"Times New Roman,serif\" font-size=\"14.00\">test_data : boolean</text>\r\n",
       "<text text-anchor=\"start\" x=\"126.5\" y=\"-166.3\" font-family=\"Times New Roman,serif\" font-size=\"14.00\">trip_duration : numeric</text>\r\n",
       "<text text-anchor=\"start\" x=\"126.5\" y=\"-151.3\" font-family=\"Times New Roman,serif\" font-size=\"14.00\">passenger_count : id</text>\r\n",
       "<text text-anchor=\"start\" x=\"126.5\" y=\"-136.3\" font-family=\"Times New Roman,serif\" font-size=\"14.00\">vendor_id : id</text>\r\n",
       "<text text-anchor=\"start\" x=\"126.5\" y=\"-121.3\" font-family=\"Times New Roman,serif\" font-size=\"14.00\">pickup_latlong : lat_long</text>\r\n",
       "<text text-anchor=\"start\" x=\"126.5\" y=\"-106.3\" font-family=\"Times New Roman,serif\" font-size=\"14.00\">dropoff_latlong : lat_long</text>\r\n",
       "</g>\r\n",
       "<!-- vendors -->\r\n",
       "<g id=\"node2\" class=\"node\"><title>vendors</title>\r\n",
       "<polygon fill=\"none\" stroke=\"black\" points=\"0,-0.5 0,-61.5 227,-61.5 227,-0.5 0,-0.5\"/>\r\n",
       "<text text-anchor=\"middle\" x=\"113.5\" y=\"-46.3\" font-family=\"Times New Roman,serif\" font-size=\"14.00\">vendors (2 rows)</text>\r\n",
       "<polyline fill=\"none\" stroke=\"black\" points=\"0,-38.5 227,-38.5 \"/>\r\n",
       "<text text-anchor=\"start\" x=\"8\" y=\"-23.3\" font-family=\"Times New Roman,serif\" font-size=\"14.00\">vendor_id : index</text>\r\n",
       "<text text-anchor=\"start\" x=\"8\" y=\"-8.3\" font-family=\"Times New Roman,serif\" font-size=\"14.00\">first_trips_time : datetime_time_index</text>\r\n",
       "</g>\r\n",
       "<!-- trips&#45;&gt;vendors -->\r\n",
       "<g id=\"edge1\" class=\"edge\"><title>trips&#45;&gt;vendors</title>\r\n",
       "<path fill=\"none\" stroke=\"black\" d=\"M172.75,-98.3266C172.75,-98.3266 172.75,-71.7282 172.75,-71.7282\"/>\r\n",
       "<polygon fill=\"black\" stroke=\"black\" points=\"176.25,-71.7281 172.75,-61.7282 169.25,-71.7282 176.25,-71.7281\"/>\r\n",
       "<text text-anchor=\"middle\" x=\"143.75\" y=\"-73.8274\" font-family=\"Times New Roman,serif\" font-size=\"14.00\">vendor_id</text>\r\n",
       "</g>\r\n",
       "<!-- passenger_cnt -->\r\n",
       "<g id=\"node3\" class=\"node\"><title>passenger_cnt</title>\r\n",
       "<polygon fill=\"none\" stroke=\"black\" points=\"245,-0.5 245,-61.5 472,-61.5 472,-0.5 245,-0.5\"/>\r\n",
       "<text text-anchor=\"middle\" x=\"358.5\" y=\"-46.3\" font-family=\"Times New Roman,serif\" font-size=\"14.00\">passenger_cnt (8 rows)</text>\r\n",
       "<polyline fill=\"none\" stroke=\"black\" points=\"245,-38.5 472,-38.5 \"/>\r\n",
       "<text text-anchor=\"start\" x=\"253\" y=\"-23.3\" font-family=\"Times New Roman,serif\" font-size=\"14.00\">passenger_count : index</text>\r\n",
       "<text text-anchor=\"start\" x=\"253\" y=\"-8.3\" font-family=\"Times New Roman,serif\" font-size=\"14.00\">first_trips_time : datetime_time_index</text>\r\n",
       "</g>\r\n",
       "<!-- trips&#45;&gt;passenger_cnt -->\r\n",
       "<g id=\"edge2\" class=\"edge\"><title>trips&#45;&gt;passenger_cnt</title>\r\n",
       "<path fill=\"none\" stroke=\"black\" d=\"M298.75,-98.3266C298.75,-98.3266 298.75,-71.7282 298.75,-71.7282\"/>\r\n",
       "<polygon fill=\"black\" stroke=\"black\" points=\"302.25,-71.7281 298.75,-61.7282 295.25,-71.7282 302.25,-71.7281\"/>\r\n",
       "<text text-anchor=\"middle\" x=\"251.25\" y=\"-73.8274\" font-family=\"Times New Roman,serif\" font-size=\"14.00\">passenger_count</text>\r\n",
       "</g>\r\n",
       "</g>\r\n",
       "</svg>\r\n"
      ],
      "text/plain": [
       "<graphviz.dot.Digraph at 0x1d1789daf10>"
      ]
     },
     "execution_count": 8,
     "metadata": {},
     "output_type": "execute_result"
    }
   ],
   "source": [
    "import os\n",
    "\n",
    "#Set environment variables\n",
    "os.environ['PATH'] += os.pathsep + \"C:/Program Files (x86)/graphviz-2.38/bin\"\n",
    "es.plot()"
   ]
  },
  {
   "cell_type": "markdown",
   "metadata": {},
   "source": [
    "Next, we can create primitives for our new `pickup_latlong` and `dropoff_latlong` which are of type `LatLong`. \n",
    "\n",
    "The distance between two `LatLong` types is most accurately represented by the Haversine distance: the nearest length along a sphere. We can also define the Cityblock distance (also called the taxicab metric), which takes into account that we can't move diagonally through buildings in Manhattan."
   ]
  },
  {
   "cell_type": "code",
   "execution_count": 9,
   "metadata": {},
   "outputs": [],
   "source": [
    "from featuretools.primitives import make_agg_primitive, make_trans_primitive\n",
    "\n",
    "def haversine(latlong1, latlong2):\n",
    "    lat_1s = np.array([x[0] for x in latlong1])\n",
    "    lon_1s = np.array([x[1] for x in latlong1])\n",
    "    lat_2s = np.array([x[0] for x in latlong2])\n",
    "    lon_2s = np.array([x[1] for x in latlong2])\n",
    "    lon1, lat1, lon2, lat2 = map(np.radians, [lon_1s, lat_1s, lon_2s, lat_2s])\n",
    "    dlon = lon2 - lon1\n",
    "    dlat = lat2 - lat1\n",
    "    a = np.sin(dlat/2.0)**2 + np.cos(lat1) * np.cos(lat2) * np.sin(dlon/2.0)**2\n",
    "    km = 6367 * 2 * np.arcsin(np.sqrt(a))\n",
    "    return km\n",
    "\n",
    "def cityblock(latlong1, latlong2):\n",
    "    lon_dis = haversine(latlong1, latlong2)\n",
    "    lat_dist = haversine(latlong1, latlong2)\n",
    "    return lon_dis + lat_dist\n",
    "\n",
    "def bearing(latlong1, latlong2):\n",
    "    lat1 = np.array([x[0] for x in latlong1])\n",
    "    lon1 = np.array([x[1] for x in latlong1])\n",
    "    lat2 = np.array([x[0] for x in latlong2])\n",
    "    lon2 = np.array([x[1] for x in latlong2])\n",
    "    delta_lon = np.radians(lon2 - lon1)\n",
    "    lon1, lat1, lon2, lat2 = map(np.radians, [lon1, lat1, lon2, lat2])\n",
    "    x = np.cos(lat2) * np.sin(delta_lon)\n",
    "    y = np.cos(lat1) * np.sin(lat2) - np.sin(lat1) * np.cos(lat2) * np.cos(delta_lon)\n",
    "    return np.degrees(np.arctan2(x, y))"
   ]
  },
  {
   "cell_type": "markdown",
   "metadata": {},
   "source": [
    "We can also make some primitives directly from `LatLong` types. In particular, we'll almost certainly want to extract the Latitude, the Longitude and the central point between two such coordinates."
   ]
  },
  {
   "cell_type": "markdown",
   "metadata": {},
   "source": [
    "<p>Now lets make primitives from those functions!</p>"
   ]
  },
  {
   "cell_type": "code",
   "execution_count": 10,
   "metadata": {},
   "outputs": [],
   "source": [
    "Bearing = make_trans_primitive(function=bearing,\n",
    "                               input_types=[LatLong, LatLong],\n",
    "                               commutative=True,\n",
    "                               return_type=vtypes.Numeric)\n",
    "\n",
    "Cityblock = make_trans_primitive(function=cityblock,\n",
    "                                 input_types=[LatLong, LatLong],\n",
    "                                 commutative=True,\n",
    "                                 return_type=vtypes.Numeric)"
   ]
  },
  {
   "cell_type": "code",
   "execution_count": 11,
   "metadata": {},
   "outputs": [],
   "source": [
    "def is_rush_hour(datetime):\n",
    "    hour = pd.DatetimeIndex(datetime).hour\n",
    "    return (hour >= 7) & (hour <= 11)\n",
    "\n",
    "def is_noon_hour(datetime):\n",
    "    hour = pd.DatetimeIndex(datetime).hour\n",
    "    return (hour >= 11) & (hour <= 13)\n",
    "\n",
    "def is_night_hour(datetime):\n",
    "    hour = pd.DatetimeIndex(datetime).hour\n",
    "    return (hour >= 18) & (hour <= 23)\n",
    "\n",
    "RushHour = make_trans_primitive(function=is_rush_hour,\n",
    "                                input_types=[vtypes.Datetime],\n",
    "                                return_type = vtypes.Boolean)\n",
    "    \n",
    "NoonHour = make_trans_primitive(function=is_noon_hour,\n",
    "                                input_types=[vtypes.Datetime],\n",
    "                                return_type = vtypes.Boolean)\n",
    "        \n",
    "NightHour = make_trans_primitive(function=is_night_hour,\n",
    "                                 input_types=[vtypes.Datetime],\n",
    "                                 return_type = vtypes.Boolean)"
   ]
  },
  {
   "cell_type": "markdown",
   "metadata": {},
   "source": [
    "We have grouped together some times of day with `RushHour`, `NoonHour` and `NightHour`."
   ]
  },
  {
   "cell_type": "code",
   "execution_count": 12,
   "metadata": {},
   "outputs": [],
   "source": [
    "from featuretools.primitives import TransformPrimitive\n",
    "from featuretools.variable_types import Boolean, LatLong\n",
    "\n",
    "class GeoBox(TransformPrimitive):\n",
    "    name = \"GeoBox\"\n",
    "    input_types=[LatLong]\n",
    "    return_type=Boolean\n",
    "    \n",
    "    def __init__(self, bottomleft, topright):\n",
    "        self.bottomleft = bottomleft\n",
    "        self.topright = topright\n",
    "    \n",
    "    def get_function(self):\n",
    "        def geobox(latlong, bottomleft=self.bottomleft, topright=self.topright):\n",
    "            lat = np.array([x[0] for x in latlong])\n",
    "            lon = np.array([x[1] for x in latlong])\n",
    "            boxlats = [bottomleft[0],topright[0]]\n",
    "            boxlongs = [bottomleft[1], topright[1]]\n",
    "            output = []\n",
    "            for i, name in enumerate(lat):\n",
    "                if (min(boxlats) <= lat[i] and lat[i] <= max(boxlats) and \n",
    "                        min(boxlongs) <= lon[i] and lon[i] <= max(boxlongs)):\n",
    "                    output.append(True)\n",
    "                else: \n",
    "                    output.append(False)\n",
    "            return output\n",
    "        \n",
    "        return geobox\n",
    "\n",
    "    def generate_name(self, base_feature_names):\n",
    "        return u\"GEOBOX({}, {}, {})\".format(base_feature_names[0],\n",
    "                                            str(self.bottomleft),\n",
    "                                            str(self.topright))"
   ]
  },
  {
   "cell_type": "markdown",
   "metadata": {},
   "source": [
    "The feature `Geobox` finds if a latlong is in a rectangle defined by two coordinate pairs."
   ]
  },
  {
   "cell_type": "markdown",
   "metadata": {},
   "source": [
    "## Step 4: Using custom primitives in DFS"
   ]
  },
  {
   "cell_type": "markdown",
   "metadata": {},
   "source": [
    "Let's see what features are created if we run DFS now:"
   ]
  },
  {
   "cell_type": "code",
   "execution_count": 13,
   "metadata": {},
   "outputs": [
    {
     "name": "stdout",
     "output_type": "stream",
     "text": [
      "Built 20 features\n"
     ]
    },
    {
     "data": {
      "text/plain": [
       "[<Feature: store_and_fwd_flag>,\n",
       " <Feature: test_data>,\n",
       " <Feature: trip_duration>,\n",
       " <Feature: passenger_count>,\n",
       " <Feature: vendor_id>,\n",
       " <Feature: GEOBOX(dropoff_latlong, (40.62, -73.85), (40.7, -73.75))>,\n",
       " <Feature: GEOBOX(pickup_latlong, (40.62, -73.85), (40.7, -73.75))>,\n",
       " <Feature: GEOBOX(dropoff_latlong, (40.7, -73.97), (40.77, -73.9))>,\n",
       " <Feature: GEOBOX(pickup_latlong, (40.7, -73.97), (40.77, -73.9))>,\n",
       " <Feature: BEARING(dropoff_latlong, pickup_latlong)>,\n",
       " <Feature: CITYBLOCK(dropoff_latlong, pickup_latlong)>,\n",
       " <Feature: IS_NIGHT_HOUR(pickup_datetime)>,\n",
       " <Feature: IS_NOON_HOUR(pickup_datetime)>,\n",
       " <Feature: IS_RUSH_HOUR(pickup_datetime)>,\n",
       " <Feature: vendors.IS_NIGHT_HOUR(first_trips_time)>,\n",
       " <Feature: vendors.IS_NOON_HOUR(first_trips_time)>,\n",
       " <Feature: vendors.IS_RUSH_HOUR(first_trips_time)>,\n",
       " <Feature: passenger_cnt.IS_NIGHT_HOUR(first_trips_time)>,\n",
       " <Feature: passenger_cnt.IS_NOON_HOUR(first_trips_time)>,\n",
       " <Feature: passenger_cnt.IS_RUSH_HOUR(first_trips_time)>]"
      ]
     },
     "execution_count": 13,
     "metadata": {},
     "output_type": "execute_result"
    }
   ],
   "source": [
    "agg_primitives = []\n",
    "trans_primitives = [Bearing, Cityblock,\n",
    "                    GeoBox(bottomleft=(40.62, -73.85), topright=(40.70, -73.75)),\n",
    "                    GeoBox(bottomleft=(40.70, -73.97), topright=(40.77, -73.9)),\n",
    "                    RushHour,\n",
    "                    NoonHour,\n",
    "                    NightHour]\n",
    "\n",
    "# calculate feature_matrix using deep feature synthesis\n",
    "features = ft.dfs(entityset=es,\n",
    "                  target_entity=\"trips\",\n",
    "                  trans_primitives=trans_primitives,\n",
    "                  agg_primitives=agg_primitives,\n",
    "                  drop_contains=['trips.test_data'],\n",
    "                  verbose=True,\n",
    "                  cutoff_time=cutoff_time,\n",
    "                  approximate='36d',\n",
    "                  max_depth=3,\n",
    "                  max_features=40,\n",
    "                  features_only=True)\n",
    "features"
   ]
  },
  {
   "cell_type": "markdown",
   "metadata": {},
   "source": [
    "Our new features were applied exactly where they should be! The distances were only calcuated between the pickup_latlong and the dropoff_latlong, while primitives like `LATITUDE` were calculated on both latlong columns.\n",
    "\n",
    "For this dataset, we have approximately 2 million distinct cutoff times, times at which DFS will have to recalculate aggregation primitives. Calculating those features at specific times every hour and using that number instead will save computation time and perhaps not lose too much information. The `approximate` parameter in DFS lets you specify a window size to use when approximating.\n",
    "\n",
    "With the features from before, we calculate the whole feature matrix:"
   ]
  },
  {
   "cell_type": "code",
   "execution_count": 14,
   "metadata": {},
   "outputs": [
    {
     "name": "stdout",
     "output_type": "stream",
     "text": [
      "Built 111 features\n"
     ]
    },
    {
     "name": "stderr",
     "output_type": "stream",
     "text": [
      "c:\\users\\ajkramer\\appdata\\local\\continuum\\anaconda3\\envs\\predict_taxy\\lib\\site-packages\\featuretools\\synthesis\\dfs.py:317: UnusedPrimitiveWarning: Some specified primitives were not used during DFS:\n",
      "  trans_primitives: ['Day', 'Hour', 'Is_weekend', 'Minute', 'Month', 'Week', 'Weekday']\n",
      "  agg_primitives: ['Count', 'Max', 'Mean', 'Median', 'Min', 'Num_Unique', 'Skew', 'Std', 'Sum']\n",
      "This may be caused by a using a value of max_depth that is too small, not setting interesting values, or it may indicate no compatible variable types for the primitive were found in the data.\n",
      "  warnings.warn(warning_msg, UnusedPrimitiveWarning)\n"
     ]
    },
    {
     "name": "stdout",
     "output_type": "stream",
     "text": [
      "Elapsed: 04:56 | Progress:  81%|██████████████████████████████████████████████████████████████████████▊                "
     ]
    },
    {
     "name": "stderr",
     "output_type": "stream",
     "text": [
      "c:\\users\\ajkramer\\appdata\\local\\continuum\\anaconda3\\envs\\predict_taxy\\lib\\site-packages\\numpy\\lib\\nanfunctions.py:1111: RuntimeWarning: Mean of empty slice\n",
      "  return np.nanmean(a, axis, out=out, keepdims=keepdims)\n"
     ]
    },
    {
     "name": "stdout",
     "output_type": "stream",
     "text": [
      "Elapsed: 08:58 | Progress: 100%|███████████████████████████████████████████████████████████████████████████████████████\n"
     ]
    },
    {
     "data": {
      "text/html": [
       "<div>\n",
       "<style scoped>\n",
       "    .dataframe tbody tr th:only-of-type {\n",
       "        vertical-align: middle;\n",
       "    }\n",
       "\n",
       "    .dataframe tbody tr th {\n",
       "        vertical-align: top;\n",
       "    }\n",
       "\n",
       "    .dataframe thead th {\n",
       "        text-align: right;\n",
       "    }\n",
       "</style>\n",
       "<table border=\"1\" class=\"dataframe\">\n",
       "  <thead>\n",
       "    <tr style=\"text-align: right;\">\n",
       "      <th></th>\n",
       "      <th>store_and_fwd_flag</th>\n",
       "      <th>test_data</th>\n",
       "      <th>trip_duration</th>\n",
       "      <th>passenger_count</th>\n",
       "      <th>vendor_id</th>\n",
       "      <th>GEOBOX(dropoff_latlong, (40.62, -73.85), (40.7, -73.75))</th>\n",
       "      <th>GEOBOX(pickup_latlong, (40.62, -73.85), (40.7, -73.75))</th>\n",
       "      <th>GEOBOX(dropoff_latlong, (40.7, -73.97), (40.77, -73.9))</th>\n",
       "      <th>GEOBOX(pickup_latlong, (40.7, -73.97), (40.77, -73.9))</th>\n",
       "      <th>BEARING(dropoff_latlong, pickup_latlong)</th>\n",
       "      <th>...</th>\n",
       "      <th>passenger_cnt.NUM_UNIQUE(trips.WEEKDAY(pickup_datetime))</th>\n",
       "      <th>passenger_cnt.SKEW(trips.BEARING(dropoff_latlong, pickup_latlong))</th>\n",
       "      <th>passenger_cnt.SKEW(trips.CITYBLOCK(dropoff_latlong, pickup_latlong))</th>\n",
       "      <th>passenger_cnt.SKEW(trips.MINUTE(pickup_datetime))</th>\n",
       "      <th>passenger_cnt.STD(trips.BEARING(dropoff_latlong, pickup_latlong))</th>\n",
       "      <th>passenger_cnt.STD(trips.CITYBLOCK(dropoff_latlong, pickup_latlong))</th>\n",
       "      <th>passenger_cnt.STD(trips.MINUTE(pickup_datetime))</th>\n",
       "      <th>passenger_cnt.SUM(trips.BEARING(dropoff_latlong, pickup_latlong))</th>\n",
       "      <th>passenger_cnt.SUM(trips.CITYBLOCK(dropoff_latlong, pickup_latlong))</th>\n",
       "      <th>passenger_cnt.SUM(trips.MINUTE(pickup_datetime))</th>\n",
       "    </tr>\n",
       "    <tr>\n",
       "      <th>id</th>\n",
       "      <th></th>\n",
       "      <th></th>\n",
       "      <th></th>\n",
       "      <th></th>\n",
       "      <th></th>\n",
       "      <th></th>\n",
       "      <th></th>\n",
       "      <th></th>\n",
       "      <th></th>\n",
       "      <th></th>\n",
       "      <th></th>\n",
       "      <th></th>\n",
       "      <th></th>\n",
       "      <th></th>\n",
       "      <th></th>\n",
       "      <th></th>\n",
       "      <th></th>\n",
       "      <th></th>\n",
       "      <th></th>\n",
       "      <th></th>\n",
       "      <th></th>\n",
       "    </tr>\n",
       "  </thead>\n",
       "  <tbody>\n",
       "    <tr>\n",
       "      <th>id0190469</th>\n",
       "      <td>False</td>\n",
       "      <td>False</td>\n",
       "      <td>849.0</td>\n",
       "      <td>5</td>\n",
       "      <td>2</td>\n",
       "      <td>False</td>\n",
       "      <td>False</td>\n",
       "      <td>False</td>\n",
       "      <td>False</td>\n",
       "      <td>-163.529609</td>\n",
       "      <td>...</td>\n",
       "      <td>NaN</td>\n",
       "      <td>NaN</td>\n",
       "      <td>NaN</td>\n",
       "      <td>NaN</td>\n",
       "      <td>NaN</td>\n",
       "      <td>NaN</td>\n",
       "      <td>NaN</td>\n",
       "      <td>0.0</td>\n",
       "      <td>0.0</td>\n",
       "      <td>0</td>\n",
       "    </tr>\n",
       "    <tr>\n",
       "      <th>id0621643</th>\n",
       "      <td>False</td>\n",
       "      <td>True</td>\n",
       "      <td>NaN</td>\n",
       "      <td>2</td>\n",
       "      <td>2</td>\n",
       "      <td>False</td>\n",
       "      <td>False</td>\n",
       "      <td>True</td>\n",
       "      <td>False</td>\n",
       "      <td>-169.753936</td>\n",
       "      <td>...</td>\n",
       "      <td>NaN</td>\n",
       "      <td>NaN</td>\n",
       "      <td>NaN</td>\n",
       "      <td>NaN</td>\n",
       "      <td>NaN</td>\n",
       "      <td>NaN</td>\n",
       "      <td>NaN</td>\n",
       "      <td>0.0</td>\n",
       "      <td>0.0</td>\n",
       "      <td>0</td>\n",
       "    </tr>\n",
       "    <tr>\n",
       "      <th>id1384355</th>\n",
       "      <td>False</td>\n",
       "      <td>True</td>\n",
       "      <td>NaN</td>\n",
       "      <td>1</td>\n",
       "      <td>1</td>\n",
       "      <td>False</td>\n",
       "      <td>False</td>\n",
       "      <td>False</td>\n",
       "      <td>False</td>\n",
       "      <td>-149.644870</td>\n",
       "      <td>...</td>\n",
       "      <td>NaN</td>\n",
       "      <td>NaN</td>\n",
       "      <td>NaN</td>\n",
       "      <td>NaN</td>\n",
       "      <td>NaN</td>\n",
       "      <td>NaN</td>\n",
       "      <td>NaN</td>\n",
       "      <td>0.0</td>\n",
       "      <td>0.0</td>\n",
       "      <td>0</td>\n",
       "    </tr>\n",
       "    <tr>\n",
       "      <th>id1665586</th>\n",
       "      <td>False</td>\n",
       "      <td>False</td>\n",
       "      <td>1294.0</td>\n",
       "      <td>1</td>\n",
       "      <td>1</td>\n",
       "      <td>False</td>\n",
       "      <td>False</td>\n",
       "      <td>True</td>\n",
       "      <td>False</td>\n",
       "      <td>-34.622058</td>\n",
       "      <td>...</td>\n",
       "      <td>NaN</td>\n",
       "      <td>NaN</td>\n",
       "      <td>NaN</td>\n",
       "      <td>NaN</td>\n",
       "      <td>NaN</td>\n",
       "      <td>NaN</td>\n",
       "      <td>NaN</td>\n",
       "      <td>0.0</td>\n",
       "      <td>0.0</td>\n",
       "      <td>0</td>\n",
       "    </tr>\n",
       "    <tr>\n",
       "      <th>id1210365</th>\n",
       "      <td>False</td>\n",
       "      <td>False</td>\n",
       "      <td>408.0</td>\n",
       "      <td>5</td>\n",
       "      <td>2</td>\n",
       "      <td>False</td>\n",
       "      <td>False</td>\n",
       "      <td>False</td>\n",
       "      <td>False</td>\n",
       "      <td>-136.358219</td>\n",
       "      <td>...</td>\n",
       "      <td>NaN</td>\n",
       "      <td>NaN</td>\n",
       "      <td>NaN</td>\n",
       "      <td>NaN</td>\n",
       "      <td>NaN</td>\n",
       "      <td>NaN</td>\n",
       "      <td>NaN</td>\n",
       "      <td>0.0</td>\n",
       "      <td>0.0</td>\n",
       "      <td>0</td>\n",
       "    </tr>\n",
       "  </tbody>\n",
       "</table>\n",
       "<p>5 rows × 111 columns</p>\n",
       "</div>"
      ],
      "text/plain": [
       "           store_and_fwd_flag  test_data  trip_duration  passenger_count  \\\n",
       "id                                                                         \n",
       "id0190469               False      False          849.0                5   \n",
       "id0621643               False       True            NaN                2   \n",
       "id1384355               False       True            NaN                1   \n",
       "id1665586               False      False         1294.0                1   \n",
       "id1210365               False      False          408.0                5   \n",
       "\n",
       "           vendor_id  \\\n",
       "id                     \n",
       "id0190469          2   \n",
       "id0621643          2   \n",
       "id1384355          1   \n",
       "id1665586          1   \n",
       "id1210365          2   \n",
       "\n",
       "           GEOBOX(dropoff_latlong, (40.62, -73.85), (40.7, -73.75))  \\\n",
       "id                                                                    \n",
       "id0190469                                              False          \n",
       "id0621643                                              False          \n",
       "id1384355                                              False          \n",
       "id1665586                                              False          \n",
       "id1210365                                              False          \n",
       "\n",
       "           GEOBOX(pickup_latlong, (40.62, -73.85), (40.7, -73.75))  \\\n",
       "id                                                                   \n",
       "id0190469                                              False         \n",
       "id0621643                                              False         \n",
       "id1384355                                              False         \n",
       "id1665586                                              False         \n",
       "id1210365                                              False         \n",
       "\n",
       "           GEOBOX(dropoff_latlong, (40.7, -73.97), (40.77, -73.9))  \\\n",
       "id                                                                   \n",
       "id0190469                                              False         \n",
       "id0621643                                               True         \n",
       "id1384355                                              False         \n",
       "id1665586                                               True         \n",
       "id1210365                                              False         \n",
       "\n",
       "           GEOBOX(pickup_latlong, (40.7, -73.97), (40.77, -73.9))  \\\n",
       "id                                                                  \n",
       "id0190469                                              False        \n",
       "id0621643                                              False        \n",
       "id1384355                                              False        \n",
       "id1665586                                              False        \n",
       "id1210365                                              False        \n",
       "\n",
       "           BEARING(dropoff_latlong, pickup_latlong)  ...  \\\n",
       "id                                                   ...   \n",
       "id0190469                               -163.529609  ...   \n",
       "id0621643                               -169.753936  ...   \n",
       "id1384355                               -149.644870  ...   \n",
       "id1665586                                -34.622058  ...   \n",
       "id1210365                               -136.358219  ...   \n",
       "\n",
       "           passenger_cnt.NUM_UNIQUE(trips.WEEKDAY(pickup_datetime))  \\\n",
       "id                                                                    \n",
       "id0190469                                                NaN          \n",
       "id0621643                                                NaN          \n",
       "id1384355                                                NaN          \n",
       "id1665586                                                NaN          \n",
       "id1210365                                                NaN          \n",
       "\n",
       "           passenger_cnt.SKEW(trips.BEARING(dropoff_latlong, pickup_latlong))  \\\n",
       "id                                                                              \n",
       "id0190469                                                NaN                    \n",
       "id0621643                                                NaN                    \n",
       "id1384355                                                NaN                    \n",
       "id1665586                                                NaN                    \n",
       "id1210365                                                NaN                    \n",
       "\n",
       "           passenger_cnt.SKEW(trips.CITYBLOCK(dropoff_latlong, pickup_latlong))  \\\n",
       "id                                                                                \n",
       "id0190469                                                NaN                      \n",
       "id0621643                                                NaN                      \n",
       "id1384355                                                NaN                      \n",
       "id1665586                                                NaN                      \n",
       "id1210365                                                NaN                      \n",
       "\n",
       "           passenger_cnt.SKEW(trips.MINUTE(pickup_datetime))  \\\n",
       "id                                                             \n",
       "id0190469                                                NaN   \n",
       "id0621643                                                NaN   \n",
       "id1384355                                                NaN   \n",
       "id1665586                                                NaN   \n",
       "id1210365                                                NaN   \n",
       "\n",
       "           passenger_cnt.STD(trips.BEARING(dropoff_latlong, pickup_latlong))  \\\n",
       "id                                                                             \n",
       "id0190469                                                NaN                   \n",
       "id0621643                                                NaN                   \n",
       "id1384355                                                NaN                   \n",
       "id1665586                                                NaN                   \n",
       "id1210365                                                NaN                   \n",
       "\n",
       "           passenger_cnt.STD(trips.CITYBLOCK(dropoff_latlong, pickup_latlong))  \\\n",
       "id                                                                               \n",
       "id0190469                                                NaN                     \n",
       "id0621643                                                NaN                     \n",
       "id1384355                                                NaN                     \n",
       "id1665586                                                NaN                     \n",
       "id1210365                                                NaN                     \n",
       "\n",
       "           passenger_cnt.STD(trips.MINUTE(pickup_datetime))  \\\n",
       "id                                                            \n",
       "id0190469                                               NaN   \n",
       "id0621643                                               NaN   \n",
       "id1384355                                               NaN   \n",
       "id1665586                                               NaN   \n",
       "id1210365                                               NaN   \n",
       "\n",
       "           passenger_cnt.SUM(trips.BEARING(dropoff_latlong, pickup_latlong))  \\\n",
       "id                                                                             \n",
       "id0190469                                                0.0                   \n",
       "id0621643                                                0.0                   \n",
       "id1384355                                                0.0                   \n",
       "id1665586                                                0.0                   \n",
       "id1210365                                                0.0                   \n",
       "\n",
       "           passenger_cnt.SUM(trips.CITYBLOCK(dropoff_latlong, pickup_latlong))  \\\n",
       "id                                                                               \n",
       "id0190469                                                0.0                     \n",
       "id0621643                                                0.0                     \n",
       "id1384355                                                0.0                     \n",
       "id1665586                                                0.0                     \n",
       "id1210365                                                0.0                     \n",
       "\n",
       "           passenger_cnt.SUM(trips.MINUTE(pickup_datetime))  \n",
       "id                                                           \n",
       "id0190469                                                 0  \n",
       "id0621643                                                 0  \n",
       "id1384355                                                 0  \n",
       "id1665586                                                 0  \n",
       "id1210365                                                 0  \n",
       "\n",
       "[5 rows x 111 columns]"
      ]
     },
     "execution_count": 14,
     "metadata": {},
     "output_type": "execute_result"
    }
   ],
   "source": [
    "agg_primitives = ['Sum', 'Mean', 'Median', 'Std', 'Count', 'Min', 'Max', 'Num_Unique', 'Skew']\n",
    "trans_primitives = [Bearing, Cityblock,\n",
    "                    GeoBox(bottomleft=(40.62, -73.85), topright=(40.70, -73.75)),\n",
    "                    GeoBox(bottomleft=(40.70, -73.97), topright=(40.77, -73.9)),\n",
    "                    RushHour,\n",
    "                    NoonHour,\n",
    "                    NightHour,\n",
    "                    'Day', 'Hour', 'Minute', 'Month', 'Weekday', 'Week', 'Is_weekend']\n",
    "\n",
    "# this allows us to create features that are conditioned on a second value before we calculate.\n",
    "es.add_interesting_values()\n",
    "\n",
    "# calculate feature_matrix using deep feature synthesis\n",
    "feature_matrix, features = ft.dfs(entityset=es,\n",
    "                                  target_entity=\"trips\",\n",
    "                                  trans_primitives=trans_primitives,\n",
    "                                  agg_primitives=agg_primitives,\n",
    "                                  drop_contains=['trips.test_data'],\n",
    "                                  verbose=True,\n",
    "                                  cutoff_time=cutoff_time,\n",
    "                                  approximate='36d',\n",
    "                                  max_depth=4)\n",
    "\n",
    "feature_matrix.head()"
   ]
  },
  {
   "cell_type": "markdown",
   "metadata": {},
   "source": [
    "## Step 5: Build the Model\n",
    "\n",
    "\n",
    "\n",
    "\n",
    "\n"
   ]
  },
  {
   "cell_type": "markdown",
   "metadata": {},
   "source": [
    "<p>As before, we need to retrieve our labels for the train dataset, so we should merge our current feature matrix with the original dataset. </p>\n",
    "\n",
    "<p>We use the `log` of the trip duration since that measure is better at distinguishing distances within the city</p>\n",
    "\n",
    "Just like in the previous notebook, we will perform the modeling with [EvalML](https://evalml.alteryx.com/en/stable/)\n",
    "<p align=\"center\">\n",
    "<img width=50% src=\"https://evalml-web-images.s3.amazonaws.com/evalml_horizontal.svg\" alt=\"Featuretools\" />\n",
    "</p>\n"
   ]
  },
  {
   "cell_type": "code",
   "execution_count": 15,
   "metadata": {},
   "outputs": [],
   "source": [
    "# separates the whole feature matrix into train data feature matrix, train data labels, and test data feature matrix \n",
    "X_train, labels, X_test = taxi_utils.get_train_test_fm(feature_matrix)\n",
    "labels = np.log(labels.values + 1)"
   ]
  },
  {
   "cell_type": "code",
   "execution_count": 16,
   "metadata": {},
   "outputs": [
    {
     "name": "stdout",
     "output_type": "stream",
     "text": [
      "Using default limit of max_batches=1.\n",
      "\n",
      "`X` passed was not a DataTable. EvalML will try to convert the input as a Woodwork DataTable and types will be inferred. To control this behavior, please pass in a Woodwork DataTable instead.\n",
      "`y` passed was not a DataColumn. EvalML will try to convert the input as a Woodwork DataTable and types will be inferred. To control this behavior, please pass in a Woodwork DataTable instead.\n",
      "Generating pipelines to search over...\n",
      "*****************************\n",
      "* Beginning pipeline search *\n",
      "*****************************\n",
      "\n",
      "Optimizing for Root Mean Squared Error. \n",
      "Lower score is better.\n",
      "\n",
      "Searching up to 1 batches for a total of 8 pipelines. \n",
      "Allowed model families: xgboost, random_forest, linear_model, extra_trees, catboost, decision_tree\n",
      "\n"
     ]
    },
    {
     "data": {
      "application/vnd.jupyter.widget-view+json": {
       "model_id": "f2ee81d490f94554b82d5c0f2db0a85f",
       "version_major": 2,
       "version_minor": 0
      },
      "text/plain": [
       "FigureWidget({\n",
       "    'data': [{'mode': 'lines+markers',\n",
       "              'name': 'Best Score',\n",
       "              'type'…"
      ]
     },
     "metadata": {},
     "output_type": "display_data"
    },
    {
     "name": "stdout",
     "output_type": "stream",
     "text": [
      "Batch 1: (1/8) Mean Baseline Regression Pipeline        Elapsed:00:00\n",
      "\tStarting cross validation\n",
      "\tFinished cross validation - mean Root Mean Squared Error: 0.751\n",
      "Batch 1: (2/8) Decision Tree Regressor. w/ Imputer      Elapsed:00:20\n",
      "\tStarting cross validation\n",
      "\tFinished cross validation - mean Root Mean Squared Error: 0.438\n",
      "Batch 1: (3/8) Extra Trees Regressor w/ Imputer         Elapsed:01:37\n",
      "\tStarting cross validation\n",
      "\tFinished cross validation - mean Root Mean Squared Error: 0.464\n",
      "Batch 1: (4/8) XGBoost Regressor w/ Imputer             Elapsed:03:27\n",
      "\tStarting cross validation\n",
      "\tFinished cross validation - mean Root Mean Squared Error: 0.384\n",
      "Batch 1: (5/8) CatBoost Regressor w/ Imputer            Elapsed:05:00\n",
      "\tStarting cross validation\n",
      "\tFinished cross validation - mean Root Mean Squared Error: 0.640\n",
      "Batch 1: (6/8) Random Forest Regressor w/ Imputer       Elapsed:05:34\n",
      "\tStarting cross validation\n",
      "\tFinished cross validation - mean Root Mean Squared Error: 0.433\n",
      "Batch 1: (7/8) Linear Regressor w/ Imputer + Standar... Elapsed:08:05\n",
      "\tStarting cross validation\n",
      "\tFinished cross validation - mean Root Mean Squared Error: 1965142872.603\n",
      "Batch 1: (8/8) Elastic Net Regressor w/ Imputer + St... Elapsed:08:50\n",
      "\tStarting cross validation\n",
      "\tFinished cross validation - mean Root Mean Squared Error: 0.655\n",
      "\n",
      "Search finished after 09:32            \n",
      "Best pipeline: XGBoost Regressor w/ Imputer\n",
      "Best pipeline Root Mean Squared Error: 0.384001\n"
     ]
    }
   ],
   "source": [
    "import evalml\n",
    "from evalml import AutoMLSearch\n",
    "\n",
    "automl = AutoMLSearch(problem_type=\"regression\", objective=\"root mean squared error\")\n",
    "automl.search(X_train, labels, data_checks='disabled')"
   ]
  },
  {
   "cell_type": "code",
   "execution_count": 17,
   "metadata": {},
   "outputs": [
    {
     "data": {
      "text/plain": [
       "GeneratedPipeline(parameters={'Imputer':{'categorical_impute_strategy': 'most_frequent', 'numeric_impute_strategy': 'mean', 'categorical_fill_value': None, 'numeric_fill_value': None}, 'XGBoost Regressor':{'eta': 0.1, 'max_depth': 6, 'min_child_weight': 1, 'n_estimators': 100},})"
      ]
     },
     "execution_count": 17,
     "metadata": {},
     "output_type": "execute_result"
    }
   ],
   "source": [
    "pipeline = automl.best_pipeline\n",
    "pipeline.fit(X_train, labels)"
   ]
  },
  {
   "cell_type": "markdown",
   "metadata": {},
   "source": [
    "Notice that by combining EvalML and the custom primitives, we were able to create a model with an even lower RMSE. This is the power of feature engineering combined with auto modeling"
   ]
  },
  {
   "cell_type": "code",
   "execution_count": 18,
   "metadata": {},
   "outputs": [
    {
     "data": {
      "text/plain": [
       "0    7.113888\n",
       "1    7.534783\n",
       "2    7.325249\n",
       "3    7.155168\n",
       "4    5.648531\n",
       "dtype: float32"
      ]
     },
     "execution_count": 18,
     "metadata": {},
     "output_type": "execute_result"
    }
   ],
   "source": [
    "submission = pipeline.predict(X_test)\n",
    "submission.head(5)"
   ]
  },
  {
   "cell_type": "code",
   "execution_count": null,
   "metadata": {},
   "outputs": [],
   "source": [
    "submission.to_csv('trip_duration_ft_custom_primitives.csv', index=True, index_label='id')"
   ]
  },
  {
   "cell_type": "markdown",
   "metadata": {},
   "source": [
    "<h2>Additional Analysis</h2>\n",
    "<p>Lets look at how important the features we created were for the model.</p>"
   ]
  },
  {
   "cell_type": "code",
   "execution_count": null,
   "metadata": {},
   "outputs": [],
   "source": [
    "feature_names = X_train.columns.values\n",
    "ft_importances = taxi_utils.feature_importances(model, feature_names)\n",
    "ft_importances[:50]"
   ]
  },
  {
   "cell_type": "code",
   "execution_count": null,
   "metadata": {},
   "outputs": [],
   "source": [
    "# Save output files\n",
    "\n",
    "import os\n",
    "\n",
    "try:\n",
    "    os.mkdir(\"output\")\n",
    "except:\n",
    "    pass\n",
    "\n",
    "feature_matrix.to_csv('output/feature_matrix.csv')\n",
    "cutoff_time.to_csv('output/cutoff_times.csv')"
   ]
  },
  {
   "cell_type": "markdown",
   "metadata": {},
   "source": [
    "<p align=\"center\">\n",
    "<img width=50% src=\"https://alteryx-open-source-images.s3.amazonaws.com/OpenSource_Logo-01.jpg\" alt=\"ayx_os\" />\n",
    "</p>\n",
    "\n",
    "Featuretools was created by the developers at [Alteryx](https://www.alteryx.com). If building impactful data science pipelines is important to you or your business, please [get in touch](https://www.alteryx.com/contact-us/)."
   ]
  }
 ],
 "metadata": {
  "kernelspec": {
   "display_name": "Python 3",
   "language": "python",
   "name": "python3"
  },
  "language_info": {
   "codemirror_mode": {
    "name": "ipython",
    "version": 3
   },
   "file_extension": ".py",
   "mimetype": "text/x-python",
   "name": "python",
   "nbconvert_exporter": "python",
   "pygments_lexer": "ipython3",
   "version": "3.8.5"
  }
 },
 "nbformat": 4,
 "nbformat_minor": 2
}
